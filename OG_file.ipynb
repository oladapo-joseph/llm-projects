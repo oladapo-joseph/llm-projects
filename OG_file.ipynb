{
 "cells": [
  {
   "cell_type": "markdown",
   "metadata": {},
   "source": [
    "## About\n",
    "\n",
    "\n",
    "---\n",
    "\n",
    "This notebook contains all practices I did, tests and things i tried out during the project.\n",
    "\n",
    "I will try to add more comments as I go on, they include things you can try for your projects\n",
    "\n",
    "\n",
    "\n",
    "```\n",
    "    pip install -r requirements\n",
    "```\n"
   ]
  },
  {
   "cell_type": "markdown",
   "metadata": {},
   "source": [
    "### The OPENAI module\n",
    "\n",
    "\n",
    "To use the OPENAI api, you need to create an account and get an API key, with the key you can use any OpenAI service or model\n",
    "\n",
    "\n",
    "Below are two ways out of many to use OPENAI LLM\n",
    "\n",
    "\n",
    "```\n",
    "from langchain_openai import ChatOpenAI\n",
    "from langchain.llms import OpenAI\n",
    "```\n"
   ]
  },
  {
   "cell_type": "code",
   "execution_count": null,
   "metadata": {},
   "outputs": [],
   "source": [
    "from dotenv import dotenv_values\n",
    "from langchain.schema import (AIMessage, HumanMessage, SystemMessage)\n",
    "from langchain_openai import ChatOpenAI\n",
    "from langchain.llms import OpenAI\n",
    "\n",
    "env = dotenv_values('.env')\n",
    "# Load environment variables from the .env file\n",
    "# Import necessary modules for working with OpenAI and LangChain\n"
   ]
  },
  {
   "cell_type": "code",
   "execution_count": null,
   "metadata": {},
   "outputs": [
    {
     "name": "stderr",
     "output_type": "stream",
     "text": [
      "C:\\Users\\HP\\AppData\\Local\\Temp\\ipykernel_32648\\2382384196.py:1: LangChainDeprecationWarning: The class `OpenAI` was deprecated in LangChain 0.0.10 and will be removed in 1.0. An updated version of the class exists in the :class:`~langchain-openai package and should be used instead. To use it run `pip install -U :class:`~langchain-openai` and import as `from :class:`~langchain_openai import OpenAI``.\n",
      "  llm = OpenAI(model_name='text-davinci-003', api_key=env['OPENAI_API_KEY'])\n",
      "C:\\Users\\HP\\AppData\\Local\\Temp\\ipykernel_32648\\2382384196.py:2: LangChainDeprecationWarning: The method `BaseLLM.__call__` was deprecated in langchain-core 0.1.7 and will be removed in 1.0. Use :meth:`~invoke` instead.\n",
      "  llm('Who is JFK in Ameria')\n"
     ]
    },
    {
     "ename": "NotFoundError",
     "evalue": "Error code: 404 - {'error': {'message': 'The model `text-davinci-003` has been deprecated, learn more here: https://platform.openai.com/docs/deprecations', 'type': 'invalid_request_error', 'param': None, 'code': 'model_not_found'}}",
     "output_type": "error",
     "traceback": [
      "\u001b[31m---------------------------------------------------------------------------\u001b[39m",
      "\u001b[31mNotFoundError\u001b[39m                             Traceback (most recent call last)",
      "\u001b[36mCell\u001b[39m\u001b[36m \u001b[39m\u001b[32mIn[3]\u001b[39m\u001b[32m, line 2\u001b[39m\n\u001b[32m      1\u001b[39m llm = OpenAI(model_name=\u001b[33m'\u001b[39m\u001b[33mtext-davinci-003\u001b[39m\u001b[33m'\u001b[39m, api_key=env[\u001b[33m'\u001b[39m\u001b[33mOPENAI_API_KEY\u001b[39m\u001b[33m'\u001b[39m])\n\u001b[32m----> \u001b[39m\u001b[32m2\u001b[39m \u001b[43mllm\u001b[49m\u001b[43m(\u001b[49m\u001b[33;43m'\u001b[39;49m\u001b[33;43mWho is JFK in Ameria\u001b[39;49m\u001b[33;43m'\u001b[39;49m\u001b[43m)\u001b[49m\n",
      "\u001b[36mFile \u001b[39m\u001b[32mc:\\Users\\HP\\Desktop\\nlp projects\\llm\\Lib\\site-packages\\langchain_core\\_api\\deprecation.py:181\u001b[39m, in \u001b[36mdeprecated.<locals>.deprecate.<locals>.warning_emitting_wrapper\u001b[39m\u001b[34m(*args, **kwargs)\u001b[39m\n\u001b[32m    179\u001b[39m     warned = \u001b[38;5;28;01mTrue\u001b[39;00m\n\u001b[32m    180\u001b[39m     emit_warning()\n\u001b[32m--> \u001b[39m\u001b[32m181\u001b[39m \u001b[38;5;28;01mreturn\u001b[39;00m \u001b[43mwrapped\u001b[49m\u001b[43m(\u001b[49m\u001b[43m*\u001b[49m\u001b[43margs\u001b[49m\u001b[43m,\u001b[49m\u001b[43m \u001b[49m\u001b[43m*\u001b[49m\u001b[43m*\u001b[49m\u001b[43mkwargs\u001b[49m\u001b[43m)\u001b[49m\n",
      "\u001b[36mFile \u001b[39m\u001b[32mc:\\Users\\HP\\Desktop\\nlp projects\\llm\\Lib\\site-packages\\langchain_core\\language_models\\llms.py:1301\u001b[39m, in \u001b[36mBaseLLM.__call__\u001b[39m\u001b[34m(self, prompt, stop, callbacks, tags, metadata, **kwargs)\u001b[39m\n\u001b[32m   1294\u001b[39m     msg = (\n\u001b[32m   1295\u001b[39m         \u001b[33m\"\u001b[39m\u001b[33mArgument `prompt` is expected to be a string. Instead found \u001b[39m\u001b[33m\"\u001b[39m\n\u001b[32m   1296\u001b[39m         \u001b[33mf\u001b[39m\u001b[33m\"\u001b[39m\u001b[38;5;132;01m{\u001b[39;00m\u001b[38;5;28mtype\u001b[39m(prompt)\u001b[38;5;132;01m}\u001b[39;00m\u001b[33m. If you want to run the LLM on multiple prompts, use \u001b[39m\u001b[33m\"\u001b[39m\n\u001b[32m   1297\u001b[39m         \u001b[33m\"\u001b[39m\u001b[33m`generate` instead.\u001b[39m\u001b[33m\"\u001b[39m\n\u001b[32m   1298\u001b[39m     )\n\u001b[32m   1299\u001b[39m     \u001b[38;5;28;01mraise\u001b[39;00m \u001b[38;5;167;01mValueError\u001b[39;00m(msg)  \u001b[38;5;66;03m# noqa: TRY004\u001b[39;00m\n\u001b[32m   1300\u001b[39m \u001b[38;5;28;01mreturn\u001b[39;00m (\n\u001b[32m-> \u001b[39m\u001b[32m1301\u001b[39m     \u001b[38;5;28;43mself\u001b[39;49m\u001b[43m.\u001b[49m\u001b[43mgenerate\u001b[49m\u001b[43m(\u001b[49m\n\u001b[32m   1302\u001b[39m \u001b[43m        \u001b[49m\u001b[43m[\u001b[49m\u001b[43mprompt\u001b[49m\u001b[43m]\u001b[49m\u001b[43m,\u001b[49m\n\u001b[32m   1303\u001b[39m \u001b[43m        \u001b[49m\u001b[43mstop\u001b[49m\u001b[43m=\u001b[49m\u001b[43mstop\u001b[49m\u001b[43m,\u001b[49m\n\u001b[32m   1304\u001b[39m \u001b[43m        \u001b[49m\u001b[43mcallbacks\u001b[49m\u001b[43m=\u001b[49m\u001b[43mcallbacks\u001b[49m\u001b[43m,\u001b[49m\n\u001b[32m   1305\u001b[39m \u001b[43m        \u001b[49m\u001b[43mtags\u001b[49m\u001b[43m=\u001b[49m\u001b[43mtags\u001b[49m\u001b[43m,\u001b[49m\n\u001b[32m   1306\u001b[39m \u001b[43m        \u001b[49m\u001b[43mmetadata\u001b[49m\u001b[43m=\u001b[49m\u001b[43mmetadata\u001b[49m\u001b[43m,\u001b[49m\n\u001b[32m   1307\u001b[39m \u001b[43m        \u001b[49m\u001b[43m*\u001b[49m\u001b[43m*\u001b[49m\u001b[43mkwargs\u001b[49m\u001b[43m,\u001b[49m\n\u001b[32m   1308\u001b[39m \u001b[43m    \u001b[49m\u001b[43m)\u001b[49m\n\u001b[32m   1309\u001b[39m     .generations[\u001b[32m0\u001b[39m][\u001b[32m0\u001b[39m]\n\u001b[32m   1310\u001b[39m     .text\n\u001b[32m   1311\u001b[39m )\n",
      "\u001b[36mFile \u001b[39m\u001b[32mc:\\Users\\HP\\Desktop\\nlp projects\\llm\\Lib\\site-packages\\langchain_core\\language_models\\llms.py:966\u001b[39m, in \u001b[36mBaseLLM.generate\u001b[39m\u001b[34m(self, prompts, stop, callbacks, tags, metadata, run_name, run_id, **kwargs)\u001b[39m\n\u001b[32m    951\u001b[39m \u001b[38;5;28;01mif\u001b[39;00m (\u001b[38;5;28mself\u001b[39m.cache \u001b[38;5;129;01mis\u001b[39;00m \u001b[38;5;28;01mNone\u001b[39;00m \u001b[38;5;129;01mand\u001b[39;00m get_llm_cache() \u001b[38;5;129;01mis\u001b[39;00m \u001b[38;5;28;01mNone\u001b[39;00m) \u001b[38;5;129;01mor\u001b[39;00m \u001b[38;5;28mself\u001b[39m.cache \u001b[38;5;129;01mis\u001b[39;00m \u001b[38;5;28;01mFalse\u001b[39;00m:\n\u001b[32m    952\u001b[39m     run_managers = [\n\u001b[32m    953\u001b[39m         callback_manager.on_llm_start(\n\u001b[32m    954\u001b[39m             \u001b[38;5;28mself\u001b[39m._serialized,\n\u001b[32m   (...)\u001b[39m\u001b[32m    964\u001b[39m         )\n\u001b[32m    965\u001b[39m     ]\n\u001b[32m--> \u001b[39m\u001b[32m966\u001b[39m     output = \u001b[38;5;28;43mself\u001b[39;49m\u001b[43m.\u001b[49m\u001b[43m_generate_helper\u001b[49m\u001b[43m(\u001b[49m\n\u001b[32m    967\u001b[39m \u001b[43m        \u001b[49m\u001b[43mprompts\u001b[49m\u001b[43m,\u001b[49m\u001b[43m \u001b[49m\u001b[43mstop\u001b[49m\u001b[43m,\u001b[49m\u001b[43m \u001b[49m\u001b[43mrun_managers\u001b[49m\u001b[43m,\u001b[49m\u001b[43m \u001b[49m\u001b[38;5;28;43mbool\u001b[39;49m\u001b[43m(\u001b[49m\u001b[43mnew_arg_supported\u001b[49m\u001b[43m)\u001b[49m\u001b[43m,\u001b[49m\u001b[43m \u001b[49m\u001b[43m*\u001b[49m\u001b[43m*\u001b[49m\u001b[43mkwargs\u001b[49m\n\u001b[32m    968\u001b[39m \u001b[43m    \u001b[49m\u001b[43m)\u001b[49m\n\u001b[32m    969\u001b[39m     \u001b[38;5;28;01mreturn\u001b[39;00m output\n\u001b[32m    970\u001b[39m \u001b[38;5;28;01mif\u001b[39;00m \u001b[38;5;28mlen\u001b[39m(missing_prompts) > \u001b[32m0\u001b[39m:\n",
      "\u001b[36mFile \u001b[39m\u001b[32mc:\\Users\\HP\\Desktop\\nlp projects\\llm\\Lib\\site-packages\\langchain_core\\language_models\\llms.py:787\u001b[39m, in \u001b[36mBaseLLM._generate_helper\u001b[39m\u001b[34m(self, prompts, stop, run_managers, new_arg_supported, **kwargs)\u001b[39m\n\u001b[32m    777\u001b[39m \u001b[38;5;28;01mdef\u001b[39;00m\u001b[38;5;250m \u001b[39m\u001b[34m_generate_helper\u001b[39m(\n\u001b[32m    778\u001b[39m     \u001b[38;5;28mself\u001b[39m,\n\u001b[32m    779\u001b[39m     prompts: \u001b[38;5;28mlist\u001b[39m[\u001b[38;5;28mstr\u001b[39m],\n\u001b[32m   (...)\u001b[39m\u001b[32m    783\u001b[39m     **kwargs: Any,\n\u001b[32m    784\u001b[39m ) -> LLMResult:\n\u001b[32m    785\u001b[39m     \u001b[38;5;28;01mtry\u001b[39;00m:\n\u001b[32m    786\u001b[39m         output = (\n\u001b[32m--> \u001b[39m\u001b[32m787\u001b[39m             \u001b[38;5;28;43mself\u001b[39;49m\u001b[43m.\u001b[49m\u001b[43m_generate\u001b[49m\u001b[43m(\u001b[49m\n\u001b[32m    788\u001b[39m \u001b[43m                \u001b[49m\u001b[43mprompts\u001b[49m\u001b[43m,\u001b[49m\n\u001b[32m    789\u001b[39m \u001b[43m                \u001b[49m\u001b[43mstop\u001b[49m\u001b[43m=\u001b[49m\u001b[43mstop\u001b[49m\u001b[43m,\u001b[49m\n\u001b[32m    790\u001b[39m \u001b[43m                \u001b[49m\u001b[38;5;66;43;03m# TODO: support multiple run managers\u001b[39;49;00m\n\u001b[32m    791\u001b[39m \u001b[43m                \u001b[49m\u001b[43mrun_manager\u001b[49m\u001b[43m=\u001b[49m\u001b[43mrun_managers\u001b[49m\u001b[43m[\u001b[49m\u001b[32;43m0\u001b[39;49m\u001b[43m]\u001b[49m\u001b[43m \u001b[49m\u001b[38;5;28;43;01mif\u001b[39;49;00m\u001b[43m \u001b[49m\u001b[43mrun_managers\u001b[49m\u001b[43m \u001b[49m\u001b[38;5;28;43;01melse\u001b[39;49;00m\u001b[43m \u001b[49m\u001b[38;5;28;43;01mNone\u001b[39;49;00m\u001b[43m,\u001b[49m\n\u001b[32m    792\u001b[39m \u001b[43m                \u001b[49m\u001b[43m*\u001b[49m\u001b[43m*\u001b[49m\u001b[43mkwargs\u001b[49m\u001b[43m,\u001b[49m\n\u001b[32m    793\u001b[39m \u001b[43m            \u001b[49m\u001b[43m)\u001b[49m\n\u001b[32m    794\u001b[39m             \u001b[38;5;28;01mif\u001b[39;00m new_arg_supported\n\u001b[32m    795\u001b[39m             \u001b[38;5;28;01melse\u001b[39;00m \u001b[38;5;28mself\u001b[39m._generate(prompts, stop=stop)\n\u001b[32m    796\u001b[39m         )\n\u001b[32m    797\u001b[39m     \u001b[38;5;28;01mexcept\u001b[39;00m \u001b[38;5;167;01mBaseException\u001b[39;00m \u001b[38;5;28;01mas\u001b[39;00m e:\n\u001b[32m    798\u001b[39m         \u001b[38;5;28;01mfor\u001b[39;00m run_manager \u001b[38;5;129;01min\u001b[39;00m run_managers:\n",
      "\u001b[36mFile \u001b[39m\u001b[32mc:\\Users\\HP\\Desktop\\nlp projects\\llm\\Lib\\site-packages\\langchain_community\\llms\\openai.py:463\u001b[39m, in \u001b[36mBaseOpenAI._generate\u001b[39m\u001b[34m(self, prompts, stop, run_manager, **kwargs)\u001b[39m\n\u001b[32m    451\u001b[39m     choices.append(\n\u001b[32m    452\u001b[39m         {\n\u001b[32m    453\u001b[39m             \u001b[33m\"\u001b[39m\u001b[33mtext\u001b[39m\u001b[33m\"\u001b[39m: generation.text,\n\u001b[32m   (...)\u001b[39m\u001b[32m    460\u001b[39m         }\n\u001b[32m    461\u001b[39m     )\n\u001b[32m    462\u001b[39m \u001b[38;5;28;01melse\u001b[39;00m:\n\u001b[32m--> \u001b[39m\u001b[32m463\u001b[39m     response = \u001b[43mcompletion_with_retry\u001b[49m\u001b[43m(\u001b[49m\n\u001b[32m    464\u001b[39m \u001b[43m        \u001b[49m\u001b[38;5;28;43mself\u001b[39;49m\u001b[43m,\u001b[49m\u001b[43m \u001b[49m\u001b[43mprompt\u001b[49m\u001b[43m=\u001b[49m\u001b[43m_prompts\u001b[49m\u001b[43m,\u001b[49m\u001b[43m \u001b[49m\u001b[43mrun_manager\u001b[49m\u001b[43m=\u001b[49m\u001b[43mrun_manager\u001b[49m\u001b[43m,\u001b[49m\u001b[43m \u001b[49m\u001b[43m*\u001b[49m\u001b[43m*\u001b[49m\u001b[43mparams\u001b[49m\n\u001b[32m    465\u001b[39m \u001b[43m    \u001b[49m\u001b[43m)\u001b[49m\n\u001b[32m    466\u001b[39m     \u001b[38;5;28;01mif\u001b[39;00m \u001b[38;5;129;01mnot\u001b[39;00m \u001b[38;5;28misinstance\u001b[39m(response, \u001b[38;5;28mdict\u001b[39m):\n\u001b[32m    467\u001b[39m         \u001b[38;5;66;03m# V1 client returns the response in an PyDantic object instead of\u001b[39;00m\n\u001b[32m    468\u001b[39m         \u001b[38;5;66;03m# dict. For the transition period, we deep convert it to dict.\u001b[39;00m\n\u001b[32m    469\u001b[39m         response = response.dict()\n",
      "\u001b[36mFile \u001b[39m\u001b[32mc:\\Users\\HP\\Desktop\\nlp projects\\llm\\Lib\\site-packages\\langchain_community\\llms\\openai.py:121\u001b[39m, in \u001b[36mcompletion_with_retry\u001b[39m\u001b[34m(llm, run_manager, **kwargs)\u001b[39m\n\u001b[32m    119\u001b[39m \u001b[38;5;250m\u001b[39m\u001b[33;03m\"\"\"Use tenacity to retry the completion call.\"\"\"\u001b[39;00m\n\u001b[32m    120\u001b[39m \u001b[38;5;28;01mif\u001b[39;00m is_openai_v1():\n\u001b[32m--> \u001b[39m\u001b[32m121\u001b[39m     \u001b[38;5;28;01mreturn\u001b[39;00m \u001b[43mllm\u001b[49m\u001b[43m.\u001b[49m\u001b[43mclient\u001b[49m\u001b[43m.\u001b[49m\u001b[43mcreate\u001b[49m\u001b[43m(\u001b[49m\u001b[43m*\u001b[49m\u001b[43m*\u001b[49m\u001b[43mkwargs\u001b[49m\u001b[43m)\u001b[49m\n\u001b[32m    123\u001b[39m retry_decorator = _create_retry_decorator(llm, run_manager=run_manager)\n\u001b[32m    125\u001b[39m \u001b[38;5;129m@retry_decorator\u001b[39m\n\u001b[32m    126\u001b[39m \u001b[38;5;28;01mdef\u001b[39;00m\u001b[38;5;250m \u001b[39m\u001b[34m_completion_with_retry\u001b[39m(**kwargs: Any) -> Any:\n",
      "\u001b[36mFile \u001b[39m\u001b[32mc:\\Users\\HP\\Desktop\\nlp projects\\llm\\Lib\\site-packages\\openai\\_utils\\_utils.py:279\u001b[39m, in \u001b[36mrequired_args.<locals>.inner.<locals>.wrapper\u001b[39m\u001b[34m(*args, **kwargs)\u001b[39m\n\u001b[32m    277\u001b[39m             msg = \u001b[33mf\u001b[39m\u001b[33m\"\u001b[39m\u001b[33mMissing required argument: \u001b[39m\u001b[38;5;132;01m{\u001b[39;00mquote(missing[\u001b[32m0\u001b[39m])\u001b[38;5;132;01m}\u001b[39;00m\u001b[33m\"\u001b[39m\n\u001b[32m    278\u001b[39m     \u001b[38;5;28;01mraise\u001b[39;00m \u001b[38;5;167;01mTypeError\u001b[39;00m(msg)\n\u001b[32m--> \u001b[39m\u001b[32m279\u001b[39m \u001b[38;5;28;01mreturn\u001b[39;00m \u001b[43mfunc\u001b[49m\u001b[43m(\u001b[49m\u001b[43m*\u001b[49m\u001b[43margs\u001b[49m\u001b[43m,\u001b[49m\u001b[43m \u001b[49m\u001b[43m*\u001b[49m\u001b[43m*\u001b[49m\u001b[43mkwargs\u001b[49m\u001b[43m)\u001b[49m\n",
      "\u001b[36mFile \u001b[39m\u001b[32mc:\\Users\\HP\\Desktop\\nlp projects\\llm\\Lib\\site-packages\\openai\\resources\\completions.py:539\u001b[39m, in \u001b[36mCompletions.create\u001b[39m\u001b[34m(self, model, prompt, best_of, echo, frequency_penalty, logit_bias, logprobs, max_tokens, n, presence_penalty, seed, stop, stream, stream_options, suffix, temperature, top_p, user, extra_headers, extra_query, extra_body, timeout)\u001b[39m\n\u001b[32m    510\u001b[39m \u001b[38;5;129m@required_args\u001b[39m([\u001b[33m\"\u001b[39m\u001b[33mmodel\u001b[39m\u001b[33m\"\u001b[39m, \u001b[33m\"\u001b[39m\u001b[33mprompt\u001b[39m\u001b[33m\"\u001b[39m], [\u001b[33m\"\u001b[39m\u001b[33mmodel\u001b[39m\u001b[33m\"\u001b[39m, \u001b[33m\"\u001b[39m\u001b[33mprompt\u001b[39m\u001b[33m\"\u001b[39m, \u001b[33m\"\u001b[39m\u001b[33mstream\u001b[39m\u001b[33m\"\u001b[39m])\n\u001b[32m    511\u001b[39m \u001b[38;5;28;01mdef\u001b[39;00m\u001b[38;5;250m \u001b[39m\u001b[34mcreate\u001b[39m(\n\u001b[32m    512\u001b[39m     \u001b[38;5;28mself\u001b[39m,\n\u001b[32m   (...)\u001b[39m\u001b[32m    537\u001b[39m     timeout: \u001b[38;5;28mfloat\u001b[39m | httpx.Timeout | \u001b[38;5;28;01mNone\u001b[39;00m | NotGiven = NOT_GIVEN,\n\u001b[32m    538\u001b[39m ) -> Completion | Stream[Completion]:\n\u001b[32m--> \u001b[39m\u001b[32m539\u001b[39m     \u001b[38;5;28;01mreturn\u001b[39;00m \u001b[38;5;28;43mself\u001b[39;49m\u001b[43m.\u001b[49m\u001b[43m_post\u001b[49m\u001b[43m(\u001b[49m\n\u001b[32m    540\u001b[39m \u001b[43m        \u001b[49m\u001b[33;43m\"\u001b[39;49m\u001b[33;43m/completions\u001b[39;49m\u001b[33;43m\"\u001b[39;49m\u001b[43m,\u001b[49m\n\u001b[32m    541\u001b[39m \u001b[43m        \u001b[49m\u001b[43mbody\u001b[49m\u001b[43m=\u001b[49m\u001b[43mmaybe_transform\u001b[49m\u001b[43m(\u001b[49m\n\u001b[32m    542\u001b[39m \u001b[43m            \u001b[49m\u001b[43m{\u001b[49m\n\u001b[32m    543\u001b[39m \u001b[43m                \u001b[49m\u001b[33;43m\"\u001b[39;49m\u001b[33;43mmodel\u001b[39;49m\u001b[33;43m\"\u001b[39;49m\u001b[43m:\u001b[49m\u001b[43m \u001b[49m\u001b[43mmodel\u001b[49m\u001b[43m,\u001b[49m\n\u001b[32m    544\u001b[39m \u001b[43m                \u001b[49m\u001b[33;43m\"\u001b[39;49m\u001b[33;43mprompt\u001b[39;49m\u001b[33;43m\"\u001b[39;49m\u001b[43m:\u001b[49m\u001b[43m \u001b[49m\u001b[43mprompt\u001b[49m\u001b[43m,\u001b[49m\n\u001b[32m    545\u001b[39m \u001b[43m                \u001b[49m\u001b[33;43m\"\u001b[39;49m\u001b[33;43mbest_of\u001b[39;49m\u001b[33;43m\"\u001b[39;49m\u001b[43m:\u001b[49m\u001b[43m \u001b[49m\u001b[43mbest_of\u001b[49m\u001b[43m,\u001b[49m\n\u001b[32m    546\u001b[39m \u001b[43m                \u001b[49m\u001b[33;43m\"\u001b[39;49m\u001b[33;43mecho\u001b[39;49m\u001b[33;43m\"\u001b[39;49m\u001b[43m:\u001b[49m\u001b[43m \u001b[49m\u001b[43mecho\u001b[49m\u001b[43m,\u001b[49m\n\u001b[32m    547\u001b[39m \u001b[43m                \u001b[49m\u001b[33;43m\"\u001b[39;49m\u001b[33;43mfrequency_penalty\u001b[39;49m\u001b[33;43m\"\u001b[39;49m\u001b[43m:\u001b[49m\u001b[43m \u001b[49m\u001b[43mfrequency_penalty\u001b[49m\u001b[43m,\u001b[49m\n\u001b[32m    548\u001b[39m \u001b[43m                \u001b[49m\u001b[33;43m\"\u001b[39;49m\u001b[33;43mlogit_bias\u001b[39;49m\u001b[33;43m\"\u001b[39;49m\u001b[43m:\u001b[49m\u001b[43m \u001b[49m\u001b[43mlogit_bias\u001b[49m\u001b[43m,\u001b[49m\n\u001b[32m    549\u001b[39m \u001b[43m                \u001b[49m\u001b[33;43m\"\u001b[39;49m\u001b[33;43mlogprobs\u001b[39;49m\u001b[33;43m\"\u001b[39;49m\u001b[43m:\u001b[49m\u001b[43m \u001b[49m\u001b[43mlogprobs\u001b[49m\u001b[43m,\u001b[49m\n\u001b[32m    550\u001b[39m \u001b[43m                \u001b[49m\u001b[33;43m\"\u001b[39;49m\u001b[33;43mmax_tokens\u001b[39;49m\u001b[33;43m\"\u001b[39;49m\u001b[43m:\u001b[49m\u001b[43m \u001b[49m\u001b[43mmax_tokens\u001b[49m\u001b[43m,\u001b[49m\n\u001b[32m    551\u001b[39m \u001b[43m                \u001b[49m\u001b[33;43m\"\u001b[39;49m\u001b[33;43mn\u001b[39;49m\u001b[33;43m\"\u001b[39;49m\u001b[43m:\u001b[49m\u001b[43m \u001b[49m\u001b[43mn\u001b[49m\u001b[43m,\u001b[49m\n\u001b[32m    552\u001b[39m \u001b[43m                \u001b[49m\u001b[33;43m\"\u001b[39;49m\u001b[33;43mpresence_penalty\u001b[39;49m\u001b[33;43m\"\u001b[39;49m\u001b[43m:\u001b[49m\u001b[43m \u001b[49m\u001b[43mpresence_penalty\u001b[49m\u001b[43m,\u001b[49m\n\u001b[32m    553\u001b[39m \u001b[43m                \u001b[49m\u001b[33;43m\"\u001b[39;49m\u001b[33;43mseed\u001b[39;49m\u001b[33;43m\"\u001b[39;49m\u001b[43m:\u001b[49m\u001b[43m \u001b[49m\u001b[43mseed\u001b[49m\u001b[43m,\u001b[49m\n\u001b[32m    554\u001b[39m \u001b[43m                \u001b[49m\u001b[33;43m\"\u001b[39;49m\u001b[33;43mstop\u001b[39;49m\u001b[33;43m\"\u001b[39;49m\u001b[43m:\u001b[49m\u001b[43m \u001b[49m\u001b[43mstop\u001b[49m\u001b[43m,\u001b[49m\n\u001b[32m    555\u001b[39m \u001b[43m                \u001b[49m\u001b[33;43m\"\u001b[39;49m\u001b[33;43mstream\u001b[39;49m\u001b[33;43m\"\u001b[39;49m\u001b[43m:\u001b[49m\u001b[43m \u001b[49m\u001b[43mstream\u001b[49m\u001b[43m,\u001b[49m\n\u001b[32m    556\u001b[39m \u001b[43m                \u001b[49m\u001b[33;43m\"\u001b[39;49m\u001b[33;43mstream_options\u001b[39;49m\u001b[33;43m\"\u001b[39;49m\u001b[43m:\u001b[49m\u001b[43m \u001b[49m\u001b[43mstream_options\u001b[49m\u001b[43m,\u001b[49m\n\u001b[32m    557\u001b[39m \u001b[43m                \u001b[49m\u001b[33;43m\"\u001b[39;49m\u001b[33;43msuffix\u001b[39;49m\u001b[33;43m\"\u001b[39;49m\u001b[43m:\u001b[49m\u001b[43m \u001b[49m\u001b[43msuffix\u001b[49m\u001b[43m,\u001b[49m\n\u001b[32m    558\u001b[39m \u001b[43m                \u001b[49m\u001b[33;43m\"\u001b[39;49m\u001b[33;43mtemperature\u001b[39;49m\u001b[33;43m\"\u001b[39;49m\u001b[43m:\u001b[49m\u001b[43m \u001b[49m\u001b[43mtemperature\u001b[49m\u001b[43m,\u001b[49m\n\u001b[32m    559\u001b[39m \u001b[43m                \u001b[49m\u001b[33;43m\"\u001b[39;49m\u001b[33;43mtop_p\u001b[39;49m\u001b[33;43m\"\u001b[39;49m\u001b[43m:\u001b[49m\u001b[43m \u001b[49m\u001b[43mtop_p\u001b[49m\u001b[43m,\u001b[49m\n\u001b[32m    560\u001b[39m \u001b[43m                \u001b[49m\u001b[33;43m\"\u001b[39;49m\u001b[33;43muser\u001b[39;49m\u001b[33;43m\"\u001b[39;49m\u001b[43m:\u001b[49m\u001b[43m \u001b[49m\u001b[43muser\u001b[49m\u001b[43m,\u001b[49m\n\u001b[32m    561\u001b[39m \u001b[43m            \u001b[49m\u001b[43m}\u001b[49m\u001b[43m,\u001b[49m\n\u001b[32m    562\u001b[39m \u001b[43m            \u001b[49m\u001b[43mcompletion_create_params\u001b[49m\u001b[43m.\u001b[49m\u001b[43mCompletionCreateParams\u001b[49m\u001b[43m,\u001b[49m\n\u001b[32m    563\u001b[39m \u001b[43m        \u001b[49m\u001b[43m)\u001b[49m\u001b[43m,\u001b[49m\n\u001b[32m    564\u001b[39m \u001b[43m        \u001b[49m\u001b[43moptions\u001b[49m\u001b[43m=\u001b[49m\u001b[43mmake_request_options\u001b[49m\u001b[43m(\u001b[49m\n\u001b[32m    565\u001b[39m \u001b[43m            \u001b[49m\u001b[43mextra_headers\u001b[49m\u001b[43m=\u001b[49m\u001b[43mextra_headers\u001b[49m\u001b[43m,\u001b[49m\u001b[43m \u001b[49m\u001b[43mextra_query\u001b[49m\u001b[43m=\u001b[49m\u001b[43mextra_query\u001b[49m\u001b[43m,\u001b[49m\u001b[43m \u001b[49m\u001b[43mextra_body\u001b[49m\u001b[43m=\u001b[49m\u001b[43mextra_body\u001b[49m\u001b[43m,\u001b[49m\u001b[43m \u001b[49m\u001b[43mtimeout\u001b[49m\u001b[43m=\u001b[49m\u001b[43mtimeout\u001b[49m\n\u001b[32m    566\u001b[39m \u001b[43m        \u001b[49m\u001b[43m)\u001b[49m\u001b[43m,\u001b[49m\n\u001b[32m    567\u001b[39m \u001b[43m        \u001b[49m\u001b[43mcast_to\u001b[49m\u001b[43m=\u001b[49m\u001b[43mCompletion\u001b[49m\u001b[43m,\u001b[49m\n\u001b[32m    568\u001b[39m \u001b[43m        \u001b[49m\u001b[43mstream\u001b[49m\u001b[43m=\u001b[49m\u001b[43mstream\u001b[49m\u001b[43m \u001b[49m\u001b[38;5;129;43;01mor\u001b[39;49;00m\u001b[43m \u001b[49m\u001b[38;5;28;43;01mFalse\u001b[39;49;00m\u001b[43m,\u001b[49m\n\u001b[32m    569\u001b[39m \u001b[43m        \u001b[49m\u001b[43mstream_cls\u001b[49m\u001b[43m=\u001b[49m\u001b[43mStream\u001b[49m\u001b[43m[\u001b[49m\u001b[43mCompletion\u001b[49m\u001b[43m]\u001b[49m\u001b[43m,\u001b[49m\n\u001b[32m    570\u001b[39m \u001b[43m    \u001b[49m\u001b[43m)\u001b[49m\n",
      "\u001b[36mFile \u001b[39m\u001b[32mc:\\Users\\HP\\Desktop\\nlp projects\\llm\\Lib\\site-packages\\openai\\_base_client.py:1242\u001b[39m, in \u001b[36mSyncAPIClient.post\u001b[39m\u001b[34m(self, path, cast_to, body, options, files, stream, stream_cls)\u001b[39m\n\u001b[32m   1228\u001b[39m \u001b[38;5;28;01mdef\u001b[39;00m\u001b[38;5;250m \u001b[39m\u001b[34mpost\u001b[39m(\n\u001b[32m   1229\u001b[39m     \u001b[38;5;28mself\u001b[39m,\n\u001b[32m   1230\u001b[39m     path: \u001b[38;5;28mstr\u001b[39m,\n\u001b[32m   (...)\u001b[39m\u001b[32m   1237\u001b[39m     stream_cls: \u001b[38;5;28mtype\u001b[39m[_StreamT] | \u001b[38;5;28;01mNone\u001b[39;00m = \u001b[38;5;28;01mNone\u001b[39;00m,\n\u001b[32m   1238\u001b[39m ) -> ResponseT | _StreamT:\n\u001b[32m   1239\u001b[39m     opts = FinalRequestOptions.construct(\n\u001b[32m   1240\u001b[39m         method=\u001b[33m\"\u001b[39m\u001b[33mpost\u001b[39m\u001b[33m\"\u001b[39m, url=path, json_data=body, files=to_httpx_files(files), **options\n\u001b[32m   1241\u001b[39m     )\n\u001b[32m-> \u001b[39m\u001b[32m1242\u001b[39m     \u001b[38;5;28;01mreturn\u001b[39;00m cast(ResponseT, \u001b[38;5;28;43mself\u001b[39;49m\u001b[43m.\u001b[49m\u001b[43mrequest\u001b[49m\u001b[43m(\u001b[49m\u001b[43mcast_to\u001b[49m\u001b[43m,\u001b[49m\u001b[43m \u001b[49m\u001b[43mopts\u001b[49m\u001b[43m,\u001b[49m\u001b[43m \u001b[49m\u001b[43mstream\u001b[49m\u001b[43m=\u001b[49m\u001b[43mstream\u001b[49m\u001b[43m,\u001b[49m\u001b[43m \u001b[49m\u001b[43mstream_cls\u001b[49m\u001b[43m=\u001b[49m\u001b[43mstream_cls\u001b[49m\u001b[43m)\u001b[49m)\n",
      "\u001b[36mFile \u001b[39m\u001b[32mc:\\Users\\HP\\Desktop\\nlp projects\\llm\\Lib\\site-packages\\openai\\_base_client.py:919\u001b[39m, in \u001b[36mSyncAPIClient.request\u001b[39m\u001b[34m(self, cast_to, options, remaining_retries, stream, stream_cls)\u001b[39m\n\u001b[32m    916\u001b[39m \u001b[38;5;28;01melse\u001b[39;00m:\n\u001b[32m    917\u001b[39m     retries_taken = \u001b[32m0\u001b[39m\n\u001b[32m--> \u001b[39m\u001b[32m919\u001b[39m \u001b[38;5;28;01mreturn\u001b[39;00m \u001b[38;5;28;43mself\u001b[39;49m\u001b[43m.\u001b[49m\u001b[43m_request\u001b[49m\u001b[43m(\u001b[49m\n\u001b[32m    920\u001b[39m \u001b[43m    \u001b[49m\u001b[43mcast_to\u001b[49m\u001b[43m=\u001b[49m\u001b[43mcast_to\u001b[49m\u001b[43m,\u001b[49m\n\u001b[32m    921\u001b[39m \u001b[43m    \u001b[49m\u001b[43moptions\u001b[49m\u001b[43m=\u001b[49m\u001b[43moptions\u001b[49m\u001b[43m,\u001b[49m\n\u001b[32m    922\u001b[39m \u001b[43m    \u001b[49m\u001b[43mstream\u001b[49m\u001b[43m=\u001b[49m\u001b[43mstream\u001b[49m\u001b[43m,\u001b[49m\n\u001b[32m    923\u001b[39m \u001b[43m    \u001b[49m\u001b[43mstream_cls\u001b[49m\u001b[43m=\u001b[49m\u001b[43mstream_cls\u001b[49m\u001b[43m,\u001b[49m\n\u001b[32m    924\u001b[39m \u001b[43m    \u001b[49m\u001b[43mretries_taken\u001b[49m\u001b[43m=\u001b[49m\u001b[43mretries_taken\u001b[49m\u001b[43m,\u001b[49m\n\u001b[32m    925\u001b[39m \u001b[43m\u001b[49m\u001b[43m)\u001b[49m\n",
      "\u001b[36mFile \u001b[39m\u001b[32mc:\\Users\\HP\\Desktop\\nlp projects\\llm\\Lib\\site-packages\\openai\\_base_client.py:1023\u001b[39m, in \u001b[36mSyncAPIClient._request\u001b[39m\u001b[34m(self, cast_to, options, retries_taken, stream, stream_cls)\u001b[39m\n\u001b[32m   1020\u001b[39m         err.response.read()\n\u001b[32m   1022\u001b[39m     log.debug(\u001b[33m\"\u001b[39m\u001b[33mRe-raising status error\u001b[39m\u001b[33m\"\u001b[39m)\n\u001b[32m-> \u001b[39m\u001b[32m1023\u001b[39m     \u001b[38;5;28;01mraise\u001b[39;00m \u001b[38;5;28mself\u001b[39m._make_status_error_from_response(err.response) \u001b[38;5;28;01mfrom\u001b[39;00m\u001b[38;5;250m \u001b[39m\u001b[38;5;28;01mNone\u001b[39;00m\n\u001b[32m   1025\u001b[39m \u001b[38;5;28;01mreturn\u001b[39;00m \u001b[38;5;28mself\u001b[39m._process_response(\n\u001b[32m   1026\u001b[39m     cast_to=cast_to,\n\u001b[32m   1027\u001b[39m     options=options,\n\u001b[32m   (...)\u001b[39m\u001b[32m   1031\u001b[39m     retries_taken=retries_taken,\n\u001b[32m   1032\u001b[39m )\n",
      "\u001b[31mNotFoundError\u001b[39m: Error code: 404 - {'error': {'message': 'The model `text-davinci-003` has been deprecated, learn more here: https://platform.openai.com/docs/deprecations', 'type': 'invalid_request_error', 'param': None, 'code': 'model_not_found'}}"
     ]
    }
   ],
   "source": [
    "# Note: The model_name parameter has been deprecated. Consider using the newer ChatOpenAI or other updated classes.\n",
    "llm = OpenAI(model_name='text-davinci-003', api_key=env['OPENAI_API_KEY'])\n",
    "llm.invoke('Who is JFK in Ameria')"
   ]
  },
  {
   "cell_type": "code",
   "execution_count": null,
   "metadata": {},
   "outputs": [
    {
     "name": "stderr",
     "output_type": "stream",
     "text": [
      "C:\\Users\\HP\\AppData\\Local\\Temp\\ipykernel_32648\\3682594537.py:9: LangChainDeprecationWarning: The method `BaseChatModel.__call__` was deprecated in langchain-core 0.1.7 and will be removed in 1.0. Use :meth:`~invoke` instead.\n",
      "  response = chat(message)\n"
     ]
    }
   ],
   "source": [
    "# \n",
    "chat = ChatOpenAI(api_key=env['OPENAI_API_KEY'],\n",
    "                model='gpt-3.5-turbo',\n",
    "                temperature=0.3)\n",
    "message = [\n",
    "    SystemMessage(content='You are an expert data scientist'),\n",
    "    HumanMessage(content='Write a python script that trains a neural network on simulated data')\n",
    "]\n",
    "\n",
    "response = chat(message)"
   ]
  },
  {
   "cell_type": "code",
   "execution_count": 5,
   "metadata": {},
   "outputs": [
    {
     "name": "stdout",
     "output_type": "stream",
     "text": [
      "Sure! Here is an example of a Python script that trains a simple neural network on simulated data using the TensorFlow library:\n",
      "\n",
      "```python\n",
      "import numpy as np\n",
      "import tensorflow as tf\n",
      "\n",
      "# Generate simulated data\n",
      "np.random.seed(0)\n",
      "X = np.random.rand(1000, 2)\n",
      "y = np.array([1 if x1 + x2 > 1 else 0 for x1, x2 in X])\n",
      "\n",
      "# Define the neural network architecture\n",
      "model = tf.keras.models.Sequential([\n",
      "    tf.keras.layers.Dense(4, activation='relu', input_shape=(2,)),\n",
      "    tf.keras.layers.Dense(1, activation='sigmoid')\n",
      "])\n",
      "\n",
      "# Compile the model\n",
      "model.compile(optimizer='adam', loss='binary_crossentropy', metrics=['accuracy'])\n",
      "\n",
      "# Train the model\n",
      "model.fit(X, y, epochs=10, batch_size=32)\n",
      "\n",
      "# Evaluate the model\n",
      "loss, accuracy = model.evaluate(X, y)\n",
      "print(f'Loss: {loss}, Accuracy: {accuracy}')\n",
      "```\n",
      "\n",
      "In this script:\n",
      "1. We generate simulated data where the target variable is 1 if the sum of the input features is greater than 1, otherwise 0.\n",
      "2. We define a simple neural network with one hidden layer and one output layer using the TensorFlow Keras API.\n",
      "3. We compile the model with the Adam optimizer and binary cross-entropy loss.\n",
      "4. We train the model on the simulated data for 10 epochs.\n",
      "5. Finally, we evaluate the model on the training data and print the loss and accuracy.\n",
      "\n",
      "You can run this script in a Python environment with TensorFlow installed to train a neural network on simulated data.\n"
     ]
    }
   ],
   "source": [
    "print(response.content,end='\\n')"
   ]
  },
  {
   "cell_type": "markdown",
   "metadata": {},
   "source": [
    "## Prompting \n",
    "\n",
    "Using the PromptTemplate module, you can create custom prompts for specifici purposes \n"
   ]
  },
  {
   "cell_type": "code",
   "execution_count": 8,
   "metadata": {},
   "outputs": [],
   "source": [
    "from langchain import PromptTemplate \n",
    "\n",
    "template = \"\"\"\n",
    "You are an expert data scientist with an expertise in building deep learning models. \n",
    "Explain the concept of {concept} in a couple of lines\n",
    "\"\"\"\n",
    "\n",
    "prompt = PromptTemplate(input_variables=['concept'],\n",
    "                        template = template)\n"
   ]
  },
  {
   "cell_type": "code",
   "execution_count": 9,
   "metadata": {},
   "outputs": [
    {
     "data": {
      "text/plain": [
       "PromptTemplate(input_variables=['concept'], input_types={}, partial_variables={}, template='\\nYou are an expert data scientist with an expertise in building deep learning models. \\nExplain the concept of {concept} in a couple of lines\\n')"
      ]
     },
     "execution_count": 9,
     "metadata": {},
     "output_type": "execute_result"
    }
   ],
   "source": [
    "prompt"
   ]
  },
  {
   "cell_type": "code",
   "execution_count": 10,
   "metadata": {},
   "outputs": [
    {
     "data": {
      "text/plain": [
       "AIMessage(content='Batch normalization is a technique used in deep learning to normalize the input of each layer by adjusting and scaling the activations. This helps in reducing internal covariate shift, improving training speed, and allowing for higher learning rates.', additional_kwargs={'refusal': None}, response_metadata={'token_usage': {'completion_tokens': 44, 'prompt_tokens': 37, 'total_tokens': 81, 'completion_tokens_details': {'accepted_prediction_tokens': 0, 'audio_tokens': 0, 'reasoning_tokens': 0, 'rejected_prediction_tokens': 0}, 'prompt_tokens_details': {'audio_tokens': 0, 'cached_tokens': 0}}, 'model_name': 'gpt-3.5-turbo-0125', 'system_fingerprint': None, 'id': 'chatcmpl-BE8D91DX7DQE1sDU9db1C440m0Fyp', 'finish_reason': 'stop', 'logprobs': None}, id='run-e12c5b83-4e19-4651-bab2-953fa2d07290-0', usage_metadata={'input_tokens': 37, 'output_tokens': 44, 'total_tokens': 81, 'input_token_details': {'audio': 0, 'cache_read': 0}, 'output_token_details': {'audio': 0, 'reasoning': 0}})"
      ]
     },
     "execution_count": 10,
     "metadata": {},
     "output_type": "execute_result"
    }
   ],
   "source": [
    "chat.invoke(prompt.format(concept='batch normalization'))"
   ]
  },
  {
   "cell_type": "markdown",
   "metadata": {},
   "source": [
    "## Using LLMChains\n",
    "\n",
    "Similar to using a pipeline in sklearn"
   ]
  },
  {
   "cell_type": "code",
   "execution_count": 40,
   "metadata": {},
   "outputs": [
    {
     "name": "stderr",
     "output_type": "stream",
     "text": [
      "C:\\Users\\HP\\AppData\\Local\\Temp\\ipykernel_32648\\2269629870.py:1: LangChainDeprecationWarning: The method `Chain.__call__` was deprecated in langchain 0.1.0 and will be removed in 1.0. Use :meth:`~invoke` instead.\n",
      "  chain('bias and variance')\n"
     ]
    },
    {
     "data": {
      "text/plain": [
       "{'concept': 'bias and variance',\n",
       " 'text': \"Bias refers to the error introduced by approximating a real-world problem, while variance refers to the error introduced by the model's sensitivity to fluctuations in the training data. Balancing bias and variance is crucial for creating a model that generalizes well to unseen data.\"}"
      ]
     },
     "execution_count": 40,
     "metadata": {},
     "output_type": "execute_result"
    }
   ],
   "source": [
    "chain('bias and variance')"
   ]
  },
  {
   "cell_type": "code",
   "execution_count": 13,
   "metadata": {},
   "outputs": [
    {
     "name": "stdout",
     "output_type": "stream",
     "text": [
      "{'concept': 'bias and variance', 'text': 'Bias refers to the error introduced by approximating a real-world problem, while variance refers to the error introduced by sensitivity to fluctuations in the training data. Balancing bias and variance is crucial in building accurate and generalizable deep learning models.'}\n"
     ]
    }
   ],
   "source": [
    "from langchain.chains import LLMChain \n",
    "\n",
    "chain = LLMChain(llm=chat, prompt= prompt) \n",
    "\n",
    "print(chain.invoke('bias and variance'))"
   ]
  },
  {
   "cell_type": "markdown",
   "metadata": {},
   "source": [
    "### SimpleSequential Chains\n",
    "\n",
    "helps to line up a series of prompts and activities you want to do, \n",
    "when you want the result of a prompt to be used as an input to another prompt"
   ]
  },
  {
   "cell_type": "markdown",
   "metadata": {},
   "source": []
  },
  {
   "cell_type": "code",
   "execution_count": 16,
   "metadata": {},
   "outputs": [],
   "source": [
    "from langchain.chains import SimpleSequentialChain \n",
    "\n",
    "template2 = \"\"\" you are an expert data scientist. Turn the description of {ml_concept} and explain as if to a toddler in 300 words\"\"\"\n",
    "prompt2 = PromptTemplate(\n",
    "        input_variables=['ml_concept'],\n",
    "        template = template2\n",
    ")\n",
    "chain2 = LLMChain(llm=chat, prompt=prompt2)\n",
    "\n",
    "all_chain = SimpleSequentialChain(chains=[chain,chain2], verbose=True)\n"
   ]
  },
  {
   "cell_type": "code",
   "execution_count": 18,
   "metadata": {},
   "outputs": [
    {
     "name": "stdout",
     "output_type": "stream",
     "text": [
      "\n",
      "\n",
      "\u001b[1m> Entering new SimpleSequentialChain chain...\u001b[0m\n",
      "\u001b[36;1m\u001b[1;3mBias refers to the error introduced by approximating a real-world problem, leading to underfitting. Variance refers to the error introduced by modeling the noise in the training data, leading to overfitting. Balancing bias and variance is crucial for building accurate and generalizable deep learning models.\u001b[0m\n",
      "\u001b[33;1m\u001b[1;3mImagine you are trying to build a puzzle. Bias is like when you try to put a piece in the wrong spot because you don't really understand what the picture is supposed to look like. This can make your puzzle look really messy and not quite right. \n",
      "\n",
      "Variance is like when you try to make the puzzle perfect by putting every piece exactly where it seems to fit, even if it doesn't really belong there. This can make your puzzle look too perfect and not like the original picture at all.\n",
      "\n",
      "When you are building a puzzle, you want to find a balance between making sure each piece fits correctly and not forcing pieces where they don't belong. This is similar to balancing bias and variance in deep learning models.\n",
      "\n",
      "If you have too much bias, your model won't be able to understand the real problem you are trying to solve. If you have too much variance, your model will try to fit every little detail in the training data, even if it's just noise and not important.\n",
      "\n",
      "To build a good deep learning model, you need to find the right balance between bias and variance. This means making sure your model understands the problem well enough without getting too caught up in the little details. By finding this balance, you can create a model that is accurate and can work well with new data it hasn't seen before.\u001b[0m\n",
      "\n",
      "\u001b[1m> Finished chain.\u001b[0m\n",
      "{'input': 'bias and variance', 'output': \"Imagine you are trying to build a puzzle. Bias is like when you try to put a piece in the wrong spot because you don't really understand what the picture is supposed to look like. This can make your puzzle look really messy and not quite right. \\n\\nVariance is like when you try to make the puzzle perfect by putting every piece exactly where it seems to fit, even if it doesn't really belong there. This can make your puzzle look too perfect and not like the original picture at all.\\n\\nWhen you are building a puzzle, you want to find a balance between making sure each piece fits correctly and not forcing pieces where they don't belong. This is similar to balancing bias and variance in deep learning models.\\n\\nIf you have too much bias, your model won't be able to understand the real problem you are trying to solve. If you have too much variance, your model will try to fit every little detail in the training data, even if it's just noise and not important.\\n\\nTo build a good deep learning model, you need to find the right balance between bias and variance. This means making sure your model understands the problem well enough without getting too caught up in the little details. By finding this balance, you can create a model that is accurate and can work well with new data it hasn't seen before.\"}\n"
     ]
    }
   ],
   "source": [
    "response = all_chain.invoke('bias and variance')\n",
    "\n",
    "print(response)"
   ]
  },
  {
   "cell_type": "markdown",
   "metadata": {},
   "source": [
    "## Agents \n",
    "\n",
    "Basically AI bots for performing specific tasks \n"
   ]
  },
  {
   "cell_type": "code",
   "execution_count": 19,
   "metadata": {},
   "outputs": [],
   "source": [
    "from langchain_experimental.agents.agent_toolkits.python.base import create_python_agent\n",
    "from langchain_experimental.utilities import PythonREPL\n",
    "from langchain_experimental.tools.python.tool import PythonREPLTool"
   ]
  },
  {
   "cell_type": "code",
   "execution_count": 20,
   "metadata": {},
   "outputs": [],
   "source": [
    "agentexecutor = create_python_agent(\n",
    "    llm= OpenAI(api_key=env['OPENAI_API_KEY'],\n",
    "                temperature= 0, max_tokens= 1000),\n",
    "    tool= PythonREPLTool(),\n",
    "    verbose= True \n",
    ")"
   ]
  },
  {
   "cell_type": "code",
   "execution_count": 21,
   "metadata": {},
   "outputs": [
    {
     "name": "stdout",
     "output_type": "stream",
     "text": [
      "\n",
      "\n",
      "\u001b[1m> Entering new AgentExecutor chain...\u001b[0m\n"
     ]
    },
    {
     "name": "stderr",
     "output_type": "stream",
     "text": [
      "Python REPL can execute arbitrary code. Use with caution.\n"
     ]
    },
    {
     "name": "stdout",
     "output_type": "stream",
     "text": [
      "\u001b[32;1m\u001b[1;3m I can use the quadratic formula to find the roots of a quadratic equation.\n",
      "Action: Python_REPL\n",
      "Action Input: (-4 + (4**2 - 4*3*2)**0.5) / (2*3)\u001b[0m\n",
      "Observation: \u001b[36;1m\u001b[1;3m\u001b[0m\n",
      "Thought:\u001b[32;1m\u001b[1;3m I can use the quadratic formula to find the roots of a quadratic equation.\n",
      "Action: Python_REPL\n",
      "Action Input: (-4 - (4**2 - 4*3*2)**0.5) / (2*3)\u001b[0m\n",
      "Observation: \u001b[36;1m\u001b[1;3m\u001b[0m\n",
      "Thought:\u001b[32;1m\u001b[1;3m I now know the final answer\n",
      "Final Answer: -0.3333333333333333, -0.6666666666666666\u001b[0m\n",
      "\n",
      "\u001b[1m> Finished chain.\u001b[0m\n"
     ]
    },
    {
     "data": {
      "text/plain": [
       "{'input': 'Find the roots of a quadratic equation funcion 3x^6 + 4x + 2 = 1',\n",
       " 'output': '-0.3333333333333333, -0.6666666666666666'}"
      ]
     },
     "execution_count": 21,
     "metadata": {},
     "output_type": "execute_result"
    }
   ],
   "source": [
    "agentexecutor.invoke('Find the roots of a quadratic equation funcion 3x^6 + 4x + 2 = 1')\n"
   ]
  },
  {
   "cell_type": "markdown",
   "metadata": {},
   "source": [
    "### Using exec allows you to be able to use ai agents to run python codes, since the responses come in strings\n",
    "> There are two ways to do this \n",
    "1. exec can run strings as seen below and still capture the output of the codes \n",
    "2. using subprocess.run (this can even give you access to the shell but not advisable)"
   ]
  },
  {
   "cell_type": "code",
   "execution_count": 29,
   "metadata": {},
   "outputs": [],
   "source": [
    "code = \"\"\" \n",
    "def greet(f):\n",
    "    return f'Hello {f}' \n",
    "new = greet('Dapo')\n",
    "\"\"\"\n",
    "namespace = {}\n",
    "exec(code, namespace) "
   ]
  },
  {
   "cell_type": "code",
   "execution_count": 31,
   "metadata": {},
   "outputs": [
    {
     "name": "stdout",
     "output_type": "stream",
     "text": [
      "Hello Dapo\n"
     ]
    }
   ],
   "source": [
    "print(namespace['new'])"
   ]
  },
  {
   "cell_type": "code",
   "execution_count": 32,
   "metadata": {},
   "outputs": [
    {
     "name": "stdout",
     "output_type": "stream",
     "text": [
      "Hello world\n"
     ]
    }
   ],
   "source": [
    "import subprocess \n",
    "\n",
    "result = subprocess.run(['python', '-c', 'print(\"Hello world\")'],\n",
    "                        capture_output=True,text=True) \n",
    "\n",
    "print(result.stdout.strip())"
   ]
  },
  {
   "cell_type": "code",
   "execution_count": null,
   "metadata": {},
   "outputs": [],
   "source": [
    "# Testing out python code generation\n",
    "\n",
    "# first step is to have something to take in an input and prompt\n",
    "# then code generation output\n",
    "# the code is then passed as an input into the agent that calls the exec function to run the code using the input variable \n"
   ]
  },
  {
   "cell_type": "code",
   "execution_count": 33,
   "metadata": {},
   "outputs": [],
   "source": [
    "from langchain.llms import OpenAI \n",
    "from langchain import PromptTemplate \n",
    "from langchain.chains import LLMChain \n",
    "\n",
    "\n",
    "chat = OpenAI(api_key=env['OPENAI_API_KEY'], temperature=0.2,\n",
    "              max_tokens= 1000)\n",
    "\n",
    "template3 = \"\"\" \n",
    "        You are an expert data scientist.\n",
    "        Create a python script that takes in an integer argument {number} and returns the number mupltiplied by 4, \n",
    "        then create a variable called answer to store the value of the function\n",
    "\"\"\"\n",
    "\n",
    "prompt3 = PromptTemplate(input_variables= ['number'], \n",
    "                         template= template3,\n",
    "                         )\n",
    "\n",
    "chain3 = LLMChain(llm=chat, prompt=prompt3)\n",
    "\n",
    "response = chain3.invoke(5)"
   ]
  },
  {
   "cell_type": "code",
   "execution_count": 38,
   "metadata": {},
   "outputs": [
    {
     "name": "stdout",
     "output_type": "stream",
     "text": [
      "20\n"
     ]
    }
   ],
   "source": [
    "namespace = {}\n",
    "exec(response['text'].strip(),namespace )"
   ]
  },
  {
   "cell_type": "code",
   "execution_count": 39,
   "metadata": {},
   "outputs": [
    {
     "data": {
      "text/plain": [
       "20"
      ]
     },
     "execution_count": 39,
     "metadata": {},
     "output_type": "execute_result"
    }
   ],
   "source": [
    "namespace['answer']"
   ]
  },
  {
   "cell_type": "code",
   "execution_count": 5,
   "metadata": {},
   "outputs": [
    {
     "data": {
      "text/plain": [
       "True"
      ]
     },
     "execution_count": 5,
     "metadata": {},
     "output_type": "execute_result"
    }
   ],
   "source": [
    "from langchain.memory import  ConversationBufferMemory,ConversationBufferWindowMemory\n",
    "from langchain_openai import ChatOpenAI \n",
    "from langchain.chains import ConversationChain\n",
    "from langchain_core.output_parsers import StrOutputParser\n",
    "from langchain_core.prompts import PromptTemplate\n",
    "from dotenv import load_dotenv \n",
    "\n",
    "load_dotenv('.env')"
   ]
  },
  {
   "cell_type": "code",
   "execution_count": 24,
   "metadata": {},
   "outputs": [],
   "source": [
    "chain = ConversationChain(llm=ChatOpenAI(temperature=0.3))\n",
    "                          "
   ]
  },
  {
   "cell_type": "code",
   "execution_count": 21,
   "metadata": {},
   "outputs": [
    {
     "data": {
      "text/plain": [
       "'The following is a friendly conversation between a human and an AI. The AI is talkative and provides lots of specific details from its context. If the AI does not know the answer to a question, it truthfully says it does not know.\\n\\nCurrent conversation:\\n{history}\\nHuman: {input}\\nAI:'"
      ]
     },
     "execution_count": 21,
     "metadata": {},
     "output_type": "execute_result"
    }
   ],
   "source": [
    "chain.prompt.template "
   ]
  },
  {
   "cell_type": "code",
   "execution_count": 25,
   "metadata": {},
   "outputs": [
    {
     "data": {
      "text/plain": [
       "{'input': 'bias and variance',\n",
       " 'history': '',\n",
       " 'response': \"Ah, bias and variance are key concepts in machine learning! Bias refers to the error introduced by approximating a real-world problem, while variance is the error introduced by modeling the noise in the training data. Balancing bias and variance is crucial for building a model that generalizes well to unseen data. It's like finding the sweet spot between underfitting and overfitting. Do you want to know more about how to manage bias and variance in machine learning models?\"}"
      ]
     },
     "execution_count": 25,
     "metadata": {},
     "output_type": "execute_result"
    }
   ],
   "source": [
    "chain.invoke({'input':'bias and variance'})"
   ]
  },
  {
   "cell_type": "code",
   "execution_count": 26,
   "metadata": {},
   "outputs": [
    {
     "data": {
      "text/plain": [
       "{'input': \"argentina's last match was against who and when?\",\n",
       " 'history': \"Human: bias and variance\\nAI: Ah, bias and variance are key concepts in machine learning! Bias refers to the error introduced by approximating a real-world problem, while variance is the error introduced by modeling the noise in the training data. Balancing bias and variance is crucial for building a model that generalizes well to unseen data. It's like finding the sweet spot between underfitting and overfitting. Do you want to know more about how to manage bias and variance in machine learning models?\",\n",
       " 'response': \"Argentina's last match was against Brazil on July 10, 2021. They played in the final of the Copa America tournament. Argentina won the match 1-0, with Angel Di Maria scoring the only goal of the game. It was a historic victory for Argentina, as it was their first Copa America title since 1993.\"}"
      ]
     },
     "execution_count": 26,
     "metadata": {},
     "output_type": "execute_result"
    }
   ],
   "source": [
    "chain.invoke(\"argentina's last match was against who and when?\")"
   ]
  },
  {
   "cell_type": "code",
   "execution_count": 28,
   "metadata": {},
   "outputs": [
    {
     "name": "stdout",
     "output_type": "stream",
     "text": [
      "Human: bias and variance\n",
      "AI: Ah, bias and variance are key concepts in machine learning! Bias refers to the error introduced by approximating a real-world problem, while variance is the error introduced by modeling the noise in the training data. Balancing bias and variance is crucial for building a model that generalizes well to unseen data. It's like finding the sweet spot between underfitting and overfitting. Do you want to know more about how to manage bias and variance in machine learning models?\n",
      "Human: argentina's last match was against who and when?\n",
      "AI: Argentina's last match was against Brazil on July 10, 2021. They played in the final of the Copa America tournament. Argentina won the match 1-0, with Angel Di Maria scoring the only goal of the game. It was a historic victory for Argentina, as it was their first Copa America title since 1993.\n"
     ]
    }
   ],
   "source": [
    "print(chain.memory.buffer)"
   ]
  },
  {
   "cell_type": "markdown",
   "metadata": {},
   "source": [
    "## Embeddings \n",
    "\n",
    "---\n",
    "\n",
    "Using embeddings, OllamaEmbeddings to save money, llama3.2 to also run locally \n"
   ]
  },
  {
   "cell_type": "code",
   "execution_count": 21,
   "metadata": {},
   "outputs": [],
   "source": [
    "from langchain_community.vectorstores import FAISS \n",
    "from langchain_ollama import OllamaEmbeddings"
   ]
  },
  {
   "cell_type": "code",
   "execution_count": 23,
   "metadata": {},
   "outputs": [],
   "source": [
    "db = FAISS.from_texts(['hello world', 'hello world 2', \"hi there\"], \n",
    "                 embedding=OllamaEmbeddings(model='llama3.2')\n",
    "                \n",
    "                 )"
   ]
  },
  {
   "cell_type": "code",
   "execution_count": 12,
   "metadata": {},
   "outputs": [
    {
     "name": "stdout",
     "output_type": "stream",
     "text": [
      "hi there\n",
      "hello world\n",
      "hello world 2\n"
     ]
    }
   ],
   "source": [
    "# Perform a similarity search\n",
    "query = \"hello\"\n",
    "results = db.similarity_search(query)  # k is the number of top results to retrieve\n",
    "\n",
    "# Print the results\n",
    "for result in results:\n",
    "    print(result.page_content)"
   ]
  },
  {
   "cell_type": "code",
   "execution_count": 13,
   "metadata": {},
   "outputs": [
    {
     "data": {
      "text/plain": [
       "[Document(id='dba82005-d6f9-4dbe-997c-413eec0fd272', metadata={}, page_content='hi there'),\n",
       " Document(id='df3f65a9-7bbf-4b58-ba59-ca818be1f42d', metadata={}, page_content='hello world'),\n",
       " Document(id='63b197ab-e275-47e2-9ae4-b76d821c6308', metadata={}, page_content='hello world 2')]"
      ]
     },
     "execution_count": 13,
     "metadata": {},
     "output_type": "execute_result"
    }
   ],
   "source": [
    "results"
   ]
  },
  {
   "cell_type": "markdown",
   "metadata": {},
   "source": [
    "### saving embeddings\n",
    "\n",
    "It saves locally, and can be pointed in a directory"
   ]
  },
  {
   "cell_type": "code",
   "execution_count": 14,
   "metadata": {},
   "outputs": [],
   "source": [
    "db.save_local('faiss_index')"
   ]
  },
  {
   "cell_type": "code",
   "execution_count": 23,
   "metadata": {},
   "outputs": [],
   "source": [
    "from langchain_huggingface import HuggingFaceEmbeddings\n",
    "from langchain_community.vectorstores import FAISS\n",
    "\n",
    "db = FAISS.load_local('faiss_index', embeddings=HuggingFaceEmbeddings(model_name='sentence-transformers/all-MiniLM-L6-v2'),\n",
    "                 allow_dangerous_deserialization=True)"
   ]
  },
  {
   "cell_type": "code",
   "execution_count": 28,
   "metadata": {},
   "outputs": [
    {
     "data": {
      "text/plain": [
       "['0a217fb3-335f-467e-b1e3-96fd00c4bf36',\n",
       " '32f5e753-f0e3-423f-bc92-29eccb361252',\n",
       " '1bfbf5ff-0239-4694-9bbc-1ab544de46ef',\n",
       " '1d56ac8e-8ba4-4b4d-992a-d7fc0ef3ca5f',\n",
       " 'c3abc858-7c19-4ac6-a556-549c2eade1ca',\n",
       " '7f277dd7-b2a1-4de3-ae9d-ecda565a7e67',\n",
       " 'e4e3e7cf-6b9c-4bfc-8ded-5b56d510d103',\n",
       " '04eb8f7e-0940-40c4-ac95-26757e8d7c1c',\n",
       " '8cb1efba-0923-4724-aff9-d1bbe21bbf3e',\n",
       " 'cf6e33c4-305c-4fef-910b-60a91118a374',\n",
       " '6fb3f712-6d75-4de5-8cc2-a1dc842bbdd0',\n",
       " 'd11729d5-328c-4367-b667-acd0eab80528',\n",
       " '64efcc17-f76f-4d18-93c0-59600f319c67',\n",
       " 'b609376c-49d9-48b3-9b75-5c310f113057']"
      ]
     },
     "execution_count": 28,
     "metadata": {},
     "output_type": "execute_result"
    }
   ],
   "source": [
    "list(db.index_to_docstore_id.values())\n",
    "# db.index.ntotal"
   ]
  },
  {
   "cell_type": "code",
   "execution_count": 31,
   "metadata": {},
   "outputs": [
    {
     "data": {
      "text/plain": [
       "'https://punchng.com/eid-el-fitr-nigerians-can-overcome-corruption-with-stronger-resolve-efcc-chairman/'"
      ]
     },
     "execution_count": 31,
     "metadata": {},
     "output_type": "execute_result"
    }
   ],
   "source": [
    "db.docstore.search('b609376c-49d9-48b3-9b75-5c310f113057').metadata['source']"
   ]
  },
  {
   "cell_type": "markdown",
   "metadata": {},
   "source": [
    "You can also load the old vectorstore and update it with new data\n",
    "\n",
    "you have to merge and save when you are done"
   ]
  },
  {
   "cell_type": "code",
   "execution_count": null,
   "metadata": {},
   "outputs": [],
   "source": [
    "newdb = FAISS.load_local('faiss_index', OllamaEmbeddings(model='gemma3'), allow_dangerous_deserialization=True)\n",
    "\n",
    "db2 = FAISS.from_texts(['food is good','my guy how are you', 'hello there'],\n",
    "                 embedding=OllamaEmbeddings(model='gemma3')\n",
    "                 )"
   ]
  },
  {
   "cell_type": "code",
   "execution_count": 17,
   "metadata": {},
   "outputs": [],
   "source": [
    "newdb.merge_from(db2)\n",
    "newdb.save_local('faiss_index')"
   ]
  },
  {
   "cell_type": "code",
   "execution_count": 18,
   "metadata": {},
   "outputs": [
    {
     "data": {
      "text/plain": [
       "[Document(id='ba9a0929-3f3a-4a52-816f-9b6a270f21ea', metadata={}, page_content='hello there'),\n",
       " Document(id='dba82005-d6f9-4dbe-997c-413eec0fd272', metadata={}, page_content='hi there'),\n",
       " Document(id='df3f65a9-7bbf-4b58-ba59-ca818be1f42d', metadata={}, page_content='hello world'),\n",
       " Document(id='c2e1ea99-281c-4dfa-a345-097cecbc0fc8', metadata={}, page_content='my guy how are you')]"
      ]
     },
     "execution_count": 18,
     "metadata": {},
     "output_type": "execute_result"
    }
   ],
   "source": [
    "newdb.similarity_search('hello')"
   ]
  },
  {
   "cell_type": "code",
   "execution_count": 20,
   "metadata": {},
   "outputs": [
    {
     "data": {
      "text/plain": [
       "[Document(id='bdf4c390-865b-4bbf-ad03-b6091f67bd8c', metadata={}, page_content='food is good'),\n",
       " Document(id='ba9a0929-3f3a-4a52-816f-9b6a270f21ea', metadata={}, page_content='hello there'),\n",
       " Document(id='c2e1ea99-281c-4dfa-a345-097cecbc0fc8', metadata={}, page_content='my guy how are you'),\n",
       " Document(id='63b197ab-e275-47e2-9ae4-b76d821c6308', metadata={}, page_content='hello world 2')]"
      ]
     },
     "execution_count": 20,
     "metadata": {},
     "output_type": "execute_result"
    }
   ],
   "source": [
    "newdb.similarity_search('food')"
   ]
  },
  {
   "cell_type": "markdown",
   "metadata": {},
   "source": []
  },
  {
   "cell_type": "markdown",
   "metadata": {},
   "source": [
    "### Another way to do embedding using Llama index\n",
    "\n",
    "This use case, I have a pdf file that i want to load and summarize, it is stored in the data/ directory\n",
    "\n",
    "The logic is to read the file using the SimpleDirectoryReader module, embed using HuggingFaceEmbedding and create indexes of it.\n",
    "\n",
    "Using the index, i can then use as a knowledge base for an LLM. "
   ]
  },
  {
   "cell_type": "code",
   "execution_count": 1,
   "metadata": {},
   "outputs": [
    {
     "name": "stderr",
     "output_type": "stream",
     "text": [
      "c:\\Users\\HP\\Desktop\\nlp projects\\llm\\Lib\\site-packages\\tqdm\\auto.py:21: TqdmWarning: IProgress not found. Please update jupyter and ipywidgets. See https://ipywidgets.readthedocs.io/en/stable/user_install.html\n",
      "  from .autonotebook import tqdm as notebook_tqdm\n"
     ]
    }
   ],
   "source": [
    "from llama_index.core import VectorStoreIndex, Document\n",
    "from llama_index.embeddings.huggingface import HuggingFaceEmbedding\n",
    "\n",
    "from llama_index.core import SimpleDirectoryReader\n",
    "# from langchain_community.document_loaders import PyPDFLoader\n",
    "# load data()\n",
    "loader = SimpleDirectoryReader(\n",
    "    input_dir='data',\n",
    "    required_exts=['.pdf'],\n",
    "    recursive=True\n",
    ")"
   ]
  },
  {
   "cell_type": "code",
   "execution_count": 2,
   "metadata": {},
   "outputs": [],
   "source": [
    "docs= loader.load_data()\n",
    "embed_model = HuggingFaceEmbedding( model_name=\"BAAI/bge-large-en-v1.5\", trust_remote_code=True)\n"
   ]
  },
  {
   "cell_type": "code",
   "execution_count": 4,
   "metadata": {},
   "outputs": [],
   "source": [
    "from llama_index.core import Settings\n",
    "# ====== Create vector store and upload indexed data ======\n",
    "Settings.embed_model = embed_model # we specify the embedding model to be used\n",
    "index = VectorStoreIndex.from_documents(docs)"
   ]
  },
  {
   "cell_type": "code",
   "execution_count": 5,
   "metadata": {},
   "outputs": [
    {
     "data": {
      "text/plain": [
       "_Settings(_llm=None, _embed_model=HuggingFaceEmbedding(model_name='BAAI/bge-large-en-v1.5', embed_batch_size=10, callback_manager=<llama_index.core.callbacks.base.CallbackManager object at 0x000001F360646010>, num_workers=None, max_length=512, normalize=True, query_instruction=None, text_instruction=None, cache_folder=None), _callback_manager=<llama_index.core.callbacks.base.CallbackManager object at 0x000001F360646010>, _tokenizer=None, _node_parser=SentenceSplitter(include_metadata=True, include_prev_next_rel=True, callback_manager=<llama_index.core.callbacks.base.CallbackManager object at 0x000001F360646010>, id_func=<function default_id_func at 0x000001F350649BC0>, chunk_size=1024, chunk_overlap=200, separator=' ', paragraph_separator='\\n\\n\\n', secondary_chunking_regex='[^,.;。？！]+[,.;。？！]?|[,.;。？！]'), _prompt_helper=None, _transformations=[SentenceSplitter(include_metadata=True, include_prev_next_rel=True, callback_manager=<llama_index.core.callbacks.base.CallbackManager object at 0x000001F360646010>, id_func=<function default_id_func at 0x000001F350649BC0>, chunk_size=1024, chunk_overlap=200, separator=' ', paragraph_separator='\\n\\n\\n', secondary_chunking_regex='[^,.;。？！]+[,.;。？！]?|[,.;。？！]')])"
      ]
     },
     "execution_count": 5,
     "metadata": {},
     "output_type": "execute_result"
    }
   ],
   "source": [
    "Settings"
   ]
  },
  {
   "cell_type": "code",
   "execution_count": 6,
   "metadata": {},
   "outputs": [],
   "source": [
    "from llama_index.llms.ollama import Ollama\n",
    "\n",
    "# setting up the llm\n",
    "\n",
    "llm = Ollama(model=\"gemma3\", request_timeout=500) \n",
    "\n",
    "# ====== Setup a query engine on the index previously created ======\n",
    "Settings.llm = llm # specifying the llm to be used\n",
    "query_engine = index.as_query_engine(streaming=True, similarity_top_k=4)"
   ]
  },
  {
   "cell_type": "code",
   "execution_count": 7,
   "metadata": {},
   "outputs": [],
   "source": [
    "from llama_index.core.prompts import PromptTemplate "
   ]
  },
  {
   "cell_type": "code",
   "execution_count": 8,
   "metadata": {},
   "outputs": [],
   "source": [
    "qa_prompt_tmpl_str = (\n",
    "            \"\"\"Context information is below.\\n\"\n",
    "            ---------------------\n",
    "            {context_str}\n",
    "            ---------------------\n",
    "            Given the context information above I want you to think step by step to answer the query in a crisp manner, \n",
    "            incase case you don't know the answer say 'I don't know!'.\\n\n",
    "            Query: {query_str}\\n\"\n",
    "            \"Answer: \n",
    "            \"\"\")\n",
    "\n",
    "qa_prompt_tmpl = PromptTemplate(qa_prompt_tmpl_str)\n",
    "query_engine.update_prompts({\"response_synthesizer:text_qa_template\": qa_prompt_tmpl})\n",
    "\n"
   ]
  },
  {
   "cell_type": "code",
   "execution_count": null,
   "metadata": {},
   "outputs": [],
   "source": [
    "docs"
   ]
  },
  {
   "cell_type": "code",
   "execution_count": 9,
   "metadata": {},
   "outputs": [
    {
     "name": "stdout",
     "output_type": "stream",
     "text": [
      "The document is about the admission requirements and procedures for the Winter 2025-2026 Master in Data Science program at the University of Luxembourg, specifically for third-country national applicants. It details required documents, application deadlines, tuition fees, and contact information.\n"
     ]
    }
   ],
   "source": [
    "response = query_engine.query('What is the document about?')\n",
    "print(response)"
   ]
  },
  {
   "cell_type": "markdown",
   "metadata": {},
   "source": [
    "## Document loaders in details \n",
    "\n",
    "\n",
    "\n",
    "Still on Embeddings \n"
   ]
  },
  {
   "cell_type": "code",
   "execution_count": 2,
   "metadata": {},
   "outputs": [],
   "source": [
    "from langchain.document_loaders import TextLoader,CSVLoader,JSONLoader\n",
    "from langchain.text_splitter import RecursiveCharacterTextSplitter\n",
    "from langchain.embeddings import OllamaEmbeddings\n",
    "from langchain_community.vectorstores import FAISS\n",
    "from langchain.chains import RetrievalQA"
   ]
  },
  {
   "cell_type": "code",
   "execution_count": null,
   "metadata": {},
   "outputs": [
    {
     "data": {
      "text/plain": [
       "[Document(metadata={'source': 'data/onedrive.txt'}, page_content='Microsoft OneDrive is a cloud storage service that allows users to store files and access them from anywhere with an internet connection. It is integrated with the Microsoft 365 ecosystem, making it a convenient choice for individuals and businesses.\\n\\n**Benefits:**\\n1. **Accessibility:** Files stored in OneDrive can be accessed from any device, including PCs, smartphones, and tablets.\\n2. **Collaboration:** OneDrive enables real-time collaboration on documents, spreadsheets, and presentations through Microsoft Office apps.\\n3. **Backup and Sync:** It provides automatic backup and synchronization of files across devices, ensuring data is always up-to-date.\\n4. **Security:** OneDrive offers robust security features, including encryption, ransomware detection, and recovery options.\\n5. **Integration:** Seamless integration with Microsoft 365 apps like Word, Excel, and Teams enhances productivity.\\n\\n**Use Cases:**\\n- **Personal Use:** Storing photos, videos, and important documents for easy access and sharing.\\n- **Business Use:** Collaborating on projects, sharing files with team members, and managing workflows.\\n- **Education:** Sharing study materials, assignments, and collaborating on group projects.\\n- **Backup Solution:** Safeguarding critical data by storing it in the cloud.\\n\\n**Pros:**\\n- Easy to use and integrates well with Microsoft products.\\n- Offers free storage with additional paid plans for more space.\\n- Supports offline access to files.\\n- Advanced sharing options with permissions control.\\n\\n**Cons:**\\n- Limited free storage compared to some competitors.\\n- Requires a stable internet connection for optimal performance.\\n- Advanced features may require a Microsoft 365 subscription.\\n\\nOverall, Microsoft OneDrive is a versatile and reliable cloud storage solution that caters to both personal and professional needs.')]"
      ]
     },
     "execution_count": 3,
     "metadata": {},
     "output_type": "execute_result"
    }
   ],
   "source": [
    "text_loader = TextLoader('data/onedrive.txt')\n",
    "text_docs = text_loader.load()\n",
    "text_docs"
   ]
  },
  {
   "cell_type": "code",
   "execution_count": null,
   "metadata": {},
   "outputs": [],
   "source": [
    "# the text loader is used to load the text file and create a list of Document objects. Each Document object contains the text content and metadata (if any) associated with the document.\n",
    "# The text_splitter is used to split the loaded text documents into smaller chunks based on the specified separators and chunk size. This is useful for processing large documents in smaller, manageable pieces.\n",
    "text_splitter = RecursiveCharacterTextSplitter(separators=['\\n\\n', '\\n','.'],chunk_size=200, chunk_overlap=20)\n",
    "text_docs = text_splitter.split_documents(text_docs)"
   ]
  },
  {
   "cell_type": "code",
   "execution_count": null,
   "metadata": {},
   "outputs": [
    {
     "data": {
      "text/plain": [
       "[Document(metadata={'source': 'data/onedrive.txt'}, page_content='Microsoft OneDrive is a cloud storage service that allows users to store files and access them from anywhere with an internet connection'),\n",
       " Document(metadata={'source': 'data/onedrive.txt'}, page_content='. It is integrated with the Microsoft 365 ecosystem, making it a convenient choice for individuals and businesses.'),\n",
       " Document(metadata={'source': 'data/onedrive.txt'}, page_content='**Benefits:**\\n1. **Accessibility:** Files stored in OneDrive can be accessed from any device, including PCs, smartphones, and tablets.'),\n",
       " Document(metadata={'source': 'data/onedrive.txt'}, page_content='2. **Collaboration:** OneDrive enables real-time collaboration on documents, spreadsheets, and presentations through Microsoft Office apps.'),\n",
       " Document(metadata={'source': 'data/onedrive.txt'}, page_content='3. **Backup and Sync:** It provides automatic backup and synchronization of files across devices, ensuring data is always up-to-date.'),\n",
       " Document(metadata={'source': 'data/onedrive.txt'}, page_content='4. **Security:** OneDrive offers robust security features, including encryption, ransomware detection, and recovery options.'),\n",
       " Document(metadata={'source': 'data/onedrive.txt'}, page_content='5. **Integration:** Seamless integration with Microsoft 365 apps like Word, Excel, and Teams enhances productivity.'),\n",
       " Document(metadata={'source': 'data/onedrive.txt'}, page_content='**Use Cases:**\\n- **Personal Use:** Storing photos, videos, and important documents for easy access and sharing.'),\n",
       " Document(metadata={'source': 'data/onedrive.txt'}, page_content='- **Business Use:** Collaborating on projects, sharing files with team members, and managing workflows.\\n- **Education:** Sharing study materials, assignments, and collaborating on group projects.'),\n",
       " Document(metadata={'source': 'data/onedrive.txt'}, page_content='- **Backup Solution:** Safeguarding critical data by storing it in the cloud.'),\n",
       " Document(metadata={'source': 'data/onedrive.txt'}, page_content='**Pros:**\\n- Easy to use and integrates well with Microsoft products.\\n- Offers free storage with additional paid plans for more space.\\n- Supports offline access to files.'),\n",
       " Document(metadata={'source': 'data/onedrive.txt'}, page_content='- Advanced sharing options with permissions control.'),\n",
       " Document(metadata={'source': 'data/onedrive.txt'}, page_content='**Cons:**\\n- Limited free storage compared to some competitors.\\n- Requires a stable internet connection for optimal performance.\\n- Advanced features may require a Microsoft 365 subscription.'),\n",
       " Document(metadata={'source': 'data/onedrive.txt'}, page_content='Overall, Microsoft OneDrive is a versatile and reliable cloud storage solution that caters to both personal and professional needs.')]"
      ]
     },
     "execution_count": 5,
     "metadata": {},
     "output_type": "execute_result"
    }
   ],
   "source": [
    "# chunks of the data\n",
    "text_docs"
   ]
  },
  {
   "cell_type": "code",
   "execution_count": null,
   "metadata": {},
   "outputs": [],
   "source": [
    "# we need to create a vector store from the text documents. \n",
    "# The FAISS vector store is used to efficiently search and retrieve similar documents based on their embeddings.\n",
    "# The OllamaEmbeddings class is used to generate embeddings for the text documents using a specified embedding model."
   ]
  },
  {
   "cell_type": "code",
   "execution_count": null,
   "metadata": {},
   "outputs": [
    {
     "name": "stdout",
     "output_type": "stream",
     "text": [
      "Microsoft OneDrive is a cloud storage service that allows users to store files and access them from anywhere with an internet connection\n",
      "4. **Security:** OneDrive offers robust security features, including encryption, ransomware detection, and recovery options.\n",
      "Overall, Microsoft OneDrive is a versatile and reliable cloud storage solution that caters to both personal and professional needs.\n"
     ]
    }
   ],
   "source": [
    "from langchain_community.vectorstores import FAISS\n",
    "from langchain_ollama.embeddings import OllamaEmbeddings\n",
    "\n",
    "db = FAISS.from_documents(text_docs, embedding=OllamaEmbeddings(model='llama3.2')) \n",
    "resp = db.similarity_search('onedrive', k=3) # k is the number of top results to retrieve\n",
    "\n",
    "for x in resp:\n",
    "    print(x.page_content)\n",
    "\n",
    "    # Microsoft OneDrive is a cloud storage service that allows users to store files and access them from anywhere with an internet connection\n",
    "    # 4. **Security:** OneDrive offers robust security features, including encryption, ransomware detection, and recovery options.\n",
    "    # Overall, Microsoft OneDrive is a versatile and reliable cloud storage solution that caters to both personal and professional needs."
   ]
  },
  {
   "cell_type": "markdown",
   "metadata": {},
   "source": [
    "Using a CSVLoader when you have your data in CSV format \n",
    "\n",
    "The first type of loading the document"
   ]
  },
  {
   "cell_type": "markdown",
   "metadata": {},
   "source": []
  },
  {
   "cell_type": "code",
   "execution_count": 51,
   "metadata": {},
   "outputs": [
    {
     "data": {
      "text/plain": [
       "75177"
      ]
     },
     "execution_count": 51,
     "metadata": {},
     "output_type": "execute_result"
    }
   ],
   "source": [
    "csv_loader= CSVLoader('data/ngxdata.csv', source_column='Date')\n",
    "# the source column is the column that contains the source of the document being retrieved\n",
    "csv_docs = csv_loader.load()\n",
    "len(csv_docs)"
   ]
  },
  {
   "cell_type": "code",
   "execution_count": 52,
   "metadata": {},
   "outputs": [
    {
     "data": {
      "text/plain": [
       "{'source': '12/31/2021', 'row': 0}"
      ]
     },
     "execution_count": 52,
     "metadata": {},
     "output_type": "execute_result"
    }
   ],
   "source": [
    "csv_docs[0].metadata"
   ]
  },
  {
   "cell_type": "code",
   "execution_count": 53,
   "metadata": {},
   "outputs": [
    {
     "data": {
      "text/plain": [
       "[Document(metadata={'source': '12/31/2021', 'row': 0}, page_content='Date: 12/31/2021\\nSymbol: ABCTRANS\\nPclose: 0.31\\nOpen: 0.31\\nHigh: 0.31\\nLow: 0.31\\nClose: 0.31\\n% Change: 0\\nVolume: 3580.00\\nValue: 1199.80'),\n",
       " Document(metadata={'source': '12/31/2021', 'row': 1}, page_content='Date: 12/31/2021\\nSymbol: ACCESS\\nPclose: 9.1\\nOpen: 9.1\\nHigh: 9.5\\nLow: 9.1\\nClose: 9.3\\n% Change: 0.2\\nVolume: 32102347.00\\nValue: 301141911.90')]"
      ]
     },
     "execution_count": 53,
     "metadata": {},
     "output_type": "execute_result"
    }
   ],
   "source": [
    "csv_docs[:2]"
   ]
  },
  {
   "cell_type": "code",
   "execution_count": null,
   "metadata": {},
   "outputs": [
    {
     "data": {
      "text/plain": [
       "[Document(id='a681b85c-8659-4a3b-a3a8-298f61fbf6b2', metadata={'source': 'Stevens-Brown', 'row': 0}, page_content='Date: 2024-01-01\\nSymbol: BEAR\\nCompany: Stevens-Brown\\nSector: Technology\\nOpen: 335.53\\nHigh: 338.72\\nLow: 332.25\\nClose: 334.6\\nVolume: 654598\\nValue: 219028490.8'),\n",
       " Document(id='a5bfbbc8-bd2e-450d-a715-08214489c164', metadata={'source': 'Hill LLC', 'row': 1}, page_content='Date: 2024-01-01\\nSymbol: BLAN\\nCompany: Hill LLC\\nSector: Consumer\\nOpen: 745.75\\nHigh: 747.47\\nLow: 730.11\\nClose: 731.89\\nVolume: 872708\\nValue: 638726258.12'),\n",
       " Document(id='1e921962-a4d0-430e-bc51-ac7b59c42e08', metadata={'source': 'Smith, Johnson and Mendoza', 'row': 2}, page_content='Date: 2024-01-01\\nSymbol: COLE\\nCompany: Smith, Johnson and Mendoza\\nSector: Consumer\\nOpen: 874.44\\nHigh: 908.21\\nLow: 873.96\\nClose: 902.0\\nVolume: 720105\\nValue: 649534710.0'),\n",
       " Document(id='7d20702a-a998-475f-a255-8c846703e1a4', metadata={'source': 'Nichols, Ward and Miller', 'row': 3}, page_content='Date: 2024-01-01\\nSymbol: CUNN\\nCompany: Nichols, Ward and Miller\\nSector: Consumer\\nOpen: 447.93\\nHigh: 449.34\\nLow: 435.17\\nClose: 438.28\\nVolume: 830304\\nValue: 363905637.12'),\n",
       " Document(id='79d1daae-f2f9-4db1-ad77-c4556f816674', metadata={'source': 'Parker-Taylor', 'row': 4}, page_content='Date: 2024-01-01\\nSymbol: DAVI\\nCompany: Parker-Taylor\\nSector: Healthcare\\nOpen: 443.63\\nHigh: 446.24\\nLow: 436.52\\nClose: 438.94\\nVolume: 429690\\nValue: 188608128.6'),\n",
       " Document(id='c9bbbfb4-dd27-4aef-9497-d220bbccce7e', metadata={'source': 'Molina, Ortiz and Rogers', 'row': 5}, page_content='Date: 2024-01-01\\nSymbol: GILM\\nCompany: Molina, Ortiz and Rogers\\nSector: Technology\\nOpen: 106.12\\nHigh: 106.65\\nLow: 104.81\\nClose: 105.64\\nVolume: 559000\\nValue: 59052760.0'),\n",
       " Document(id='b361e00c-58c9-44ab-bb2d-4c6447ae1516', metadata={'source': 'Wood, Hutchinson and Hernandez', 'row': 6}, page_content='Date: 2024-01-01\\nSymbol: GUTI\\nCompany: Wood, Hutchinson and Hernandez\\nSector: Finance\\nOpen: 686.12\\nHigh: 692.79\\nLow: 676.71\\nClose: 678.91\\nVolume: 718894\\nValue: 488064325.54'),\n",
       " Document(id='0735e801-e1f8-40e5-a0e9-1a1cbd4cd6e5', metadata={'source': 'Key, Santiago and Costa', 'row': 7}, page_content='Date: 2024-01-01\\nSymbol: HERR\\nCompany: Key, Santiago and Costa\\nSector: Healthcare\\nOpen: 636.29\\nHigh: 665.36\\nLow: 633.81\\nClose: 663.19\\nVolume: 886902\\nValue: 588184537.38'),\n",
       " Document(id='7aba429c-69ef-4838-a118-ff7a3bf7b836', metadata={'source': 'Kim and Sons', 'row': 8}, page_content='Date: 2024-01-01\\nSymbol: MILL\\nCompany: Kim and Sons\\nSector: Finance\\nOpen: 334.92\\nHigh: 336.67\\nLow: 327.28\\nClose: 330.1\\nVolume: 521072\\nValue: 172005867.2'),\n",
       " Document(id='6d62abfc-5151-4c03-a3f5-c6b7fea12056', metadata={'source': 'Deleon-Oliver', 'row': 9}, page_content='Date: 2024-01-01\\nSymbol: MITC\\nCompany: Deleon-Oliver\\nSector: Finance\\nOpen: 365.93\\nHigh: 368.07\\nLow: 363.12\\nClose: 364.99\\nVolume: 193143\\nValue: 70495263.57'),\n",
       " Document(id='a71457df-5982-472a-8d4c-bcc00cb781e6', metadata={'source': 'Petersen-Ali', 'row': 10}, page_content='Date: 2024-01-01\\nSymbol: MOOR\\nCompany: Petersen-Ali\\nSector: Healthcare\\nOpen: 978.74\\nHigh: 982.25\\nLow: 960.64\\nClose: 968.42\\nVolume: 480453\\nValue: 465280294.26'),\n",
       " Document(id='aec271f2-3253-4036-989f-d20b41fe3961', metadata={'source': 'Chavez, Adams and Johnson', 'row': 11}, page_content='Date: 2024-01-01\\nSymbol: SANT\\nCompany: Chavez, Adams and Johnson\\nSector: Energy\\nOpen: 687.53\\nHigh: 689.59\\nLow: 673.16\\nClose: 674.22\\nVolume: 417762\\nValue: 281663495.64'),\n",
       " Document(id='70ac89c5-e562-4d23-9972-83f8d4a71a39', metadata={'source': 'Walsh, Keller and Pearson', 'row': 12}, page_content='Date: 2024-01-01\\nSymbol: VELA\\nCompany: Walsh, Keller and Pearson\\nSector: Finance\\nOpen: 26.89\\nHigh: 29.08\\nLow: 26.68\\nClose: 28.82\\nVolume: 1331118\\nValue: 38362820.76'),\n",
       " Document(id='861d599d-01f0-48cf-9087-6e29f4a3cdfe', metadata={'source': 'Kramer Ltd', 'row': 13}, page_content='Date: 2024-01-01\\nSymbol: WILK\\nCompany: Kramer Ltd\\nSector: Finance\\nOpen: 705.31\\nHigh: 707.65\\nLow: 673.9\\nClose: 675.96\\nVolume: 678968\\nValue: 458955209.28'),\n",
       " Document(id='db738dae-bf21-43c7-9fd9-d202241f2709', metadata={'source': 'Moreno-Wagner', 'row': 14}, page_content='Date: 2024-01-01\\nSymbol: WYAT\\nCompany: Moreno-Wagner\\nSector: Healthcare\\nOpen: 469.14\\nHigh: 472.18\\nLow: 447.05\\nClose: 448.33\\nVolume: 642931\\nValue: 288245255.23'),\n",
       " Document(id='f7bf8ffe-477d-4c13-b9a8-faea8ba414da', metadata={'source': 'Stevens-Brown', 'row': 15}, page_content='Date: 2024-01-02\\nSymbol: BEAR\\nCompany: Stevens-Brown\\nSector: Technology\\nOpen: 336.43\\nHigh: 338.7\\nLow: 332.79\\nClose: 333.26\\nVolume: 424149\\nValue: 141351895.74'),\n",
       " Document(id='6e560110-48f4-4d3a-8054-2f3a4977b328', metadata={'source': 'Hill LLC', 'row': 16}, page_content='Date: 2024-01-02\\nSymbol: BLAN\\nCompany: Hill LLC\\nSector: Consumer\\nOpen: 734.12\\nHigh: 743.74\\nLow: 732.56\\nClose: 736.73\\nVolume: 648253\\nValue: 477587432.69'),\n",
       " Document(id='3d9a48d1-b318-4381-a96d-370421214fd9', metadata={'source': 'Smith, Johnson and Mendoza', 'row': 17}, page_content='Date: 2024-01-02\\nSymbol: COLE\\nCompany: Smith, Johnson and Mendoza\\nSector: Consumer\\nOpen: 897.25\\nHigh: 898.37\\nLow: 834.26\\nClose: 836.42\\nVolume: 1017412\\nValue: 850983745.04'),\n",
       " Document(id='1fdabab9-7e74-440e-a0f6-7e0837c056ae', metadata={'source': 'Nichols, Ward and Miller', 'row': 18}, page_content='Date: 2024-01-02\\nSymbol: CUNN\\nCompany: Nichols, Ward and Miller\\nSector: Consumer\\nOpen: 437.32\\nHigh: 439.19\\nLow: 433.74\\nClose: 437.25\\nVolume: 639030\\nValue: 279415867.5'),\n",
       " Document(id='57eeccbe-09cc-4a08-a342-7f01c5540864', metadata={'source': 'Parker-Taylor', 'row': 19}, page_content='Date: 2024-01-02\\nSymbol: DAVI\\nCompany: Parker-Taylor\\nSector: Healthcare\\nOpen: 442.19\\nHigh: 442.95\\nLow: 429.91\\nClose: 432.05\\nVolume: 662075\\nValue: 286049503.75'),\n",
       " Document(id='be4b292e-c7d3-452e-a6ee-74ce0c19cd58', metadata={'source': 'Molina, Ortiz and Rogers', 'row': 20}, page_content='Date: 2024-01-02\\nSymbol: GILM\\nCompany: Molina, Ortiz and Rogers\\nSector: Technology\\nOpen: 106.09\\nHigh: 106.59\\nLow: 104.56\\nClose: 105.4\\nVolume: 795012\\nValue: 83794264.8'),\n",
       " Document(id='cf5744c5-3819-40b3-9432-accfd62ba6c4', metadata={'source': 'Wood, Hutchinson and Hernandez', 'row': 21}, page_content='Date: 2024-01-02\\nSymbol: GUTI\\nCompany: Wood, Hutchinson and Hernandez\\nSector: Finance\\nOpen: 672.55\\nHigh: 693.33\\nLow: 670.65\\nClose: 692.19\\nVolume: 509401\\nValue: 352602278.19'),\n",
       " Document(id='12bc8d2d-3e43-41f1-abe8-5de4fedf7ad8', metadata={'source': 'Key, Santiago and Costa', 'row': 22}, page_content='Date: 2024-01-02\\nSymbol: HERR\\nCompany: Key, Santiago and Costa\\nSector: Healthcare\\nOpen: 662.97\\nHigh: 663.21\\nLow: 616.8\\nClose: 622.23\\nVolume: 625643\\nValue: 389293843.89'),\n",
       " Document(id='42a8bde4-7586-4e44-9fa3-29a590c408b1', metadata={'source': 'Kim and Sons', 'row': 23}, page_content='Date: 2024-01-02\\nSymbol: MILL\\nCompany: Kim and Sons\\nSector: Finance\\nOpen: 332.01\\nHigh: 334.54\\nLow: 329.8\\nClose: 332.57\\nVolume: 442180\\nValue: 147055802.6'),\n",
       " Document(id='ae56cfa6-415f-48da-9cdb-820c0394bc87', metadata={'source': 'Deleon-Oliver', 'row': 24}, page_content='Date: 2024-01-02\\nSymbol: MITC\\nCompany: Deleon-Oliver\\nSector: Finance\\nOpen: 362.15\\nHigh: 363.2\\nLow: 356.93\\nClose: 360.13\\nVolume: 510666\\nValue: 183906146.58'),\n",
       " Document(id='3d5874a8-100b-4c42-9da3-6b34e1ccd424', metadata={'source': 'Petersen-Ali', 'row': 25}, page_content='Date: 2024-01-02\\nSymbol: MOOR\\nCompany: Petersen-Ali\\nSector: Healthcare\\nOpen: 975.72\\nHigh: 995.93\\nLow: 975.3\\nClose: 987.38\\nVolume: 283510\\nValue: 279932103.8'),\n",
       " Document(id='c7b20eb6-7e8f-4f15-8725-e78a902ad10e', metadata={'source': 'Chavez, Adams and Johnson', 'row': 26}, page_content='Date: 2024-01-02\\nSymbol: SANT\\nCompany: Chavez, Adams and Johnson\\nSector: Energy\\nOpen: 675.23\\nHigh: 675.23\\nLow: 664.35\\nClose: 670.93\\nVolume: 340301\\nValue: 228318149.93'),\n",
       " Document(id='ad903409-568c-459a-b3dd-3c3a34787948', metadata={'source': 'Walsh, Keller and Pearson', 'row': 27}, page_content='Date: 2024-01-02\\nSymbol: VELA\\nCompany: Walsh, Keller and Pearson\\nSector: Finance\\nOpen: 28.63\\nHigh: 29.9\\nLow: 28.59\\nClose: 29.74\\nVolume: 489089\\nValue: 14545506.86'),\n",
       " Document(id='1000bddd-9126-4060-9774-b49db88cf80e', metadata={'source': 'Kramer Ltd', 'row': 28}, page_content='Date: 2024-01-02\\nSymbol: WILK\\nCompany: Kramer Ltd\\nSector: Finance\\nOpen: 671.26\\nHigh: 691.86\\nLow: 668.74\\nClose: 685.36\\nVolume: 290253\\nValue: 198927796.08'),\n",
       " Document(id='3830213d-8850-450d-9e8c-b5b65cd2a5b1', metadata={'source': 'Moreno-Wagner', 'row': 29}, page_content='Date: 2024-01-02\\nSymbol: WYAT\\nCompany: Moreno-Wagner\\nSector: Healthcare\\nOpen: 446.32\\nHigh: 450.27\\nLow: 424.2\\nClose: 426.5\\nVolume: 1102179\\nValue: 470079343.5'),\n",
       " Document(id='768bfb99-bfca-4a6c-8445-d0af1d8c3924', metadata={'source': 'Stevens-Brown', 'row': 30}, page_content='Date: 2024-01-03\\nSymbol: BEAR\\nCompany: Stevens-Brown\\nSector: Technology\\nOpen: 334.2\\nHigh: 334.86\\nLow: 330.06\\nClose: 330.98\\nVolume: 346535\\nValue: 114696154.3'),\n",
       " Document(id='984e7224-be60-4b5c-a58a-66ce86b670f7', metadata={'source': 'Hill LLC', 'row': 31}, page_content='Date: 2024-01-03\\nSymbol: BLAN\\nCompany: Hill LLC\\nSector: Consumer\\nOpen: 743.76\\nHigh: 746.67\\nLow: 721.12\\nClose: 723.42\\nVolume: 279399\\nValue: 202122824.58'),\n",
       " Document(id='f2d44f08-d149-4468-ab5a-e7a94b4e8e51', metadata={'source': 'Smith, Johnson and Mendoza', 'row': 32}, page_content='Date: 2024-01-03\\nSymbol: COLE\\nCompany: Smith, Johnson and Mendoza\\nSector: Consumer\\nOpen: 839.75\\nHigh: 841.52\\nLow: 833.24\\nClose: 834.14\\nVolume: 956852\\nValue: 798148527.28'),\n",
       " Document(id='2a1da620-16ac-40b8-a0aa-4317010ce550', metadata={'source': 'Nichols, Ward and Miller', 'row': 33}, page_content='Date: 2024-01-03\\nSymbol: CUNN\\nCompany: Nichols, Ward and Miller\\nSector: Consumer\\nOpen: 439.34\\nHigh: 443.18\\nLow: 435.83\\nClose: 440.23\\nVolume: 410583\\nValue: 180750954.09'),\n",
       " Document(id='88f336eb-9300-41d0-9c38-cc2cc6c323cf', metadata={'source': 'Parker-Taylor', 'row': 34}, page_content='Date: 2024-01-03\\nSymbol: DAVI\\nCompany: Parker-Taylor\\nSector: Healthcare\\nOpen: 432.66\\nHigh: 435.62\\nLow: 431.62\\nClose: 432.81\\nVolume: 503128\\nValue: 217758829.68'),\n",
       " Document(id='498d7f36-9b8e-40cd-812f-52c9079a8ff5', metadata={'source': 'Molina, Ortiz and Rogers', 'row': 35}, page_content='Date: 2024-01-03\\nSymbol: GILM\\nCompany: Molina, Ortiz and Rogers\\nSector: Technology\\nOpen: 106.17\\nHigh: 110.96\\nLow: 106.01\\nClose: 110.56\\nVolume: 843283\\nValue: 93233368.48'),\n",
       " Document(id='49d3aee4-8bd4-43ac-8a8f-b6c47c03091d', metadata={'source': 'Wood, Hutchinson and Hernandez', 'row': 36}, page_content='Date: 2024-01-03\\nSymbol: GUTI\\nCompany: Wood, Hutchinson and Hernandez\\nSector: Finance\\nOpen: 696.58\\nHigh: 696.86\\nLow: 686.47\\nClose: 692.48\\nVolume: 432259\\nValue: 299330712.32'),\n",
       " Document(id='c5f1df72-607f-4850-a41d-bb68ac6b3946', metadata={'source': 'Key, Santiago and Costa', 'row': 37}, page_content='Date: 2024-01-03\\nSymbol: HERR\\nCompany: Key, Santiago and Costa\\nSector: Healthcare\\nOpen: 624.24\\nHigh: 624.66\\nLow: 621.88\\nClose: 623.57\\nVolume: 530556\\nValue: 330838804.92'),\n",
       " Document(id='1fbc05a0-824a-4a4f-85b2-aab8ff039955', metadata={'source': 'Kim and Sons', 'row': 38}, page_content='Date: 2024-01-03\\nSymbol: MILL\\nCompany: Kim and Sons\\nSector: Finance\\nOpen: 331.38\\nHigh: 338.53\\nLow: 330.81\\nClose: 337.1\\nVolume: 280231\\nValue: 94465870.1'),\n",
       " Document(id='0bf4faf1-4f20-4510-a1a8-c02eeeaca332', metadata={'source': 'Deleon-Oliver', 'row': 39}, page_content='Date: 2024-01-03\\nSymbol: MITC\\nCompany: Deleon-Oliver\\nSector: Finance\\nOpen: 357.87\\nHigh: 365.94\\nLow: 355.36\\nClose: 363.42\\nVolume: 561260\\nValue: 203973109.2'),\n",
       " Document(id='f88dfc4b-c790-4210-a74a-b1628cc3d76f', metadata={'source': 'Petersen-Ali', 'row': 40}, page_content='Date: 2024-01-03\\nSymbol: MOOR\\nCompany: Petersen-Ali\\nSector: Healthcare\\nOpen: 989.81\\nHigh: 1009.73\\nLow: 981.07\\nClose: 1005.92\\nVolume: 312712\\nValue: 314563255.04'),\n",
       " Document(id='0c2cf580-be61-446a-a042-29d20a3cda44', metadata={'source': 'Chavez, Adams and Johnson', 'row': 41}, page_content='Date: 2024-01-03\\nSymbol: SANT\\nCompany: Chavez, Adams and Johnson\\nSector: Energy\\nOpen: 676.47\\nHigh: 682.21\\nLow: 656.01\\nClose: 661.73\\nVolume: 247143\\nValue: 163541937.39'),\n",
       " Document(id='cccfa032-2abd-481f-80d0-20b444c54c9c', metadata={'source': 'Walsh, Keller and Pearson', 'row': 42}, page_content='Date: 2024-01-03\\nSymbol: VELA\\nCompany: Walsh, Keller and Pearson\\nSector: Finance\\nOpen: 29.97\\nHigh: 29.97\\nLow: 28.67\\nClose: 28.96\\nVolume: 353225\\nValue: 10229396.0'),\n",
       " Document(id='042c364c-0b49-496d-a885-08745903a339', metadata={'source': 'Kramer Ltd', 'row': 43}, page_content='Date: 2024-01-03\\nSymbol: WILK\\nCompany: Kramer Ltd\\nSector: Finance\\nOpen: 690.21\\nHigh: 694.21\\nLow: 673.12\\nClose: 675.67\\nVolume: 451767\\nValue: 305245408.89'),\n",
       " Document(id='12544de0-9f5b-4cd4-b17a-25d1726d1e61', metadata={'source': 'Moreno-Wagner', 'row': 44}, page_content='Date: 2024-01-03\\nSymbol: WYAT\\nCompany: Moreno-Wagner\\nSector: Healthcare\\nOpen: 425.4\\nHigh: 430.1\\nLow: 423.28\\nClose: 426.64\\nVolume: 537780\\nValue: 229438459.2'),\n",
       " Document(id='436aba8c-379d-4a57-ac17-75daa6fbcfc7', metadata={'source': 'Stevens-Brown', 'row': 45}, page_content='Date: 2024-01-04\\nSymbol: BEAR\\nCompany: Stevens-Brown\\nSector: Technology\\nOpen: 330.35\\nHigh: 333.93\\nLow: 329.92\\nClose: 333.38\\nVolume: 353275\\nValue: 117774819.5'),\n",
       " Document(id='1b30a769-b971-4ce0-9bd2-1a6aa2d0d266', metadata={'source': 'Hill LLC', 'row': 46}, page_content='Date: 2024-01-04\\nSymbol: BLAN\\nCompany: Hill LLC\\nSector: Consumer\\nOpen: 725.08\\nHigh: 727.4\\nLow: 702.9\\nClose: 708.49\\nVolume: 905905\\nValue: 641824633.45'),\n",
       " Document(id='a8afc0ee-b7af-423e-ac87-03597e96038a', metadata={'source': 'Smith, Johnson and Mendoza', 'row': 47}, page_content='Date: 2024-01-04\\nSymbol: COLE\\nCompany: Smith, Johnson and Mendoza\\nSector: Consumer\\nOpen: 841.13\\nHigh: 859.19\\nLow: 838.17\\nClose: 850.98\\nVolume: 466047\\nValue: 396596676.06'),\n",
       " Document(id='fd2b82ce-dad2-4d89-95dd-14e9ead8e5e3', metadata={'source': 'Nichols, Ward and Miller', 'row': 48}, page_content='Date: 2024-01-04\\nSymbol: CUNN\\nCompany: Nichols, Ward and Miller\\nSector: Consumer\\nOpen: 441.38\\nHigh: 442.06\\nLow: 439.2\\nClose: 441.62\\nVolume: 233078\\nValue: 102931906.36'),\n",
       " Document(id='b6771433-64fd-4dd2-8f33-c8e6863be417', metadata={'source': 'Parker-Taylor', 'row': 49}, page_content='Date: 2024-01-04\\nSymbol: DAVI\\nCompany: Parker-Taylor\\nSector: Healthcare\\nOpen: 431.91\\nHigh: 437.72\\nLow: 431.86\\nClose: 433.89\\nVolume: 325983\\nValue: 141440763.87'),\n",
       " Document(id='bdcb8cac-f8b7-4f71-ab4c-2eb65c422c91', metadata={'source': 'Molina, Ortiz and Rogers', 'row': 50}, page_content='Date: 2024-01-04\\nSymbol: GILM\\nCompany: Molina, Ortiz and Rogers\\nSector: Technology\\nOpen: 110.36\\nHigh: 111.44\\nLow: 109.52\\nClose: 111.34\\nVolume: 583433\\nValue: 64959430.22'),\n",
       " Document(id='eeaadcb4-b8a5-422f-afd7-a980bc99bcd9', metadata={'source': 'Wood, Hutchinson and Hernandez', 'row': 51}, page_content='Date: 2024-01-04\\nSymbol: GUTI\\nCompany: Wood, Hutchinson and Hernandez\\nSector: Finance\\nOpen: 698.49\\nHigh: 705.1\\nLow: 691.33\\nClose: 695.38\\nVolume: 275851\\nValue: 191821268.38'),\n",
       " Document(id='15e28024-d4ba-46f8-8eef-145273e0e078', metadata={'source': 'Key, Santiago and Costa', 'row': 52}, page_content='Date: 2024-01-04\\nSymbol: HERR\\nCompany: Key, Santiago and Costa\\nSector: Healthcare\\nOpen: 628.72\\nHigh: 629.55\\nLow: 584.6\\nClose: 588.77\\nVolume: 1483595\\nValue: 873496228.15'),\n",
       " Document(id='745c76c2-de8f-4c5f-a22f-ddb502aee37b', metadata={'source': 'Kim and Sons', 'row': 53}, page_content='Date: 2024-01-04\\nSymbol: MILL\\nCompany: Kim and Sons\\nSector: Finance\\nOpen: 336.59\\nHigh: 340.51\\nLow: 336.27\\nClose: 337.16\\nVolume: 341926\\nValue: 115283770.16'),\n",
       " Document(id='be3aabf0-e03c-43f9-a305-94d70df5bc2f', metadata={'source': 'Deleon-Oliver', 'row': 54}, page_content='Date: 2024-01-04\\nSymbol: MITC\\nCompany: Deleon-Oliver\\nSector: Finance\\nOpen: 362.99\\nHigh: 364.49\\nLow: 358.64\\nClose: 359.16\\nVolume: 782790\\nValue: 281146856.4'),\n",
       " Document(id='9a095ef8-cfa6-4b56-9fa6-3773256b08d3', metadata={'source': 'Petersen-Ali', 'row': 55}, page_content='Date: 2024-01-04\\nSymbol: MOOR\\nCompany: Petersen-Ali\\nSector: Healthcare\\nOpen: 1015.28\\nHigh: 1019.53\\nLow: 994.68\\nClose: 1003.0\\nVolume: 433792\\nValue: 435093376.0'),\n",
       " Document(id='92da4796-2cf0-4b38-b361-6666977a6d8d', metadata={'source': 'Chavez, Adams and Johnson', 'row': 56}, page_content='Date: 2024-01-04\\nSymbol: SANT\\nCompany: Chavez, Adams and Johnson\\nSector: Energy\\nOpen: 664.35\\nHigh: 675.06\\nLow: 663.9\\nClose: 671.75\\nVolume: 759297\\nValue: 510057759.75'),\n",
       " Document(id='5e82d2e5-981a-4123-a6ad-94a57941c508', metadata={'source': 'Walsh, Keller and Pearson', 'row': 57}, page_content='Date: 2024-01-04\\nSymbol: VELA\\nCompany: Walsh, Keller and Pearson\\nSector: Finance\\nOpen: 28.8\\nHigh: 30.16\\nLow: 28.71\\nClose: 29.99\\nVolume: 614731\\nValue: 18435782.69'),\n",
       " Document(id='1432d200-c11c-4f12-903f-c4db73ec0f4e', metadata={'source': 'Kramer Ltd', 'row': 58}, page_content='Date: 2024-01-04\\nSymbol: WILK\\nCompany: Kramer Ltd\\nSector: Finance\\nOpen: 669.32\\nHigh: 670.45\\nLow: 653.28\\nClose: 657.57\\nVolume: 444561\\nValue: 292329976.77'),\n",
       " Document(id='ed206bfd-9975-49e3-acb0-e84a40c33de6', metadata={'source': 'Moreno-Wagner', 'row': 59}, page_content='Date: 2024-01-04\\nSymbol: WYAT\\nCompany: Moreno-Wagner\\nSector: Healthcare\\nOpen: 423.06\\nHigh: 423.88\\nLow: 412.56\\nClose: 416.5\\nVolume: 549862\\nValue: 229017523.0'),\n",
       " Document(id='c035b9ea-21d2-4425-9e92-63a1b7a55feb', metadata={'source': 'Stevens-Brown', 'row': 60}, page_content='Date: 2024-01-05\\nSymbol: BEAR\\nCompany: Stevens-Brown\\nSector: Technology\\nOpen: 332.4\\nHigh: 343.47\\nLow: 330.03\\nClose: 341.6\\nVolume: 611055\\nValue: 208736388.0'),\n",
       " Document(id='282410b1-4255-4dc4-94d5-f871cc398e1f', metadata={'source': 'Hill LLC', 'row': 61}, page_content='Date: 2024-01-05\\nSymbol: BLAN\\nCompany: Hill LLC\\nSector: Consumer\\nOpen: 714.69\\nHigh: 730.28\\nLow: 708.05\\nClose: 727.41\\nVolume: 470265\\nValue: 342075463.65'),\n",
       " Document(id='2d417d65-1f59-4994-afcd-1422f7d16d50', metadata={'source': 'Smith, Johnson and Mendoza', 'row': 62}, page_content='Date: 2024-01-05\\nSymbol: COLE\\nCompany: Smith, Johnson and Mendoza\\nSector: Consumer\\nOpen: 852.94\\nHigh: 856.68\\nLow: 769.73\\nClose: 771.47\\nVolume: 1432864\\nValue: 1105411590.08'),\n",
       " Document(id='39e6eac9-d3d7-4cfb-bb72-c5acc83acb10', metadata={'source': 'Nichols, Ward and Miller', 'row': 63}, page_content='Date: 2024-01-05\\nSymbol: CUNN\\nCompany: Nichols, Ward and Miller\\nSector: Consumer\\nOpen: 445.09\\nHigh: 448.0\\nLow: 440.59\\nClose: 441.96\\nVolume: 1021372\\nValue: 451405569.12'),\n",
       " Document(id='432a71ec-9cb2-40f3-a195-8908b836fd4d', metadata={'source': 'Parker-Taylor', 'row': 64}, page_content='Date: 2024-01-05\\nSymbol: DAVI\\nCompany: Parker-Taylor\\nSector: Healthcare\\nOpen: 433.81\\nHigh: 447.9\\nLow: 430.37\\nClose: 445.4\\nVolume: 503634\\nValue: 224318583.6'),\n",
       " Document(id='e41eac61-662d-4cde-9796-f91cb92a4003', metadata={'source': 'Molina, Ortiz and Rogers', 'row': 65}, page_content='Date: 2024-01-05\\nSymbol: GILM\\nCompany: Molina, Ortiz and Rogers\\nSector: Technology\\nOpen: 110.94\\nHigh: 112.0\\nLow: 106.28\\nClose: 106.92\\nVolume: 744932\\nValue: 79648129.44'),\n",
       " Document(id='a8812aa2-1a67-45ca-86c5-5bbdfaa44af1', metadata={'source': 'Wood, Hutchinson and Hernandez', 'row': 66}, page_content='Date: 2024-01-05\\nSymbol: GUTI\\nCompany: Wood, Hutchinson and Hernandez\\nSector: Finance\\nOpen: 699.6\\nHigh: 704.57\\nLow: 693.4\\nClose: 693.76\\nVolume: 479933\\nValue: 332958318.08'),\n",
       " Document(id='e4226700-22ce-4c67-b91e-fe2a4f1438c8', metadata={'source': 'Key, Santiago and Costa', 'row': 67}, page_content='Date: 2024-01-05\\nSymbol: HERR\\nCompany: Key, Santiago and Costa\\nSector: Healthcare\\nOpen: 592.81\\nHigh: 597.21\\nLow: 566.39\\nClose: 571.6\\nVolume: 360082\\nValue: 205822871.2'),\n",
       " Document(id='288e1c21-fded-487c-b2f5-8603848e7e9d', metadata={'source': 'Kim and Sons', 'row': 68}, page_content='Date: 2024-01-05\\nSymbol: MILL\\nCompany: Kim and Sons\\nSector: Finance\\nOpen: 338.95\\nHigh: 339.79\\nLow: 338.72\\nClose: 338.83\\nVolume: 334964\\nValue: 113495852.12'),\n",
       " Document(id='172b605b-839d-4086-b410-0f7d8699e31a', metadata={'source': 'Deleon-Oliver', 'row': 69}, page_content='Date: 2024-01-05\\nSymbol: MITC\\nCompany: Deleon-Oliver\\nSector: Finance\\nOpen: 356.99\\nHigh: 372.01\\nLow: 353.97\\nClose: 369.04\\nVolume: 743156\\nValue: 274254290.24'),\n",
       " Document(id='0eb4e30b-3964-41e9-80b0-c977e46f9d57', metadata={'source': 'Petersen-Ali', 'row': 70}, page_content='Date: 2024-01-05\\nSymbol: MOOR\\nCompany: Petersen-Ali\\nSector: Healthcare\\nOpen: 993.06\\nHigh: 1038.21\\nLow: 991.83\\nClose: 1028.0\\nVolume: 1196536\\nValue: 1230039008.0'),\n",
       " Document(id='926ccc9d-a986-41e8-8a9c-3b312e812a05', metadata={'source': 'Chavez, Adams and Johnson', 'row': 71}, page_content='Date: 2024-01-05\\nSymbol: SANT\\nCompany: Chavez, Adams and Johnson\\nSector: Energy\\nOpen: 670.47\\nHigh: 681.91\\nLow: 664.28\\nClose: 677.57\\nVolume: 534689\\nValue: 362289225.73'),\n",
       " Document(id='4275d9c6-9d2a-40e7-831a-06f14d7c1102', metadata={'source': 'Walsh, Keller and Pearson', 'row': 72}, page_content='Date: 2024-01-05\\nSymbol: VELA\\nCompany: Walsh, Keller and Pearson\\nSector: Finance\\nOpen: 29.81\\nHigh: 31.24\\nLow: 29.56\\nClose: 30.95\\nVolume: 863758\\nValue: 26733310.1'),\n",
       " Document(id='fa4dff43-e7f7-4bf1-85c5-57f9cf76be9d', metadata={'source': 'Kramer Ltd', 'row': 73}, page_content='Date: 2024-01-05\\nSymbol: WILK\\nCompany: Kramer Ltd\\nSector: Finance\\nOpen: 662.56\\nHigh: 668.46\\nLow: 641.45\\nClose: 645.47\\nVolume: 697213\\nValue: 450030075.11'),\n",
       " Document(id='b4b6bca3-6c5f-4c8f-8184-3d16e7ee86e8', metadata={'source': 'Moreno-Wagner', 'row': 74}, page_content='Date: 2024-01-05\\nSymbol: WYAT\\nCompany: Moreno-Wagner\\nSector: Healthcare\\nOpen: 415.34\\nHigh: 416.42\\nLow: 406.26\\nClose: 408.83\\nVolume: 340834\\nValue: 139343164.22'),\n",
       " Document(id='fae62f9c-4ddd-4363-9d3d-b22f0be08c2c', metadata={'source': 'Stevens-Brown', 'row': 75}, page_content='Date: 2024-01-08\\nSymbol: BEAR\\nCompany: Stevens-Brown\\nSector: Technology\\nOpen: 344.44\\nHigh: 347.69\\nLow: 334.46\\nClose: 336.28\\nVolume: 431883\\nValue: 145233615.24'),\n",
       " Document(id='6a5390d8-09be-4782-b226-d5e27f5fab00', metadata={'source': 'Hill LLC', 'row': 76}, page_content='Date: 2024-01-08\\nSymbol: BLAN\\nCompany: Hill LLC\\nSector: Consumer\\nOpen: 728.42\\nHigh: 751.5\\nLow: 722.12\\nClose: 746.21\\nVolume: 781354\\nValue: 583054168.34'),\n",
       " Document(id='f9e44feb-1274-467e-97d3-ad42b7b6de01', metadata={'source': 'Smith, Johnson and Mendoza', 'row': 77}, page_content='Date: 2024-01-08\\nSymbol: COLE\\nCompany: Smith, Johnson and Mendoza\\nSector: Consumer\\nOpen: 770.04\\nHigh: 827.61\\nLow: 764.01\\nClose: 824.93\\nVolume: 858993\\nValue: 708609095.49'),\n",
       " Document(id='a62b80ef-441f-4928-959f-4d8f6e7cbf78', metadata={'source': 'Nichols, Ward and Miller', 'row': 78}, page_content='Date: 2024-01-08\\nSymbol: CUNN\\nCompany: Nichols, Ward and Miller\\nSector: Consumer\\nOpen: 444.65\\nHigh: 448.9\\nLow: 441.48\\nClose: 442.56\\nVolume: 370628\\nValue: 164025127.68'),\n",
       " Document(id='9451ed17-f3e5-4e51-b1d4-c55289af1210', metadata={'source': 'Parker-Taylor', 'row': 79}, page_content='Date: 2024-01-08\\nSymbol: DAVI\\nCompany: Parker-Taylor\\nSector: Healthcare\\nOpen: 447.45\\nHigh: 459.71\\nLow: 445.39\\nClose: 457.43\\nVolume: 956835\\nValue: 437685034.05'),\n",
       " Document(id='020086e4-3280-4645-b085-ee7b9de4e238', metadata={'source': 'Molina, Ortiz and Rogers', 'row': 80}, page_content='Date: 2024-01-08\\nSymbol: GILM\\nCompany: Molina, Ortiz and Rogers\\nSector: Technology\\nOpen: 107.4\\nHigh: 107.86\\nLow: 107.0\\nClose: 107.52\\nVolume: 27817\\nValue: 2990883.84'),\n",
       " Document(id='3b4588f6-0dd0-4afb-85c8-2bda10444a11', metadata={'source': 'Wood, Hutchinson and Hernandez', 'row': 81}, page_content='Date: 2024-01-08\\nSymbol: GUTI\\nCompany: Wood, Hutchinson and Hernandez\\nSector: Finance\\nOpen: 691.98\\nHigh: 704.21\\nLow: 688.25\\nClose: 699.84\\nVolume: 344239\\nValue: 240912221.76'),\n",
       " Document(id='78e539c9-361e-4d3d-b2f2-ac51aa01a22d', metadata={'source': 'Key, Santiago and Costa', 'row': 82}, page_content='Date: 2024-01-08\\nSymbol: HERR\\nCompany: Key, Santiago and Costa\\nSector: Healthcare\\nOpen: 575.47\\nHigh: 599.12\\nLow: 575.36\\nClose: 597.49\\nVolume: 880166\\nValue: 525890383.34'),\n",
       " Document(id='4d39686c-6cfd-4544-b263-531f97e119d7', metadata={'source': 'Kim and Sons', 'row': 83}, page_content='Date: 2024-01-08\\nSymbol: MILL\\nCompany: Kim and Sons\\nSector: Finance\\nOpen: 337.78\\nHigh: 340.57\\nLow: 333.56\\nClose: 336.48\\nVolume: 652515\\nValue: 219558247.2'),\n",
       " Document(id='ec5327b1-dae7-4c8a-8ec0-981fe4b3b002', metadata={'source': 'Deleon-Oliver', 'row': 84}, page_content='Date: 2024-01-08\\nSymbol: MITC\\nCompany: Deleon-Oliver\\nSector: Finance\\nOpen: 366.27\\nHigh: 367.92\\nLow: 356.01\\nClose: 358.83\\nVolume: 739729\\nValue: 265436957.07'),\n",
       " Document(id='2cb56efb-c052-4be6-bcbf-31e4719061a3', metadata={'source': 'Petersen-Ali', 'row': 85}, page_content='Date: 2024-01-08\\nSymbol: MOOR\\nCompany: Petersen-Ali\\nSector: Healthcare\\nOpen: 1025.91\\nHigh: 1031.45\\nLow: 1017.04\\nClose: 1024.33\\nVolume: 598643\\nValue: 613207984.19'),\n",
       " Document(id='a220197c-bd31-44b7-8ea8-e82cbbb27905', metadata={'source': 'Chavez, Adams and Johnson', 'row': 86}, page_content='Date: 2024-01-08\\nSymbol: SANT\\nCompany: Chavez, Adams and Johnson\\nSector: Energy\\nOpen: 672.7\\nHigh: 674.96\\nLow: 654.02\\nClose: 659.38\\nVolume: 317168\\nValue: 209134235.84'),\n",
       " Document(id='fa77a4d7-eb4a-4888-ae44-327cab1fbb98', metadata={'source': 'Walsh, Keller and Pearson', 'row': 87}, page_content='Date: 2024-01-08\\nSymbol: VELA\\nCompany: Walsh, Keller and Pearson\\nSector: Finance\\nOpen: 30.7\\nHigh: 30.93\\nLow: 29.96\\nClose: 30.13\\nVolume: 452742\\nValue: 13641116.46'),\n",
       " Document(id='011f5128-7c93-4bb8-bade-30b7def69b81', metadata={'source': 'Kramer Ltd', 'row': 88}, page_content='Date: 2024-01-08\\nSymbol: WILK\\nCompany: Kramer Ltd\\nSector: Finance\\nOpen: 648.72\\nHigh: 654.62\\nLow: 640.66\\nClose: 641.64\\nVolume: 813785\\nValue: 522157007.4'),\n",
       " Document(id='c902ae84-a949-4e47-bfa8-12036c61e979', metadata={'source': 'Moreno-Wagner', 'row': 89}, page_content='Date: 2024-01-08\\nSymbol: WYAT\\nCompany: Moreno-Wagner\\nSector: Healthcare\\nOpen: 411.74\\nHigh: 414.29\\nLow: 396.65\\nClose: 399.78\\nVolume: 710047\\nValue: 283862589.66'),\n",
       " Document(id='d35be959-dac2-4855-9d63-af8236d04bab', metadata={'source': 'Stevens-Brown', 'row': 90}, page_content='Date: 2024-01-09\\nSymbol: BEAR\\nCompany: Stevens-Brown\\nSector: Technology\\nOpen: 335.97\\nHigh: 363.37\\nLow: 332.91\\nClose: 362.04\\nVolume: 906560\\nValue: 328210982.4'),\n",
       " Document(id='db7f4ff3-1e16-423e-988f-d143ac3d0e37', metadata={'source': 'Hill LLC', 'row': 91}, page_content='Date: 2024-01-09\\nSymbol: BLAN\\nCompany: Hill LLC\\nSector: Consumer\\nOpen: 749.62\\nHigh: 756.6\\nLow: 745.03\\nClose: 755.62\\nVolume: 443079\\nValue: 334799353.98'),\n",
       " Document(id='01bd602e-a435-4866-9a6a-96a849f7b935', metadata={'source': 'Smith, Johnson and Mendoza', 'row': 92}, page_content='Date: 2024-01-09\\nSymbol: COLE\\nCompany: Smith, Johnson and Mendoza\\nSector: Consumer\\nOpen: 820.4\\nHigh: 825.2\\nLow: 800.88\\nClose: 802.97\\nVolume: 638419\\nValue: 512631304.43'),\n",
       " Document(id='859c2427-977a-407e-8b22-c362fff1c7ae', metadata={'source': 'Nichols, Ward and Miller', 'row': 93}, page_content='Date: 2024-01-09\\nSymbol: CUNN\\nCompany: Nichols, Ward and Miller\\nSector: Consumer\\nOpen: 439.83\\nHigh: 447.11\\nLow: 438.74\\nClose: 443.95\\nVolume: 624986\\nValue: 277462534.7'),\n",
       " Document(id='0ea5c45b-b061-448a-9812-e0ac5f69656a', metadata={'source': 'Parker-Taylor', 'row': 94}, page_content='Date: 2024-01-09\\nSymbol: DAVI\\nCompany: Parker-Taylor\\nSector: Healthcare\\nOpen: 458.88\\nHigh: 459.45\\nLow: 432.28\\nClose: 434.35\\nVolume: 1130579\\nValue: 491066988.65'),\n",
       " Document(id='f3a87d5b-bde9-4a7f-ac3d-69bb73cc9799', metadata={'source': 'Molina, Ortiz and Rogers', 'row': 95}, page_content='Date: 2024-01-09\\nSymbol: GILM\\nCompany: Molina, Ortiz and Rogers\\nSector: Technology\\nOpen: 107.75\\nHigh: 114.13\\nLow: 107.36\\nClose: 114.03\\nVolume: 84241\\nValue: 9606001.23'),\n",
       " Document(id='347a89ca-64e2-4045-9a58-4b8467da74d3', metadata={'source': 'Wood, Hutchinson and Hernandez', 'row': 96}, page_content='Date: 2024-01-09\\nSymbol: GUTI\\nCompany: Wood, Hutchinson and Hernandez\\nSector: Finance\\nOpen: 704.96\\nHigh: 705.31\\nLow: 698.55\\nClose: 704.63\\nVolume: 1000\\nValue: 704630.0'),\n",
       " Document(id='4989bbd4-6cbe-4171-b955-87e6176ff122', metadata={'source': 'Key, Santiago and Costa', 'row': 97}, page_content='Date: 2024-01-09\\nSymbol: HERR\\nCompany: Key, Santiago and Costa\\nSector: Healthcare\\nOpen: 596.99\\nHigh: 607.02\\nLow: 594.01\\nClose: 605.83\\nVolume: 417292\\nValue: 252808012.36'),\n",
       " Document(id='c572a5b2-ba08-4286-b21a-0cba6b2cc133', metadata={'source': 'Kim and Sons', 'row': 98}, page_content='Date: 2024-01-09\\nSymbol: MILL\\nCompany: Kim and Sons\\nSector: Finance\\nOpen: 333.86\\nHigh: 336.42\\nLow: 317.51\\nClose: 320.65\\nVolume: 651261\\nValue: 208826839.65'),\n",
       " Document(id='9f7015f9-3427-4b9c-bd44-da8f4e8b5b75', metadata={'source': 'Deleon-Oliver', 'row': 99}, page_content='Date: 2024-01-09\\nSymbol: MITC\\nCompany: Deleon-Oliver\\nSector: Finance\\nOpen: 357.82\\nHigh: 363.2\\nLow: 355.91\\nClose: 361.34\\nVolume: 452258\\nValue: 163418905.72'),\n",
       " Document(id='52a4ff6c-f02f-4c65-b27c-127ddfc70fb3', metadata={'source': 'Petersen-Ali', 'row': 100}, page_content='Date: 2024-01-09\\nSymbol: MOOR\\nCompany: Petersen-Ali\\nSector: Healthcare\\nOpen: 1016.9\\nHigh: 1042.85\\nLow: 1014.88\\nClose: 1037.52\\nVolume: 1013295\\nValue: 1051313828.4'),\n",
       " Document(id='28197504-9fc4-4104-9097-0a99429b1d10', metadata={'source': 'Chavez, Adams and Johnson', 'row': 101}, page_content='Date: 2024-01-09\\nSymbol: SANT\\nCompany: Chavez, Adams and Johnson\\nSector: Energy\\nOpen: 657.5\\nHigh: 670.46\\nLow: 652.87\\nClose: 666.84\\nVolume: 1054428\\nValue: 703134767.52'),\n",
       " Document(id='8e0e8012-b8d2-4719-b522-79f505a67e69', metadata={'source': 'Walsh, Keller and Pearson', 'row': 102}, page_content='Date: 2024-01-09\\nSymbol: VELA\\nCompany: Walsh, Keller and Pearson\\nSector: Finance\\nOpen: 30.12\\nHigh: 30.74\\nLow: 30.1\\nClose: 30.54\\nVolume: 782335\\nValue: 23892510.9'),\n",
       " Document(id='ab1cdd50-0ab3-436b-a889-90870e024bd8', metadata={'source': 'Kramer Ltd', 'row': 103}, page_content='Date: 2024-01-09\\nSymbol: WILK\\nCompany: Kramer Ltd\\nSector: Finance\\nOpen: 643.65\\nHigh: 651.86\\nLow: 642.79\\nClose: 651.61\\nVolume: 811802\\nValue: 528978301.22'),\n",
       " Document(id='dbdba8fb-0484-4b47-8f01-9041e61d43c9', metadata={'source': 'Moreno-Wagner', 'row': 104}, page_content='Date: 2024-01-09\\nSymbol: WYAT\\nCompany: Moreno-Wagner\\nSector: Healthcare\\nOpen: 397.87\\nHigh: 414.96\\nLow: 395.67\\nClose: 414.63\\nVolume: 870815\\nValue: 361066023.45'),\n",
       " Document(id='253518a2-4343-4b7b-966f-ade56889f092', metadata={'source': 'Stevens-Brown', 'row': 105}, page_content='Date: 2024-01-10\\nSymbol: BEAR\\nCompany: Stevens-Brown\\nSector: Technology\\nOpen: 359.33\\nHigh: 374.03\\nLow: 358.26\\nClose: 370.66\\nVolume: 714433\\nValue: 264811735.78'),\n",
       " Document(id='9e770f6b-a84b-4872-81be-8034663cdfa8', metadata={'source': 'Hill LLC', 'row': 106}, page_content='Date: 2024-01-10\\nSymbol: BLAN\\nCompany: Hill LLC\\nSector: Consumer\\nOpen: 750.0\\nHigh: 762.08\\nLow: 746.95\\nClose: 761.4\\nVolume: 883365\\nValue: 672594111.0'),\n",
       " Document(id='6b75950d-79aa-4851-8f96-a29034a87041', metadata={'source': 'Smith, Johnson and Mendoza', 'row': 107}, page_content='Date: 2024-01-10\\nSymbol: COLE\\nCompany: Smith, Johnson and Mendoza\\nSector: Consumer\\nOpen: 800.22\\nHigh: 802.15\\nLow: 786.99\\nClose: 788.13\\nVolume: 370897\\nValue: 292315052.61'),\n",
       " Document(id='e74acb94-cc04-491d-8f9d-33b852d9f846', metadata={'source': 'Nichols, Ward and Miller', 'row': 108}, page_content='Date: 2024-01-10\\nSymbol: CUNN\\nCompany: Nichols, Ward and Miller\\nSector: Consumer\\nOpen: 445.73\\nHigh: 449.22\\nLow: 444.8\\nClose: 448.9\\nVolume: 762745\\nValue: 342396230.5'),\n",
       " Document(id='e81e35b5-fcf2-4a5d-bbab-881cdfb7ace9', metadata={'source': 'Parker-Taylor', 'row': 109}, page_content='Date: 2024-01-10\\nSymbol: DAVI\\nCompany: Parker-Taylor\\nSector: Healthcare\\nOpen: 438.6\\nHigh: 440.88\\nLow: 421.56\\nClose: 422.05\\nVolume: 615087\\nValue: 259597468.35'),\n",
       " Document(id='9e37fa88-658b-4515-bbb9-aa59ef5dcee9', metadata={'source': 'Molina, Ortiz and Rogers', 'row': 110}, page_content='Date: 2024-01-10\\nSymbol: GILM\\nCompany: Molina, Ortiz and Rogers\\nSector: Technology\\nOpen: 113.29\\nHigh: 113.55\\nLow: 110.09\\nClose: 110.98\\nVolume: 563883\\nValue: 62579735.34'),\n",
       " Document(id='3d2276f6-b190-4356-a904-8f1b93119764', metadata={'source': 'Wood, Hutchinson and Hernandez', 'row': 111}, page_content='Date: 2024-01-10\\nSymbol: GUTI\\nCompany: Wood, Hutchinson and Hernandez\\nSector: Finance\\nOpen: 705.28\\nHigh: 709.11\\nLow: 698.2\\nClose: 702.58\\nVolume: 700440\\nValue: 492115135.2'),\n",
       " Document(id='afe7b435-e325-440a-98e8-2c9b876477d5', metadata={'source': 'Key, Santiago and Costa', 'row': 112}, page_content='Date: 2024-01-10\\nSymbol: HERR\\nCompany: Key, Santiago and Costa\\nSector: Healthcare\\nOpen: 608.44\\nHigh: 614.04\\nLow: 583.73\\nClose: 585.93\\nVolume: 533456\\nValue: 312567874.08'),\n",
       " Document(id='b4777cff-a03a-45f7-861c-fc3e2558d8b3', metadata={'source': 'Kim and Sons', 'row': 113}, page_content='Date: 2024-01-10\\nSymbol: MILL\\nCompany: Kim and Sons\\nSector: Finance\\nOpen: 320.95\\nHigh: 323.3\\nLow: 317.97\\nClose: 319.14\\nVolume: 618147\\nValue: 197275433.58'),\n",
       " Document(id='ab8e91ca-0bd1-4d28-9923-d5adc63b96e0', metadata={'source': 'Deleon-Oliver', 'row': 114}, page_content='Date: 2024-01-10\\nSymbol: MITC\\nCompany: Deleon-Oliver\\nSector: Finance\\nOpen: 362.02\\nHigh: 371.29\\nLow: 359.4\\nClose: 368.49\\nVolume: 726553\\nValue: 267727514.97'),\n",
       " Document(id='162bf376-4181-468f-bf8b-87bc9df8cddb', metadata={'source': 'Petersen-Ali', 'row': 115}, page_content='Date: 2024-01-10\\nSymbol: MOOR\\nCompany: Petersen-Ali\\nSector: Healthcare\\nOpen: 1036.67\\nHigh: 1040.25\\nLow: 1016.7\\nClose: 1016.78\\nVolume: 480165\\nValue: 488222168.7'),\n",
       " Document(id='40d6f485-9af5-4a58-a4b9-eea78f27d1d7', metadata={'source': 'Chavez, Adams and Johnson', 'row': 116}, page_content='Date: 2024-01-10\\nSymbol: SANT\\nCompany: Chavez, Adams and Johnson\\nSector: Energy\\nOpen: 673.33\\nHigh: 677.52\\nLow: 657.23\\nClose: 662.76\\nVolume: 275390\\nValue: 182517476.4'),\n",
       " Document(id='d825cc2a-7110-4d1e-9dfe-827a34dc8694', metadata={'source': 'Walsh, Keller and Pearson', 'row': 117}, page_content='Date: 2024-01-10\\nSymbol: VELA\\nCompany: Walsh, Keller and Pearson\\nSector: Finance\\nOpen: 30.71\\nHigh: 30.9\\nLow: 29.52\\nClose: 29.7\\nVolume: 944586\\nValue: 28054204.2'),\n",
       " Document(id='d67d936a-986a-4fa6-935d-35e28c5dc64f', metadata={'source': 'Kramer Ltd', 'row': 118}, page_content='Date: 2024-01-10\\nSymbol: WILK\\nCompany: Kramer Ltd\\nSector: Finance\\nOpen: 649.8\\nHigh: 654.55\\nLow: 640.18\\nClose: 641.31\\nVolume: 548765\\nValue: 351928482.15'),\n",
       " Document(id='d4cef307-0063-447f-81fa-b0b9b338883a', metadata={'source': 'Moreno-Wagner', 'row': 119}, page_content='Date: 2024-01-10\\nSymbol: WYAT\\nCompany: Moreno-Wagner\\nSector: Healthcare\\nOpen: 413.75\\nHigh: 414.74\\nLow: 391.41\\nClose: 393.05\\nVolume: 1180123\\nValue: 463847345.15'),\n",
       " Document(id='d836bf54-a856-4dc6-a651-2c7c0965bda5', metadata={'source': 'Stevens-Brown', 'row': 120}, page_content='Date: 2024-01-11\\nSymbol: BEAR\\nCompany: Stevens-Brown\\nSector: Technology\\nOpen: 373.91\\nHigh: 391.12\\nLow: 371.26\\nClose: 388.14\\nVolume: 789262\\nValue: 306344152.68'),\n",
       " Document(id='c646c8a8-af10-4915-8a17-84d0d2d94027', metadata={'source': 'Hill LLC', 'row': 121}, page_content='Date: 2024-01-11\\nSymbol: BLAN\\nCompany: Hill LLC\\nSector: Consumer\\nOpen: 768.06\\nHigh: 772.37\\nLow: 749.76\\nClose: 754.98\\nVolume: 675457\\nValue: 509956525.86'),\n",
       " Document(id='2198c111-d8df-40a4-b8c6-0b0eb158ba1b', metadata={'source': 'Smith, Johnson and Mendoza', 'row': 122}, page_content='Date: 2024-01-11\\nSymbol: COLE\\nCompany: Smith, Johnson and Mendoza\\nSector: Consumer\\nOpen: 789.47\\nHigh: 796.03\\nLow: 786.85\\nClose: 793.72\\nVolume: 52198\\nValue: 41430596.56'),\n",
       " Document(id='dcc2aeaa-4a6e-4717-ad76-39a409b0e4cb', metadata={'source': 'Nichols, Ward and Miller', 'row': 123}, page_content='Date: 2024-01-11\\nSymbol: CUNN\\nCompany: Nichols, Ward and Miller\\nSector: Consumer\\nOpen: 452.24\\nHigh: 455.44\\nLow: 448.41\\nClose: 455.32\\nVolume: 707527\\nValue: 322151193.64'),\n",
       " Document(id='87c1c752-8ed9-4dfb-844d-cea696205a4f', metadata={'source': 'Parker-Taylor', 'row': 124}, page_content='Date: 2024-01-11\\nSymbol: DAVI\\nCompany: Parker-Taylor\\nSector: Healthcare\\nOpen: 421.65\\nHigh: 454.19\\nLow: 420.29\\nClose: 451.39\\nVolume: 1228920\\nValue: 554722198.8'),\n",
       " Document(id='de124a85-33a4-4b91-a6d7-6d888a7bb916', metadata={'source': 'Molina, Ortiz and Rogers', 'row': 125}, page_content='Date: 2024-01-11\\nSymbol: GILM\\nCompany: Molina, Ortiz and Rogers\\nSector: Technology\\nOpen: 110.78\\nHigh: 111.06\\nLow: 106.83\\nClose: 106.93\\nVolume: 1087597\\nValue: 116296747.21'),\n",
       " Document(id='c4f4010c-09d5-48d4-8971-ba76328095dd', metadata={'source': 'Wood, Hutchinson and Hernandez', 'row': 126}, page_content='Date: 2024-01-11\\nSymbol: GUTI\\nCompany: Wood, Hutchinson and Hernandez\\nSector: Finance\\nOpen: 704.7\\nHigh: 712.25\\nLow: 699.98\\nClose: 707.25\\nVolume: 604521\\nValue: 427547477.25'),\n",
       " Document(id='403cfe17-9f9c-4f4c-bdb3-937d6a4162aa', metadata={'source': 'Key, Santiago and Costa', 'row': 127}, page_content='Date: 2024-01-11\\nSymbol: HERR\\nCompany: Key, Santiago and Costa\\nSector: Healthcare\\nOpen: 583.82\\nHigh: 593.42\\nLow: 578.35\\nClose: 589.35\\nVolume: 606824\\nValue: 357631724.4'),\n",
       " Document(id='2cdf6413-426a-45e3-a08e-b0298b816327', metadata={'source': 'Kim and Sons', 'row': 128}, page_content='Date: 2024-01-11\\nSymbol: MILL\\nCompany: Kim and Sons\\nSector: Finance\\nOpen: 318.68\\nHigh: 321.44\\nLow: 306.74\\nClose: 309.51\\nVolume: 368943\\nValue: 114191547.93'),\n",
       " Document(id='7313d53c-1712-4cb0-804b-87abe3b7fc04', metadata={'source': 'Deleon-Oliver', 'row': 129}, page_content='Date: 2024-01-11\\nSymbol: MITC\\nCompany: Deleon-Oliver\\nSector: Finance\\nOpen: 371.99\\nHigh: 372.96\\nLow: 368.7\\nClose: 372.57\\nVolume: 373230\\nValue: 139054301.1'),\n",
       " Document(id='e75a5e57-3454-4a89-b563-30338f4e7ca7', metadata={'source': 'Petersen-Ali', 'row': 130}, page_content='Date: 2024-01-11\\nSymbol: MOOR\\nCompany: Petersen-Ali\\nSector: Healthcare\\nOpen: 1021.69\\nHigh: 1025.9\\nLow: 995.7\\nClose: 997.56\\nVolume: 75737\\nValue: 75552201.72'),\n",
       " Document(id='e315c9fe-ab36-4cf3-89f4-edd75b3dd469', metadata={'source': 'Chavez, Adams and Johnson', 'row': 131}, page_content='Date: 2024-01-11\\nSymbol: SANT\\nCompany: Chavez, Adams and Johnson\\nSector: Energy\\nOpen: 659.5\\nHigh: 662.04\\nLow: 657.26\\nClose: 661.79\\nVolume: 201575\\nValue: 133400319.25'),\n",
       " Document(id='f0c65d44-5e00-4adf-9a07-bddb96575103', metadata={'source': 'Walsh, Keller and Pearson', 'row': 132}, page_content='Date: 2024-01-11\\nSymbol: VELA\\nCompany: Walsh, Keller and Pearson\\nSector: Finance\\nOpen: 29.67\\nHigh: 29.87\\nLow: 28.93\\nClose: 29.19\\nVolume: 668433\\nValue: 19511559.27'),\n",
       " Document(id='f8d3e846-ae1a-443f-a36b-06b1a7b5d184', metadata={'source': 'Kramer Ltd', 'row': 133}, page_content='Date: 2024-01-11\\nSymbol: WILK\\nCompany: Kramer Ltd\\nSector: Finance\\nOpen: 640.72\\nHigh: 648.95\\nLow: 639.36\\nClose: 647.64\\nVolume: 471208\\nValue: 305173149.12'),\n",
       " Document(id='17ab3045-1c58-4e8b-a4aa-32dc17c3fcd3', metadata={'source': 'Moreno-Wagner', 'row': 134}, page_content='Date: 2024-01-11\\nSymbol: WYAT\\nCompany: Moreno-Wagner\\nSector: Healthcare\\nOpen: 395.97\\nHigh: 400.44\\nLow: 394.12\\nClose: 397.27\\nVolume: 553506\\nValue: 219891328.62'),\n",
       " Document(id='11e21a8d-e2e7-49a6-908b-13c0cc4716ab', metadata={'source': 'Stevens-Brown', 'row': 135}, page_content='Date: 2024-01-12\\nSymbol: BEAR\\nCompany: Stevens-Brown\\nSector: Technology\\nOpen: 389.69\\nHigh: 391.46\\nLow: 380.26\\nClose: 383.08\\nVolume: 877239\\nValue: 336052716.12'),\n",
       " Document(id='b3efd611-276f-4971-a0d2-1aaaffce06e4', metadata={'source': 'Hill LLC', 'row': 136}, page_content='Date: 2024-01-12\\nSymbol: BLAN\\nCompany: Hill LLC\\nSector: Consumer\\nOpen: 752.8\\nHigh: 765.8\\nLow: 745.95\\nClose: 759.56\\nVolume: 610450\\nValue: 463673402.0'),\n",
       " Document(id='de93f54b-5d9d-4c85-98b3-8302d1775ce6', metadata={'source': 'Smith, Johnson and Mendoza', 'row': 137}, page_content='Date: 2024-01-12\\nSymbol: COLE\\nCompany: Smith, Johnson and Mendoza\\nSector: Consumer\\nOpen: 798.36\\nHigh: 804.28\\nLow: 784.82\\nClose: 785.35\\nVolume: 490020\\nValue: 384837207.0'),\n",
       " Document(id='6c6bd808-3dce-4634-b1ac-45119b109e5b', metadata={'source': 'Nichols, Ward and Miller', 'row': 138}, page_content='Date: 2024-01-12\\nSymbol: CUNN\\nCompany: Nichols, Ward and Miller\\nSector: Consumer\\nOpen: 457.0\\nHigh: 463.1\\nLow: 456.21\\nClose: 459.05\\nVolume: 759562\\nValue: 348676936.1'),\n",
       " Document(id='417863f9-e311-42b0-8340-592a7288400d', metadata={'source': 'Parker-Taylor', 'row': 139}, page_content='Date: 2024-01-12\\nSymbol: DAVI\\nCompany: Parker-Taylor\\nSector: Healthcare\\nOpen: 455.46\\nHigh: 459.46\\nLow: 448.91\\nClose: 453.07\\nVolume: 795352\\nValue: 360350130.64'),\n",
       " Document(id='148666e7-f797-4ae3-bfac-69fe1636e7d1', metadata={'source': 'Molina, Ortiz and Rogers', 'row': 140}, page_content='Date: 2024-01-12\\nSymbol: GILM\\nCompany: Molina, Ortiz and Rogers\\nSector: Technology\\nOpen: 107.38\\nHigh: 107.87\\nLow: 106.17\\nClose: 106.68\\nVolume: 61870\\nValue: 6600291.6'),\n",
       " Document(id='a3733c64-684e-41d9-988d-554cfa859d80', metadata={'source': 'Wood, Hutchinson and Hernandez', 'row': 141}, page_content='Date: 2024-01-12\\nSymbol: GUTI\\nCompany: Wood, Hutchinson and Hernandez\\nSector: Finance\\nOpen: 701.9\\nHigh: 720.75\\nLow: 696.71\\nClose: 716.12\\nVolume: 419342\\nValue: 300299193.04'),\n",
       " Document(id='28a98b4b-7400-41b4-9802-80c822d5b33e', metadata={'source': 'Key, Santiago and Costa', 'row': 142}, page_content='Date: 2024-01-12\\nSymbol: HERR\\nCompany: Key, Santiago and Costa\\nSector: Healthcare\\nOpen: 588.88\\nHigh: 594.24\\nLow: 552.35\\nClose: 557.67\\nVolume: 797571\\nValue: 444781419.57'),\n",
       " Document(id='b7161493-5134-4fa9-b24d-e4b9b9949acb', metadata={'source': 'Kim and Sons', 'row': 143}, page_content='Date: 2024-01-12\\nSymbol: MILL\\nCompany: Kim and Sons\\nSector: Finance\\nOpen: 312.5\\nHigh: 313.84\\nLow: 299.43\\nClose: 301.72\\nVolume: 883509\\nValue: 266572335.48'),\n",
       " Document(id='fefc3701-520f-4dd1-8bee-16d0c960a2b1', metadata={'source': 'Deleon-Oliver', 'row': 144}, page_content='Date: 2024-01-12\\nSymbol: MITC\\nCompany: Deleon-Oliver\\nSector: Finance\\nOpen: 371.12\\nHigh: 383.35\\nLow: 370.76\\nClose: 380.11\\nVolume: 946925\\nValue: 359935661.75'),\n",
       " Document(id='48ddd28a-31ea-4a81-b91a-4c8624a9179b', metadata={'source': 'Petersen-Ali', 'row': 145}, page_content='Date: 2024-01-12\\nSymbol: MOOR\\nCompany: Petersen-Ali\\nSector: Healthcare\\nOpen: 1006.59\\nHigh: 1011.79\\nLow: 991.2\\nClose: 993.08\\nVolume: 321170\\nValue: 318947503.6'),\n",
       " Document(id='cc4b343a-0af4-42a9-9a26-1803d6dabf4c', metadata={'source': 'Chavez, Adams and Johnson', 'row': 146}, page_content='Date: 2024-01-12\\nSymbol: SANT\\nCompany: Chavez, Adams and Johnson\\nSector: Energy\\nOpen: 663.12\\nHigh: 668.89\\nLow: 662.9\\nClose: 663.99\\nVolume: 602672\\nValue: 400168181.28'),\n",
       " Document(id='73c90505-f4ca-47c2-98f2-4a6d2edad6b3', metadata={'source': 'Walsh, Keller and Pearson', 'row': 147}, page_content='Date: 2024-01-12\\nSymbol: VELA\\nCompany: Walsh, Keller and Pearson\\nSector: Finance\\nOpen: 29.38\\nHigh: 29.44\\nLow: 28.64\\nClose: 28.77\\nVolume: 533354\\nValue: 15344594.58'),\n",
       " Document(id='3e50fe70-f311-429b-bd2b-6efe75913519', metadata={'source': 'Kramer Ltd', 'row': 148}, page_content='Date: 2024-01-12\\nSymbol: WILK\\nCompany: Kramer Ltd\\nSector: Finance\\nOpen: 647.23\\nHigh: 651.22\\nLow: 625.37\\nClose: 630.92\\nVolume: 1019264\\nValue: 643074042.88'),\n",
       " Document(id='0e6cdd1f-e4ff-4de8-b78a-a4004e04a3e1', metadata={'source': 'Moreno-Wagner', 'row': 149}, page_content='Date: 2024-01-12\\nSymbol: WYAT\\nCompany: Moreno-Wagner\\nSector: Healthcare\\nOpen: 398.6\\nHigh: 402.23\\nLow: 395.3\\nClose: 401.96\\nVolume: 401099\\nValue: 161225754.04'),\n",
       " Document(id='1824c240-2376-4ec4-9d10-637393a251e1', metadata={'source': 'Stevens-Brown', 'row': 150}, page_content='Date: 2024-01-15\\nSymbol: BEAR\\nCompany: Stevens-Brown\\nSector: Technology\\nOpen: 379.48\\nHigh: 388.02\\nLow: 378.44\\nClose: 387.36\\nVolume: 569042\\nValue: 220424109.12'),\n",
       " Document(id='5f64e18f-f0c5-46ff-8133-30c54a24c406', metadata={'source': 'Hill LLC', 'row': 151}, page_content='Date: 2024-01-15\\nSymbol: BLAN\\nCompany: Hill LLC\\nSector: Consumer\\nOpen: 757.51\\nHigh: 773.89\\nLow: 750.45\\nClose: 771.63\\nVolume: 326928\\nValue: 252267452.64'),\n",
       " Document(id='34f08ae4-191e-4197-9c6c-1e79d61784ed', metadata={'source': 'Smith, Johnson and Mendoza', 'row': 152}, page_content='Date: 2024-01-15\\nSymbol: COLE\\nCompany: Smith, Johnson and Mendoza\\nSector: Consumer\\nOpen: 778.04\\nHigh: 796.12\\nLow: 777.67\\nClose: 793.24\\nVolume: 634059\\nValue: 502960961.16'),\n",
       " Document(id='8d0d8315-afcf-4b1b-b420-7829c5764fb2', metadata={'source': 'Nichols, Ward and Miller', 'row': 153}, page_content='Date: 2024-01-15\\nSymbol: CUNN\\nCompany: Nichols, Ward and Miller\\nSector: Consumer\\nOpen: 458.54\\nHigh: 459.22\\nLow: 455.72\\nClose: 458.06\\nVolume: 774554\\nValue: 354792205.24'),\n",
       " Document(id='5e7ac3a1-1f37-4f6a-89b4-858e9bbd0398', metadata={'source': 'Parker-Taylor', 'row': 154}, page_content='Date: 2024-01-15\\nSymbol: DAVI\\nCompany: Parker-Taylor\\nSector: Healthcare\\nOpen: 450.22\\nHigh: 462.41\\nLow: 446.34\\nClose: 461.7\\nVolume: 392962\\nValue: 181430555.4'),\n",
       " Document(id='0a644603-db57-44dc-99ca-18f1cfca6d84', metadata={'source': 'Molina, Ortiz and Rogers', 'row': 155}, page_content='Date: 2024-01-15\\nSymbol: GILM\\nCompany: Molina, Ortiz and Rogers\\nSector: Technology\\nOpen: 107.07\\nHigh: 109.7\\nLow: 106.83\\nClose: 108.63\\nVolume: 1021074\\nValue: 110919268.62'),\n",
       " Document(id='9184135c-d052-48d8-b6b1-b52f219f1a3f', metadata={'source': 'Wood, Hutchinson and Hernandez', 'row': 156}, page_content='Date: 2024-01-15\\nSymbol: GUTI\\nCompany: Wood, Hutchinson and Hernandez\\nSector: Finance\\nOpen: 715.08\\nHigh: 731.77\\nLow: 710.41\\nClose: 726.33\\nVolume: 499277\\nValue: 362639863.41'),\n",
       " Document(id='d8ccf37e-9f29-4826-9300-0aefc11fc358', metadata={'source': 'Key, Santiago and Costa', 'row': 157}, page_content='Date: 2024-01-15\\nSymbol: HERR\\nCompany: Key, Santiago and Costa\\nSector: Healthcare\\nOpen: 558.64\\nHigh: 561.56\\nLow: 535.01\\nClose: 540.28\\nVolume: 317928\\nValue: 171770139.84'),\n",
       " Document(id='dbc1d3a2-d46e-4d7e-baab-817fe8be3e22', metadata={'source': 'Kim and Sons', 'row': 158}, page_content='Date: 2024-01-15\\nSymbol: MILL\\nCompany: Kim and Sons\\nSector: Finance\\nOpen: 303.18\\nHigh: 304.75\\nLow: 298.69\\nClose: 299.15\\nVolume: 687000\\nValue: 205516050.0'),\n",
       " Document(id='677c5cfd-0316-42f0-9d86-2be06faa933c', metadata={'source': 'Deleon-Oliver', 'row': 159}, page_content='Date: 2024-01-15\\nSymbol: MITC\\nCompany: Deleon-Oliver\\nSector: Finance\\nOpen: 377.94\\nHigh: 387.03\\nLow: 374.39\\nClose: 385.7\\nVolume: 640280\\nValue: 246955996.0'),\n",
       " Document(id='67551d3f-5600-415b-9418-1abf8e7135ec', metadata={'source': 'Petersen-Ali', 'row': 160}, page_content='Date: 2024-01-15\\nSymbol: MOOR\\nCompany: Petersen-Ali\\nSector: Healthcare\\nOpen: 985.61\\nHigh: 1003.48\\nLow: 978.35\\nClose: 995.67\\nVolume: 675958\\nValue: 673031101.86'),\n",
       " Document(id='b7cd8257-1509-4ed3-8e07-40b02219f6ed', metadata={'source': 'Chavez, Adams and Johnson', 'row': 161}, page_content='Date: 2024-01-15\\nSymbol: SANT\\nCompany: Chavez, Adams and Johnson\\nSector: Energy\\nOpen: 662.06\\nHigh: 675.82\\nLow: 657.15\\nClose: 670.77\\nVolume: 438319\\nValue: 294011235.63'),\n",
       " Document(id='17813b28-6726-4d1d-a153-6381c1522898', metadata={'source': 'Walsh, Keller and Pearson', 'row': 162}, page_content='Date: 2024-01-15\\nSymbol: VELA\\nCompany: Walsh, Keller and Pearson\\nSector: Finance\\nOpen: 28.53\\nHigh: 28.76\\nLow: 28.18\\nClose: 28.46\\nVolume: 479152\\nValue: 13636665.92'),\n",
       " Document(id='b39e5807-8adb-412c-9ab9-c2c59cfe60f5', metadata={'source': 'Kramer Ltd', 'row': 163}, page_content='Date: 2024-01-15\\nSymbol: WILK\\nCompany: Kramer Ltd\\nSector: Finance\\nOpen: 636.46\\nHigh: 642.08\\nLow: 617.94\\nClose: 622.54\\nVolume: 685669\\nValue: 426856379.26'),\n",
       " Document(id='72b955f9-f394-4e75-8651-070d68775411', metadata={'source': 'Moreno-Wagner', 'row': 164}, page_content='Date: 2024-01-15\\nSymbol: WYAT\\nCompany: Moreno-Wagner\\nSector: Healthcare\\nOpen: 404.26\\nHigh: 408.75\\nLow: 401.71\\nClose: 407.85\\nVolume: 837430\\nValue: 341545825.5'),\n",
       " Document(id='e616d07c-7c8e-420e-883a-53d9aa89ecdd', metadata={'source': 'Stevens-Brown', 'row': 165}, page_content='Date: 2024-01-16\\nSymbol: BEAR\\nCompany: Stevens-Brown\\nSector: Technology\\nOpen: 390.25\\nHigh: 407.34\\nLow: 389.17\\nClose: 403.55\\nVolume: 770632\\nValue: 310988543.6'),\n",
       " Document(id='3f7b92d8-ce51-416f-8d6d-43d9de7e2836', metadata={'source': 'Hill LLC', 'row': 166}, page_content='Date: 2024-01-16\\nSymbol: BLAN\\nCompany: Hill LLC\\nSector: Consumer\\nOpen: 773.02\\nHigh: 786.86\\nLow: 770.67\\nClose: 780.26\\nVolume: 898187\\nValue: 700819388.62'),\n",
       " Document(id='f94e1cec-994d-458c-8e3c-13dbd8d4ad30', metadata={'source': 'Smith, Johnson and Mendoza', 'row': 167}, page_content='Date: 2024-01-16\\nSymbol: COLE\\nCompany: Smith, Johnson and Mendoza\\nSector: Consumer\\nOpen: 791.56\\nHigh: 797.66\\nLow: 748.85\\nClose: 754.12\\nVolume: 949692\\nValue: 716181731.04'),\n",
       " Document(id='8f05462f-2dcf-4c31-a8e1-6fdd14d52335', metadata={'source': 'Nichols, Ward and Miller', 'row': 168}, page_content='Date: 2024-01-16\\nSymbol: CUNN\\nCompany: Nichols, Ward and Miller\\nSector: Consumer\\nOpen: 456.51\\nHigh: 457.03\\nLow: 452.72\\nClose: 452.93\\nVolume: 393623\\nValue: 178283665.39'),\n",
       " Document(id='80c5dffa-4d72-4c28-828c-5389887b4f51', metadata={'source': 'Parker-Taylor', 'row': 169}, page_content='Date: 2024-01-16\\nSymbol: DAVI\\nCompany: Parker-Taylor\\nSector: Healthcare\\nOpen: 464.0\\nHigh: 467.75\\nLow: 452.63\\nClose: 452.68\\nVolume: 393387\\nValue: 178078427.16'),\n",
       " Document(id='efc13e09-3b11-49b5-9344-f4b658579a8e', metadata={'source': 'Molina, Ortiz and Rogers', 'row': 170}, page_content='Date: 2024-01-16\\nSymbol: GILM\\nCompany: Molina, Ortiz and Rogers\\nSector: Technology\\nOpen: 109.32\\nHigh: 110.6\\nLow: 109.12\\nClose: 109.8\\nVolume: 411713\\nValue: 45206087.4'),\n",
       " Document(id='59ae17d5-59fd-48bc-82a8-4973cf508bd0', metadata={'source': 'Wood, Hutchinson and Hernandez', 'row': 171}, page_content='Date: 2024-01-16\\nSymbol: GUTI\\nCompany: Wood, Hutchinson and Hernandez\\nSector: Finance\\nOpen: 719.17\\nHigh: 724.92\\nLow: 701.54\\nClose: 701.93\\nVolume: 613900\\nValue: 430914827.0'),\n",
       " Document(id='dc119e44-40d9-477a-95f0-131d3035aa58', metadata={'source': 'Key, Santiago and Costa', 'row': 172}, page_content='Date: 2024-01-16\\nSymbol: HERR\\nCompany: Key, Santiago and Costa\\nSector: Healthcare\\nOpen: 534.93\\nHigh: 546.11\\nLow: 533.23\\nClose: 541.85\\nVolume: 519311\\nValue: 281388665.35'),\n",
       " Document(id='abcfd358-c8f9-4b98-9331-9f32975f3785', metadata={'source': 'Kim and Sons', 'row': 173}, page_content='Date: 2024-01-16\\nSymbol: MILL\\nCompany: Kim and Sons\\nSector: Finance\\nOpen: 296.32\\nHigh: 302.68\\nLow: 294.74\\nClose: 301.04\\nVolume: 325555\\nValue: 98005077.2'),\n",
       " Document(id='ae0feb82-cf21-41c4-80d6-522c825bf187', metadata={'source': 'Deleon-Oliver', 'row': 174}, page_content='Date: 2024-01-16\\nSymbol: MITC\\nCompany: Deleon-Oliver\\nSector: Finance\\nOpen: 383.79\\nHigh: 390.45\\nLow: 383.6\\nClose: 386.94\\nVolume: 425321\\nValue: 164573707.74'),\n",
       " Document(id='19b95cb2-7f9b-46e0-9977-4d8b329396be', metadata={'source': 'Petersen-Ali', 'row': 175}, page_content='Date: 2024-01-16\\nSymbol: MOOR\\nCompany: Petersen-Ali\\nSector: Healthcare\\nOpen: 989.94\\nHigh: 993.28\\nLow: 978.99\\nClose: 979.75\\nVolume: 771992\\nValue: 756359162.0'),\n",
       " Document(id='19bf2fc1-c6e9-4262-9afc-56658fc76e26', metadata={'source': 'Chavez, Adams and Johnson', 'row': 176}, page_content='Date: 2024-01-16\\nSymbol: SANT\\nCompany: Chavez, Adams and Johnson\\nSector: Energy\\nOpen: 673.78\\nHigh: 681.66\\nLow: 671.32\\nClose: 681.23\\nVolume: 49482\\nValue: 33708622.86'),\n",
       " Document(id='30328c6f-e530-420c-815c-743d26757865', metadata={'source': 'Walsh, Keller and Pearson', 'row': 177}, page_content='Date: 2024-01-16\\nSymbol: VELA\\nCompany: Walsh, Keller and Pearson\\nSector: Finance\\nOpen: 28.27\\nHigh: 30.82\\nLow: 28.25\\nClose: 30.69\\nVolume: 1067233\\nValue: 32753380.77'),\n",
       " Document(id='ff9a9c8c-70b4-45ff-83f5-5ae22ab4acdc', metadata={'source': 'Kramer Ltd', 'row': 178}, page_content='Date: 2024-01-16\\nSymbol: WILK\\nCompany: Kramer Ltd\\nSector: Finance\\nOpen: 625.12\\nHigh: 631.66\\nLow: 619.23\\nClose: 625.65\\nVolume: 500886\\nValue: 313379325.9'),\n",
       " Document(id='a2fd80b4-21d1-4820-8d5b-335e49ef62d3', metadata={'source': 'Moreno-Wagner', 'row': 179}, page_content='Date: 2024-01-16\\nSymbol: WYAT\\nCompany: Moreno-Wagner\\nSector: Healthcare\\nOpen: 406.55\\nHigh: 418.65\\nLow: 402.96\\nClose: 414.96\\nVolume: 60427\\nValue: 25074787.92'),\n",
       " Document(id='be504529-18b1-44d9-a6c9-48713920e6de', metadata={'source': 'Stevens-Brown', 'row': 180}, page_content='Date: 2024-01-17\\nSymbol: BEAR\\nCompany: Stevens-Brown\\nSector: Technology\\nOpen: 401.7\\nHigh: 418.0\\nLow: 398.07\\nClose: 416.46\\nVolume: 623677\\nValue: 259736523.42'),\n",
       " Document(id='42a1f5bf-af5f-4e3b-b1d1-176a16065a57', metadata={'source': 'Hill LLC', 'row': 181}, page_content='Date: 2024-01-17\\nSymbol: BLAN\\nCompany: Hill LLC\\nSector: Consumer\\nOpen: 780.9\\nHigh: 787.76\\nLow: 767.21\\nClose: 769.96\\nVolume: 1153754\\nValue: 888344429.84'),\n",
       " Document(id='a9c2b0de-d116-4fd3-921c-38e22e21dd1b', metadata={'source': 'Smith, Johnson and Mendoza', 'row': 182}, page_content='Date: 2024-01-17\\nSymbol: COLE\\nCompany: Smith, Johnson and Mendoza\\nSector: Consumer\\nOpen: 759.61\\nHigh: 765.07\\nLow: 757.98\\nClose: 763.97\\nVolume: 48647\\nValue: 37164848.59'),\n",
       " Document(id='915c2dcc-ed87-4516-81d3-227a9e896e20', metadata={'source': 'Nichols, Ward and Miller', 'row': 183}, page_content='Date: 2024-01-17\\nSymbol: CUNN\\nCompany: Nichols, Ward and Miller\\nSector: Consumer\\nOpen: 454.38\\nHigh: 455.92\\nLow: 454.1\\nClose: 454.73\\nVolume: 551714\\nValue: 250880907.22'),\n",
       " Document(id='ed1840fa-19d7-40be-9441-2fcd9865d53b', metadata={'source': 'Parker-Taylor', 'row': 184}, page_content='Date: 2024-01-17\\nSymbol: DAVI\\nCompany: Parker-Taylor\\nSector: Healthcare\\nOpen: 452.04\\nHigh: 453.12\\nLow: 423.27\\nClose: 423.77\\nVolume: 985200\\nValue: 417498204.0'),\n",
       " Document(id='5cf619ce-06d9-4c01-a223-ca9e695fe6a2', metadata={'source': 'Molina, Ortiz and Rogers', 'row': 185}, page_content='Date: 2024-01-17\\nSymbol: GILM\\nCompany: Molina, Ortiz and Rogers\\nSector: Technology\\nOpen: 110.87\\nHigh: 111.31\\nLow: 108.7\\nClose: 108.75\\nVolume: 528744\\nValue: 57500910.0'),\n",
       " Document(id='ae3dbfe9-4e0d-481d-a123-03a828259da9', metadata={'source': 'Wood, Hutchinson and Hernandez', 'row': 186}, page_content='Date: 2024-01-17\\nSymbol: GUTI\\nCompany: Wood, Hutchinson and Hernandez\\nSector: Finance\\nOpen: 704.68\\nHigh: 708.71\\nLow: 699.22\\nClose: 702.49\\nVolume: 461959\\nValue: 324521577.91'),\n",
       " Document(id='0b94a792-4b9b-4d6b-b28d-9c9dd7bff8ce', metadata={'source': 'Key, Santiago and Costa', 'row': 187}, page_content='Date: 2024-01-17\\nSymbol: HERR\\nCompany: Key, Santiago and Costa\\nSector: Healthcare\\nOpen: 538.39\\nHigh: 539.79\\nLow: 514.29\\nClose: 514.86\\nVolume: 795155\\nValue: 409393503.3'),\n",
       " Document(id='546b2b92-650d-46a1-87e1-0921037b26b0', metadata={'source': 'Kim and Sons', 'row': 188}, page_content='Date: 2024-01-17\\nSymbol: MILL\\nCompany: Kim and Sons\\nSector: Finance\\nOpen: 300.15\\nHigh: 308.72\\nLow: 299.36\\nClose: 306.3\\nVolume: 877427\\nValue: 268755890.1'),\n",
       " Document(id='ec390416-39cd-43b6-8e23-84c1d7c54384', metadata={'source': 'Deleon-Oliver', 'row': 189}, page_content='Date: 2024-01-17\\nSymbol: MITC\\nCompany: Deleon-Oliver\\nSector: Finance\\nOpen: 385.26\\nHigh: 388.16\\nLow: 383.2\\nClose: 385.68\\nVolume: 517005\\nValue: 199398488.4'),\n",
       " Document(id='90efd304-2cfb-4755-a9c1-a738952d43ed', metadata={'source': 'Petersen-Ali', 'row': 190}, page_content='Date: 2024-01-17\\nSymbol: MOOR\\nCompany: Petersen-Ali\\nSector: Healthcare\\nOpen: 986.47\\nHigh: 989.68\\nLow: 976.16\\nClose: 979.68\\nVolume: 729182\\nValue: 714365021.76'),\n",
       " Document(id='16b7df5b-6cf8-4f64-85dd-36567c6c0d7f', metadata={'source': 'Chavez, Adams and Johnson', 'row': 191}, page_content='Date: 2024-01-17\\nSymbol: SANT\\nCompany: Chavez, Adams and Johnson\\nSector: Energy\\nOpen: 682.51\\nHigh: 687.62\\nLow: 678.29\\nClose: 682.12\\nVolume: 521666\\nValue: 355838811.92'),\n",
       " Document(id='183ceac2-a5e2-49ae-afcb-9ac09acc1bf7', metadata={'source': 'Walsh, Keller and Pearson', 'row': 192}, page_content='Date: 2024-01-17\\nSymbol: VELA\\nCompany: Walsh, Keller and Pearson\\nSector: Finance\\nOpen: 30.55\\nHigh: 31.35\\nLow: 30.32\\nClose: 31.21\\nVolume: 469719\\nValue: 14659929.99'),\n",
       " Document(id='f7ef1815-a185-4c93-bfab-11456c0bafd1', metadata={'source': 'Kramer Ltd', 'row': 193}, page_content='Date: 2024-01-17\\nSymbol: WILK\\nCompany: Kramer Ltd\\nSector: Finance\\nOpen: 630.05\\nHigh: 646.91\\nLow: 628.8\\nClose: 641.54\\nVolume: 517405\\nValue: 331936003.7'),\n",
       " Document(id='bd3ffc29-23a8-4c45-a1dc-39330ac9d798', metadata={'source': 'Moreno-Wagner', 'row': 194}, page_content='Date: 2024-01-17\\nSymbol: WYAT\\nCompany: Moreno-Wagner\\nSector: Healthcare\\nOpen: 413.14\\nHigh: 424.4\\nLow: 413.12\\nClose: 423.15\\nVolume: 623227\\nValue: 263718505.05'),\n",
       " Document(id='323a91f9-d5e3-4026-a658-48e8295f92cf', metadata={'source': 'Stevens-Brown', 'row': 195}, page_content='Date: 2024-01-18\\nSymbol: BEAR\\nCompany: Stevens-Brown\\nSector: Technology\\nOpen: 416.86\\nHigh: 419.63\\nLow: 412.59\\nClose: 413.75\\nVolume: 708500\\nValue: 293141875.0'),\n",
       " Document(id='19dfa340-4658-4b4f-bb98-da37631872e3', metadata={'source': 'Hill LLC', 'row': 196}, page_content='Date: 2024-01-18\\nSymbol: BLAN\\nCompany: Hill LLC\\nSector: Consumer\\nOpen: 773.54\\nHigh: 785.07\\nLow: 767.6\\nClose: 779.05\\nVolume: 190941\\nValue: 148752586.05'),\n",
       " Document(id='c355491f-a6c4-495b-81a1-3eaf621687b8', metadata={'source': 'Smith, Johnson and Mendoza', 'row': 197}, page_content='Date: 2024-01-18\\nSymbol: COLE\\nCompany: Smith, Johnson and Mendoza\\nSector: Consumer\\nOpen: 760.9\\nHigh: 778.54\\nLow: 760.08\\nClose: 776.73\\nVolume: 488778\\nValue: 379648535.94'),\n",
       " Document(id='5629019c-5f8a-4f68-9ffd-6c470590accc', metadata={'source': 'Nichols, Ward and Miller', 'row': 198}, page_content='Date: 2024-01-18\\nSymbol: CUNN\\nCompany: Nichols, Ward and Miller\\nSector: Consumer\\nOpen: 452.27\\nHigh: 454.56\\nLow: 449.66\\nClose: 452.59\\nVolume: 515714\\nValue: 233406999.26'),\n",
       " Document(id='db583f1d-fb89-48d2-a890-962438c7f993', metadata={'source': 'Parker-Taylor', 'row': 199}, page_content='Date: 2024-01-18\\nSymbol: DAVI\\nCompany: Parker-Taylor\\nSector: Healthcare\\nOpen: 425.17\\nHigh: 428.74\\nLow: 409.24\\nClose: 410.48\\nVolume: 902313\\nValue: 370381440.24'),\n",
       " Document(id='cbc6c158-ac20-4340-9446-5b928a6fd5dc', metadata={'source': 'Molina, Ortiz and Rogers', 'row': 200}, page_content='Date: 2024-01-18\\nSymbol: GILM\\nCompany: Molina, Ortiz and Rogers\\nSector: Technology\\nOpen: 108.67\\nHigh: 110.92\\nLow: 108.14\\nClose: 110.17\\nVolume: 304402\\nValue: 33535968.34'),\n",
       " Document(id='2419b3a1-e9c7-4db4-8482-337635ae0d91', metadata={'source': 'Wood, Hutchinson and Hernandez', 'row': 201}, page_content='Date: 2024-01-18\\nSymbol: GUTI\\nCompany: Wood, Hutchinson and Hernandez\\nSector: Finance\\nOpen: 704.32\\nHigh: 719.09\\nLow: 700.06\\nClose: 714.18\\nVolume: 493928\\nValue: 352753499.04'),\n",
       " Document(id='64c12e2b-c732-49a5-b1d4-b2c8e9a436ec', metadata={'source': 'Key, Santiago and Costa', 'row': 202}, page_content='Date: 2024-01-18\\nSymbol: HERR\\nCompany: Key, Santiago and Costa\\nSector: Healthcare\\nOpen: 518.97\\nHigh: 532.47\\nLow: 513.9\\nClose: 530.99\\nVolume: 766665\\nValue: 407091448.35'),\n",
       " Document(id='9aa78741-c120-4a7b-ad4b-882f25a9f67d', metadata={'source': 'Kim and Sons', 'row': 203}, page_content='Date: 2024-01-18\\nSymbol: MILL\\nCompany: Kim and Sons\\nSector: Finance\\nOpen: 306.48\\nHigh: 321.29\\nLow: 305.66\\nClose: 320.45\\nVolume: 834505\\nValue: 267417127.25'),\n",
       " Document(id='51a8b18b-7fb3-4964-b75d-4f82b0a431fd', metadata={'source': 'Deleon-Oliver', 'row': 204}, page_content='Date: 2024-01-18\\nSymbol: MITC\\nCompany: Deleon-Oliver\\nSector: Finance\\nOpen: 387.85\\nHigh: 390.5\\nLow: 386.53\\nClose: 388.66\\nVolume: 546895\\nValue: 212556210.7'),\n",
       " Document(id='fa2607d1-d8b9-465a-b9c8-a84d1cda438a', metadata={'source': 'Petersen-Ali', 'row': 205}, page_content='Date: 2024-01-18\\nSymbol: MOOR\\nCompany: Petersen-Ali\\nSector: Healthcare\\nOpen: 976.65\\nHigh: 989.95\\nLow: 974.0\\nClose: 981.79\\nVolume: 561870\\nValue: 551638347.3'),\n",
       " Document(id='75bc60a1-1e3a-4632-971b-126315a84e9a', metadata={'source': 'Chavez, Adams and Johnson', 'row': 206}, page_content='Date: 2024-01-18\\nSymbol: SANT\\nCompany: Chavez, Adams and Johnson\\nSector: Energy\\nOpen: 682.36\\nHigh: 683.59\\nLow: 679.61\\nClose: 681.75\\nVolume: 543571\\nValue: 370579529.25'),\n",
       " Document(id='dcdeabae-dc39-431e-b4c4-2a8bbaa672b4', metadata={'source': 'Walsh, Keller and Pearson', 'row': 207}, page_content='Date: 2024-01-18\\nSymbol: VELA\\nCompany: Walsh, Keller and Pearson\\nSector: Finance\\nOpen: 30.91\\nHigh: 31.27\\nLow: 30.68\\nClose: 30.97\\nVolume: 698709\\nValue: 21639017.73'),\n",
       " Document(id='ced5e460-a63a-41a4-9c28-695a90397fca', metadata={'source': 'Kramer Ltd', 'row': 208}, page_content='Date: 2024-01-18\\nSymbol: WILK\\nCompany: Kramer Ltd\\nSector: Finance\\nOpen: 640.58\\nHigh: 645.6\\nLow: 640.55\\nClose: 641.86\\nVolume: 953148\\nValue: 611787575.28'),\n",
       " Document(id='41a6b22a-0065-4195-bc45-3a107026150d', metadata={'source': 'Moreno-Wagner', 'row': 209}, page_content='Date: 2024-01-18\\nSymbol: WYAT\\nCompany: Moreno-Wagner\\nSector: Healthcare\\nOpen: 423.52\\nHigh: 426.07\\nLow: 405.4\\nClose: 407.05\\nVolume: 540774\\nValue: 220122056.7'),\n",
       " Document(id='18021f54-a2d1-400d-af91-85911f490f6f', metadata={'source': 'Stevens-Brown', 'row': 210}, page_content='Date: 2024-01-19\\nSymbol: BEAR\\nCompany: Stevens-Brown\\nSector: Technology\\nOpen: 416.13\\nHigh: 427.17\\nLow: 415.11\\nClose: 425.37\\nVolume: 1121035\\nValue: 476854657.95'),\n",
       " Document(id='d75d3aa3-811e-4dc1-bfc3-264a7c37510b', metadata={'source': 'Hill LLC', 'row': 211}, page_content='Date: 2024-01-19\\nSymbol: BLAN\\nCompany: Hill LLC\\nSector: Consumer\\nOpen: 779.67\\nHigh: 785.48\\nLow: 766.8\\nClose: 770.26\\nVolume: 582353\\nValue: 448563221.78'),\n",
       " Document(id='49bdccc8-6f07-42de-ac7a-b12a2515d987', metadata={'source': 'Smith, Johnson and Mendoza', 'row': 212}, page_content='Date: 2024-01-19\\nSymbol: COLE\\nCompany: Smith, Johnson and Mendoza\\nSector: Consumer\\nOpen: 781.77\\nHigh: 782.99\\nLow: 768.84\\nClose: 769.28\\nVolume: 738167\\nValue: 567857109.76'),\n",
       " Document(id='e27dde61-4e1b-4128-bccc-4c13ccde81e9', metadata={'source': 'Nichols, Ward and Miller', 'row': 213}, page_content='Date: 2024-01-19\\nSymbol: CUNN\\nCompany: Nichols, Ward and Miller\\nSector: Consumer\\nOpen: 452.64\\nHigh: 455.28\\nLow: 449.76\\nClose: 453.74\\nVolume: 585299\\nValue: 265573568.26'),\n",
       " Document(id='af380346-b963-417f-ab11-fe2bef0ba86b', metadata={'source': 'Parker-Taylor', 'row': 214}, page_content='Date: 2024-01-19\\nSymbol: DAVI\\nCompany: Parker-Taylor\\nSector: Healthcare\\nOpen: 409.42\\nHigh: 410.98\\nLow: 394.22\\nClose: 397.88\\nVolume: 1027986\\nValue: 409015069.68'),\n",
       " Document(id='8580ea29-3e01-42cf-88ee-030c9864bc31', metadata={'source': 'Molina, Ortiz and Rogers', 'row': 215}, page_content='Date: 2024-01-19\\nSymbol: GILM\\nCompany: Molina, Ortiz and Rogers\\nSector: Technology\\nOpen: 110.59\\nHigh: 117.55\\nLow: 109.92\\nClose: 116.89\\nVolume: 383519\\nValue: 44829535.91'),\n",
       " Document(id='e3073261-b82c-4c17-af0a-fa13bc7690ab', metadata={'source': 'Wood, Hutchinson and Hernandez', 'row': 216}, page_content='Date: 2024-01-19\\nSymbol: GUTI\\nCompany: Wood, Hutchinson and Hernandez\\nSector: Finance\\nOpen: 707.1\\nHigh: 717.61\\nLow: 704.17\\nClose: 714.03\\nVolume: 528985\\nValue: 377711159.55'),\n",
       " Document(id='3f54ae3e-880a-415e-82ed-5b2c505c86c2', metadata={'source': 'Key, Santiago and Costa', 'row': 217}, page_content='Date: 2024-01-19\\nSymbol: HERR\\nCompany: Key, Santiago and Costa\\nSector: Healthcare\\nOpen: 536.0\\nHigh: 543.02\\nLow: 535.88\\nClose: 542.11\\nVolume: 370623\\nValue: 200918434.53'),\n",
       " Document(id='cc530519-9dc2-4046-b060-6611e1257161', metadata={'source': 'Kim and Sons', 'row': 218}, page_content='Date: 2024-01-19\\nSymbol: MILL\\nCompany: Kim and Sons\\nSector: Finance\\nOpen: 321.27\\nHigh: 324.0\\nLow: 315.23\\nClose: 315.68\\nVolume: 598820\\nValue: 189035497.6'),\n",
       " Document(id='e3b5d941-b5b5-49b8-8653-902218331e9f', metadata={'source': 'Deleon-Oliver', 'row': 219}, page_content='Date: 2024-01-19\\nSymbol: MITC\\nCompany: Deleon-Oliver\\nSector: Finance\\nOpen: 390.61\\nHigh: 391.14\\nLow: 379.39\\nClose: 381.42\\nVolume: 918123\\nValue: 350190474.66'),\n",
       " Document(id='8ca64199-ee9b-47cd-8795-b2715aed8cc1', metadata={'source': 'Petersen-Ali', 'row': 220}, page_content='Date: 2024-01-19\\nSymbol: MOOR\\nCompany: Petersen-Ali\\nSector: Healthcare\\nOpen: 977.21\\nHigh: 985.15\\nLow: 965.93\\nClose: 968.89\\nVolume: 333770\\nValue: 323386415.3'),\n",
       " Document(id='e99c8435-fda6-4f12-8d71-dac2e184f74b', metadata={'source': 'Chavez, Adams and Johnson', 'row': 221}, page_content='Date: 2024-01-19\\nSymbol: SANT\\nCompany: Chavez, Adams and Johnson\\nSector: Energy\\nOpen: 685.37\\nHigh: 695.52\\nLow: 680.33\\nClose: 689.18\\nVolume: 457226\\nValue: 315111014.68'),\n",
       " Document(id='0a863eac-26af-4c98-a5ad-42a234f470dd', metadata={'source': 'Walsh, Keller and Pearson', 'row': 222}, page_content='Date: 2024-01-19\\nSymbol: VELA\\nCompany: Walsh, Keller and Pearson\\nSector: Finance\\nOpen: 31.07\\nHigh: 31.31\\nLow: 30.93\\nClose: 31.2\\nVolume: 433744\\nValue: 13532812.8'),\n",
       " Document(id='7757b2a2-f3b3-4a04-8cec-72a971ab772e', metadata={'source': 'Kramer Ltd', 'row': 223}, page_content='Date: 2024-01-19\\nSymbol: WILK\\nCompany: Kramer Ltd\\nSector: Finance\\nOpen: 647.33\\nHigh: 649.84\\nLow: 637.25\\nClose: 639.29\\nVolume: 395598\\nValue: 252901845.42'),\n",
       " Document(id='c5b748e8-546d-4529-9a82-8d41a7774920', metadata={'source': 'Moreno-Wagner', 'row': 224}, page_content='Date: 2024-01-19\\nSymbol: WYAT\\nCompany: Moreno-Wagner\\nSector: Healthcare\\nOpen: 404.82\\nHigh: 422.95\\nLow: 403.27\\nClose: 418.88\\nVolume: 836811\\nValue: 350523391.68'),\n",
       " Document(id='b28d86f5-dcd1-41a2-956c-f3b64b05131e', metadata={'source': 'Stevens-Brown', 'row': 225}, page_content='Date: 2024-01-22\\nSymbol: BEAR\\nCompany: Stevens-Brown\\nSector: Technology\\nOpen: 428.85\\nHigh: 429.58\\nLow: 418.01\\nClose: 419.56\\nVolume: 903491\\nValue: 379068683.96'),\n",
       " Document(id='4e2b04d2-0f36-44dd-a66b-2c8381396270', metadata={'source': 'Hill LLC', 'row': 226}, page_content='Date: 2024-01-22\\nSymbol: BLAN\\nCompany: Hill LLC\\nSector: Consumer\\nOpen: 771.21\\nHigh: 786.35\\nLow: 768.68\\nClose: 781.87\\nVolume: 875278\\nValue: 684353609.86'),\n",
       " Document(id='cd8367c2-4bba-46e1-b9dc-a0fa7e6e7ed6', metadata={'source': 'Smith, Johnson and Mendoza', 'row': 227}, page_content='Date: 2024-01-22\\nSymbol: COLE\\nCompany: Smith, Johnson and Mendoza\\nSector: Consumer\\nOpen: 774.8\\nHigh: 779.65\\nLow: 750.66\\nClose: 752.36\\nVolume: 430801\\nValue: 324117440.36'),\n",
       " Document(id='6e2f0dfc-4bf6-4332-b6db-7c4c187664be', metadata={'source': 'Nichols, Ward and Miller', 'row': 228}, page_content='Date: 2024-01-22\\nSymbol: CUNN\\nCompany: Nichols, Ward and Miller\\nSector: Consumer\\nOpen: 458.13\\nHigh: 467.74\\nLow: 456.35\\nClose: 464.92\\nVolume: 638089\\nValue: 296660337.88'),\n",
       " Document(id='f35b1d3c-d1ca-4bee-9a42-81fefed6efde', metadata={'source': 'Parker-Taylor', 'row': 229}, page_content='Date: 2024-01-22\\nSymbol: DAVI\\nCompany: Parker-Taylor\\nSector: Healthcare\\nOpen: 400.37\\nHigh: 408.69\\nLow: 400.23\\nClose: 406.55\\nVolume: 617112\\nValue: 250886883.6'),\n",
       " Document(id='11b2cc31-c810-4984-bc88-5b0f706e0eec', metadata={'source': 'Molina, Ortiz and Rogers', 'row': 230}, page_content='Date: 2024-01-22\\nSymbol: GILM\\nCompany: Molina, Ortiz and Rogers\\nSector: Technology\\nOpen: 115.94\\nHigh: 116.61\\nLow: 114.19\\nClose: 114.34\\nVolume: 336253\\nValue: 38447168.02'),\n",
       " Document(id='e89592d7-a0cc-4782-a00f-dcc9d1d9988d', metadata={'source': 'Wood, Hutchinson and Hernandez', 'row': 231}, page_content='Date: 2024-01-22\\nSymbol: GUTI\\nCompany: Wood, Hutchinson and Hernandez\\nSector: Finance\\nOpen: 718.21\\nHigh: 725.29\\nLow: 697.27\\nClose: 698.83\\nVolume: 652300\\nValue: 455846809.0'),\n",
       " Document(id='0923fece-6523-4782-9203-003f75dd6253', metadata={'source': 'Key, Santiago and Costa', 'row': 232}, page_content='Date: 2024-01-22\\nSymbol: HERR\\nCompany: Key, Santiago and Costa\\nSector: Healthcare\\nOpen: 538.36\\nHigh: 563.25\\nLow: 533.19\\nClose: 558.02\\nVolume: 550404\\nValue: 307136440.08'),\n",
       " Document(id='bd905e28-6d92-403d-b411-72c0a8bbf43b', metadata={'source': 'Kim and Sons', 'row': 233}, page_content='Date: 2024-01-22\\nSymbol: MILL\\nCompany: Kim and Sons\\nSector: Finance\\nOpen: 314.42\\nHigh: 314.63\\nLow: 310.54\\nClose: 313.18\\nVolume: 716348\\nValue: 224345866.64'),\n",
       " Document(id='441f1727-223f-4feb-9591-b3b9b1077872', metadata={'source': 'Deleon-Oliver', 'row': 234}, page_content='Date: 2024-01-22\\nSymbol: MITC\\nCompany: Deleon-Oliver\\nSector: Finance\\nOpen: 383.43\\nHigh: 384.97\\nLow: 379.16\\nClose: 382.33\\nVolume: 282207\\nValue: 107896202.31'),\n",
       " Document(id='c851534a-7580-4968-a1d9-c29fa34cca01', metadata={'source': 'Petersen-Ali', 'row': 235}, page_content='Date: 2024-01-22\\nSymbol: MOOR\\nCompany: Petersen-Ali\\nSector: Healthcare\\nOpen: 977.85\\nHigh: 1001.6\\nLow: 974.27\\nClose: 1000.89\\nVolume: 269258\\nValue: 269497639.62'),\n",
       " Document(id='8036df33-c7de-4710-9fd0-2c2328f75144', metadata={'source': 'Chavez, Adams and Johnson', 'row': 236}, page_content='Date: 2024-01-22\\nSymbol: SANT\\nCompany: Chavez, Adams and Johnson\\nSector: Energy\\nOpen: 694.48\\nHigh: 699.8\\nLow: 688.43\\nClose: 689.64\\nVolume: 387919\\nValue: 267524459.16'),\n",
       " Document(id='c4b6baae-90b9-4667-95ad-e78bd8ba7e09', metadata={'source': 'Walsh, Keller and Pearson', 'row': 237}, page_content='Date: 2024-01-22\\nSymbol: VELA\\nCompany: Walsh, Keller and Pearson\\nSector: Finance\\nOpen: 30.96\\nHigh: 31.62\\nLow: 30.89\\nClose: 31.5\\nVolume: 1072906\\nValue: 33796539.0'),\n",
       " Document(id='a40e925d-11df-4770-a6e6-789fa1dfdeec', metadata={'source': 'Kramer Ltd', 'row': 238}, page_content='Date: 2024-01-22\\nSymbol: WILK\\nCompany: Kramer Ltd\\nSector: Finance\\nOpen: 634.23\\nHigh: 636.03\\nLow: 618.55\\nClose: 619.44\\nVolume: 916541\\nValue: 567742157.04'),\n",
       " Document(id='397519fa-fc08-4b35-8d32-45e27aae089d', metadata={'source': 'Moreno-Wagner', 'row': 239}, page_content='Date: 2024-01-22\\nSymbol: WYAT\\nCompany: Moreno-Wagner\\nSector: Healthcare\\nOpen: 415.04\\nHigh: 430.09\\nLow: 411.03\\nClose: 427.44\\nVolume: 624624\\nValue: 266989282.56'),\n",
       " Document(id='43fbfacd-b34a-4b6e-9ff9-51e044f53249', metadata={'source': 'Stevens-Brown', 'row': 240}, page_content='Date: 2024-01-23\\nSymbol: BEAR\\nCompany: Stevens-Brown\\nSector: Technology\\nOpen: 417.38\\nHigh: 420.78\\nLow: 414.96\\nClose: 415.03\\nVolume: 347144\\nValue: 144075174.32'),\n",
       " Document(id='11d0adae-47e4-4276-b4cc-c4450f7f697d', metadata={'source': 'Hill LLC', 'row': 241}, page_content='Date: 2024-01-23\\nSymbol: BLAN\\nCompany: Hill LLC\\nSector: Consumer\\nOpen: 779.49\\nHigh: 799.97\\nLow: 774.58\\nClose: 796.57\\nVolume: 352680\\nValue: 280934307.6'),\n",
       " Document(id='0f1b1c73-c8b2-422e-9304-77fe6822d730', metadata={'source': 'Smith, Johnson and Mendoza', 'row': 242}, page_content='Date: 2024-01-23\\nSymbol: COLE\\nCompany: Smith, Johnson and Mendoza\\nSector: Consumer\\nOpen: 752.16\\nHigh: 774.77\\nLow: 749.05\\nClose: 767.43\\nVolume: 742203\\nValue: 569588848.29'),\n",
       " Document(id='dd054bef-051b-4b8b-a0aa-598b0278ecca', metadata={'source': 'Nichols, Ward and Miller', 'row': 243}, page_content='Date: 2024-01-23\\nSymbol: CUNN\\nCompany: Nichols, Ward and Miller\\nSector: Consumer\\nOpen: 466.05\\nHigh: 475.11\\nLow: 461.82\\nClose: 471.88\\nVolume: 918930\\nValue: 433624688.4'),\n",
       " Document(id='ff686d2e-8a57-490c-8d44-fe6840afa4b5', metadata={'source': 'Parker-Taylor', 'row': 244}, page_content='Date: 2024-01-23\\nSymbol: DAVI\\nCompany: Parker-Taylor\\nSector: Healthcare\\nOpen: 408.75\\nHigh: 412.06\\nLow: 401.84\\nClose: 405.47\\nVolume: 572497\\nValue: 232130358.59'),\n",
       " Document(id='fa3fcd97-3b22-4cef-8525-c68cbc87da54', metadata={'source': 'Molina, Ortiz and Rogers', 'row': 245}, page_content='Date: 2024-01-23\\nSymbol: GILM\\nCompany: Molina, Ortiz and Rogers\\nSector: Technology\\nOpen: 115.12\\nHigh: 116.15\\nLow: 114.74\\nClose: 115.8\\nVolume: 301012\\nValue: 34857189.6'),\n",
       " Document(id='31c7952e-65c9-4c61-8503-ef929b74f18f', metadata={'source': 'Wood, Hutchinson and Hernandez', 'row': 246}, page_content='Date: 2024-01-23\\nSymbol: GUTI\\nCompany: Wood, Hutchinson and Hernandez\\nSector: Finance\\nOpen: 694.08\\nHigh: 706.72\\nLow: 693.29\\nClose: 701.01\\nVolume: 286422\\nValue: 200784686.22'),\n",
       " Document(id='6a7be7ec-7429-4501-a957-e9c7e0aefb14', metadata={'source': 'Key, Santiago and Costa', 'row': 247}, page_content='Date: 2024-01-23\\nSymbol: HERR\\nCompany: Key, Santiago and Costa\\nSector: Healthcare\\nOpen: 561.93\\nHigh: 599.77\\nLow: 556.64\\nClose: 597.7\\nVolume: 332801\\nValue: 198915157.7'),\n",
       " Document(id='3430867f-d405-4b7c-86a1-b8b0dde0bd7c', metadata={'source': 'Kim and Sons', 'row': 248}, page_content='Date: 2024-01-23\\nSymbol: MILL\\nCompany: Kim and Sons\\nSector: Finance\\nOpen: 310.19\\nHigh: 317.76\\nLow: 310.1\\nClose: 317.19\\nVolume: 442190\\nValue: 140258246.1'),\n",
       " Document(id='02b1af9c-61d2-4abf-9950-7885453ce44c', metadata={'source': 'Deleon-Oliver', 'row': 249}, page_content='Date: 2024-01-23\\nSymbol: MITC\\nCompany: Deleon-Oliver\\nSector: Finance\\nOpen: 380.36\\nHigh: 380.92\\nLow: 368.24\\nClose: 370.79\\nVolume: 979920\\nValue: 363344536.8'),\n",
       " Document(id='236f1911-3278-4edd-9218-54755c87b28d', metadata={'source': 'Petersen-Ali', 'row': 250}, page_content='Date: 2024-01-23\\nSymbol: MOOR\\nCompany: Petersen-Ali\\nSector: Healthcare\\nOpen: 1000.23\\nHigh: 1045.06\\nLow: 994.73\\nClose: 1043.85\\nVolume: 704391\\nValue: 735278545.35'),\n",
       " Document(id='f3886d12-e25b-45eb-9f6b-70db8cc5e7a3', metadata={'source': 'Chavez, Adams and Johnson', 'row': 251}, page_content='Date: 2024-01-23\\nSymbol: SANT\\nCompany: Chavez, Adams and Johnson\\nSector: Energy\\nOpen: 692.46\\nHigh: 696.53\\nLow: 677.86\\nClose: 683.94\\nVolume: 276957\\nValue: 189421970.58'),\n",
       " Document(id='268c2482-3f54-44b8-a9c0-44d578bc2927', metadata={'source': 'Walsh, Keller and Pearson', 'row': 252}, page_content='Date: 2024-01-23\\nSymbol: VELA\\nCompany: Walsh, Keller and Pearson\\nSector: Finance\\nOpen: 31.58\\nHigh: 33.95\\nLow: 31.56\\nClose: 33.77\\nVolume: 1487871\\nValue: 50245403.67'),\n",
       " Document(id='7819469c-2799-434d-afc9-ac9cb53be786', metadata={'source': 'Kramer Ltd', 'row': 253}, page_content='Date: 2024-01-23\\nSymbol: WILK\\nCompany: Kramer Ltd\\nSector: Finance\\nOpen: 620.01\\nHigh: 628.95\\nLow: 619.71\\nClose: 624.18\\nVolume: 673628\\nValue: 420465125.04'),\n",
       " Document(id='d7a15392-5476-4daa-a9e3-07c04b70fdae', metadata={'source': 'Moreno-Wagner', 'row': 254}, page_content='Date: 2024-01-23\\nSymbol: WYAT\\nCompany: Moreno-Wagner\\nSector: Healthcare\\nOpen: 425.41\\nHigh: 428.73\\nLow: 420.55\\nClose: 420.81\\nVolume: 365406\\nValue: 153766498.86'),\n",
       " Document(id='2f876551-a38a-44ad-94ff-ca197c1c0161', metadata={'source': 'Stevens-Brown', 'row': 255}, page_content='Date: 2024-01-24\\nSymbol: BEAR\\nCompany: Stevens-Brown\\nSector: Technology\\nOpen: 416.81\\nHigh: 423.17\\nLow: 416.5\\nClose: 421.36\\nVolume: 671061\\nValue: 282758262.96'),\n",
       " Document(id='2e51ee29-3a7f-4593-951d-4879e51a300f', metadata={'source': 'Hill LLC', 'row': 256}, page_content='Date: 2024-01-24\\nSymbol: BLAN\\nCompany: Hill LLC\\nSector: Consumer\\nOpen: 799.43\\nHigh: 802.63\\nLow: 777.61\\nClose: 784.59\\nVolume: 815880\\nValue: 640131289.2'),\n",
       " Document(id='dcdc2023-ab66-4cec-b9d7-a598f9350452', metadata={'source': 'Smith, Johnson and Mendoza', 'row': 257}, page_content='Date: 2024-01-24\\nSymbol: COLE\\nCompany: Smith, Johnson and Mendoza\\nSector: Consumer\\nOpen: 767.49\\nHigh: 770.31\\nLow: 732.56\\nClose: 738.28\\nVolume: 574478\\nValue: 424125617.84'),\n",
       " Document(id='6c72134c-821a-410f-9b33-75f21b4e598d', metadata={'source': 'Nichols, Ward and Miller', 'row': 258}, page_content='Date: 2024-01-24\\nSymbol: CUNN\\nCompany: Nichols, Ward and Miller\\nSector: Consumer\\nOpen: 472.52\\nHigh: 472.6\\nLow: 466.34\\nClose: 468.42\\nVolume: 774125\\nValue: 362615632.5'),\n",
       " Document(id='c48847b4-2d52-4953-a7ce-6bb6f87689d9', metadata={'source': 'Parker-Taylor', 'row': 259}, page_content='Date: 2024-01-24\\nSymbol: DAVI\\nCompany: Parker-Taylor\\nSector: Healthcare\\nOpen: 404.25\\nHigh: 409.24\\nLow: 402.46\\nClose: 405.45\\nVolume: 602342\\nValue: 244219563.9'),\n",
       " Document(id='dbd99f85-b309-4875-b3ba-24287f10ca01', metadata={'source': 'Molina, Ortiz and Rogers', 'row': 260}, page_content='Date: 2024-01-24\\nSymbol: GILM\\nCompany: Molina, Ortiz and Rogers\\nSector: Technology\\nOpen: 115.77\\nHigh: 118.36\\nLow: 115.46\\nClose: 118.32\\nVolume: 820650\\nValue: 97099308.0'),\n",
       " Document(id='e9f7c666-d5f4-4a78-98da-dfa5d00d97e1', metadata={'source': 'Wood, Hutchinson and Hernandez', 'row': 261}, page_content='Date: 2024-01-24\\nSymbol: GUTI\\nCompany: Wood, Hutchinson and Hernandez\\nSector: Finance\\nOpen: 703.84\\nHigh: 705.01\\nLow: 696.81\\nClose: 698.3\\nVolume: 329279\\nValue: 229935525.7'),\n",
       " Document(id='73e54fbe-2d2f-43cd-aa7d-15bcfe160d44', metadata={'source': 'Key, Santiago and Costa', 'row': 262}, page_content='Date: 2024-01-24\\nSymbol: HERR\\nCompany: Key, Santiago and Costa\\nSector: Healthcare\\nOpen: 596.54\\nHigh: 607.72\\nLow: 592.92\\nClose: 603.91\\nVolume: 566807\\nValue: 342300415.37'),\n",
       " Document(id='cf9ad079-2456-4452-bbeb-b73c1624750e', metadata={'source': 'Kim and Sons', 'row': 263}, page_content='Date: 2024-01-24\\nSymbol: MILL\\nCompany: Kim and Sons\\nSector: Finance\\nOpen: 315.23\\nHigh: 317.41\\nLow: 313.65\\nClose: 313.91\\nVolume: 656226\\nValue: 205995903.66'),\n",
       " Document(id='8e19caeb-6a40-49e4-be40-8d1faec6c8d1', metadata={'source': 'Deleon-Oliver', 'row': 264}, page_content='Date: 2024-01-24\\nSymbol: MITC\\nCompany: Deleon-Oliver\\nSector: Finance\\nOpen: 368.92\\nHigh: 371.01\\nLow: 359.19\\nClose: 362.69\\nVolume: 796544\\nValue: 288898543.36'),\n",
       " Document(id='4a9235ac-9db9-4ca1-a2ab-0ed6a723254e', metadata={'source': 'Petersen-Ali', 'row': 265}, page_content='Date: 2024-01-24\\nSymbol: MOOR\\nCompany: Petersen-Ali\\nSector: Healthcare\\nOpen: 1042.18\\nHigh: 1047.02\\nLow: 1012.28\\nClose: 1012.41\\nVolume: 1102789\\nValue: 1116474611.49'),\n",
       " Document(id='8039e601-3055-4095-abc6-2646232bc082', metadata={'source': 'Chavez, Adams and Johnson', 'row': 266}, page_content='Date: 2024-01-24\\nSymbol: SANT\\nCompany: Chavez, Adams and Johnson\\nSector: Energy\\nOpen: 690.51\\nHigh: 698.42\\nLow: 685.57\\nClose: 692.3\\nVolume: 356948\\nValue: 247115100.4'),\n",
       " Document(id='ee42d986-23ba-429b-a498-deee2e21fc0b', metadata={'source': 'Walsh, Keller and Pearson', 'row': 267}, page_content='Date: 2024-01-24\\nSymbol: VELA\\nCompany: Walsh, Keller and Pearson\\nSector: Finance\\nOpen: 33.61\\nHigh: 34.95\\nLow: 33.52\\nClose: 34.9\\nVolume: 653053\\nValue: 22791549.7'),\n",
       " Document(id='ba9c2e8e-1c86-487a-a31a-aa25c665d28f', metadata={'source': 'Kramer Ltd', 'row': 268}, page_content='Date: 2024-01-24\\nSymbol: WILK\\nCompany: Kramer Ltd\\nSector: Finance\\nOpen: 618.44\\nHigh: 626.8\\nLow: 614.37\\nClose: 623.51\\nVolume: 797269\\nValue: 497105194.19'),\n",
       " Document(id='e24f1372-1872-4a77-94c9-459a91fa0df9', metadata={'source': 'Moreno-Wagner', 'row': 269}, page_content='Date: 2024-01-24\\nSymbol: WYAT\\nCompany: Moreno-Wagner\\nSector: Healthcare\\nOpen: 419.61\\nHigh: 419.89\\nLow: 414.65\\nClose: 417.21\\nVolume: 669602\\nValue: 279364650.42'),\n",
       " Document(id='69869a35-5692-4f3a-bc6e-4bb060866d04', metadata={'source': 'Stevens-Brown', 'row': 270}, page_content='Date: 2024-01-25\\nSymbol: BEAR\\nCompany: Stevens-Brown\\nSector: Technology\\nOpen: 417.27\\nHigh: 431.08\\nLow: 413.37\\nClose: 426.93\\nVolume: 640646\\nValue: 273510996.78'),\n",
       " Document(id='9ba427ef-f4dc-49bf-b725-ffb04ea25a8a', metadata={'source': 'Hill LLC', 'row': 271}, page_content='Date: 2024-01-25\\nSymbol: BLAN\\nCompany: Hill LLC\\nSector: Consumer\\nOpen: 787.98\\nHigh: 837.77\\nLow: 786.03\\nClose: 833.91\\nVolume: 1212142\\nValue: 1010817335.22'),\n",
       " Document(id='7d793040-10e5-441f-ae23-5aeab69ab9c4', metadata={'source': 'Smith, Johnson and Mendoza', 'row': 272}, page_content='Date: 2024-01-25\\nSymbol: COLE\\nCompany: Smith, Johnson and Mendoza\\nSector: Consumer\\nOpen: 736.73\\nHigh: 738.7\\nLow: 724.96\\nClose: 727.36\\nVolume: 455719\\nValue: 331471771.84'),\n",
       " Document(id='f7ab29e4-ec15-4be9-a569-80645a1b7959', metadata={'source': 'Nichols, Ward and Miller', 'row': 273}, page_content='Date: 2024-01-25\\nSymbol: CUNN\\nCompany: Nichols, Ward and Miller\\nSector: Consumer\\nOpen: 471.55\\nHigh: 479.35\\nLow: 467.68\\nClose: 477.17\\nVolume: 696072\\nValue: 332144676.24'),\n",
       " Document(id='e4526cbb-55a0-4ffd-bd4f-80cba960b25a', metadata={'source': 'Parker-Taylor', 'row': 274}, page_content='Date: 2024-01-25\\nSymbol: DAVI\\nCompany: Parker-Taylor\\nSector: Healthcare\\nOpen: 403.99\\nHigh: 405.35\\nLow: 375.35\\nClose: 376.78\\nVolume: 1002901\\nValue: 377873038.78'),\n",
       " Document(id='888a9fe6-ae99-4768-bd7b-5b04e88aef67', metadata={'source': 'Molina, Ortiz and Rogers', 'row': 275}, page_content='Date: 2024-01-25\\nSymbol: GILM\\nCompany: Molina, Ortiz and Rogers\\nSector: Technology\\nOpen: 117.69\\nHigh: 122.03\\nLow: 116.96\\nClose: 121.12\\nVolume: 738796\\nValue: 89482971.52'),\n",
       " Document(id='0ea8f5f0-7b61-42ed-8465-348bfa45136b', metadata={'source': 'Wood, Hutchinson and Hernandez', 'row': 276}, page_content='Date: 2024-01-25\\nSymbol: GUTI\\nCompany: Wood, Hutchinson and Hernandez\\nSector: Finance\\nOpen: 704.3\\nHigh: 708.78\\nLow: 692.56\\nClose: 694.31\\nVolume: 571911\\nValue: 397083526.41'),\n",
       " Document(id='6f1f4d78-fa72-470e-84e3-41d2359ef3fe', metadata={'source': 'Key, Santiago and Costa', 'row': 277}, page_content='Date: 2024-01-25\\nSymbol: HERR\\nCompany: Key, Santiago and Costa\\nSector: Healthcare\\nOpen: 603.82\\nHigh: 637.63\\nLow: 599.78\\nClose: 631.35\\nVolume: 1004370\\nValue: 634108999.5'),\n",
       " Document(id='5ea2e167-2074-47ee-8166-b56a53e26221', metadata={'source': 'Kim and Sons', 'row': 278}, page_content='Date: 2024-01-25\\nSymbol: MILL\\nCompany: Kim and Sons\\nSector: Finance\\nOpen: 312.38\\nHigh: 314.11\\nLow: 299.57\\nClose: 301.13\\nVolume: 566331\\nValue: 170539254.03'),\n",
       " Document(id='c2b9e95c-0be9-464a-91cb-96e2309431c9', metadata={'source': 'Deleon-Oliver', 'row': 279}, page_content='Date: 2024-01-25\\nSymbol: MITC\\nCompany: Deleon-Oliver\\nSector: Finance\\nOpen: 366.14\\nHigh: 369.04\\nLow: 342.36\\nClose: 345.41\\nVolume: 1015555\\nValue: 350782852.55'),\n",
       " Document(id='98d6071a-6c04-40e1-a2ec-0c0f068f830b', metadata={'source': 'Petersen-Ali', 'row': 280}, page_content='Date: 2024-01-25\\nSymbol: MOOR\\nCompany: Petersen-Ali\\nSector: Healthcare\\nOpen: 1005.83\\nHigh: 1010.79\\nLow: 994.0\\nClose: 998.52\\nVolume: 968351\\nValue: 966917840.52'),\n",
       " Document(id='836791fc-e60f-4556-a434-fc4bdc6e9a43', metadata={'source': 'Chavez, Adams and Johnson', 'row': 281}, page_content='Date: 2024-01-25\\nSymbol: SANT\\nCompany: Chavez, Adams and Johnson\\nSector: Energy\\nOpen: 698.08\\nHigh: 708.48\\nLow: 697.87\\nClose: 703.7\\nVolume: 793716\\nValue: 558537949.2'),\n",
       " Document(id='838d410a-55b6-43e7-9ee9-54eb8ad05b5f', metadata={'source': 'Walsh, Keller and Pearson', 'row': 282}, page_content='Date: 2024-01-25\\nSymbol: VELA\\nCompany: Walsh, Keller and Pearson\\nSector: Finance\\nOpen: 34.7\\nHigh: 34.94\\nLow: 34.64\\nClose: 34.73\\nVolume: 834280\\nValue: 28974544.4'),\n",
       " Document(id='bf4e8d1a-d809-4f4f-8047-95e117544456', metadata={'source': 'Kramer Ltd', 'row': 283}, page_content='Date: 2024-01-25\\nSymbol: WILK\\nCompany: Kramer Ltd\\nSector: Finance\\nOpen: 617.84\\nHigh: 637.37\\nLow: 612.41\\nClose: 631.89\\nVolume: 336073\\nValue: 212361167.97'),\n",
       " Document(id='3cbb5173-985f-4806-b2d9-4023c5fbd5ba', metadata={'source': 'Moreno-Wagner', 'row': 284}, page_content='Date: 2024-01-25\\nSymbol: WYAT\\nCompany: Moreno-Wagner\\nSector: Healthcare\\nOpen: 415.71\\nHigh: 419.6\\nLow: 391.65\\nClose: 392.33\\nVolume: 634466\\nValue: 248920045.78'),\n",
       " Document(id='70b7a9c0-6e97-46a7-b0fa-fc78a2c98ea3', metadata={'source': 'Stevens-Brown', 'row': 285}, page_content='Date: 2024-01-26\\nSymbol: BEAR\\nCompany: Stevens-Brown\\nSector: Technology\\nOpen: 424.21\\nHigh: 427.68\\nLow: 396.27\\nClose: 396.95\\nVolume: 797750\\nValue: 316666862.5'),\n",
       " Document(id='ae3eb2fa-ba10-499b-9ae4-e29e2592b640', metadata={'source': 'Hill LLC', 'row': 286}, page_content='Date: 2024-01-26\\nSymbol: BLAN\\nCompany: Hill LLC\\nSector: Consumer\\nOpen: 828.62\\nHigh: 835.73\\nLow: 795.56\\nClose: 801.39\\nVolume: 396527\\nValue: 317772772.53'),\n",
       " Document(id='cdbe02ec-d0e8-4690-86cc-01b170a06068', metadata={'source': 'Smith, Johnson and Mendoza', 'row': 287}, page_content='Date: 2024-01-26\\nSymbol: COLE\\nCompany: Smith, Johnson and Mendoza\\nSector: Consumer\\nOpen: 733.72\\nHigh: 736.18\\nLow: 704.19\\nClose: 706.98\\nVolume: 984605\\nValue: 696096042.9'),\n",
       " Document(id='7b8a39f2-6f2c-4aef-adc0-53235fe33634', metadata={'source': 'Nichols, Ward and Miller', 'row': 288}, page_content='Date: 2024-01-26\\nSymbol: CUNN\\nCompany: Nichols, Ward and Miller\\nSector: Consumer\\nOpen: 480.03\\nHigh: 483.6\\nLow: 474.48\\nClose: 474.64\\nVolume: 491241\\nValue: 233162628.24'),\n",
       " Document(id='ce5cfd6f-7469-4403-b795-47b359e4b56a', metadata={'source': 'Parker-Taylor', 'row': 289}, page_content='Date: 2024-01-26\\nSymbol: DAVI\\nCompany: Parker-Taylor\\nSector: Healthcare\\nOpen: 376.86\\nHigh: 380.55\\nLow: 374.24\\nClose: 377.55\\nVolume: 671764\\nValue: 253624498.2'),\n",
       " Document(id='51a1d0ae-6ec2-4f20-a833-55b50f27a6ec', metadata={'source': 'Molina, Ortiz and Rogers', 'row': 290}, page_content='Date: 2024-01-26\\nSymbol: GILM\\nCompany: Molina, Ortiz and Rogers\\nSector: Technology\\nOpen: 120.22\\nHigh: 120.56\\nLow: 113.67\\nClose: 114.48\\nVolume: 915727\\nValue: 104832426.96'),\n",
       " Document(id='8fe89b3c-e6c0-45de-b202-bd7c04cfb0f7', metadata={'source': 'Wood, Hutchinson and Hernandez', 'row': 291}, page_content='Date: 2024-01-26\\nSymbol: GUTI\\nCompany: Wood, Hutchinson and Hernandez\\nSector: Finance\\nOpen: 691.4\\nHigh: 698.9\\nLow: 685.51\\nClose: 692.46\\nVolume: 338682\\nValue: 234523737.72'),\n",
       " Document(id='eefe821b-79ef-48c2-981f-341ba28edec8', metadata={'source': 'Key, Santiago and Costa', 'row': 292}, page_content='Date: 2024-01-26\\nSymbol: HERR\\nCompany: Key, Santiago and Costa\\nSector: Healthcare\\nOpen: 634.91\\nHigh: 640.13\\nLow: 623.55\\nClose: 627.79\\nVolume: 394978\\nValue: 247963238.62'),\n",
       " Document(id='cb8d04a4-c773-423a-a555-dbdfcc42dfd7', metadata={'source': 'Kim and Sons', 'row': 293}, page_content='Date: 2024-01-26\\nSymbol: MILL\\nCompany: Kim and Sons\\nSector: Finance\\nOpen: 303.0\\nHigh: 310.76\\nLow: 300.34\\nClose: 309.61\\nVolume: 625179\\nValue: 193561670.19'),\n",
       " Document(id='81dfc96b-5c78-44be-a205-1cf9d1a69ba2', metadata={'source': 'Deleon-Oliver', 'row': 294}, page_content='Date: 2024-01-26\\nSymbol: MITC\\nCompany: Deleon-Oliver\\nSector: Finance\\nOpen: 345.43\\nHigh: 346.08\\nLow: 338.03\\nClose: 338.69\\nVolume: 765058\\nValue: 259117494.02'),\n",
       " Document(id='432ce1e0-3b43-4a21-8996-039f0a940441', metadata={'source': 'Petersen-Ali', 'row': 295}, page_content='Date: 2024-01-26\\nSymbol: MOOR\\nCompany: Petersen-Ali\\nSector: Healthcare\\nOpen: 991.48\\nHigh: 997.65\\nLow: 962.02\\nClose: 971.25\\nVolume: 841203\\nValue: 817018413.75'),\n",
       " Document(id='b2459496-105d-4062-ba50-e12102e4697e', metadata={'source': 'Chavez, Adams and Johnson', 'row': 296}, page_content='Date: 2024-01-26\\nSymbol: SANT\\nCompany: Chavez, Adams and Johnson\\nSector: Energy\\nOpen: 703.73\\nHigh: 707.64\\nLow: 702.29\\nClose: 703.53\\nVolume: 734578\\nValue: 516797660.34'),\n",
       " Document(id='6e0fc604-9ff9-45eb-86e4-f9fdfcac72de', metadata={'source': 'Walsh, Keller and Pearson', 'row': 297}, page_content='Date: 2024-01-26\\nSymbol: VELA\\nCompany: Walsh, Keller and Pearson\\nSector: Finance\\nOpen: 34.53\\nHigh: 34.84\\nLow: 34.02\\nClose: 34.08\\nVolume: 379416\\nValue: 12930497.28'),\n",
       " Document(id='8f504961-77f0-42e5-93a1-20800c43e076', metadata={'source': 'Kramer Ltd', 'row': 298}, page_content='Date: 2024-01-26\\nSymbol: WILK\\nCompany: Kramer Ltd\\nSector: Finance\\nOpen: 631.2\\nHigh: 638.2\\nLow: 630.8\\nClose: 632.78\\nVolume: 426795\\nValue: 270067340.1'),\n",
       " Document(id='5686b1a9-07f6-4fc5-846a-92bc2fa6e1b2', metadata={'source': 'Moreno-Wagner', 'row': 299}, page_content='Date: 2024-01-26\\nSymbol: WYAT\\nCompany: Moreno-Wagner\\nSector: Healthcare\\nOpen: 392.46\\nHigh: 409.83\\nLow: 391.32\\nClose: 406.55\\nVolume: 981300\\nValue: 398947515.0'),\n",
       " Document(id='f2bab510-b7c3-423c-82df-29f5994a6fa4', metadata={'source': 'Stevens-Brown', 'row': 300}, page_content='Date: 2024-01-29\\nSymbol: BEAR\\nCompany: Stevens-Brown\\nSector: Technology\\nOpen: 399.94\\nHigh: 411.48\\nLow: 396.27\\nClose: 408.28\\nVolume: 660741\\nValue: 269767335.48'),\n",
       " Document(id='077c7067-a6a7-49db-be19-1e5c5f211820', metadata={'source': 'Hill LLC', 'row': 301}, page_content='Date: 2024-01-29\\nSymbol: BLAN\\nCompany: Hill LLC\\nSector: Consumer\\nOpen: 797.54\\nHigh: 828.99\\nLow: 793.5\\nClose: 825.99\\nVolume: 688901\\nValue: 569025336.99'),\n",
       " Document(id='15d67a04-ec1f-4d23-8915-85916f37fef0', metadata={'source': 'Smith, Johnson and Mendoza', 'row': 302}, page_content='Date: 2024-01-29\\nSymbol: COLE\\nCompany: Smith, Johnson and Mendoza\\nSector: Consumer\\nOpen: 712.89\\nHigh: 735.01\\nLow: 712.22\\nClose: 730.95\\nVolume: 707175\\nValue: 516909566.25'),\n",
       " Document(id='59bbf050-8e53-4af6-96cb-ab7d7c3bb485', metadata={'source': 'Nichols, Ward and Miller', 'row': 303}, page_content='Date: 2024-01-29\\nSymbol: CUNN\\nCompany: Nichols, Ward and Miller\\nSector: Consumer\\nOpen: 471.05\\nHigh: 474.89\\nLow: 460.63\\nClose: 464.56\\nVolume: 484552\\nValue: 225103477.12'),\n",
       " Document(id='1afe4301-62fe-48ab-b00a-34ccb0436159', metadata={'source': 'Parker-Taylor', 'row': 304}, page_content='Date: 2024-01-29\\nSymbol: DAVI\\nCompany: Parker-Taylor\\nSector: Healthcare\\nOpen: 379.7\\nHigh: 383.23\\nLow: 364.35\\nClose: 365.62\\nVolume: 796822\\nValue: 291334059.64'),\n",
       " Document(id='b6a577b7-1846-44a0-beb4-18794be600b1', metadata={'source': 'Molina, Ortiz and Rogers', 'row': 305}, page_content='Date: 2024-01-29\\nSymbol: GILM\\nCompany: Molina, Ortiz and Rogers\\nSector: Technology\\nOpen: 113.4\\nHigh: 113.44\\nLow: 108.65\\nClose: 109.32\\nVolume: 1215632\\nValue: 132892890.24'),\n",
       " Document(id='5f257491-ca4d-45a0-a0ba-aa78b1a4c628', metadata={'source': 'Wood, Hutchinson and Hernandez', 'row': 306}, page_content='Date: 2024-01-29\\nSymbol: GUTI\\nCompany: Wood, Hutchinson and Hernandez\\nSector: Finance\\nOpen: 694.17\\nHigh: 702.78\\nLow: 687.44\\nClose: 696.97\\nVolume: 712012\\nValue: 496251003.64'),\n",
       " Document(id='eea4ea0f-9d76-40fe-9cda-6d0ea3307768', metadata={'source': 'Key, Santiago and Costa', 'row': 307}, page_content='Date: 2024-01-29\\nSymbol: HERR\\nCompany: Key, Santiago and Costa\\nSector: Healthcare\\nOpen: 621.82\\nHigh: 625.74\\nLow: 604.17\\nClose: 606.3\\nVolume: 664498\\nValue: 402885137.4'),\n",
       " Document(id='f60f3f3c-a057-45ad-9512-cecdc2ec0446', metadata={'source': 'Kim and Sons', 'row': 308}, page_content='Date: 2024-01-29\\nSymbol: MILL\\nCompany: Kim and Sons\\nSector: Finance\\nOpen: 307.5\\nHigh: 309.9\\nLow: 296.24\\nClose: 297.03\\nVolume: 960410\\nValue: 285270582.3'),\n",
       " Document(id='6e029f48-0047-4fbf-b3c7-b7074b1587b3', metadata={'source': 'Deleon-Oliver', 'row': 309}, page_content='Date: 2024-01-29\\nSymbol: MITC\\nCompany: Deleon-Oliver\\nSector: Finance\\nOpen: 336.83\\nHigh: 348.54\\nLow: 334.84\\nClose: 346.04\\nVolume: 422086\\nValue: 146058639.44'),\n",
       " Document(id='ae6a05fa-9845-41e2-9677-2f496d35dd0e', metadata={'source': 'Petersen-Ali', 'row': 310}, page_content='Date: 2024-01-29\\nSymbol: MOOR\\nCompany: Petersen-Ali\\nSector: Healthcare\\nOpen: 976.24\\nHigh: 978.5\\nLow: 935.81\\nClose: 938.0\\nVolume: 846358\\nValue: 793883804.0'),\n",
       " Document(id='458ed077-494f-43bf-beff-a54049eff761', metadata={'source': 'Chavez, Adams and Johnson', 'row': 311}, page_content='Date: 2024-01-29\\nSymbol: SANT\\nCompany: Chavez, Adams and Johnson\\nSector: Energy\\nOpen: 699.77\\nHigh: 707.81\\nLow: 696.26\\nClose: 705.34\\nVolume: 810036\\nValue: 571350792.24'),\n",
       " Document(id='9038cfc5-e9a6-491f-b2e3-1aec8a0d347f', metadata={'source': 'Walsh, Keller and Pearson', 'row': 312}, page_content='Date: 2024-01-29\\nSymbol: VELA\\nCompany: Walsh, Keller and Pearson\\nSector: Finance\\nOpen: 33.81\\nHigh: 34.83\\nLow: 33.5\\nClose: 34.63\\nVolume: 977350\\nValue: 33845630.5'),\n",
       " Document(id='50d1d2fc-3f2c-4aa7-ac07-69586cdab2c6', metadata={'source': 'Kramer Ltd', 'row': 313}, page_content='Date: 2024-01-29\\nSymbol: WILK\\nCompany: Kramer Ltd\\nSector: Finance\\nOpen: 636.83\\nHigh: 638.23\\nLow: 632.7\\nClose: 635.67\\nVolume: 375026\\nValue: 238392777.42'),\n",
       " Document(id='6d6fbfa9-97ff-4bdd-8630-413b18bd27cd', metadata={'source': 'Moreno-Wagner', 'row': 314}, page_content='Date: 2024-01-29\\nSymbol: WYAT\\nCompany: Moreno-Wagner\\nSector: Healthcare\\nOpen: 409.49\\nHigh: 411.23\\nLow: 405.27\\nClose: 406.93\\nVolume: 658839\\nValue: 268101354.27'),\n",
       " Document(id='4bc77ad5-8116-405c-9c02-11f1babb787c', metadata={'source': 'Stevens-Brown', 'row': 315}, page_content='Date: 2024-01-30\\nSymbol: BEAR\\nCompany: Stevens-Brown\\nSector: Technology\\nOpen: 407.9\\nHigh: 416.63\\nLow: 407.05\\nClose: 416.18\\nVolume: 646311\\nValue: 268981711.98'),\n",
       " Document(id='5bb98f69-688f-4bc0-82aa-e3fd51a5bb2e', metadata={'source': 'Hill LLC', 'row': 316}, page_content='Date: 2024-01-30\\nSymbol: BLAN\\nCompany: Hill LLC\\nSector: Consumer\\nOpen: 825.53\\nHigh: 845.42\\nLow: 820.99\\nClose: 839.01\\nVolume: 263558\\nValue: 221127797.58'),\n",
       " Document(id='62685999-2f0d-4149-bc3d-700393519add', metadata={'source': 'Smith, Johnson and Mendoza', 'row': 317}, page_content='Date: 2024-01-30\\nSymbol: COLE\\nCompany: Smith, Johnson and Mendoza\\nSector: Consumer\\nOpen: 725.06\\nHigh: 727.23\\nLow: 711.12\\nClose: 715.08\\nVolume: 586373\\nValue: 419303604.84'),\n",
       " Document(id='a6864634-3b14-49be-9b27-9a76aa52833a', metadata={'source': 'Nichols, Ward and Miller', 'row': 318}, page_content='Date: 2024-01-30\\nSymbol: CUNN\\nCompany: Nichols, Ward and Miller\\nSector: Consumer\\nOpen: 461.07\\nHigh: 467.33\\nLow: 460.68\\nClose: 464.98\\nVolume: 239225\\nValue: 111234840.5'),\n",
       " Document(id='0c909575-3d5f-43db-baa0-766f2a07f1c2', metadata={'source': 'Parker-Taylor', 'row': 319}, page_content='Date: 2024-01-30\\nSymbol: DAVI\\nCompany: Parker-Taylor\\nSector: Healthcare\\nOpen: 364.8\\nHigh: 380.3\\nLow: 364.14\\nClose: 377.09\\nVolume: 800634\\nValue: 301911075.06'),\n",
       " Document(id='f74ab2d0-8416-4806-8769-78b21bafbafa', metadata={'source': 'Molina, Ortiz and Rogers', 'row': 320}, page_content='Date: 2024-01-30\\nSymbol: GILM\\nCompany: Molina, Ortiz and Rogers\\nSector: Technology\\nOpen: 109.73\\nHigh: 110.74\\nLow: 107.34\\nClose: 108.35\\nVolume: 326280\\nValue: 35352438.0'),\n",
       " Document(id='5322b9ea-bb8e-4743-afbe-260e575d49bd', metadata={'source': 'Wood, Hutchinson and Hernandez', 'row': 321}, page_content='Date: 2024-01-30\\nSymbol: GUTI\\nCompany: Wood, Hutchinson and Hernandez\\nSector: Finance\\nOpen: 701.96\\nHigh: 703.9\\nLow: 689.41\\nClose: 694.74\\nVolume: 408255\\nValue: 283631078.7'),\n",
       " Document(id='1c5fbe6b-c000-42cb-8601-fc17894d7a18', metadata={'source': 'Key, Santiago and Costa', 'row': 322}, page_content='Date: 2024-01-30\\nSymbol: HERR\\nCompany: Key, Santiago and Costa\\nSector: Healthcare\\nOpen: 606.55\\nHigh: 611.18\\nLow: 579.75\\nClose: 579.85\\nVolume: 309383\\nValue: 179395732.55'),\n",
       " Document(id='e681585a-6e29-46aa-a6b8-720c33ec6550', metadata={'source': 'Kim and Sons', 'row': 323}, page_content='Date: 2024-01-30\\nSymbol: MILL\\nCompany: Kim and Sons\\nSector: Finance\\nOpen: 295.99\\nHigh: 298.44\\nLow: 287.1\\nClose: 289.44\\nVolume: 713866\\nValue: 206621375.04'),\n",
       " Document(id='9100272e-851e-4a50-8fc2-e18bbfe2fb05', metadata={'source': 'Deleon-Oliver', 'row': 324}, page_content='Date: 2024-01-30\\nSymbol: MITC\\nCompany: Deleon-Oliver\\nSector: Finance\\nOpen: 349.17\\nHigh: 351.88\\nLow: 345.87\\nClose: 347.39\\nVolume: 564283\\nValue: 196026271.37'),\n",
       " Document(id='549ba6fb-d892-46f8-af65-7425e3e9691a', metadata={'source': 'Petersen-Ali', 'row': 325}, page_content='Date: 2024-01-30\\nSymbol: MOOR\\nCompany: Petersen-Ali\\nSector: Healthcare\\nOpen: 929.37\\nHigh: 969.91\\nLow: 922.67\\nClose: 967.18\\nVolume: 428914\\nValue: 414837042.52'),\n",
       " Document(id='7e218797-a91b-4182-be58-55ce112a6946', metadata={'source': 'Chavez, Adams and Johnson', 'row': 326}, page_content='Date: 2024-01-30\\nSymbol: SANT\\nCompany: Chavez, Adams and Johnson\\nSector: Energy\\nOpen: 705.37\\nHigh: 712.04\\nLow: 682.08\\nClose: 687.62\\nVolume: 192960\\nValue: 132683155.2'),\n",
       " Document(id='2946c55e-53d9-464b-93fd-5b115f41763f', metadata={'source': 'Walsh, Keller and Pearson', 'row': 327}, page_content='Date: 2024-01-30\\nSymbol: VELA\\nCompany: Walsh, Keller and Pearson\\nSector: Finance\\nOpen: 34.97\\nHigh: 35.05\\nLow: 33.23\\nClose: 33.5\\nVolume: 833431\\nValue: 27919938.5'),\n",
       " Document(id='1bbddb86-d8bb-4c12-8b3d-b33b18577590', metadata={'source': 'Kramer Ltd', 'row': 328}, page_content='Date: 2024-01-30\\nSymbol: WILK\\nCompany: Kramer Ltd\\nSector: Finance\\nOpen: 633.46\\nHigh: 638.25\\nLow: 632.2\\nClose: 636.49\\nVolume: 617140\\nValue: 392803438.6'),\n",
       " Document(id='25b91cd3-3609-4831-98ef-4d29d247550e', metadata={'source': 'Moreno-Wagner', 'row': 329}, page_content='Date: 2024-01-30\\nSymbol: WYAT\\nCompany: Moreno-Wagner\\nSector: Healthcare\\nOpen: 406.59\\nHigh: 408.59\\nLow: 396.69\\nClose: 398.88\\nVolume: 534250\\nValue: 213101640.0'),\n",
       " Document(id='902459e7-4697-496b-87fa-2793e075eaf3', metadata={'source': 'Stevens-Brown', 'row': 330}, page_content='Date: 2024-01-31\\nSymbol: BEAR\\nCompany: Stevens-Brown\\nSector: Technology\\nOpen: 419.64\\nHigh: 420.29\\nLow: 387.47\\nClose: 389.9\\nVolume: 792203\\nValue: 308879949.7'),\n",
       " Document(id='77081f2d-cd86-49e0-a7e9-b35831cfa1c7', metadata={'source': 'Hill LLC', 'row': 331}, page_content='Date: 2024-01-31\\nSymbol: BLAN\\nCompany: Hill LLC\\nSector: Consumer\\nOpen: 842.82\\nHigh: 849.4\\nLow: 818.68\\nClose: 819.26\\nVolume: 312897\\nValue: 256343996.22'),\n",
       " Document(id='42e741ac-fa0a-4af1-88d0-0f5d0354d30e', metadata={'source': 'Smith, Johnson and Mendoza', 'row': 332}, page_content='Date: 2024-01-31\\nSymbol: COLE\\nCompany: Smith, Johnson and Mendoza\\nSector: Consumer\\nOpen: 717.33\\nHigh: 722.55\\nLow: 714.07\\nClose: 718.5\\nVolume: 640892\\nValue: 460480902.0'),\n",
       " Document(id='cd686dfa-3e82-4f1f-adf4-cc9ad35af539', metadata={'source': 'Nichols, Ward and Miller', 'row': 333}, page_content='Date: 2024-01-31\\nSymbol: CUNN\\nCompany: Nichols, Ward and Miller\\nSector: Consumer\\nOpen: 460.86\\nHigh: 463.0\\nLow: 447.88\\nClose: 448.36\\nVolume: 492393\\nValue: 220769325.48'),\n",
       " Document(id='6395128f-ccd8-4517-853d-0376a7aaa73a', metadata={'source': 'Parker-Taylor', 'row': 334}, page_content='Date: 2024-01-31\\nSymbol: DAVI\\nCompany: Parker-Taylor\\nSector: Healthcare\\nOpen: 376.64\\nHigh: 380.19\\nLow: 372.09\\nClose: 374.12\\nVolume: 466087\\nValue: 174372468.44'),\n",
       " Document(id='2698643d-de94-4982-824a-3f9cf4c7f994', metadata={'source': 'Molina, Ortiz and Rogers', 'row': 335}, page_content='Date: 2024-01-31\\nSymbol: GILM\\nCompany: Molina, Ortiz and Rogers\\nSector: Technology\\nOpen: 107.73\\nHigh: 108.5\\nLow: 107.21\\nClose: 107.92\\nVolume: 177502\\nValue: 19156015.84'),\n",
       " Document(id='00b94206-f64e-46d1-80be-35c05f6d2800', metadata={'source': 'Wood, Hutchinson and Hernandez', 'row': 336}, page_content='Date: 2024-01-31\\nSymbol: GUTI\\nCompany: Wood, Hutchinson and Hernandez\\nSector: Finance\\nOpen: 691.38\\nHigh: 697.18\\nLow: 688.05\\nClose: 697.11\\nVolume: 172510\\nValue: 120258446.1'),\n",
       " Document(id='1be6d791-853f-47e4-b9e6-787a52990dee', metadata={'source': 'Key, Santiago and Costa', 'row': 337}, page_content='Date: 2024-01-31\\nSymbol: HERR\\nCompany: Key, Santiago and Costa\\nSector: Healthcare\\nOpen: 581.55\\nHigh: 586.98\\nLow: 560.09\\nClose: 565.31\\nVolume: 620858\\nValue: 350977235.98'),\n",
       " Document(id='626ebfe7-b154-42ba-b19a-39a2bafab50c', metadata={'source': 'Kim and Sons', 'row': 338}, page_content='Date: 2024-01-31\\nSymbol: MILL\\nCompany: Kim and Sons\\nSector: Finance\\nOpen: 289.9\\nHigh: 299.21\\nLow: 288.32\\nClose: 297.48\\nVolume: 383546\\nValue: 114097264.08'),\n",
       " Document(id='44aea996-6b6d-4fde-9d41-a127ee948117', metadata={'source': 'Deleon-Oliver', 'row': 339}, page_content='Date: 2024-01-31\\nSymbol: MITC\\nCompany: Deleon-Oliver\\nSector: Finance\\nOpen: 350.84\\nHigh: 354.08\\nLow: 348.83\\nClose: 351.8\\nVolume: 924881\\nValue: 325373135.8'),\n",
       " Document(id='4b59c935-d950-4c68-b322-1bb2ad96a05c', metadata={'source': 'Petersen-Ali', 'row': 340}, page_content='Date: 2024-01-31\\nSymbol: MOOR\\nCompany: Petersen-Ali\\nSector: Healthcare\\nOpen: 973.78\\nHigh: 1011.6\\nLow: 967.9\\nClose: 1005.84\\nVolume: 825500\\nValue: 830320920.0'),\n",
       " Document(id='d10dd18a-2304-4680-8223-eb1f45422b2a', metadata={'source': 'Chavez, Adams and Johnson', 'row': 341}, page_content='Date: 2024-01-31\\nSymbol: SANT\\nCompany: Chavez, Adams and Johnson\\nSector: Energy\\nOpen: 688.17\\nHigh: 706.75\\nLow: 684.8\\nClose: 700.28\\nVolume: 484567\\nValue: 339332578.76'),\n",
       " Document(id='2c2fe684-7166-46d9-9000-adced0a134bf', metadata={'source': 'Walsh, Keller and Pearson', 'row': 342}, page_content='Date: 2024-01-31\\nSymbol: VELA\\nCompany: Walsh, Keller and Pearson\\nSector: Finance\\nOpen: 33.57\\nHigh: 34.42\\nLow: 33.28\\nClose: 34.38\\nVolume: 555246\\nValue: 19089357.48'),\n",
       " Document(id='b0ed7c1f-debc-494b-bf66-587a9f859e42', metadata={'source': 'Kramer Ltd', 'row': 343}, page_content='Date: 2024-01-31\\nSymbol: WILK\\nCompany: Kramer Ltd\\nSector: Finance\\nOpen: 642.62\\nHigh: 647.57\\nLow: 628.86\\nClose: 635.17\\nVolume: 310587\\nValue: 197275544.79'),\n",
       " Document(id='0d1c72fb-d814-4638-b995-517cbca499d7', metadata={'source': 'Moreno-Wagner', 'row': 344}, page_content='Date: 2024-01-31\\nSymbol: WYAT\\nCompany: Moreno-Wagner\\nSector: Healthcare\\nOpen: 396.41\\nHigh: 408.2\\nLow: 395.37\\nClose: 405.96\\nVolume: 349876\\nValue: 142035660.96'),\n",
       " Document(id='9e29ca5f-da0b-4760-a32b-6acc77b853e0', metadata={'source': 'Stevens-Brown', 'row': 345}, page_content='Date: 2024-02-01\\nSymbol: BEAR\\nCompany: Stevens-Brown\\nSector: Technology\\nOpen: 392.2\\nHigh: 394.13\\nLow: 367.24\\nClose: 370.17\\nVolume: 585746\\nValue: 216825596.82'),\n",
       " Document(id='3c55c294-0340-4c6f-8115-b62ce39ddf05', metadata={'source': 'Hill LLC', 'row': 346}, page_content='Date: 2024-02-01\\nSymbol: BLAN\\nCompany: Hill LLC\\nSector: Consumer\\nOpen: 823.02\\nHigh: 831.88\\nLow: 815.15\\nClose: 826.37\\nVolume: 356205\\nValue: 294357125.85'),\n",
       " Document(id='862a7031-04bf-4d1f-a8a4-f9afaf6bd376', metadata={'source': 'Smith, Johnson and Mendoza', 'row': 347}, page_content='Date: 2024-02-01\\nSymbol: COLE\\nCompany: Smith, Johnson and Mendoza\\nSector: Consumer\\nOpen: 714.88\\nHigh: 718.29\\nLow: 705.68\\nClose: 708.83\\nVolume: 939318\\nValue: 665816777.94'),\n",
       " Document(id='874b16bc-e4f8-487a-88ed-defb670a3f5f', metadata={'source': 'Nichols, Ward and Miller', 'row': 348}, page_content='Date: 2024-02-01\\nSymbol: CUNN\\nCompany: Nichols, Ward and Miller\\nSector: Consumer\\nOpen: 448.61\\nHigh: 452.26\\nLow: 447.52\\nClose: 447.52\\nVolume: 481176\\nValue: 215335883.52'),\n",
       " Document(id='08ea425e-aac4-436c-b36e-036564731a2d', metadata={'source': 'Parker-Taylor', 'row': 349}, page_content='Date: 2024-02-01\\nSymbol: DAVI\\nCompany: Parker-Taylor\\nSector: Healthcare\\nOpen: 373.06\\nHigh: 385.54\\nLow: 370.53\\nClose: 383.03\\nVolume: 960125\\nValue: 367756678.75'),\n",
       " Document(id='9fa6a8e0-649a-44bf-8c6f-9a8b1d4236a5', metadata={'source': 'Molina, Ortiz and Rogers', 'row': 350}, page_content='Date: 2024-02-01\\nSymbol: GILM\\nCompany: Molina, Ortiz and Rogers\\nSector: Technology\\nOpen: 108.58\\nHigh: 110.17\\nLow: 108.1\\nClose: 109.87\\nVolume: 751663\\nValue: 82585213.81'),\n",
       " Document(id='7dfdac25-817b-47f9-9b4f-20725b2450e7', metadata={'source': 'Wood, Hutchinson and Hernandez', 'row': 351}, page_content='Date: 2024-02-01\\nSymbol: GUTI\\nCompany: Wood, Hutchinson and Hernandez\\nSector: Finance\\nOpen: 693.14\\nHigh: 695.14\\nLow: 687.01\\nClose: 689.31\\nVolume: 83771\\nValue: 57744188.01'),\n",
       " Document(id='77599130-e8d6-44ec-998c-6cad2f20fb39', metadata={'source': 'Key, Santiago and Costa', 'row': 352}, page_content='Date: 2024-02-01\\nSymbol: HERR\\nCompany: Key, Santiago and Costa\\nSector: Healthcare\\nOpen: 570.84\\nHigh: 574.05\\nLow: 563.94\\nClose: 567.31\\nVolume: 713952\\nValue: 405032109.12'),\n",
       " Document(id='0616ff3b-1c88-4ffc-88bf-7be44f21ef25', metadata={'source': 'Kim and Sons', 'row': 353}, page_content='Date: 2024-02-01\\nSymbol: MILL\\nCompany: Kim and Sons\\nSector: Finance\\nOpen: 297.67\\nHigh: 328.6\\nLow: 296.29\\nClose: 325.6\\nVolume: 1434276\\nValue: 467000265.6'),\n",
       " Document(id='89d03890-858d-4473-8d3a-4212cfa0a896', metadata={'source': 'Deleon-Oliver', 'row': 354}, page_content='Date: 2024-02-01\\nSymbol: MITC\\nCompany: Deleon-Oliver\\nSector: Finance\\nOpen: 354.81\\nHigh: 365.9\\nLow: 352.73\\nClose: 363.19\\nVolume: 463072\\nValue: 168183119.68'),\n",
       " Document(id='23b8ab5b-d90f-4289-a5ec-af13ae8fe255', metadata={'source': 'Petersen-Ali', 'row': 355}, page_content='Date: 2024-02-01\\nSymbol: MOOR\\nCompany: Petersen-Ali\\nSector: Healthcare\\nOpen: 998.58\\nHigh: 1033.44\\nLow: 997.1\\nClose: 1025.66\\nVolume: 463878\\nValue: 475781109.48'),\n",
       " Document(id='8cf04624-dcf5-44a6-b79c-cea2ca17998e', metadata={'source': 'Chavez, Adams and Johnson', 'row': 356}, page_content='Date: 2024-02-01\\nSymbol: SANT\\nCompany: Chavez, Adams and Johnson\\nSector: Energy\\nOpen: 695.33\\nHigh: 703.43\\nLow: 693.34\\nClose: 701.58\\nVolume: 282984\\nValue: 198535914.72'),\n",
       " Document(id='6da4f12c-5946-4786-b421-175c459e7e91', metadata={'source': 'Walsh, Keller and Pearson', 'row': 357}, page_content='Date: 2024-02-01\\nSymbol: VELA\\nCompany: Walsh, Keller and Pearson\\nSector: Finance\\nOpen: 34.33\\nHigh: 34.9\\nLow: 34.04\\nClose: 34.7\\nVolume: 446774\\nValue: 15503057.8'),\n",
       " Document(id='643250d4-2a47-4630-b602-89ad15c29ab7', metadata={'source': 'Kramer Ltd', 'row': 358}, page_content='Date: 2024-02-01\\nSymbol: WILK\\nCompany: Kramer Ltd\\nSector: Finance\\nOpen: 640.23\\nHigh: 643.63\\nLow: 636.15\\nClose: 637.06\\nVolume: 481509\\nValue: 306750123.54'),\n",
       " Document(id='35659577-b40e-4269-9f52-ff8fd8832add', metadata={'source': 'Moreno-Wagner', 'row': 359}, page_content='Date: 2024-02-01\\nSymbol: WYAT\\nCompany: Moreno-Wagner\\nSector: Healthcare\\nOpen: 407.48\\nHigh: 409.47\\nLow: 402.05\\nClose: 405.62\\nVolume: 426206\\nValue: 172877677.72'),\n",
       " Document(id='6f934a46-2133-4731-a480-b6e91aa0aa74', metadata={'source': 'Stevens-Brown', 'row': 360}, page_content='Date: 2024-02-02\\nSymbol: BEAR\\nCompany: Stevens-Brown\\nSector: Technology\\nOpen: 368.28\\nHigh: 375.35\\nLow: 365.36\\nClose: 375.05\\nVolume: 549846\\nValue: 206219742.3'),\n",
       " Document(id='7bb60f28-ea0e-4a0c-a879-f17787ad5c4e', metadata={'source': 'Hill LLC', 'row': 361}, page_content='Date: 2024-02-02\\nSymbol: BLAN\\nCompany: Hill LLC\\nSector: Consumer\\nOpen: 825.49\\nHigh: 838.73\\nLow: 821.21\\nClose: 838.65\\nVolume: 889141\\nValue: 745678099.65'),\n",
       " Document(id='092a558d-7349-4cb0-9df2-042ef05feb94', metadata={'source': 'Smith, Johnson and Mendoza', 'row': 362}, page_content='Date: 2024-02-02\\nSymbol: COLE\\nCompany: Smith, Johnson and Mendoza\\nSector: Consumer\\nOpen: 713.92\\nHigh: 733.62\\nLow: 707.64\\nClose: 731.34\\nVolume: 862717\\nValue: 630939450.78'),\n",
       " Document(id='859c8a4c-609f-4263-aefa-e088577e837a', metadata={'source': 'Nichols, Ward and Miller', 'row': 363}, page_content='Date: 2024-02-02\\nSymbol: CUNN\\nCompany: Nichols, Ward and Miller\\nSector: Consumer\\nOpen: 448.85\\nHigh: 449.77\\nLow: 440.06\\nClose: 442.08\\nVolume: 516541\\nValue: 228352445.28'),\n",
       " Document(id='cba4bb6e-2e7c-411b-a16e-6ce8670211dd', metadata={'source': 'Parker-Taylor', 'row': 364}, page_content='Date: 2024-02-02\\nSymbol: DAVI\\nCompany: Parker-Taylor\\nSector: Healthcare\\nOpen: 384.37\\nHigh: 388.42\\nLow: 383.25\\nClose: 385.38\\nVolume: 461546\\nValue: 177870597.48'),\n",
       " Document(id='cd2caa94-541b-4a6c-a237-c6392143526a', metadata={'source': 'Molina, Ortiz and Rogers', 'row': 365}, page_content='Date: 2024-02-02\\nSymbol: GILM\\nCompany: Molina, Ortiz and Rogers\\nSector: Technology\\nOpen: 110.06\\nHigh: 115.39\\nLow: 109.98\\nClose: 114.5\\nVolume: 601398\\nValue: 68860071.0'),\n",
       " Document(id='180e9d26-497f-421f-82cd-843736966e36', metadata={'source': 'Wood, Hutchinson and Hernandez', 'row': 366}, page_content='Date: 2024-02-02\\nSymbol: GUTI\\nCompany: Wood, Hutchinson and Hernandez\\nSector: Finance\\nOpen: 688.58\\nHigh: 692.86\\nLow: 678.81\\nClose: 684.56\\nVolume: 185212\\nValue: 126788726.72'),\n",
       " Document(id='15fd3bbd-057a-4920-a329-05e29f6ee48d', metadata={'source': 'Key, Santiago and Costa', 'row': 367}, page_content='Date: 2024-02-02\\nSymbol: HERR\\nCompany: Key, Santiago and Costa\\nSector: Healthcare\\nOpen: 565.93\\nHigh: 604.89\\nLow: 560.43\\nClose: 603.03\\nVolume: 1248429\\nValue: 752840139.87'),\n",
       " Document(id='a171bf3f-22f7-4428-b7cd-8aba55bea988', metadata={'source': 'Kim and Sons', 'row': 368}, page_content='Date: 2024-02-02\\nSymbol: MILL\\nCompany: Kim and Sons\\nSector: Finance\\nOpen: 322.78\\nHigh: 347.57\\nLow: 322.33\\nClose: 345.89\\nVolume: 919305\\nValue: 317978406.45'),\n",
       " Document(id='26e8bc99-82e2-4894-ab5b-e8caecc18e45', metadata={'source': 'Deleon-Oliver', 'row': 369}, page_content='Date: 2024-02-02\\nSymbol: MITC\\nCompany: Deleon-Oliver\\nSector: Finance\\nOpen: 364.21\\nHigh: 364.47\\nLow: 361.83\\nClose: 363.07\\nVolume: 390948\\nValue: 141941490.36'),\n",
       " Document(id='aeff7a3c-2418-4f39-ae26-d23301ef7708', metadata={'source': 'Petersen-Ali', 'row': 370}, page_content='Date: 2024-02-02\\nSymbol: MOOR\\nCompany: Petersen-Ali\\nSector: Healthcare\\nOpen: 1031.45\\nHigh: 1041.24\\nLow: 1010.59\\nClose: 1010.91\\nVolume: 367797\\nValue: 371809665.27'),\n",
       " Document(id='f7a63c3c-9f96-446c-af89-904f10dd5c87', metadata={'source': 'Chavez, Adams and Johnson', 'row': 371}, page_content='Date: 2024-02-02\\nSymbol: SANT\\nCompany: Chavez, Adams and Johnson\\nSector: Energy\\nOpen: 698.04\\nHigh: 712.05\\nLow: 692.13\\nClose: 707.05\\nVolume: 792940\\nValue: 560648227.0'),\n",
       " Document(id='97d80355-e329-4d56-bd7e-361a192d9a43', metadata={'source': 'Walsh, Keller and Pearson', 'row': 372}, page_content='Date: 2024-02-02\\nSymbol: VELA\\nCompany: Walsh, Keller and Pearson\\nSector: Finance\\nOpen: 34.52\\nHigh: 34.57\\nLow: 33.22\\nClose: 33.5\\nVolume: 690263\\nValue: 23123810.5'),\n",
       " Document(id='ef0a5488-1d6b-4a32-a69d-2a70eba3dd9e', metadata={'source': 'Kramer Ltd', 'row': 373}, page_content='Date: 2024-02-02\\nSymbol: WILK\\nCompany: Kramer Ltd\\nSector: Finance\\nOpen: 634.52\\nHigh: 636.49\\nLow: 619.1\\nClose: 623.71\\nVolume: 377502\\nValue: 235451772.42'),\n",
       " Document(id='bb17d7e6-e1dd-4232-bd8c-5718df3d9c91', metadata={'source': 'Moreno-Wagner', 'row': 374}, page_content='Date: 2024-02-02\\nSymbol: WYAT\\nCompany: Moreno-Wagner\\nSector: Healthcare\\nOpen: 404.82\\nHigh: 419.9\\nLow: 403.29\\nClose: 418.13\\nVolume: 666939\\nValue: 278867204.07'),\n",
       " Document(id='6912a039-b79f-4339-b2cc-d4f6e44e9d9f', metadata={'source': 'Stevens-Brown', 'row': 375}, page_content='Date: 2024-02-05\\nSymbol: BEAR\\nCompany: Stevens-Brown\\nSector: Technology\\nOpen: 375.32\\nHigh: 381.06\\nLow: 374.73\\nClose: 380.94\\nVolume: 91669\\nValue: 34920388.86'),\n",
       " Document(id='61bfcbc4-8325-4b40-ad2a-92b7056a039c', metadata={'source': 'Hill LLC', 'row': 376}, page_content='Date: 2024-02-05\\nSymbol: BLAN\\nCompany: Hill LLC\\nSector: Consumer\\nOpen: 836.37\\nHigh: 839.04\\nLow: 819.34\\nClose: 820.93\\nVolume: 250644\\nValue: 205761178.92'),\n",
       " Document(id='921ef7bf-d1f7-4242-beca-da19d6375b05', metadata={'source': 'Smith, Johnson and Mendoza', 'row': 377}, page_content='Date: 2024-02-05\\nSymbol: COLE\\nCompany: Smith, Johnson and Mendoza\\nSector: Consumer\\nOpen: 731.8\\nHigh: 731.87\\nLow: 706.16\\nClose: 709.36\\nVolume: 194780\\nValue: 138169140.8'),\n",
       " Document(id='35646ea6-5b9a-4950-8fa3-00a3e6f2b1d8', metadata={'source': 'Nichols, Ward and Miller', 'row': 378}, page_content='Date: 2024-02-05\\nSymbol: CUNN\\nCompany: Nichols, Ward and Miller\\nSector: Consumer\\nOpen: 441.27\\nHigh: 443.55\\nLow: 439.21\\nClose: 442.24\\nVolume: 1077511\\nValue: 476518464.64'),\n",
       " Document(id='d49d7265-95b4-44a5-9779-b07ba404c21b', metadata={'source': 'Parker-Taylor', 'row': 379}, page_content='Date: 2024-02-05\\nSymbol: DAVI\\nCompany: Parker-Taylor\\nSector: Healthcare\\nOpen: 387.56\\nHigh: 390.27\\nLow: 377.36\\nClose: 378.23\\nVolume: 865617\\nValue: 327402317.91'),\n",
       " Document(id='0eee4028-8525-44d0-b5e8-8c439c4f8318', metadata={'source': 'Molina, Ortiz and Rogers', 'row': 380}, page_content='Date: 2024-02-05\\nSymbol: GILM\\nCompany: Molina, Ortiz and Rogers\\nSector: Technology\\nOpen: 114.55\\nHigh: 115.6\\nLow: 109.37\\nClose: 110.4\\nVolume: 1000\\nValue: 110400.0'),\n",
       " Document(id='b224c66b-33c6-4a6d-807c-8f267b9d19a2', metadata={'source': 'Wood, Hutchinson and Hernandez', 'row': 381}, page_content='Date: 2024-02-05\\nSymbol: GUTI\\nCompany: Wood, Hutchinson and Hernandez\\nSector: Finance\\nOpen: 687.78\\nHigh: 694.95\\nLow: 683.31\\nClose: 693.07\\nVolume: 874290\\nValue: 605944170.3'),\n",
       " Document(id='7b32656a-ee15-475b-b20c-c77bfc9ab7ca', metadata={'source': 'Key, Santiago and Costa', 'row': 382}, page_content='Date: 2024-02-05\\nSymbol: HERR\\nCompany: Key, Santiago and Costa\\nSector: Healthcare\\nOpen: 607.36\\nHigh: 615.58\\nLow: 602.54\\nClose: 610.04\\nVolume: 319995\\nValue: 195209749.8'),\n",
       " Document(id='cfd13682-80d4-48ff-9ff9-50931533763a', metadata={'source': 'Kim and Sons', 'row': 383}, page_content='Date: 2024-02-05\\nSymbol: MILL\\nCompany: Kim and Sons\\nSector: Finance\\nOpen: 346.45\\nHigh: 348.98\\nLow: 346.09\\nClose: 347.16\\nVolume: 705685\\nValue: 244985604.6'),\n",
       " Document(id='7c579ecf-8766-4113-a719-0ba52963f156', metadata={'source': 'Deleon-Oliver', 'row': 384}, page_content='Date: 2024-02-05\\nSymbol: MITC\\nCompany: Deleon-Oliver\\nSector: Finance\\nOpen: 363.62\\nHigh: 363.86\\nLow: 355.06\\nClose: 355.78\\nVolume: 487040\\nValue: 173279091.2'),\n",
       " Document(id='4efc1e59-42df-41a8-b78f-f08257c833ad', metadata={'source': 'Petersen-Ali', 'row': 385}, page_content='Date: 2024-02-05\\nSymbol: MOOR\\nCompany: Petersen-Ali\\nSector: Healthcare\\nOpen: 1011.39\\nHigh: 1020.09\\nLow: 991.75\\nClose: 991.79\\nVolume: 469766\\nValue: 465909221.14'),\n",
       " Document(id='7781725f-ce09-4453-8324-8bac051981be', metadata={'source': 'Chavez, Adams and Johnson', 'row': 386}, page_content='Date: 2024-02-05\\nSymbol: SANT\\nCompany: Chavez, Adams and Johnson\\nSector: Energy\\nOpen: 708.03\\nHigh: 711.2\\nLow: 702.26\\nClose: 709.17\\nVolume: 472889\\nValue: 335358692.13'),\n",
       " Document(id='cd3e47ef-70f7-4973-b37e-57ca3ac896df', metadata={'source': 'Walsh, Keller and Pearson', 'row': 387}, page_content='Date: 2024-02-05\\nSymbol: VELA\\nCompany: Walsh, Keller and Pearson\\nSector: Finance\\nOpen: 33.59\\nHigh: 33.89\\nLow: 33.42\\nClose: 33.45\\nVolume: 214845\\nValue: 7186565.25'),\n",
       " Document(id='183d3e8f-a602-4b5f-95c1-d40aba569474', metadata={'source': 'Kramer Ltd', 'row': 388}, page_content='Date: 2024-02-05\\nSymbol: WILK\\nCompany: Kramer Ltd\\nSector: Finance\\nOpen: 627.33\\nHigh: 632.52\\nLow: 621.64\\nClose: 622.93\\nVolume: 567562\\nValue: 353551396.66'),\n",
       " Document(id='e262212d-dd7f-471c-be0d-00c40081f9b2', metadata={'source': 'Moreno-Wagner', 'row': 389}, page_content='Date: 2024-02-05\\nSymbol: WYAT\\nCompany: Moreno-Wagner\\nSector: Healthcare\\nOpen: 418.87\\nHigh: 420.51\\nLow: 412.08\\nClose: 415.72\\nVolume: 635025\\nValue: 263992593.0'),\n",
       " Document(id='2c18cdfd-8af2-48fc-8845-dcccbf984410', metadata={'source': 'Stevens-Brown', 'row': 390}, page_content='Date: 2024-02-06\\nSymbol: BEAR\\nCompany: Stevens-Brown\\nSector: Technology\\nOpen: 384.74\\nHigh: 387.58\\nLow: 363.88\\nClose: 367.31\\nVolume: 342412\\nValue: 125771351.72'),\n",
       " Document(id='10e6a39f-901e-4f41-8be9-bdee559e231a', metadata={'source': 'Hill LLC', 'row': 391}, page_content='Date: 2024-02-06\\nSymbol: BLAN\\nCompany: Hill LLC\\nSector: Consumer\\nOpen: 813.56\\nHigh: 820.23\\nLow: 809.49\\nClose: 811.01\\nVolume: 627349\\nValue: 508786312.49'),\n",
       " Document(id='36c2af06-0bbe-450f-bbfc-e6ca51355a58', metadata={'source': 'Smith, Johnson and Mendoza', 'row': 392}, page_content='Date: 2024-02-06\\nSymbol: COLE\\nCompany: Smith, Johnson and Mendoza\\nSector: Consumer\\nOpen: 714.9\\nHigh: 718.21\\nLow: 693.92\\nClose: 697.2\\nVolume: 974932\\nValue: 679722590.4'),\n",
       " Document(id='922a639b-6def-446f-90e0-aacb13f0563a', metadata={'source': 'Nichols, Ward and Miller', 'row': 393}, page_content='Date: 2024-02-06\\nSymbol: CUNN\\nCompany: Nichols, Ward and Miller\\nSector: Consumer\\nOpen: 445.09\\nHigh: 448.7\\nLow: 438.85\\nClose: 440.83\\nVolume: 683790\\nValue: 301435145.7'),\n",
       " Document(id='dfae9819-4a85-42ee-bd5e-6e704fb53218', metadata={'source': 'Parker-Taylor', 'row': 394}, page_content='Date: 2024-02-06\\nSymbol: DAVI\\nCompany: Parker-Taylor\\nSector: Healthcare\\nOpen: 374.63\\nHigh: 396.94\\nLow: 372.64\\nClose: 393.8\\nVolume: 662955\\nValue: 261071679.0'),\n",
       " Document(id='dfdc4bb3-9ba9-488b-bb66-2ed5084c71fe', metadata={'source': 'Molina, Ortiz and Rogers', 'row': 395}, page_content='Date: 2024-02-06\\nSymbol: GILM\\nCompany: Molina, Ortiz and Rogers\\nSector: Technology\\nOpen: 111.47\\nHigh: 112.26\\nLow: 110.36\\nClose: 111.9\\nVolume: 226339\\nValue: 25327334.1'),\n",
       " Document(id='e0c43cfa-113a-4a1b-93b8-67fe5d9d73e6', metadata={'source': 'Wood, Hutchinson and Hernandez', 'row': 396}, page_content='Date: 2024-02-06\\nSymbol: GUTI\\nCompany: Wood, Hutchinson and Hernandez\\nSector: Finance\\nOpen: 687.54\\nHigh: 705.09\\nLow: 687.14\\nClose: 698.94\\nVolume: 463532\\nValue: 323981056.08'),\n",
       " Document(id='051b3c32-1ad3-412b-b10d-0b1bad2f7a1f', metadata={'source': 'Key, Santiago and Costa', 'row': 397}, page_content='Date: 2024-02-06\\nSymbol: HERR\\nCompany: Key, Santiago and Costa\\nSector: Healthcare\\nOpen: 613.26\\nHigh: 618.97\\nLow: 601.55\\nClose: 604.97\\nVolume: 231059\\nValue: 139783763.23'),\n",
       " Document(id='a9493efd-d9e7-4e70-83e7-bc80284c794f', metadata={'source': 'Kim and Sons', 'row': 398}, page_content='Date: 2024-02-06\\nSymbol: MILL\\nCompany: Kim and Sons\\nSector: Finance\\nOpen: 349.24\\nHigh: 366.54\\nLow: 345.93\\nClose: 365.65\\nVolume: 1056051\\nValue: 386145048.15'),\n",
       " Document(id='a78838dd-47ae-4c07-bc81-792a4ea5fe14', metadata={'source': 'Deleon-Oliver', 'row': 399}, page_content='Date: 2024-02-06\\nSymbol: MITC\\nCompany: Deleon-Oliver\\nSector: Finance\\nOpen: 354.88\\nHigh: 365.08\\nLow: 353.35\\nClose: 363.63\\nVolume: 872660\\nValue: 317325355.8'),\n",
       " Document(id='3557ea8b-52eb-4a42-ae40-cd739859bf93', metadata={'source': 'Petersen-Ali', 'row': 400}, page_content='Date: 2024-02-06\\nSymbol: MOOR\\nCompany: Petersen-Ali\\nSector: Healthcare\\nOpen: 996.68\\nHigh: 1003.55\\nLow: 990.52\\nClose: 996.16\\nVolume: 425574\\nValue: 423939795.84'),\n",
       " Document(id='835962a3-d1bf-4356-b872-94622c5701ab', metadata={'source': 'Chavez, Adams and Johnson', 'row': 401}, page_content='Date: 2024-02-06\\nSymbol: SANT\\nCompany: Chavez, Adams and Johnson\\nSector: Energy\\nOpen: 715.4\\nHigh: 715.57\\nLow: 710.53\\nClose: 712.25\\nVolume: 371868\\nValue: 264862983.0'),\n",
       " Document(id='6972b03d-4c03-4760-a465-e97068aea899', metadata={'source': 'Walsh, Keller and Pearson', 'row': 402}, page_content='Date: 2024-02-06\\nSymbol: VELA\\nCompany: Walsh, Keller and Pearson\\nSector: Finance\\nOpen: 33.18\\nHigh: 33.42\\nLow: 32.93\\nClose: 33.11\\nVolume: 632312\\nValue: 20935850.32'),\n",
       " Document(id='1bb6f29a-48ad-4e90-be88-d1dbd4a322a8', metadata={'source': 'Kramer Ltd', 'row': 403}, page_content='Date: 2024-02-06\\nSymbol: WILK\\nCompany: Kramer Ltd\\nSector: Finance\\nOpen: 625.34\\nHigh: 629.12\\nLow: 618.91\\nClose: 619.65\\nVolume: 463693\\nValue: 287327367.45'),\n",
       " Document(id='09d0ac86-d064-4434-aec2-7ddc8804747a', metadata={'source': 'Moreno-Wagner', 'row': 404}, page_content='Date: 2024-02-06\\nSymbol: WYAT\\nCompany: Moreno-Wagner\\nSector: Healthcare\\nOpen: 415.65\\nHigh: 418.63\\nLow: 399.86\\nClose: 403.85\\nVolume: 512408\\nValue: 206935970.8'),\n",
       " Document(id='f1bfb316-6f4b-483a-acf1-e34a89d41592', metadata={'source': 'Stevens-Brown', 'row': 405}, page_content='Date: 2024-02-07\\nSymbol: BEAR\\nCompany: Stevens-Brown\\nSector: Technology\\nOpen: 367.73\\nHigh: 370.05\\nLow: 367.33\\nClose: 368.25\\nVolume: 611131\\nValue: 225048990.75'),\n",
       " Document(id='739f1827-a44c-4f7f-9790-8b53f26a8e08', metadata={'source': 'Hill LLC', 'row': 406}, page_content='Date: 2024-02-07\\nSymbol: BLAN\\nCompany: Hill LLC\\nSector: Consumer\\nOpen: 803.39\\nHigh: 812.48\\nLow: 796.62\\nClose: 811.73\\nVolume: 425373\\nValue: 345288025.29'),\n",
       " Document(id='95f6bc70-0332-42bc-b3af-8542d1a29536', metadata={'source': 'Smith, Johnson and Mendoza', 'row': 407}, page_content='Date: 2024-02-07\\nSymbol: COLE\\nCompany: Smith, Johnson and Mendoza\\nSector: Consumer\\nOpen: 691.52\\nHigh: 752.99\\nLow: 689.72\\nClose: 748.02\\nVolume: 1149119\\nValue: 859563994.38'),\n",
       " Document(id='60eb5632-4361-48e7-a6ab-06fbacdb4f2e', metadata={'source': 'Nichols, Ward and Miller', 'row': 408}, page_content='Date: 2024-02-07\\nSymbol: CUNN\\nCompany: Nichols, Ward and Miller\\nSector: Consumer\\nOpen: 437.21\\nHigh: 440.49\\nLow: 430.97\\nClose: 431.69\\nVolume: 339295\\nValue: 146470258.55'),\n",
       " Document(id='17a9ca5f-f9d6-438c-87a0-d5d63271cbaa', metadata={'source': 'Parker-Taylor', 'row': 409}, page_content='Date: 2024-02-07\\nSymbol: DAVI\\nCompany: Parker-Taylor\\nSector: Healthcare\\nOpen: 390.74\\nHigh: 392.01\\nLow: 372.75\\nClose: 374.55\\nVolume: 945960\\nValue: 354309318.0'),\n",
       " Document(id='6ae3e44f-b8fd-42e1-bee5-9aa089c8138e', metadata={'source': 'Molina, Ortiz and Rogers', 'row': 410}, page_content='Date: 2024-02-07\\nSymbol: GILM\\nCompany: Molina, Ortiz and Rogers\\nSector: Technology\\nOpen: 111.34\\nHigh: 118.43\\nLow: 110.9\\nClose: 117.64\\nVolume: 1001296\\nValue: 117792461.44'),\n",
       " Document(id='e2062f32-24c4-439f-89c6-1c1139f47975', metadata={'source': 'Wood, Hutchinson and Hernandez', 'row': 411}, page_content='Date: 2024-02-07\\nSymbol: GUTI\\nCompany: Wood, Hutchinson and Hernandez\\nSector: Finance\\nOpen: 704.72\\nHigh: 710.06\\nLow: 690.31\\nClose: 691.44\\nVolume: 550201\\nValue: 380430979.44'),\n",
       " Document(id='fb90232e-c72f-474a-ad62-546d971dc901', metadata={'source': 'Key, Santiago and Costa', 'row': 412}, page_content='Date: 2024-02-07\\nSymbol: HERR\\nCompany: Key, Santiago and Costa\\nSector: Healthcare\\nOpen: 610.12\\nHigh: 619.63\\nLow: 606.17\\nClose: 617.39\\nVolume: 418985\\nValue: 258677149.15'),\n",
       " Document(id='f628d230-9195-447d-8f35-8d138dee27c0', metadata={'source': 'Kim and Sons', 'row': 413}, page_content='Date: 2024-02-07\\nSymbol: MILL\\nCompany: Kim and Sons\\nSector: Finance\\nOpen: 362.17\\nHigh: 364.64\\nLow: 347.38\\nClose: 347.98\\nVolume: 540082\\nValue: 187937734.36'),\n",
       " Document(id='8169e9b4-e499-47d0-b4af-aa26f75c6340', metadata={'source': 'Deleon-Oliver', 'row': 414}, page_content='Date: 2024-02-07\\nSymbol: MITC\\nCompany: Deleon-Oliver\\nSector: Finance\\nOpen: 360.71\\nHigh: 362.22\\nLow: 354.24\\nClose: 355.11\\nVolume: 757116\\nValue: 268859462.76'),\n",
       " Document(id='45c42ece-75c1-4c37-b8f9-5cc3e0876eb8', metadata={'source': 'Petersen-Ali', 'row': 415}, page_content='Date: 2024-02-07\\nSymbol: MOOR\\nCompany: Petersen-Ali\\nSector: Healthcare\\nOpen: 1005.96\\nHigh: 1006.89\\nLow: 968.08\\nClose: 969.22\\nVolume: 167174\\nValue: 162028384.28'),\n",
       " Document(id='61d88e12-f0f9-478f-8263-33cd710c743d', metadata={'source': 'Chavez, Adams and Johnson', 'row': 416}, page_content='Date: 2024-02-07\\nSymbol: SANT\\nCompany: Chavez, Adams and Johnson\\nSector: Energy\\nOpen: 716.81\\nHigh: 720.89\\nLow: 713.45\\nClose: 715.16\\nVolume: 621792\\nValue: 444680766.72'),\n",
       " Document(id='682b8986-8ec7-423e-af5d-a64d4866d3e8', metadata={'source': 'Walsh, Keller and Pearson', 'row': 417}, page_content='Date: 2024-02-07\\nSymbol: VELA\\nCompany: Walsh, Keller and Pearson\\nSector: Finance\\nOpen: 33.37\\nHigh: 34.44\\nLow: 33.36\\nClose: 34.28\\nVolume: 594872\\nValue: 20392212.16'),\n",
       " Document(id='47e4f633-cc60-4d6a-b19d-56a8604917fa', metadata={'source': 'Kramer Ltd', 'row': 418}, page_content='Date: 2024-02-07\\nSymbol: WILK\\nCompany: Kramer Ltd\\nSector: Finance\\nOpen: 622.91\\nHigh: 627.33\\nLow: 613.81\\nClose: 615.25\\nVolume: 413478\\nValue: 254392339.5'),\n",
       " Document(id='bb7699bb-1654-464d-ab76-d8c03af9899b', metadata={'source': 'Moreno-Wagner', 'row': 419}, page_content='Date: 2024-02-07\\nSymbol: WYAT\\nCompany: Moreno-Wagner\\nSector: Healthcare\\nOpen: 400.99\\nHigh: 412.93\\nLow: 398.89\\nClose: 409.24\\nVolume: 230533\\nValue: 94343324.92'),\n",
       " Document(id='2ad3db50-e7f7-4565-9eb1-270b7b547518', metadata={'source': 'Stevens-Brown', 'row': 420}, page_content='Date: 2024-02-08\\nSymbol: BEAR\\nCompany: Stevens-Brown\\nSector: Technology\\nOpen: 365.73\\nHigh: 375.7\\nLow: 364.41\\nClose: 372.03\\nVolume: 852589\\nValue: 317188685.67'),\n",
       " Document(id='76c4355a-9dc1-460f-bbdc-0ce48d25f464', metadata={'source': 'Hill LLC', 'row': 421}, page_content='Date: 2024-02-08\\nSymbol: BLAN\\nCompany: Hill LLC\\nSector: Consumer\\nOpen: 812.56\\nHigh: 819.96\\nLow: 751.98\\nClose: 757.64\\nVolume: 1179036\\nValue: 893284835.04'),\n",
       " Document(id='c304159f-18a7-4483-98ed-7c3ce63ab59b', metadata={'source': 'Smith, Johnson and Mendoza', 'row': 422}, page_content='Date: 2024-02-08\\nSymbol: COLE\\nCompany: Smith, Johnson and Mendoza\\nSector: Consumer\\nOpen: 749.34\\nHigh: 773.14\\nLow: 744.37\\nClose: 766.87\\nVolume: 553544\\nValue: 424496287.28'),\n",
       " Document(id='4f5dd198-5ae9-46fb-9f9e-4489388d4f2c', metadata={'source': 'Nichols, Ward and Miller', 'row': 423}, page_content='Date: 2024-02-08\\nSymbol: CUNN\\nCompany: Nichols, Ward and Miller\\nSector: Consumer\\nOpen: 427.99\\nHigh: 428.27\\nLow: 427.44\\nClose: 428.05\\nVolume: 654343\\nValue: 280091521.15'),\n",
       " Document(id='6dba5021-7d92-495e-925b-14129be971f3', metadata={'source': 'Parker-Taylor', 'row': 424}, page_content='Date: 2024-02-08\\nSymbol: DAVI\\nCompany: Parker-Taylor\\nSector: Healthcare\\nOpen: 371.49\\nHigh: 371.75\\nLow: 356.44\\nClose: 357.21\\nVolume: 847549\\nValue: 302752978.29'),\n",
       " Document(id='0b4e4e23-c787-4aa7-b50a-4ce6403baf5f', metadata={'source': 'Molina, Ortiz and Rogers', 'row': 425}, page_content='Date: 2024-02-08\\nSymbol: GILM\\nCompany: Molina, Ortiz and Rogers\\nSector: Technology\\nOpen: 118.14\\nHigh: 118.84\\nLow: 116.73\\nClose: 117.42\\nVolume: 209046\\nValue: 24546181.32'),\n",
       " Document(id='4d3d6c03-f33c-4a1a-a54b-8dca246981e1', metadata={'source': 'Wood, Hutchinson and Hernandez', 'row': 426}, page_content='Date: 2024-02-08\\nSymbol: GUTI\\nCompany: Wood, Hutchinson and Hernandez\\nSector: Finance\\nOpen: 690.68\\nHigh: 709.79\\nLow: 684.52\\nClose: 705.98\\nVolume: 751486\\nValue: 530534086.28'),\n",
       " Document(id='fd4e673d-07e9-4385-a5c9-0c418f0f01a9', metadata={'source': 'Key, Santiago and Costa', 'row': 427}, page_content='Date: 2024-02-08\\nSymbol: HERR\\nCompany: Key, Santiago and Costa\\nSector: Healthcare\\nOpen: 618.28\\nHigh: 620.02\\nLow: 586.29\\nClose: 589.86\\nVolume: 839281\\nValue: 495058290.66'),\n",
       " Document(id='d8f06764-9a52-4456-a55d-1a92a1eb34db', metadata={'source': 'Kim and Sons', 'row': 428}, page_content='Date: 2024-02-08\\nSymbol: MILL\\nCompany: Kim and Sons\\nSector: Finance\\nOpen: 347.93\\nHigh: 350.45\\nLow: 336.47\\nClose: 337.33\\nVolume: 683162\\nValue: 230451037.46'),\n",
       " Document(id='6f1dcce5-4d0f-4d7c-b254-05847efa87d3', metadata={'source': 'Deleon-Oliver', 'row': 429}, page_content='Date: 2024-02-08\\nSymbol: MITC\\nCompany: Deleon-Oliver\\nSector: Finance\\nOpen: 356.67\\nHigh: 362.17\\nLow: 353.45\\nClose: 361.25\\nVolume: 901520\\nValue: 325674100.0'),\n",
       " Document(id='dbdf09d5-c5d6-47f1-977b-53094f807923', metadata={'source': 'Petersen-Ali', 'row': 430}, page_content='Date: 2024-02-08\\nSymbol: MOOR\\nCompany: Petersen-Ali\\nSector: Healthcare\\nOpen: 978.49\\nHigh: 981.05\\nLow: 954.17\\nClose: 960.24\\nVolume: 522078\\nValue: 501320178.72'),\n",
       " Document(id='480f2d81-3f08-48d9-a1d8-d49978d76c47', metadata={'source': 'Chavez, Adams and Johnson', 'row': 431}, page_content='Date: 2024-02-08\\nSymbol: SANT\\nCompany: Chavez, Adams and Johnson\\nSector: Energy\\nOpen: 710.71\\nHigh: 711.34\\nLow: 694.79\\nClose: 696.22\\nVolume: 518460\\nValue: 360962221.2'),\n",
       " Document(id='68b03aa9-0039-410a-9e0a-83445badda35', metadata={'source': 'Walsh, Keller and Pearson', 'row': 432}, page_content='Date: 2024-02-08\\nSymbol: VELA\\nCompany: Walsh, Keller and Pearson\\nSector: Finance\\nOpen: 34.31\\nHigh: 34.58\\nLow: 34.19\\nClose: 34.53\\nVolume: 492284\\nValue: 16998566.52'),\n",
       " Document(id='53d78ef8-7e5d-4735-a2c4-101bdd8f0a1a', metadata={'source': 'Kramer Ltd', 'row': 433}, page_content='Date: 2024-02-08\\nSymbol: WILK\\nCompany: Kramer Ltd\\nSector: Finance\\nOpen: 614.57\\nHigh: 623.04\\nLow: 611.55\\nClose: 618.53\\nVolume: 434926\\nValue: 269014778.78'),\n",
       " Document(id='897c97d6-687a-48cd-9d2d-a9be06a79da7', metadata={'source': 'Moreno-Wagner', 'row': 434}, page_content='Date: 2024-02-08\\nSymbol: WYAT\\nCompany: Moreno-Wagner\\nSector: Healthcare\\nOpen: 406.22\\nHigh: 410.66\\nLow: 402.38\\nClose: 408.92\\nVolume: 642820\\nValue: 262861954.4'),\n",
       " Document(id='69419ff8-10b1-482a-a0dd-3864bfd412eb', metadata={'source': 'Stevens-Brown', 'row': 435}, page_content='Date: 2024-02-09\\nSymbol: BEAR\\nCompany: Stevens-Brown\\nSector: Technology\\nOpen: 374.32\\nHigh: 375.85\\nLow: 356.86\\nClose: 359.44\\nVolume: 786855\\nValue: 282827161.2'),\n",
       " Document(id='43f13300-d8e7-402c-8d99-18332716af7c', metadata={'source': 'Hill LLC', 'row': 436}, page_content='Date: 2024-02-09\\nSymbol: BLAN\\nCompany: Hill LLC\\nSector: Consumer\\nOpen: 750.81\\nHigh: 753.34\\nLow: 748.28\\nClose: 750.59\\nVolume: 631235\\nValue: 473798678.65'),\n",
       " Document(id='ae938932-f7ca-42d2-b97c-9451e49897a8', metadata={'source': 'Smith, Johnson and Mendoza', 'row': 437}, page_content='Date: 2024-02-09\\nSymbol: COLE\\nCompany: Smith, Johnson and Mendoza\\nSector: Consumer\\nOpen: 772.01\\nHigh: 813.97\\nLow: 764.81\\nClose: 808.95\\nVolume: 721235\\nValue: 583443053.25'),\n",
       " Document(id='6dfd7263-1992-4009-9aa8-1cd84b2085ec', metadata={'source': 'Nichols, Ward and Miller', 'row': 438}, page_content='Date: 2024-02-09\\nSymbol: CUNN\\nCompany: Nichols, Ward and Miller\\nSector: Consumer\\nOpen: 427.72\\nHigh: 439.77\\nLow: 424.95\\nClose: 436.16\\nVolume: 778257\\nValue: 339444573.12'),\n",
       " Document(id='c73a93e7-7463-439a-8f8d-3d4df5486ddd', metadata={'source': 'Parker-Taylor', 'row': 439}, page_content='Date: 2024-02-09\\nSymbol: DAVI\\nCompany: Parker-Taylor\\nSector: Healthcare\\nOpen: 359.41\\nHigh: 376.84\\nLow: 357.37\\nClose: 373.85\\nVolume: 887764\\nValue: 331890571.4'),\n",
       " Document(id='b19db701-fb4d-4576-9989-03572ae3977b', metadata={'source': 'Molina, Ortiz and Rogers', 'row': 440}, page_content='Date: 2024-02-09\\nSymbol: GILM\\nCompany: Molina, Ortiz and Rogers\\nSector: Technology\\nOpen: 118.25\\nHigh: 118.56\\nLow: 114.71\\nClose: 115.75\\nVolume: 933176\\nValue: 108015122.0'),\n",
       " Document(id='6631b90f-dc46-4ff8-a995-ce03f3e4c299', metadata={'source': 'Wood, Hutchinson and Hernandez', 'row': 441}, page_content='Date: 2024-02-09\\nSymbol: GUTI\\nCompany: Wood, Hutchinson and Hernandez\\nSector: Finance\\nOpen: 699.02\\nHigh: 702.25\\nLow: 694.24\\nClose: 699.33\\nVolume: 877102\\nValue: 613383741.66'),\n",
       " Document(id='330e2ed8-ce29-4057-be6a-097991399e4e', metadata={'source': 'Key, Santiago and Costa', 'row': 442}, page_content='Date: 2024-02-09\\nSymbol: HERR\\nCompany: Key, Santiago and Costa\\nSector: Healthcare\\nOpen: 585.61\\nHigh: 590.66\\nLow: 558.25\\nClose: 560.54\\nVolume: 552363\\nValue: 309621556.02'),\n",
       " Document(id='3bfc6016-e912-42e3-b25f-5dfad76f66db', metadata={'source': 'Kim and Sons', 'row': 443}, page_content='Date: 2024-02-09\\nSymbol: MILL\\nCompany: Kim and Sons\\nSector: Finance\\nOpen: 339.32\\nHigh: 342.06\\nLow: 332.7\\nClose: 335.57\\nVolume: 661116\\nValue: 221850696.12'),\n",
       " Document(id='c7e325ad-2d7d-43cf-98df-05ca1055ebb9', metadata={'source': 'Deleon-Oliver', 'row': 444}, page_content='Date: 2024-02-09\\nSymbol: MITC\\nCompany: Deleon-Oliver\\nSector: Finance\\nOpen: 359.15\\nHigh: 359.98\\nLow: 358.37\\nClose: 359.7\\nVolume: 484666\\nValue: 174334360.2'),\n",
       " Document(id='74b4cdd0-dbc1-4ef7-a228-6d31b91af8f5', metadata={'source': 'Petersen-Ali', 'row': 445}, page_content='Date: 2024-02-09\\nSymbol: MOOR\\nCompany: Petersen-Ali\\nSector: Healthcare\\nOpen: 967.1\\nHigh: 974.86\\nLow: 952.14\\nClose: 960.73\\nVolume: 188286\\nValue: 180892008.78'),\n",
       " Document(id='0db0867f-fa28-4dd4-9759-c63bd50dfce3', metadata={'source': 'Chavez, Adams and Johnson', 'row': 446}, page_content='Date: 2024-02-09\\nSymbol: SANT\\nCompany: Chavez, Adams and Johnson\\nSector: Energy\\nOpen: 695.34\\nHigh: 704.1\\nLow: 688.78\\nClose: 698.46\\nVolume: 575226\\nValue: 401772351.96'),\n",
       " Document(id='f4839692-b97b-43e2-9bf1-2694ea17f99f', metadata={'source': 'Walsh, Keller and Pearson', 'row': 447}, page_content='Date: 2024-02-09\\nSymbol: VELA\\nCompany: Walsh, Keller and Pearson\\nSector: Finance\\nOpen: 34.79\\nHigh: 35.01\\nLow: 33.18\\nClose: 33.41\\nVolume: 358711\\nValue: 11984534.51'),\n",
       " Document(id='471b6234-341b-4500-b491-f2d7246caadc', metadata={'source': 'Kramer Ltd', 'row': 448}, page_content='Date: 2024-02-09\\nSymbol: WILK\\nCompany: Kramer Ltd\\nSector: Finance\\nOpen: 614.71\\nHigh: 627.17\\nLow: 609.34\\nClose: 621.46\\nVolume: 621120\\nValue: 386001235.2'),\n",
       " Document(id='851b5a6e-2418-4f17-ada4-ca4616912c7b', metadata={'source': 'Moreno-Wagner', 'row': 449}, page_content='Date: 2024-02-09\\nSymbol: WYAT\\nCompany: Moreno-Wagner\\nSector: Healthcare\\nOpen: 410.43\\nHigh: 411.01\\nLow: 399.28\\nClose: 402.54\\nVolume: 348250\\nValue: 140184555.0'),\n",
       " Document(id='d924e178-8327-408e-a212-73ce5559b6f7', metadata={'source': 'Stevens-Brown', 'row': 450}, page_content='Date: 2024-02-12\\nSymbol: BEAR\\nCompany: Stevens-Brown\\nSector: Technology\\nOpen: 359.88\\nHigh: 363.2\\nLow: 356.29\\nClose: 360.58\\nVolume: 430227\\nValue: 155131251.66'),\n",
       " Document(id='ec326886-55fd-40fc-a47b-31a5937f8db3', metadata={'source': 'Hill LLC', 'row': 451}, page_content='Date: 2024-02-12\\nSymbol: BLAN\\nCompany: Hill LLC\\nSector: Consumer\\nOpen: 752.15\\nHigh: 757.81\\nLow: 743.45\\nClose: 745.17\\nVolume: 496428\\nValue: 369923252.76'),\n",
       " Document(id='5e6a1c30-2ba9-49ed-be8e-0cac6813a7b9', metadata={'source': 'Smith, Johnson and Mendoza', 'row': 452}, page_content='Date: 2024-02-12\\nSymbol: COLE\\nCompany: Smith, Johnson and Mendoza\\nSector: Consumer\\nOpen: 802.3\\nHigh: 824.9\\nLow: 795.32\\nClose: 823.78\\nVolume: 555868\\nValue: 457912941.04'),\n",
       " Document(id='73e34544-4007-4c34-87b1-a0f19ddf220b', metadata={'source': 'Nichols, Ward and Miller', 'row': 453}, page_content='Date: 2024-02-12\\nSymbol: CUNN\\nCompany: Nichols, Ward and Miller\\nSector: Consumer\\nOpen: 435.93\\nHigh: 442.01\\nLow: 433.35\\nClose: 441.32\\nVolume: 242922\\nValue: 107206337.04'),\n",
       " Document(id='53a7e3e2-34be-462c-adc4-eae24edca1e0', metadata={'source': 'Parker-Taylor', 'row': 454}, page_content='Date: 2024-02-12\\nSymbol: DAVI\\nCompany: Parker-Taylor\\nSector: Healthcare\\nOpen: 376.07\\nHigh: 377.84\\nLow: 355.77\\nClose: 359.01\\nVolume: 739559\\nValue: 265509076.59'),\n",
       " Document(id='853ff58a-b22b-4467-9385-54b83846b58d', metadata={'source': 'Molina, Ortiz and Rogers', 'row': 455}, page_content='Date: 2024-02-12\\nSymbol: GILM\\nCompany: Molina, Ortiz and Rogers\\nSector: Technology\\nOpen: 115.77\\nHigh: 122.65\\nLow: 114.88\\nClose: 122.12\\nVolume: 477474\\nValue: 58309124.88'),\n",
       " Document(id='b0fcf482-f58f-4c6c-8579-3b3d2acc9507', metadata={'source': 'Wood, Hutchinson and Hernandez', 'row': 456}, page_content='Date: 2024-02-12\\nSymbol: GUTI\\nCompany: Wood, Hutchinson and Hernandez\\nSector: Finance\\nOpen: 692.38\\nHigh: 709.78\\nLow: 690.2\\nClose: 709.69\\nVolume: 815736\\nValue: 578919681.84'),\n",
       " Document(id='c3588ca4-a4eb-453c-ba1e-d22fd0c4a11f', metadata={'source': 'Key, Santiago and Costa', 'row': 457}, page_content='Date: 2024-02-12\\nSymbol: HERR\\nCompany: Key, Santiago and Costa\\nSector: Healthcare\\nOpen: 557.22\\nHigh: 562.27\\nLow: 540.29\\nClose: 545.13\\nVolume: 955010\\nValue: 520604601.3'),\n",
       " Document(id='ce80ab7d-1171-4341-bf2b-ebb5fb15ea3d', metadata={'source': 'Kim and Sons', 'row': 458}, page_content='Date: 2024-02-12\\nSymbol: MILL\\nCompany: Kim and Sons\\nSector: Finance\\nOpen: 336.06\\nHigh: 337.84\\nLow: 332.47\\nClose: 334.68\\nVolume: 507680\\nValue: 169910342.4'),\n",
       " Document(id='64da259f-5eb6-440f-993d-ff7fe17c3f33', metadata={'source': 'Deleon-Oliver', 'row': 459}, page_content='Date: 2024-02-12\\nSymbol: MITC\\nCompany: Deleon-Oliver\\nSector: Finance\\nOpen: 356.32\\nHigh: 358.44\\nLow: 350.49\\nClose: 350.66\\nVolume: 557588\\nValue: 195523808.08'),\n",
       " Document(id='e07a206b-090b-40d3-8b3d-62c241f3bef8', metadata={'source': 'Petersen-Ali', 'row': 460}, page_content='Date: 2024-02-12\\nSymbol: MOOR\\nCompany: Petersen-Ali\\nSector: Healthcare\\nOpen: 965.89\\nHigh: 965.97\\nLow: 953.12\\nClose: 959.78\\nVolume: 416066\\nValue: 399331825.48'),\n",
       " Document(id='7795b219-58da-4d48-8c61-a896dbce82a4', metadata={'source': 'Chavez, Adams and Johnson', 'row': 461}, page_content='Date: 2024-02-12\\nSymbol: SANT\\nCompany: Chavez, Adams and Johnson\\nSector: Energy\\nOpen: 702.93\\nHigh: 707.48\\nLow: 697.17\\nClose: 703.93\\nVolume: 414862\\nValue: 292033807.66'),\n",
       " Document(id='1225d1a9-2c87-4a65-8d2a-28717546447f', metadata={'source': 'Walsh, Keller and Pearson', 'row': 462}, page_content='Date: 2024-02-12\\nSymbol: VELA\\nCompany: Walsh, Keller and Pearson\\nSector: Finance\\nOpen: 33.72\\nHigh: 34.04\\nLow: 32.49\\nClose: 32.76\\nVolume: 433578\\nValue: 14204015.28'),\n",
       " Document(id='638b0410-3d41-4092-9bc3-fc5b50a4b142', metadata={'source': 'Kramer Ltd', 'row': 463}, page_content='Date: 2024-02-12\\nSymbol: WILK\\nCompany: Kramer Ltd\\nSector: Finance\\nOpen: 626.59\\nHigh: 629.37\\nLow: 613.51\\nClose: 619.12\\nVolume: 459798\\nValue: 284670137.76'),\n",
       " Document(id='ff641b2a-9313-4d7e-b1f5-a3c694913773', metadata={'source': 'Moreno-Wagner', 'row': 464}, page_content='Date: 2024-02-12\\nSymbol: WYAT\\nCompany: Moreno-Wagner\\nSector: Healthcare\\nOpen: 404.58\\nHigh: 405.25\\nLow: 399.91\\nClose: 402.48\\nVolume: 1000\\nValue: 402480.0'),\n",
       " Document(id='7256f300-0beb-43e3-bd24-b0e8586c6d92', metadata={'source': 'Stevens-Brown', 'row': 465}, page_content='Date: 2024-02-13\\nSymbol: BEAR\\nCompany: Stevens-Brown\\nSector: Technology\\nOpen: 360.36\\nHigh: 363.36\\nLow: 352.36\\nClose: 355.04\\nVolume: 658813\\nValue: 233904967.52'),\n",
       " Document(id='6656ba94-a071-4f49-a8da-6812861075f3', metadata={'source': 'Hill LLC', 'row': 466}, page_content='Date: 2024-02-13\\nSymbol: BLAN\\nCompany: Hill LLC\\nSector: Consumer\\nOpen: 739.26\\nHigh: 773.27\\nLow: 734.73\\nClose: 766.45\\nVolume: 574615\\nValue: 440413666.75'),\n",
       " Document(id='b1df3a7e-d96b-40cf-be53-fe8af050d1d6', metadata={'source': 'Smith, Johnson and Mendoza', 'row': 467}, page_content='Date: 2024-02-13\\nSymbol: COLE\\nCompany: Smith, Johnson and Mendoza\\nSector: Consumer\\nOpen: 817.01\\nHigh: 832.29\\nLow: 813.44\\nClose: 829.39\\nVolume: 477462\\nValue: 396002208.18'),\n",
       " Document(id='a4ab8648-2393-4b3f-88ec-d5a9cbc47bcb', metadata={'source': 'Nichols, Ward and Miller', 'row': 468}, page_content='Date: 2024-02-13\\nSymbol: CUNN\\nCompany: Nichols, Ward and Miller\\nSector: Consumer\\nOpen: 440.57\\nHigh: 440.98\\nLow: 437.18\\nClose: 438.15\\nVolume: 233877\\nValue: 102473207.55'),\n",
       " Document(id='c11d932b-81a7-4278-a6a1-a966b7b2616c', metadata={'source': 'Parker-Taylor', 'row': 469}, page_content='Date: 2024-02-13\\nSymbol: DAVI\\nCompany: Parker-Taylor\\nSector: Healthcare\\nOpen: 355.56\\nHigh: 382.25\\nLow: 355.33\\nClose: 379.12\\nVolume: 809539\\nValue: 306912425.68'),\n",
       " Document(id='fe2ab4d1-5587-452f-acc3-fe97d0c5ae52', metadata={'source': 'Molina, Ortiz and Rogers', 'row': 470}, page_content='Date: 2024-02-13\\nSymbol: GILM\\nCompany: Molina, Ortiz and Rogers\\nSector: Technology\\nOpen: 121.08\\nHigh: 122.71\\nLow: 121.07\\nClose: 122.66\\nVolume: 356136\\nValue: 43683641.76'),\n",
       " Document(id='e956caec-8c8c-4e62-8fcf-0ba6e461a0aa', metadata={'source': 'Wood, Hutchinson and Hernandez', 'row': 471}, page_content='Date: 2024-02-13\\nSymbol: GUTI\\nCompany: Wood, Hutchinson and Hernandez\\nSector: Finance\\nOpen: 703.47\\nHigh: 720.29\\nLow: 698.73\\nClose: 713.22\\nVolume: 835329\\nValue: 595773349.38'),\n",
       " Document(id='be79984f-3407-4366-bf5e-5471f02689e2', metadata={'source': 'Key, Santiago and Costa', 'row': 472}, page_content='Date: 2024-02-13\\nSymbol: HERR\\nCompany: Key, Santiago and Costa\\nSector: Healthcare\\nOpen: 540.78\\nHigh: 545.22\\nLow: 522.61\\nClose: 526.27\\nVolume: 861990\\nValue: 453639477.3'),\n",
       " Document(id='5ef94324-36f2-44d8-b323-b6e9f9e081bb', metadata={'source': 'Kim and Sons', 'row': 473}, page_content='Date: 2024-02-13\\nSymbol: MILL\\nCompany: Kim and Sons\\nSector: Finance\\nOpen: 337.87\\nHigh: 340.79\\nLow: 330.04\\nClose: 332.99\\nVolume: 443089\\nValue: 147544206.11'),\n",
       " Document(id='54830041-f510-48c0-9f76-9fb4cc29f50b', metadata={'source': 'Deleon-Oliver', 'row': 474}, page_content='Date: 2024-02-13\\nSymbol: MITC\\nCompany: Deleon-Oliver\\nSector: Finance\\nOpen: 347.58\\nHigh: 350.51\\nLow: 346.93\\nClose: 348.37\\nVolume: 721665\\nValue: 251406436.05'),\n",
       " Document(id='e6c9e76f-2fca-4bd5-8e56-6f34d322a27e', metadata={'source': 'Petersen-Ali', 'row': 475}, page_content='Date: 2024-02-13\\nSymbol: MOOR\\nCompany: Petersen-Ali\\nSector: Healthcare\\nOpen: 964.61\\nHigh: 968.26\\nLow: 891.38\\nClose: 893.35\\nVolume: 1044627\\nValue: 933217530.45'),\n",
       " Document(id='24d71f3e-21db-411b-b6f8-f2d6f5ceecb3', metadata={'source': 'Chavez, Adams and Johnson', 'row': 476}, page_content='Date: 2024-02-13\\nSymbol: SANT\\nCompany: Chavez, Adams and Johnson\\nSector: Energy\\nOpen: 705.37\\nHigh: 708.14\\nLow: 700.24\\nClose: 702.01\\nVolume: 545545\\nValue: 382978045.45'),\n",
       " Document(id='6ed06f0a-90e2-4499-9963-ee28bc6a958d', metadata={'source': 'Walsh, Keller and Pearson', 'row': 477}, page_content='Date: 2024-02-13\\nSymbol: VELA\\nCompany: Walsh, Keller and Pearson\\nSector: Finance\\nOpen: 32.76\\nHigh: 32.85\\nLow: 31.09\\nClose: 31.29\\nVolume: 811745\\nValue: 25399501.05'),\n",
       " Document(id='4f9d552e-06ad-4652-8646-8fc24d928ca5', metadata={'source': 'Kramer Ltd', 'row': 478}, page_content='Date: 2024-02-13\\nSymbol: WILK\\nCompany: Kramer Ltd\\nSector: Finance\\nOpen: 614.28\\nHigh: 621.75\\nLow: 611.1\\nClose: 618.36\\nVolume: 276568\\nValue: 171018588.48'),\n",
       " Document(id='46069219-3b38-46f6-ae7f-2c8cfd64509b', metadata={'source': 'Moreno-Wagner', 'row': 479}, page_content='Date: 2024-02-13\\nSymbol: WYAT\\nCompany: Moreno-Wagner\\nSector: Healthcare\\nOpen: 405.69\\nHigh: 407.02\\nLow: 400.77\\nClose: 403.84\\nVolume: 643017\\nValue: 259675985.28'),\n",
       " Document(id='d553065a-48f9-4ed7-bfcd-aeb27e628e15', metadata={'source': 'Stevens-Brown', 'row': 480}, page_content='Date: 2024-02-14\\nSymbol: BEAR\\nCompany: Stevens-Brown\\nSector: Technology\\nOpen: 357.15\\nHigh: 359.36\\nLow: 356.62\\nClose: 356.99\\nVolume: 459324\\nValue: 163974074.76'),\n",
       " Document(id='59c67eb9-48f7-48b1-852f-cc4ecf9dc0b0', metadata={'source': 'Hill LLC', 'row': 481}, page_content='Date: 2024-02-14\\nSymbol: BLAN\\nCompany: Hill LLC\\nSector: Consumer\\nOpen: 765.54\\nHigh: 782.48\\nLow: 760.19\\nClose: 774.91\\nVolume: 393854\\nValue: 305201403.14'),\n",
       " Document(id='94c5297d-edd1-4eed-9b03-6110f6317a6e', metadata={'source': 'Smith, Johnson and Mendoza', 'row': 482}, page_content='Date: 2024-02-14\\nSymbol: COLE\\nCompany: Smith, Johnson and Mendoza\\nSector: Consumer\\nOpen: 824.39\\nHigh: 824.62\\nLow: 783.98\\nClose: 789.51\\nVolume: 269448\\nValue: 212731890.48'),\n",
       " Document(id='1938612a-091f-47d2-b92b-4fafbc4cbbcd', metadata={'source': 'Nichols, Ward and Miller', 'row': 483}, page_content='Date: 2024-02-14\\nSymbol: CUNN\\nCompany: Nichols, Ward and Miller\\nSector: Consumer\\nOpen: 434.13\\nHigh: 443.99\\nLow: 431.76\\nClose: 440.72\\nVolume: 574595\\nValue: 253235508.4'),\n",
       " Document(id='ff3ebf95-d5fa-464e-9c52-6aa2f0532b5b', metadata={'source': 'Parker-Taylor', 'row': 484}, page_content='Date: 2024-02-14\\nSymbol: DAVI\\nCompany: Parker-Taylor\\nSector: Healthcare\\nOpen: 381.18\\nHigh: 381.41\\nLow: 368.82\\nClose: 371.6\\nVolume: 211085\\nValue: 78439186.0'),\n",
       " Document(id='083c3441-b757-40b7-800b-8d615543f3b5', metadata={'source': 'Molina, Ortiz and Rogers', 'row': 485}, page_content='Date: 2024-02-14\\nSymbol: GILM\\nCompany: Molina, Ortiz and Rogers\\nSector: Technology\\nOpen: 123.72\\nHigh: 124.75\\nLow: 122.87\\nClose: 124.07\\nVolume: 95261\\nValue: 11819032.27'),\n",
       " Document(id='37521cb8-12e6-4637-bfcc-234f6e4f227a', metadata={'source': 'Wood, Hutchinson and Hernandez', 'row': 486}, page_content='Date: 2024-02-14\\nSymbol: GUTI\\nCompany: Wood, Hutchinson and Hernandez\\nSector: Finance\\nOpen: 708.23\\nHigh: 727.65\\nLow: 706.25\\nClose: 725.02\\nVolume: 685205\\nValue: 496787329.1'),\n",
       " Document(id='1a2820a6-4aa9-4889-ad7f-fd90d8b7091e', metadata={'source': 'Key, Santiago and Costa', 'row': 487}, page_content='Date: 2024-02-14\\nSymbol: HERR\\nCompany: Key, Santiago and Costa\\nSector: Healthcare\\nOpen: 527.57\\nHigh: 532.65\\nLow: 503.02\\nClose: 503.1\\nVolume: 1173352\\nValue: 590313391.2'),\n",
       " Document(id='8d0f9412-fd72-479d-bff7-c725c33e55bb', metadata={'source': 'Kim and Sons', 'row': 488}, page_content='Date: 2024-02-14\\nSymbol: MILL\\nCompany: Kim and Sons\\nSector: Finance\\nOpen: 335.28\\nHigh: 336.19\\nLow: 327.37\\nClose: 328.09\\nVolume: 721127\\nValue: 236594557.43'),\n",
       " Document(id='1c76a054-4015-4ac1-bede-758260bc134a', metadata={'source': 'Deleon-Oliver', 'row': 489}, page_content='Date: 2024-02-14\\nSymbol: MITC\\nCompany: Deleon-Oliver\\nSector: Finance\\nOpen: 348.31\\nHigh: 362.09\\nLow: 348.07\\nClose: 359.26\\nVolume: 718510\\nValue: 258131902.6'),\n",
       " Document(id='1bbac328-2645-4d47-a087-f2ea3370c2a9', metadata={'source': 'Petersen-Ali', 'row': 490}, page_content='Date: 2024-02-14\\nSymbol: MOOR\\nCompany: Petersen-Ali\\nSector: Healthcare\\nOpen: 888.07\\nHigh: 940.24\\nLow: 887.88\\nClose: 933.75\\nVolume: 322636\\nValue: 301261365.0'),\n",
       " Document(id='f5909427-d2a8-42b7-8a46-8cd1173bee7e', metadata={'source': 'Chavez, Adams and Johnson', 'row': 491}, page_content='Date: 2024-02-14\\nSymbol: SANT\\nCompany: Chavez, Adams and Johnson\\nSector: Energy\\nOpen: 709.0\\nHigh: 715.04\\nLow: 700.09\\nClose: 704.47\\nVolume: 714507\\nValue: 503348746.29'),\n",
       " Document(id='3921227a-e398-4086-8550-2ad279b593ad', metadata={'source': 'Walsh, Keller and Pearson', 'row': 492}, page_content='Date: 2024-02-14\\nSymbol: VELA\\nCompany: Walsh, Keller and Pearson\\nSector: Finance\\nOpen: 31.14\\nHigh: 31.39\\nLow: 29.76\\nClose: 30.03\\nVolume: 427770\\nValue: 12845933.1'),\n",
       " Document(id='9c107567-91bd-4f34-bc95-97416b0e09fb', metadata={'source': 'Kramer Ltd', 'row': 493}, page_content='Date: 2024-02-14\\nSymbol: WILK\\nCompany: Kramer Ltd\\nSector: Finance\\nOpen: 613.47\\nHigh: 631.47\\nLow: 608.47\\nClose: 630.04\\nVolume: 825238\\nValue: 519932949.52'),\n",
       " Document(id='526f3038-1f6c-47f0-b831-e1b3a62b6e68', metadata={'source': 'Moreno-Wagner', 'row': 494}, page_content='Date: 2024-02-14\\nSymbol: WYAT\\nCompany: Moreno-Wagner\\nSector: Healthcare\\nOpen: 403.8\\nHigh: 405.72\\nLow: 394.15\\nClose: 394.61\\nVolume: 633533\\nValue: 249998457.13'),\n",
       " Document(id='082f86f5-7673-4e94-910d-b05f1f5c81e4', metadata={'source': 'Stevens-Brown', 'row': 495}, page_content='Date: 2024-02-15\\nSymbol: BEAR\\nCompany: Stevens-Brown\\nSector: Technology\\nOpen: 358.91\\nHigh: 359.58\\nLow: 345.7\\nClose: 347.51\\nVolume: 516210\\nValue: 179388137.1'),\n",
       " Document(id='3ea1d721-4b33-41da-97e0-fbbf8c30580d', metadata={'source': 'Hill LLC', 'row': 496}, page_content='Date: 2024-02-15\\nSymbol: BLAN\\nCompany: Hill LLC\\nSector: Consumer\\nOpen: 773.32\\nHigh: 794.26\\nLow: 767.91\\nClose: 787.74\\nVolume: 452609\\nValue: 356538213.66'),\n",
       " Document(id='b1a88999-a334-4d24-95ea-3032b32d4051', metadata={'source': 'Smith, Johnson and Mendoza', 'row': 497}, page_content='Date: 2024-02-15\\nSymbol: COLE\\nCompany: Smith, Johnson and Mendoza\\nSector: Consumer\\nOpen: 788.94\\nHigh: 809.57\\nLow: 786.55\\nClose: 806.18\\nVolume: 635104\\nValue: 512008142.72'),\n",
       " Document(id='45e8e1ca-ddeb-49b2-9c0f-136a26f2b30e', metadata={'source': 'Nichols, Ward and Miller', 'row': 498}, page_content='Date: 2024-02-15\\nSymbol: CUNN\\nCompany: Nichols, Ward and Miller\\nSector: Consumer\\nOpen: 443.48\\nHigh: 444.88\\nLow: 438.26\\nClose: 441.24\\nVolume: 412162\\nValue: 181862360.88'),\n",
       " Document(id='bf98c143-14cb-4eed-8cf3-baeb0c09fd2b', metadata={'source': 'Parker-Taylor', 'row': 499}, page_content='Date: 2024-02-15\\nSymbol: DAVI\\nCompany: Parker-Taylor\\nSector: Healthcare\\nOpen: 375.12\\nHigh: 377.04\\nLow: 368.05\\nClose: 368.97\\nVolume: 587435\\nValue: 216745891.95'),\n",
       " Document(id='65720753-98c6-48f6-836f-e1b78a5fbf4a', metadata={'source': 'Molina, Ortiz and Rogers', 'row': 500}, page_content='Date: 2024-02-15\\nSymbol: GILM\\nCompany: Molina, Ortiz and Rogers\\nSector: Technology\\nOpen: 125.15\\nHigh: 131.93\\nLow: 124.97\\nClose: 131.49\\nVolume: 1210092\\nValue: 159114997.08'),\n",
       " Document(id='3c44ed9e-8c10-412c-a4d2-71000172a6bf', metadata={'source': 'Wood, Hutchinson and Hernandez', 'row': 501}, page_content='Date: 2024-02-15\\nSymbol: GUTI\\nCompany: Wood, Hutchinson and Hernandez\\nSector: Finance\\nOpen: 730.54\\nHigh: 736.7\\nLow: 727.59\\nClose: 727.68\\nVolume: 735989\\nValue: 535564475.52'),\n",
       " Document(id='fad0f94b-240f-4e48-bb64-177339beeb5d', metadata={'source': 'Key, Santiago and Costa', 'row': 502}, page_content='Date: 2024-02-15\\nSymbol: HERR\\nCompany: Key, Santiago and Costa\\nSector: Healthcare\\nOpen: 502.64\\nHigh: 523.36\\nLow: 499.02\\nClose: 522.11\\nVolume: 1074662\\nValue: 561091776.82'),\n",
       " Document(id='5a2d6485-b4dd-46a5-9478-d5263f4038a8', metadata={'source': 'Kim and Sons', 'row': 503}, page_content='Date: 2024-02-15\\nSymbol: MILL\\nCompany: Kim and Sons\\nSector: Finance\\nOpen: 330.15\\nHigh: 333.3\\nLow: 323.65\\nClose: 326.27\\nVolume: 557362\\nValue: 181850499.74'),\n",
       " Document(id='b714bb04-b581-4445-b470-6eabe524b4b9', metadata={'source': 'Deleon-Oliver', 'row': 504}, page_content='Date: 2024-02-15\\nSymbol: MITC\\nCompany: Deleon-Oliver\\nSector: Finance\\nOpen: 359.59\\nHigh: 363.56\\nLow: 357.65\\nClose: 360.28\\nVolume: 605437\\nValue: 218126842.36'),\n",
       " Document(id='76c61c84-ac9c-4dd0-8b84-6c9af687dcdd', metadata={'source': 'Petersen-Ali', 'row': 505}, page_content='Date: 2024-02-15\\nSymbol: MOOR\\nCompany: Petersen-Ali\\nSector: Healthcare\\nOpen: 936.4\\nHigh: 961.9\\nLow: 933.45\\nClose: 953.05\\nVolume: 808244\\nValue: 770296944.2'),\n",
       " Document(id='82465b26-3ff0-4f9f-a00f-1747fa96d2b3', metadata={'source': 'Chavez, Adams and Johnson', 'row': 506}, page_content='Date: 2024-02-15\\nSymbol: SANT\\nCompany: Chavez, Adams and Johnson\\nSector: Energy\\nOpen: 701.39\\nHigh: 706.06\\nLow: 696.13\\nClose: 703.14\\nVolume: 388594\\nValue: 273235985.16'),\n",
       " Document(id='13e9c68a-2644-4bce-8d59-ae8e1c965f46', metadata={'source': 'Walsh, Keller and Pearson', 'row': 507}, page_content='Date: 2024-02-15\\nSymbol: VELA\\nCompany: Walsh, Keller and Pearson\\nSector: Finance\\nOpen: 29.95\\nHigh: 30.15\\nLow: 29.84\\nClose: 30.09\\nVolume: 429045\\nValue: 12909964.05'),\n",
       " Document(id='fa69b0f1-aab9-423a-a923-2896cda7128a', metadata={'source': 'Kramer Ltd', 'row': 508}, page_content='Date: 2024-02-15\\nSymbol: WILK\\nCompany: Kramer Ltd\\nSector: Finance\\nOpen: 632.85\\nHigh: 634.08\\nLow: 619.19\\nClose: 620.99\\nVolume: 449638\\nValue: 279220701.62'),\n",
       " Document(id='e179692a-3b99-4719-8af9-225a86960e64', metadata={'source': 'Moreno-Wagner', 'row': 509}, page_content='Date: 2024-02-15\\nSymbol: WYAT\\nCompany: Moreno-Wagner\\nSector: Healthcare\\nOpen: 392.71\\nHigh: 396.11\\nLow: 388.9\\nClose: 390.66\\nVolume: 749760\\nValue: 292901241.6'),\n",
       " Document(id='74ac3300-0397-46c5-8d33-9cf2b6b1e147', metadata={'source': 'Stevens-Brown', 'row': 510}, page_content='Date: 2024-02-16\\nSymbol: BEAR\\nCompany: Stevens-Brown\\nSector: Technology\\nOpen: 350.51\\nHigh: 353.15\\nLow: 329.22\\nClose: 331.33\\nVolume: 856867\\nValue: 283905743.11'),\n",
       " Document(id='2e34d851-63b6-464b-8f8e-4c77b42210b5', metadata={'source': 'Hill LLC', 'row': 511}, page_content='Date: 2024-02-16\\nSymbol: BLAN\\nCompany: Hill LLC\\nSector: Consumer\\nOpen: 788.05\\nHigh: 798.18\\nLow: 781.91\\nClose: 797.63\\nVolume: 475611\\nValue: 379361601.93'),\n",
       " Document(id='ab03da3e-7b7b-42d7-906c-c6b5b428ef26', metadata={'source': 'Smith, Johnson and Mendoza', 'row': 512}, page_content='Date: 2024-02-16\\nSymbol: COLE\\nCompany: Smith, Johnson and Mendoza\\nSector: Consumer\\nOpen: 809.64\\nHigh: 812.24\\nLow: 778.83\\nClose: 783.68\\nVolume: 300537\\nValue: 235524836.16'),\n",
       " Document(id='21625009-34b5-4241-83e3-a106b0242ea8', metadata={'source': 'Nichols, Ward and Miller', 'row': 513}, page_content='Date: 2024-02-16\\nSymbol: CUNN\\nCompany: Nichols, Ward and Miller\\nSector: Consumer\\nOpen: 445.35\\nHigh: 448.33\\nLow: 437.59\\nClose: 438.93\\nVolume: 512742\\nValue: 225057846.06'),\n",
       " Document(id='d7f1eeb0-c785-4e1f-a170-b95b64602b94', metadata={'source': 'Parker-Taylor', 'row': 514}, page_content='Date: 2024-02-16\\nSymbol: DAVI\\nCompany: Parker-Taylor\\nSector: Healthcare\\nOpen: 370.52\\nHigh: 375.79\\nLow: 367.51\\nClose: 374.96\\nVolume: 648757\\nValue: 243257924.72'),\n",
       " Document(id='283d86ae-ecde-40a1-b755-3eae6adcbfbf', metadata={'source': 'Molina, Ortiz and Rogers', 'row': 515}, page_content='Date: 2024-02-16\\nSymbol: GILM\\nCompany: Molina, Ortiz and Rogers\\nSector: Technology\\nOpen: 131.52\\nHigh: 134.17\\nLow: 130.38\\nClose: 134.11\\nVolume: 712486\\nValue: 95551497.46'),\n",
       " Document(id='86497ef0-cbd5-46cb-9950-e4f48bc2581e', metadata={'source': 'Wood, Hutchinson and Hernandez', 'row': 516}, page_content='Date: 2024-02-16\\nSymbol: GUTI\\nCompany: Wood, Hutchinson and Hernandez\\nSector: Finance\\nOpen: 726.63\\nHigh: 730.27\\nLow: 711.65\\nClose: 717.84\\nVolume: 649535\\nValue: 466262204.4'),\n",
       " Document(id='33a4643e-42f9-458d-aa0e-acf4c7bd087d', metadata={'source': 'Key, Santiago and Costa', 'row': 517}, page_content='Date: 2024-02-16\\nSymbol: HERR\\nCompany: Key, Santiago and Costa\\nSector: Healthcare\\nOpen: 523.5\\nHigh: 544.05\\nLow: 521.81\\nClose: 539.57\\nVolume: 1001012\\nValue: 540116044.84'),\n",
       " Document(id='4a43eb59-bead-41e2-a51d-0bae7faa32ec', metadata={'source': 'Kim and Sons', 'row': 518}, page_content='Date: 2024-02-16\\nSymbol: MILL\\nCompany: Kim and Sons\\nSector: Finance\\nOpen: 329.32\\nHigh: 333.57\\nLow: 328.92\\nClose: 331.98\\nVolume: 607504\\nValue: 201679177.92'),\n",
       " Document(id='3f4c182e-9dc0-4066-8485-3507040890a4', metadata={'source': 'Deleon-Oliver', 'row': 519}, page_content='Date: 2024-02-16\\nSymbol: MITC\\nCompany: Deleon-Oliver\\nSector: Finance\\nOpen: 363.75\\nHigh: 364.24\\nLow: 351.27\\nClose: 353.48\\nVolume: 976690\\nValue: 345240381.2'),\n",
       " Document(id='941ee549-194d-4827-9bb0-0f2462c65891', metadata={'source': 'Petersen-Ali', 'row': 520}, page_content='Date: 2024-02-16\\nSymbol: MOOR\\nCompany: Petersen-Ali\\nSector: Healthcare\\nOpen: 960.37\\nHigh: 969.12\\nLow: 938.2\\nClose: 943.5\\nVolume: 741043\\nValue: 699174070.5'),\n",
       " Document(id='80cef5c1-f2ba-49e4-848c-89ca9794b7d5', metadata={'source': 'Chavez, Adams and Johnson', 'row': 521}, page_content='Date: 2024-02-16\\nSymbol: SANT\\nCompany: Chavez, Adams and Johnson\\nSector: Energy\\nOpen: 704.01\\nHigh: 705.84\\nLow: 703.55\\nClose: 703.9\\nVolume: 215605\\nValue: 151764359.5'),\n",
       " Document(id='c41c1b82-f5ac-4182-9884-5606eb3b9458', metadata={'source': 'Walsh, Keller and Pearson', 'row': 522}, page_content='Date: 2024-02-16\\nSymbol: VELA\\nCompany: Walsh, Keller and Pearson\\nSector: Finance\\nOpen: 29.8\\nHigh: 29.98\\nLow: 28.58\\nClose: 28.84\\nVolume: 939233\\nValue: 27087479.72'),\n",
       " Document(id='b3374411-67ba-4c6d-9575-38f7d6f1bcb4', metadata={'source': 'Kramer Ltd', 'row': 523}, page_content='Date: 2024-02-16\\nSymbol: WILK\\nCompany: Kramer Ltd\\nSector: Finance\\nOpen: 617.89\\nHigh: 620.31\\nLow: 608.55\\nClose: 612.38\\nVolume: 888015\\nValue: 543802625.7'),\n",
       " Document(id='f2f6f99a-e589-467b-8523-26fe33608837', metadata={'source': 'Moreno-Wagner', 'row': 524}, page_content='Date: 2024-02-16\\nSymbol: WYAT\\nCompany: Moreno-Wagner\\nSector: Healthcare\\nOpen: 392.2\\nHigh: 392.82\\nLow: 377.46\\nClose: 379.27\\nVolume: 119983\\nValue: 45505952.41'),\n",
       " Document(id='b0af0fd3-5804-409e-a8cf-7ff66ddd02ce', metadata={'source': 'Stevens-Brown', 'row': 525}, page_content='Date: 2024-02-19\\nSymbol: BEAR\\nCompany: Stevens-Brown\\nSector: Technology\\nOpen: 331.03\\nHigh: 337.53\\nLow: 329.85\\nClose: 336.79\\nVolume: 739873\\nValue: 249181827.67'),\n",
       " Document(id='9317e894-96a2-46e8-ab27-5993214be58d', metadata={'source': 'Hill LLC', 'row': 526}, page_content='Date: 2024-02-19\\nSymbol: BLAN\\nCompany: Hill LLC\\nSector: Consumer\\nOpen: 798.73\\nHigh: 821.16\\nLow: 797.19\\nClose: 816.58\\nVolume: 203747\\nValue: 166375725.26'),\n",
       " Document(id='241323e5-cd9b-4560-81c2-3151818448a0', metadata={'source': 'Smith, Johnson and Mendoza', 'row': 527}, page_content='Date: 2024-02-19\\nSymbol: COLE\\nCompany: Smith, Johnson and Mendoza\\nSector: Consumer\\nOpen: 778.65\\nHigh: 784.67\\nLow: 758.49\\nClose: 761.28\\nVolume: 403419\\nValue: 307114816.32'),\n",
       " Document(id='9486e6f0-bb76-40fc-89b1-4ba7e260f897', metadata={'source': 'Nichols, Ward and Miller', 'row': 528}, page_content='Date: 2024-02-19\\nSymbol: CUNN\\nCompany: Nichols, Ward and Miller\\nSector: Consumer\\nOpen: 436.39\\nHigh: 439.71\\nLow: 435.24\\nClose: 439.23\\nVolume: 373682\\nValue: 164132344.86'),\n",
       " Document(id='71b6d1a2-36e5-4ac7-a9e6-b6e94a7c6d5d', metadata={'source': 'Parker-Taylor', 'row': 529}, page_content='Date: 2024-02-19\\nSymbol: DAVI\\nCompany: Parker-Taylor\\nSector: Healthcare\\nOpen: 372.2\\nHigh: 385.46\\nLow: 371.81\\nClose: 383.34\\nVolume: 770010\\nValue: 295175633.4'),\n",
       " Document(id='b4f8b4f8-78e4-47b6-bae4-524514bf7425', metadata={'source': 'Molina, Ortiz and Rogers', 'row': 530}, page_content='Date: 2024-02-19\\nSymbol: GILM\\nCompany: Molina, Ortiz and Rogers\\nSector: Technology\\nOpen: 134.01\\nHigh: 137.78\\nLow: 133.94\\nClose: 136.88\\nVolume: 593027\\nValue: 81173535.76'),\n",
       " Document(id='e7a56d8f-f2f0-475d-8ae6-7826ee92503c', metadata={'source': 'Wood, Hutchinson and Hernandez', 'row': 531}, page_content='Date: 2024-02-19\\nSymbol: GUTI\\nCompany: Wood, Hutchinson and Hernandez\\nSector: Finance\\nOpen: 720.02\\nHigh: 722.58\\nLow: 707.1\\nClose: 708.12\\nVolume: 1214069\\nValue: 859706540.28'),\n",
       " Document(id='92af7b7b-29f2-4840-bcae-0fe3351377bc', metadata={'source': 'Key, Santiago and Costa', 'row': 532}, page_content='Date: 2024-02-19\\nSymbol: HERR\\nCompany: Key, Santiago and Costa\\nSector: Healthcare\\nOpen: 542.89\\nHigh: 549.19\\nLow: 539.11\\nClose: 548.39\\nVolume: 257634\\nValue: 141283909.26'),\n",
       " Document(id='e267afa3-661c-4799-85f9-cbecddcf9cca', metadata={'source': 'Kim and Sons', 'row': 533}, page_content='Date: 2024-02-19\\nSymbol: MILL\\nCompany: Kim and Sons\\nSector: Finance\\nOpen: 333.09\\nHigh: 334.69\\nLow: 328.72\\nClose: 328.94\\nVolume: 81925\\nValue: 26948409.5'),\n",
       " Document(id='e5245390-4dce-4ee0-9934-a1382f617c7f', metadata={'source': 'Deleon-Oliver', 'row': 534}, page_content='Date: 2024-02-19\\nSymbol: MITC\\nCompany: Deleon-Oliver\\nSector: Finance\\nOpen: 355.52\\nHigh: 356.48\\nLow: 354.64\\nClose: 355.46\\nVolume: 573286\\nValue: 203780241.56'),\n",
       " Document(id='a340ef51-e50d-4b3a-8c63-8351e0e2fdad', metadata={'source': 'Petersen-Ali', 'row': 535}, page_content='Date: 2024-02-19\\nSymbol: MOOR\\nCompany: Petersen-Ali\\nSector: Healthcare\\nOpen: 937.88\\nHigh: 940.24\\nLow: 927.39\\nClose: 936.34\\nVolume: 505898\\nValue: 473692533.32'),\n",
       " Document(id='3c54a983-d185-4f4e-ae9f-1ffcaeb74b3f', metadata={'source': 'Chavez, Adams and Johnson', 'row': 536}, page_content='Date: 2024-02-19\\nSymbol: SANT\\nCompany: Chavez, Adams and Johnson\\nSector: Energy\\nOpen: 702.14\\nHigh: 709.08\\nLow: 695.19\\nClose: 698.35\\nVolume: 929229\\nValue: 648927072.15'),\n",
       " Document(id='9a2b5ecd-0f78-4c68-9942-c4d9b9209f4c', metadata={'source': 'Walsh, Keller and Pearson', 'row': 537}, page_content='Date: 2024-02-19\\nSymbol: VELA\\nCompany: Walsh, Keller and Pearson\\nSector: Finance\\nOpen: 28.66\\nHigh: 30.38\\nLow: 28.59\\nClose: 30.24\\nVolume: 414448\\nValue: 12532907.52'),\n",
       " Document(id='4df32678-6052-4cb4-af87-a0897b3d6784', metadata={'source': 'Kramer Ltd', 'row': 538}, page_content='Date: 2024-02-19\\nSymbol: WILK\\nCompany: Kramer Ltd\\nSector: Finance\\nOpen: 616.95\\nHigh: 618.08\\nLow: 598.45\\nClose: 603.3\\nVolume: 858195\\nValue: 517749043.5'),\n",
       " Document(id='24c716f6-759b-48eb-b392-bf1385125469', metadata={'source': 'Moreno-Wagner', 'row': 539}, page_content='Date: 2024-02-19\\nSymbol: WYAT\\nCompany: Moreno-Wagner\\nSector: Healthcare\\nOpen: 379.99\\nHigh: 380.16\\nLow: 351.82\\nClose: 354.78\\nVolume: 578541\\nValue: 205254775.98'),\n",
       " Document(id='a17fd62a-b217-4027-8b2d-d0ca31789e11', metadata={'source': 'Stevens-Brown', 'row': 540}, page_content='Date: 2024-02-20\\nSymbol: BEAR\\nCompany: Stevens-Brown\\nSector: Technology\\nOpen: 336.37\\nHigh: 338.62\\nLow: 317.62\\nClose: 319.44\\nVolume: 633162\\nValue: 202257269.28'),\n",
       " Document(id='3bcf4b2b-87d9-491e-b8f3-d621db567633', metadata={'source': 'Hill LLC', 'row': 541}, page_content='Date: 2024-02-20\\nSymbol: BLAN\\nCompany: Hill LLC\\nSector: Consumer\\nOpen: 812.03\\nHigh: 829.69\\nLow: 806.98\\nClose: 823.94\\nVolume: 597728\\nValue: 492492008.32'),\n",
       " Document(id='cb0a6991-65db-4a76-b194-43411f48a317', metadata={'source': 'Smith, Johnson and Mendoza', 'row': 542}, page_content='Date: 2024-02-20\\nSymbol: COLE\\nCompany: Smith, Johnson and Mendoza\\nSector: Consumer\\nOpen: 761.31\\nHigh: 779.29\\nLow: 759.23\\nClose: 773.35\\nVolume: 907033\\nValue: 701453970.55'),\n",
       " Document(id='b6224418-bb04-43f9-884d-e571a976295b', metadata={'source': 'Nichols, Ward and Miller', 'row': 543}, page_content='Date: 2024-02-20\\nSymbol: CUNN\\nCompany: Nichols, Ward and Miller\\nSector: Consumer\\nOpen: 443.34\\nHigh: 446.21\\nLow: 426.94\\nClose: 427.18\\nVolume: 766346\\nValue: 327367684.28'),\n",
       " Document(id='049a9c37-b2e7-4d9c-a744-68b6a35b6c6c', metadata={'source': 'Parker-Taylor', 'row': 544}, page_content='Date: 2024-02-20\\nSymbol: DAVI\\nCompany: Parker-Taylor\\nSector: Healthcare\\nOpen: 386.59\\nHigh: 387.93\\nLow: 354.6\\nClose: 354.65\\nVolume: 772246\\nValue: 273877043.9'),\n",
       " Document(id='3f1d0c33-f828-42ea-a995-c3614992a402', metadata={'source': 'Molina, Ortiz and Rogers', 'row': 545}, page_content='Date: 2024-02-20\\nSymbol: GILM\\nCompany: Molina, Ortiz and Rogers\\nSector: Technology\\nOpen: 136.53\\nHigh: 138.85\\nLow: 135.83\\nClose: 138.66\\nVolume: 738668\\nValue: 102423704.88'),\n",
       " Document(id='b449b75a-4f63-47be-aceb-a3cbc71cdb6a', metadata={'source': 'Wood, Hutchinson and Hernandez', 'row': 546}, page_content='Date: 2024-02-20\\nSymbol: GUTI\\nCompany: Wood, Hutchinson and Hernandez\\nSector: Finance\\nOpen: 701.65\\nHigh: 718.74\\nLow: 699.58\\nClose: 711.86\\nVolume: 465873\\nValue: 331636353.78'),\n",
       " Document(id='91629072-2250-4eee-b105-2d1bf862164f', metadata={'source': 'Key, Santiago and Costa', 'row': 547}, page_content='Date: 2024-02-20\\nSymbol: HERR\\nCompany: Key, Santiago and Costa\\nSector: Healthcare\\nOpen: 550.38\\nHigh: 552.65\\nLow: 546.97\\nClose: 550.43\\nVolume: 220035\\nValue: 121113865.05'),\n",
       " Document(id='f2b8df78-e374-4bc7-84a6-166ee03feeac', metadata={'source': 'Kim and Sons', 'row': 548}, page_content='Date: 2024-02-20\\nSymbol: MILL\\nCompany: Kim and Sons\\nSector: Finance\\nOpen: 329.24\\nHigh: 337.87\\nLow: 326.63\\nClose: 336.85\\nVolume: 510876\\nValue: 172088580.6'),\n",
       " Document(id='3792e44e-06c6-498d-b26f-2fb79b76c070', metadata={'source': 'Deleon-Oliver', 'row': 549}, page_content='Date: 2024-02-20\\nSymbol: MITC\\nCompany: Deleon-Oliver\\nSector: Finance\\nOpen: 356.45\\nHigh: 358.87\\nLow: 348.84\\nClose: 350.94\\nVolume: 278867\\nValue: 97865584.98'),\n",
       " Document(id='109705ed-a187-46ff-975f-710ef4c44085', metadata={'source': 'Petersen-Ali', 'row': 550}, page_content='Date: 2024-02-20\\nSymbol: MOOR\\nCompany: Petersen-Ali\\nSector: Healthcare\\nOpen: 944.11\\nHigh: 953.55\\nLow: 920.41\\nClose: 924.26\\nVolume: 598172\\nValue: 552866452.72'),\n",
       " Document(id='da1b2802-4ffa-4e7a-8e16-31758201491f', metadata={'source': 'Chavez, Adams and Johnson', 'row': 551}, page_content='Date: 2024-02-20\\nSymbol: SANT\\nCompany: Chavez, Adams and Johnson\\nSector: Energy\\nOpen: 701.27\\nHigh: 717.98\\nLow: 697.5\\nClose: 712.45\\nVolume: 786170\\nValue: 560106816.5'),\n",
       " Document(id='ccb30152-10b3-405d-a868-8682fb8eb9b7', metadata={'source': 'Walsh, Keller and Pearson', 'row': 552}, page_content='Date: 2024-02-20\\nSymbol: VELA\\nCompany: Walsh, Keller and Pearson\\nSector: Finance\\nOpen: 29.97\\nHigh: 31.09\\nLow: 29.83\\nClose: 30.81\\nVolume: 815869\\nValue: 25136923.89'),\n",
       " Document(id='4a497ef8-c0ab-4c7d-b48f-6441af56b852', metadata={'source': 'Kramer Ltd', 'row': 553}, page_content='Date: 2024-02-20\\nSymbol: WILK\\nCompany: Kramer Ltd\\nSector: Finance\\nOpen: 607.9\\nHigh: 619.07\\nLow: 605.83\\nClose: 619.02\\nVolume: 691032\\nValue: 427762628.64'),\n",
       " Document(id='cf948858-7c54-4d6c-bf46-690baa458636', metadata={'source': 'Moreno-Wagner', 'row': 554}, page_content='Date: 2024-02-20\\nSymbol: WYAT\\nCompany: Moreno-Wagner\\nSector: Healthcare\\nOpen: 353.5\\nHigh: 354.76\\nLow: 349.95\\nClose: 351.25\\nVolume: 743437\\nValue: 261132246.25'),\n",
       " Document(id='d7c96181-e65b-4105-b75f-2a1cdef2606e', metadata={'source': 'Stevens-Brown', 'row': 555}, page_content='Date: 2024-02-21\\nSymbol: BEAR\\nCompany: Stevens-Brown\\nSector: Technology\\nOpen: 321.72\\nHigh: 326.36\\nLow: 318.93\\nClose: 323.77\\nVolume: 897735\\nValue: 290659660.95'),\n",
       " Document(id='6a83be0d-51ce-4f7e-a216-a290ec0b8226', metadata={'source': 'Hill LLC', 'row': 556}, page_content='Date: 2024-02-21\\nSymbol: BLAN\\nCompany: Hill LLC\\nSector: Consumer\\nOpen: 828.78\\nHigh: 829.75\\nLow: 804.57\\nClose: 808.07\\nVolume: 236199\\nValue: 190865325.93'),\n",
       " Document(id='a2d631f7-01c1-463e-b5bf-e0ad8d33548d', metadata={'source': 'Smith, Johnson and Mendoza', 'row': 557}, page_content='Date: 2024-02-21\\nSymbol: COLE\\nCompany: Smith, Johnson and Mendoza\\nSector: Consumer\\nOpen: 769.74\\nHigh: 848.64\\nLow: 763.66\\nClose: 842.09\\nVolume: 909109\\nValue: 765551597.81'),\n",
       " Document(id='0b5bdc85-e225-4c7b-b53d-81af1236f23c', metadata={'source': 'Nichols, Ward and Miller', 'row': 558}, page_content='Date: 2024-02-21\\nSymbol: CUNN\\nCompany: Nichols, Ward and Miller\\nSector: Consumer\\nOpen: 429.83\\nHigh: 433.97\\nLow: 426.47\\nClose: 427.58\\nVolume: 201112\\nValue: 85991468.96'),\n",
       " Document(id='b564c3db-f707-4893-b897-d9637d284fe7', metadata={'source': 'Parker-Taylor', 'row': 559}, page_content='Date: 2024-02-21\\nSymbol: DAVI\\nCompany: Parker-Taylor\\nSector: Healthcare\\nOpen: 351.73\\nHigh: 354.3\\nLow: 342.15\\nClose: 343.97\\nVolume: 454111\\nValue: 156200560.67'),\n",
       " Document(id='fd03f6db-7da2-4041-bb2c-b6dcde3fbe58', metadata={'source': 'Molina, Ortiz and Rogers', 'row': 560}, page_content='Date: 2024-02-21\\nSymbol: GILM\\nCompany: Molina, Ortiz and Rogers\\nSector: Technology\\nOpen: 137.74\\nHigh: 140.89\\nLow: 136.99\\nClose: 140.36\\nVolume: 1018162\\nValue: 142909218.32'),\n",
       " Document(id='c602be2d-99d6-43e9-8b1c-0d2308991fd5', metadata={'source': 'Wood, Hutchinson and Hernandez', 'row': 561}, page_content='Date: 2024-02-21\\nSymbol: GUTI\\nCompany: Wood, Hutchinson and Hernandez\\nSector: Finance\\nOpen: 713.95\\nHigh: 718.46\\nLow: 707.93\\nClose: 710.96\\nVolume: 277575\\nValue: 197344722.0'),\n",
       " Document(id='161b15fa-6c93-4b0f-9398-a8342c29d11a', metadata={'source': 'Key, Santiago and Costa', 'row': 562}, page_content='Date: 2024-02-21\\nSymbol: HERR\\nCompany: Key, Santiago and Costa\\nSector: Healthcare\\nOpen: 547.82\\nHigh: 548.59\\nLow: 505.39\\nClose: 509.52\\nVolume: 793306\\nValue: 404205273.12'),\n",
       " Document(id='2e94f242-4f84-4ebc-b90d-514458eeea82', metadata={'source': 'Kim and Sons', 'row': 563}, page_content='Date: 2024-02-21\\nSymbol: MILL\\nCompany: Kim and Sons\\nSector: Finance\\nOpen: 337.09\\nHigh: 340.76\\nLow: 335.76\\nClose: 340.2\\nVolume: 1148177\\nValue: 390609815.4'),\n",
       " Document(id='e1540310-7d13-46d3-83b5-966616ea5e7a', metadata={'source': 'Deleon-Oliver', 'row': 564}, page_content='Date: 2024-02-21\\nSymbol: MITC\\nCompany: Deleon-Oliver\\nSector: Finance\\nOpen: 349.89\\nHigh: 355.01\\nLow: 346.47\\nClose: 352.41\\nVolume: 461647\\nValue: 162689019.27'),\n",
       " Document(id='89fa33f0-16b7-4ad4-a6e2-226e949420cd', metadata={'source': 'Petersen-Ali', 'row': 565}, page_content='Date: 2024-02-21\\nSymbol: MOOR\\nCompany: Petersen-Ali\\nSector: Healthcare\\nOpen: 929.71\\nHigh: 937.18\\nLow: 886.07\\nClose: 890.87\\nVolume: 1271921\\nValue: 1133116261.27'),\n",
       " Document(id='ad2b20b3-b1e9-4e8a-9d7a-4b661897c28f', metadata={'source': 'Chavez, Adams and Johnson', 'row': 566}, page_content='Date: 2024-02-21\\nSymbol: SANT\\nCompany: Chavez, Adams and Johnson\\nSector: Energy\\nOpen: 713.42\\nHigh: 713.87\\nLow: 695.56\\nClose: 700.63\\nVolume: 1144599\\nValue: 801940397.37'),\n",
       " Document(id='87cdd991-f2f7-43b6-83eb-54c7c794b1f9', metadata={'source': 'Walsh, Keller and Pearson', 'row': 567}, page_content='Date: 2024-02-21\\nSymbol: VELA\\nCompany: Walsh, Keller and Pearson\\nSector: Finance\\nOpen: 30.67\\nHigh: 30.95\\nLow: 29.16\\nClose: 29.45\\nVolume: 672953\\nValue: 19818465.85'),\n",
       " Document(id='d50d1411-473d-464c-b358-6d99fe7cebfa', metadata={'source': 'Kramer Ltd', 'row': 568}, page_content='Date: 2024-02-21\\nSymbol: WILK\\nCompany: Kramer Ltd\\nSector: Finance\\nOpen: 616.06\\nHigh: 618.71\\nLow: 606.23\\nClose: 609.19\\nVolume: 943319\\nValue: 574660501.61'),\n",
       " Document(id='b0aac2ca-654c-4916-911a-28af240083ce', metadata={'source': 'Moreno-Wagner', 'row': 569}, page_content='Date: 2024-02-21\\nSymbol: WYAT\\nCompany: Moreno-Wagner\\nSector: Healthcare\\nOpen: 354.58\\nHigh: 357.8\\nLow: 347.33\\nClose: 350.19\\nVolume: 724999\\nValue: 253887399.81'),\n",
       " Document(id='334daec7-d17a-471d-ba57-d371e5f858d0', metadata={'source': 'Stevens-Brown', 'row': 570}, page_content='Date: 2024-02-22\\nSymbol: BEAR\\nCompany: Stevens-Brown\\nSector: Technology\\nOpen: 322.51\\nHigh: 338.27\\nLow: 320.44\\nClose: 338.18\\nVolume: 916241\\nValue: 309854381.38'),\n",
       " Document(id='7fdf02e0-1f9d-49a6-920b-1dad93dd7bd8', metadata={'source': 'Hill LLC', 'row': 571}, page_content='Date: 2024-02-22\\nSymbol: BLAN\\nCompany: Hill LLC\\nSector: Consumer\\nOpen: 810.83\\nHigh: 815.69\\nLow: 804.37\\nClose: 805.76\\nVolume: 377355\\nValue: 304057564.8'),\n",
       " Document(id='72ca1b80-780b-4704-957b-480645d7cd84', metadata={'source': 'Smith, Johnson and Mendoza', 'row': 572}, page_content='Date: 2024-02-22\\nSymbol: COLE\\nCompany: Smith, Johnson and Mendoza\\nSector: Consumer\\nOpen: 840.78\\nHigh: 842.17\\nLow: 817.86\\nClose: 822.01\\nVolume: 577859\\nValue: 475005876.59'),\n",
       " Document(id='f112090f-b1bd-44e7-9e21-1a67c0a89c76', metadata={'source': 'Nichols, Ward and Miller', 'row': 573}, page_content='Date: 2024-02-22\\nSymbol: CUNN\\nCompany: Nichols, Ward and Miller\\nSector: Consumer\\nOpen: 429.21\\nHigh: 436.13\\nLow: 425.81\\nClose: 432.17\\nVolume: 355046\\nValue: 153440229.82'),\n",
       " Document(id='cebd6103-8943-4c90-9245-677d8552160e', metadata={'source': 'Parker-Taylor', 'row': 574}, page_content='Date: 2024-02-22\\nSymbol: DAVI\\nCompany: Parker-Taylor\\nSector: Healthcare\\nOpen: 344.34\\nHigh: 354.01\\nLow: 343.72\\nClose: 350.91\\nVolume: 300336\\nValue: 105390905.76'),\n",
       " Document(id='81fb8f06-6ae2-40ff-a351-f16d6b188271', metadata={'source': 'Molina, Ortiz and Rogers', 'row': 575}, page_content='Date: 2024-02-22\\nSymbol: GILM\\nCompany: Molina, Ortiz and Rogers\\nSector: Technology\\nOpen: 141.12\\nHigh: 144.01\\nLow: 140.48\\nClose: 143.23\\nVolume: 841474\\nValue: 120524321.02'),\n",
       " Document(id='351bdf0a-66e9-4bdf-98d6-388be8637eb3', metadata={'source': 'Wood, Hutchinson and Hernandez', 'row': 576}, page_content='Date: 2024-02-22\\nSymbol: GUTI\\nCompany: Wood, Hutchinson and Hernandez\\nSector: Finance\\nOpen: 716.99\\nHigh: 722.48\\nLow: 710.76\\nClose: 719.87\\nVolume: 865583\\nValue: 623107234.21'),\n",
       " Document(id='73d3fc5f-80a0-462e-8c18-5bc51d4d7d24', metadata={'source': 'Key, Santiago and Costa', 'row': 577}, page_content='Date: 2024-02-22\\nSymbol: HERR\\nCompany: Key, Santiago and Costa\\nSector: Healthcare\\nOpen: 512.56\\nHigh: 518.64\\nLow: 511.84\\nClose: 513.86\\nVolume: 693645\\nValue: 356436419.7'),\n",
       " Document(id='65a81c90-307e-44d9-a807-0793164d9916', metadata={'source': 'Kim and Sons', 'row': 578}, page_content='Date: 2024-02-22\\nSymbol: MILL\\nCompany: Kim and Sons\\nSector: Finance\\nOpen: 337.3\\nHigh: 343.17\\nLow: 335.07\\nClose: 341.12\\nVolume: 454753\\nValue: 155125343.36'),\n",
       " Document(id='853d7606-7ac7-4bcb-b53d-ad0afccdc700', metadata={'source': 'Deleon-Oliver', 'row': 579}, page_content='Date: 2024-02-22\\nSymbol: MITC\\nCompany: Deleon-Oliver\\nSector: Finance\\nOpen: 352.63\\nHigh: 361.7\\nLow: 349.96\\nClose: 359.48\\nVolume: 654593\\nValue: 235313091.64'),\n",
       " Document(id='53a9bd44-77e3-46ba-8402-0960e415faa8', metadata={'source': 'Petersen-Ali', 'row': 580}, page_content='Date: 2024-02-22\\nSymbol: MOOR\\nCompany: Petersen-Ali\\nSector: Healthcare\\nOpen: 888.3\\nHigh: 895.63\\nLow: 872.02\\nClose: 879.52\\nVolume: 595518\\nValue: 523769991.36'),\n",
       " Document(id='8ac16f62-6d04-4236-b549-1835d425810c', metadata={'source': 'Chavez, Adams and Johnson', 'row': 581}, page_content='Date: 2024-02-22\\nSymbol: SANT\\nCompany: Chavez, Adams and Johnson\\nSector: Energy\\nOpen: 695.51\\nHigh: 703.45\\nLow: 691.84\\nClose: 702.65\\nVolume: 404392\\nValue: 284146038.8'),\n",
       " Document(id='3e2fcfec-d42e-40e8-acdc-282eaea1debe', metadata={'source': 'Walsh, Keller and Pearson', 'row': 582}, page_content='Date: 2024-02-22\\nSymbol: VELA\\nCompany: Walsh, Keller and Pearson\\nSector: Finance\\nOpen: 29.31\\nHigh: 29.4\\nLow: 26.69\\nClose: 26.87\\nVolume: 776675\\nValue: 20869257.25'),\n",
       " Document(id='ebc1f4e3-091b-48ac-9a19-1bd233311454', metadata={'source': 'Kramer Ltd', 'row': 583}, page_content='Date: 2024-02-22\\nSymbol: WILK\\nCompany: Kramer Ltd\\nSector: Finance\\nOpen: 613.6\\nHigh: 626.2\\nLow: 611.4\\nClose: 621.5\\nVolume: 336975\\nValue: 209429962.5'),\n",
       " Document(id='9f28b0fb-8c89-49d7-9460-4bdb81e3c0cc', metadata={'source': 'Moreno-Wagner', 'row': 584}, page_content='Date: 2024-02-22\\nSymbol: WYAT\\nCompany: Moreno-Wagner\\nSector: Healthcare\\nOpen: 349.6\\nHigh: 360.05\\nLow: 347.5\\nClose: 357.43\\nVolume: 461577\\nValue: 164981467.11'),\n",
       " Document(id='6f79dab8-e058-41e7-b20a-8585a60bf978', metadata={'source': 'Stevens-Brown', 'row': 585}, page_content='Date: 2024-02-23\\nSymbol: BEAR\\nCompany: Stevens-Brown\\nSector: Technology\\nOpen: 338.32\\nHigh: 360.83\\nLow: 338.3\\nClose: 359.7\\nVolume: 655020\\nValue: 235610694.0'),\n",
       " Document(id='20b6cc6c-d145-47eb-a363-97891c5842f6', metadata={'source': 'Hill LLC', 'row': 586}, page_content='Date: 2024-02-23\\nSymbol: BLAN\\nCompany: Hill LLC\\nSector: Consumer\\nOpen: 811.06\\nHigh: 815.48\\nLow: 788.09\\nClose: 789.18\\nVolume: 835687\\nValue: 659507466.66'),\n",
       " Document(id='9fe47892-151b-4707-98cb-ff16b4e82a60', metadata={'source': 'Smith, Johnson and Mendoza', 'row': 587}, page_content='Date: 2024-02-23\\nSymbol: COLE\\nCompany: Smith, Johnson and Mendoza\\nSector: Consumer\\nOpen: 818.65\\nHigh: 824.12\\nLow: 797.69\\nClose: 803.5\\nVolume: 964018\\nValue: 774588463.0'),\n",
       " Document(id='44455dda-c3fd-4a75-a619-ca720c8fa80b', metadata={'source': 'Nichols, Ward and Miller', 'row': 588}, page_content='Date: 2024-02-23\\nSymbol: CUNN\\nCompany: Nichols, Ward and Miller\\nSector: Consumer\\nOpen: 428.21\\nHigh: 439.64\\nLow: 424.79\\nClose: 438.08\\nVolume: 778603\\nValue: 341090402.24'),\n",
       " Document(id='196fba61-5202-454c-ad38-43e1fc711dd1', metadata={'source': 'Parker-Taylor', 'row': 589}, page_content='Date: 2024-02-23\\nSymbol: DAVI\\nCompany: Parker-Taylor\\nSector: Healthcare\\nOpen: 349.45\\nHigh: 353.36\\nLow: 347.22\\nClose: 351.1\\nVolume: 435389\\nValue: 152865077.9'),\n",
       " Document(id='11598260-e4da-4036-9a14-a2ff025b8670', metadata={'source': 'Molina, Ortiz and Rogers', 'row': 590}, page_content='Date: 2024-02-23\\nSymbol: GILM\\nCompany: Molina, Ortiz and Rogers\\nSector: Technology\\nOpen: 143.21\\nHigh: 143.42\\nLow: 138.56\\nClose: 138.99\\nVolume: 615549\\nValue: 85555155.51'),\n",
       " Document(id='8145a222-1aff-461a-ac48-4aa39cfe4db0', metadata={'source': 'Wood, Hutchinson and Hernandez', 'row': 591}, page_content='Date: 2024-02-23\\nSymbol: GUTI\\nCompany: Wood, Hutchinson and Hernandez\\nSector: Finance\\nOpen: 724.38\\nHigh: 731.21\\nLow: 719.83\\nClose: 722.3\\nVolume: 675291\\nValue: 487762689.3'),\n",
       " Document(id='8eab9377-208b-4396-8996-3b82bfff766a', metadata={'source': 'Key, Santiago and Costa', 'row': 592}, page_content='Date: 2024-02-23\\nSymbol: HERR\\nCompany: Key, Santiago and Costa\\nSector: Healthcare\\nOpen: 514.1\\nHigh: 525.98\\nLow: 512.16\\nClose: 521.13\\nVolume: 458378\\nValue: 238874527.14'),\n",
       " Document(id='56a2e1ba-1e11-4e52-b7c5-c4563f345a3d', metadata={'source': 'Kim and Sons', 'row': 593}, page_content='Date: 2024-02-23\\nSymbol: MILL\\nCompany: Kim and Sons\\nSector: Finance\\nOpen: 343.38\\nHigh: 343.42\\nLow: 331.62\\nClose: 333.77\\nVolume: 447434\\nValue: 149340046.18'),\n",
       " Document(id='80ab8290-35a1-43ea-9fa5-72e09039f897', metadata={'source': 'Deleon-Oliver', 'row': 594}, page_content='Date: 2024-02-23\\nSymbol: MITC\\nCompany: Deleon-Oliver\\nSector: Finance\\nOpen: 362.39\\nHigh: 365.17\\nLow: 358.68\\nClose: 361.37\\nVolume: 214998\\nValue: 77693827.26'),\n",
       " Document(id='9d65a3e1-9ee0-4fa4-b061-e1b527904775', metadata={'source': 'Petersen-Ali', 'row': 595}, page_content='Date: 2024-02-23\\nSymbol: MOOR\\nCompany: Petersen-Ali\\nSector: Healthcare\\nOpen: 876.47\\nHigh: 882.05\\nLow: 869.8\\nClose: 878.77\\nVolume: 308262\\nValue: 270891397.74'),\n",
       " Document(id='e884008b-a633-496b-a59a-2961e6fd6566', metadata={'source': 'Chavez, Adams and Johnson', 'row': 596}, page_content='Date: 2024-02-23\\nSymbol: SANT\\nCompany: Chavez, Adams and Johnson\\nSector: Energy\\nOpen: 701.34\\nHigh: 716.26\\nLow: 698.12\\nClose: 710.38\\nVolume: 448640\\nValue: 318704883.2'),\n",
       " Document(id='aadddd0d-8a9b-43f2-b9d1-088e75ab2c7b', metadata={'source': 'Walsh, Keller and Pearson', 'row': 597}, page_content='Date: 2024-02-23\\nSymbol: VELA\\nCompany: Walsh, Keller and Pearson\\nSector: Finance\\nOpen: 26.66\\nHigh: 26.76\\nLow: 26.1\\nClose: 26.13\\nVolume: 599895\\nValue: 15675256.35'),\n",
       " Document(id='70e08ccd-0966-492a-b6d2-212bae7cab21', metadata={'source': 'Kramer Ltd', 'row': 598}, page_content='Date: 2024-02-23\\nSymbol: WILK\\nCompany: Kramer Ltd\\nSector: Finance\\nOpen: 624.27\\nHigh: 630.4\\nLow: 618.04\\nClose: 623.86\\nVolume: 363022\\nValue: 226474904.92'),\n",
       " Document(id='7a5e1339-315c-4987-b955-2edae3ceae91', metadata={'source': 'Moreno-Wagner', 'row': 599}, page_content='Date: 2024-02-23\\nSymbol: WYAT\\nCompany: Moreno-Wagner\\nSector: Healthcare\\nOpen: 357.55\\nHigh: 368.1\\nLow: 355.23\\nClose: 364.63\\nVolume: 904832\\nValue: 329928892.16'),\n",
       " Document(id='7af65902-5cad-478c-988b-ae049d005906', metadata={'source': 'Stevens-Brown', 'row': 600}, page_content='Date: 2024-02-26\\nSymbol: BEAR\\nCompany: Stevens-Brown\\nSector: Technology\\nOpen: 361.55\\nHigh: 381.48\\nLow: 361.53\\nClose: 380.68\\nVolume: 385058\\nValue: 146583879.44'),\n",
       " Document(id='c504b27e-f0d3-4da0-b9a4-6c37d8d76ddb', metadata={'source': 'Hill LLC', 'row': 601}, page_content='Date: 2024-02-26\\nSymbol: BLAN\\nCompany: Hill LLC\\nSector: Consumer\\nOpen: 795.89\\nHigh: 807.4\\nLow: 790.0\\nClose: 801.99\\nVolume: 164576\\nValue: 131988306.24'),\n",
       " Document(id='585bb66c-9718-4b8e-9909-c21aa993bd5b', metadata={'source': 'Smith, Johnson and Mendoza', 'row': 602}, page_content='Date: 2024-02-26\\nSymbol: COLE\\nCompany: Smith, Johnson and Mendoza\\nSector: Consumer\\nOpen: 809.37\\nHigh: 830.09\\nLow: 805.05\\nClose: 822.99\\nVolume: 468630\\nValue: 385677803.7'),\n",
       " Document(id='f35276d9-8237-491e-8fd6-55ffba093c61', metadata={'source': 'Nichols, Ward and Miller', 'row': 603}, page_content='Date: 2024-02-26\\nSymbol: CUNN\\nCompany: Nichols, Ward and Miller\\nSector: Consumer\\nOpen: 436.62\\nHigh: 437.27\\nLow: 428.98\\nClose: 431.42\\nVolume: 1117608\\nValue: 482158443.36'),\n",
       " Document(id='5fc19732-3cc0-4b77-83d4-634779c2e44b', metadata={'source': 'Parker-Taylor', 'row': 604}, page_content='Date: 2024-02-26\\nSymbol: DAVI\\nCompany: Parker-Taylor\\nSector: Healthcare\\nOpen: 347.88\\nHigh: 354.05\\nLow: 345.78\\nClose: 350.76\\nVolume: 285994\\nValue: 100315255.44'),\n",
       " Document(id='7cd54cc6-57bd-4565-9526-3d0aa6b81603', metadata={'source': 'Molina, Ortiz and Rogers', 'row': 605}, page_content='Date: 2024-02-26\\nSymbol: GILM\\nCompany: Molina, Ortiz and Rogers\\nSector: Technology\\nOpen: 138.96\\nHigh: 143.13\\nLow: 138.1\\nClose: 142.72\\nVolume: 469246\\nValue: 66970789.12'),\n",
       " Document(id='bfd40ca8-7ae6-4af3-b286-f0b6297a3bd3', metadata={'source': 'Wood, Hutchinson and Hernandez', 'row': 606}, page_content='Date: 2024-02-26\\nSymbol: GUTI\\nCompany: Wood, Hutchinson and Hernandez\\nSector: Finance\\nOpen: 719.86\\nHigh: 727.09\\nLow: 713.25\\nClose: 719.97\\nVolume: 505940\\nValue: 364261621.8'),\n",
       " Document(id='53ef5fab-8e06-4130-9094-dec35aaf2a19', metadata={'source': 'Key, Santiago and Costa', 'row': 607}, page_content='Date: 2024-02-26\\nSymbol: HERR\\nCompany: Key, Santiago and Costa\\nSector: Healthcare\\nOpen: 522.48\\nHigh: 523.63\\nLow: 519.1\\nClose: 519.22\\nVolume: 282922\\nValue: 146898760.84'),\n",
       " Document(id='48c44143-9edc-4adf-acdb-4aecbaeb4dcb', metadata={'source': 'Kim and Sons', 'row': 608}, page_content='Date: 2024-02-26\\nSymbol: MILL\\nCompany: Kim and Sons\\nSector: Finance\\nOpen: 334.72\\nHigh: 342.36\\nLow: 333.91\\nClose: 341.92\\nVolume: 1246617\\nValue: 426243284.64'),\n",
       " Document(id='60c5f65a-e859-425c-9bb6-209e9b6e67c3', metadata={'source': 'Deleon-Oliver', 'row': 609}, page_content='Date: 2024-02-26\\nSymbol: MITC\\nCompany: Deleon-Oliver\\nSector: Finance\\nOpen: 359.35\\nHigh: 360.5\\nLow: 354.65\\nClose: 357.22\\nVolume: 593958\\nValue: 212173676.76'),\n",
       " Document(id='c65c0963-2cca-498a-ac61-390748ab2f57', metadata={'source': 'Petersen-Ali', 'row': 610}, page_content='Date: 2024-02-26\\nSymbol: MOOR\\nCompany: Petersen-Ali\\nSector: Healthcare\\nOpen: 883.61\\nHigh: 897.4\\nLow: 875.89\\nClose: 896.39\\nVolume: 324150\\nValue: 290564818.5'),\n",
       " Document(id='d40011f1-e8ec-4f12-bd83-31ba11dbd545', metadata={'source': 'Chavez, Adams and Johnson', 'row': 611}, page_content='Date: 2024-02-26\\nSymbol: SANT\\nCompany: Chavez, Adams and Johnson\\nSector: Energy\\nOpen: 709.97\\nHigh: 714.56\\nLow: 703.02\\nClose: 712.55\\nVolume: 568504\\nValue: 405087525.2'),\n",
       " Document(id='e0137b95-9516-4927-821e-df00d6726e07', metadata={'source': 'Walsh, Keller and Pearson', 'row': 612}, page_content='Date: 2024-02-26\\nSymbol: VELA\\nCompany: Walsh, Keller and Pearson\\nSector: Finance\\nOpen: 26.36\\nHigh: 26.44\\nLow: 25.09\\nClose: 25.27\\nVolume: 464908\\nValue: 11748225.16'),\n",
       " Document(id='b9312c25-0b1a-4453-bd91-61c1f30063f9', metadata={'source': 'Kramer Ltd', 'row': 613}, page_content='Date: 2024-02-26\\nSymbol: WILK\\nCompany: Kramer Ltd\\nSector: Finance\\nOpen: 623.21\\nHigh: 640.83\\nLow: 619.9\\nClose: 634.91\\nVolume: 1420369\\nValue: 901806481.79'),\n",
       " Document(id='14ae8207-9a6a-4862-a183-979e03ce39e1', metadata={'source': 'Moreno-Wagner', 'row': 614}, page_content='Date: 2024-02-26\\nSymbol: WYAT\\nCompany: Moreno-Wagner\\nSector: Healthcare\\nOpen: 365.7\\nHigh: 371.25\\nLow: 364.12\\nClose: 368.5\\nVolume: 878492\\nValue: 323724302.0'),\n",
       " Document(id='3b1493e0-2f78-4d44-b7bf-cbc07da2511d', metadata={'source': 'Stevens-Brown', 'row': 615}, page_content='Date: 2024-02-27\\nSymbol: BEAR\\nCompany: Stevens-Brown\\nSector: Technology\\nOpen: 377.62\\nHigh: 396.64\\nLow: 375.21\\nClose: 396.34\\nVolume: 349395\\nValue: 138479214.3'),\n",
       " Document(id='f81629f7-acf1-457e-89cc-7700eb9c1e6e', metadata={'source': 'Hill LLC', 'row': 616}, page_content='Date: 2024-02-27\\nSymbol: BLAN\\nCompany: Hill LLC\\nSector: Consumer\\nOpen: 796.03\\nHigh: 798.72\\nLow: 776.61\\nClose: 783.63\\nVolume: 760814\\nValue: 596196674.82'),\n",
       " Document(id='0861d90c-fb9f-49dc-ab11-cfa9c5e8143e', metadata={'source': 'Smith, Johnson and Mendoza', 'row': 617}, page_content='Date: 2024-02-27\\nSymbol: COLE\\nCompany: Smith, Johnson and Mendoza\\nSector: Consumer\\nOpen: 825.08\\nHigh: 862.33\\nLow: 822.56\\nClose: 856.94\\nVolume: 689050\\nValue: 590474507.0'),\n",
       " Document(id='1e800c7a-8eca-42a6-9f82-a2e18057411e', metadata={'source': 'Nichols, Ward and Miller', 'row': 618}, page_content='Date: 2024-02-27\\nSymbol: CUNN\\nCompany: Nichols, Ward and Miller\\nSector: Consumer\\nOpen: 429.03\\nHigh: 448.78\\nLow: 426.65\\nClose: 445.58\\nVolume: 280062\\nValue: 124790025.96'),\n",
       " Document(id='f3030fb9-595d-472c-9ae8-ac21271b69a7', metadata={'source': 'Parker-Taylor', 'row': 619}, page_content='Date: 2024-02-27\\nSymbol: DAVI\\nCompany: Parker-Taylor\\nSector: Healthcare\\nOpen: 350.35\\nHigh: 352.51\\nLow: 343.35\\nClose: 344.74\\nVolume: 416912\\nValue: 143726242.88'),\n",
       " Document(id='2e26175d-f22e-4130-8adf-8feed28e52ed', metadata={'source': 'Molina, Ortiz and Rogers', 'row': 620}, page_content='Date: 2024-02-27\\nSymbol: GILM\\nCompany: Molina, Ortiz and Rogers\\nSector: Technology\\nOpen: 143.33\\nHigh: 144.3\\nLow: 142.47\\nClose: 142.99\\nVolume: 457270\\nValue: 65385037.3'),\n",
       " Document(id='99a5c243-7aa4-4d33-926a-2b64541e999d', metadata={'source': 'Wood, Hutchinson and Hernandez', 'row': 621}, page_content='Date: 2024-02-27\\nSymbol: GUTI\\nCompany: Wood, Hutchinson and Hernandez\\nSector: Finance\\nOpen: 713.95\\nHigh: 735.05\\nLow: 713.39\\nClose: 733.4\\nVolume: 1198218\\nValue: 878773081.2'),\n",
       " Document(id='2d5af37f-d672-4d3e-96e2-d1c8c5d93fcc', metadata={'source': 'Key, Santiago and Costa', 'row': 622}, page_content='Date: 2024-02-27\\nSymbol: HERR\\nCompany: Key, Santiago and Costa\\nSector: Healthcare\\nOpen: 515.89\\nHigh: 547.12\\nLow: 514.32\\nClose: 541.88\\nVolume: 677647\\nValue: 367203356.36'),\n",
       " Document(id='5ffb8073-e60d-4f26-9454-2fa7e30d77ba', metadata={'source': 'Kim and Sons', 'row': 623}, page_content='Date: 2024-02-27\\nSymbol: MILL\\nCompany: Kim and Sons\\nSector: Finance\\nOpen: 344.15\\nHigh: 345.26\\nLow: 319.16\\nClose: 321.42\\nVolume: 792433\\nValue: 254703814.86'),\n",
       " Document(id='2cf12d59-ffd2-40d5-9867-844afcce0874', metadata={'source': 'Deleon-Oliver', 'row': 624}, page_content='Date: 2024-02-27\\nSymbol: MITC\\nCompany: Deleon-Oliver\\nSector: Finance\\nOpen: 360.14\\nHigh: 363.55\\nLow: 342.07\\nClose: 344.57\\nVolume: 658977\\nValue: 227063704.89'),\n",
       " Document(id='8a589fcd-692d-4274-bbde-911d87cbc3a2', metadata={'source': 'Petersen-Ali', 'row': 625}, page_content='Date: 2024-02-27\\nSymbol: MOOR\\nCompany: Petersen-Ali\\nSector: Healthcare\\nOpen: 891.96\\nHigh: 905.1\\nLow: 890.63\\nClose: 902.78\\nVolume: 793258\\nValue: 716137457.24'),\n",
       " Document(id='9e746ea2-d3fb-4c28-8025-6c4d06a73961', metadata={'source': 'Chavez, Adams and Johnson', 'row': 626}, page_content='Date: 2024-02-27\\nSymbol: SANT\\nCompany: Chavez, Adams and Johnson\\nSector: Energy\\nOpen: 709.03\\nHigh: 725.78\\nLow: 704.62\\nClose: 718.65\\nVolume: 606267\\nValue: 435693779.55'),\n",
       " Document(id='36c53627-55a0-43ee-9bc9-0c8bcefec723', metadata={'source': 'Walsh, Keller and Pearson', 'row': 627}, page_content='Date: 2024-02-27\\nSymbol: VELA\\nCompany: Walsh, Keller and Pearson\\nSector: Finance\\nOpen: 25.11\\nHigh: 25.85\\nLow: 25.08\\nClose: 25.67\\nVolume: 418196\\nValue: 10735091.32'),\n",
       " Document(id='1cc6dc85-475f-48cd-817e-143892ab96b2', metadata={'source': 'Kramer Ltd', 'row': 628}, page_content='Date: 2024-02-27\\nSymbol: WILK\\nCompany: Kramer Ltd\\nSector: Finance\\nOpen: 629.2\\nHigh: 635.01\\nLow: 623.97\\nClose: 633.37\\nVolume: 601673\\nValue: 381081628.01'),\n",
       " Document(id='297e8fee-5989-4d0c-bde1-baffb25b19c2', metadata={'source': 'Moreno-Wagner', 'row': 629}, page_content='Date: 2024-02-27\\nSymbol: WYAT\\nCompany: Moreno-Wagner\\nSector: Healthcare\\nOpen: 370.68\\nHigh: 372.38\\nLow: 345.43\\nClose: 347.94\\nVolume: 928840\\nValue: 323180589.6'),\n",
       " Document(id='b7434e06-d43e-4386-852c-517097b19076', metadata={'source': 'Stevens-Brown', 'row': 630}, page_content='Date: 2024-02-28\\nSymbol: BEAR\\nCompany: Stevens-Brown\\nSector: Technology\\nOpen: 399.81\\nHigh: 403.76\\nLow: 386.52\\nClose: 390.25\\nVolume: 687415\\nValue: 268263703.75'),\n",
       " Document(id='594f6c6a-393b-4d84-81c1-c5f07ffe8cbb', metadata={'source': 'Hill LLC', 'row': 631}, page_content='Date: 2024-02-28\\nSymbol: BLAN\\nCompany: Hill LLC\\nSector: Consumer\\nOpen: 777.83\\nHigh: 826.57\\nLow: 774.07\\nClose: 822.75\\nVolume: 928206\\nValue: 763681486.5'),\n",
       " Document(id='df7a117b-e53a-472e-8aad-e336151537f8', metadata={'source': 'Smith, Johnson and Mendoza', 'row': 632}, page_content='Date: 2024-02-28\\nSymbol: COLE\\nCompany: Smith, Johnson and Mendoza\\nSector: Consumer\\nOpen: 862.9\\nHigh: 869.9\\nLow: 840.95\\nClose: 844.97\\nVolume: 868653\\nValue: 733985725.41'),\n",
       " Document(id='b680989f-0c69-4002-8f39-aa63d337114b', metadata={'source': 'Nichols, Ward and Miller', 'row': 633}, page_content='Date: 2024-02-28\\nSymbol: CUNN\\nCompany: Nichols, Ward and Miller\\nSector: Consumer\\nOpen: 446.74\\nHigh: 447.53\\nLow: 433.9\\nClose: 434.18\\nVolume: 598465\\nValue: 259841533.7'),\n",
       " Document(id='b70e5b11-a3c1-411a-95a9-0e9458ca7412', metadata={'source': 'Parker-Taylor', 'row': 634}, page_content='Date: 2024-02-28\\nSymbol: DAVI\\nCompany: Parker-Taylor\\nSector: Healthcare\\nOpen: 345.95\\nHigh: 350.33\\nLow: 343.58\\nClose: 346.87\\nVolume: 400716\\nValue: 138996358.92'),\n",
       " Document(id='ae3eca49-3def-4b03-b60c-a178f5ed82c4', metadata={'source': 'Molina, Ortiz and Rogers', 'row': 635}, page_content='Date: 2024-02-28\\nSymbol: GILM\\nCompany: Molina, Ortiz and Rogers\\nSector: Technology\\nOpen: 144.33\\nHigh: 147.46\\nLow: 143.57\\nClose: 146.85\\nVolume: 603471\\nValue: 88619716.35'),\n",
       " Document(id='57a2490d-98bc-47fd-ac84-d9eef03f40cb', metadata={'source': 'Wood, Hutchinson and Hernandez', 'row': 636}, page_content='Date: 2024-02-28\\nSymbol: GUTI\\nCompany: Wood, Hutchinson and Hernandez\\nSector: Finance\\nOpen: 736.32\\nHigh: 738.42\\nLow: 731.98\\nClose: 735.43\\nVolume: 351080\\nValue: 258194764.4'),\n",
       " Document(id='080b61f3-6785-4b99-8883-495f155bac1e', metadata={'source': 'Key, Santiago and Costa', 'row': 637}, page_content='Date: 2024-02-28\\nSymbol: HERR\\nCompany: Key, Santiago and Costa\\nSector: Healthcare\\nOpen: 546.92\\nHigh: 566.82\\nLow: 546.17\\nClose: 563.9\\nVolume: 662122\\nValue: 373370595.8'),\n",
       " Document(id='6dbf408c-d168-420c-ac33-5591bbdf12c8', metadata={'source': 'Kim and Sons', 'row': 638}, page_content='Date: 2024-02-28\\nSymbol: MILL\\nCompany: Kim and Sons\\nSector: Finance\\nOpen: 322.46\\nHigh: 324.83\\nLow: 314.39\\nClose: 315.17\\nVolume: 370500\\nValue: 116770485.0'),\n",
       " Document(id='354b22aa-51d6-4e5a-97dd-a70905e11c92', metadata={'source': 'Deleon-Oliver', 'row': 639}, page_content='Date: 2024-02-28\\nSymbol: MITC\\nCompany: Deleon-Oliver\\nSector: Finance\\nOpen: 342.06\\nHigh: 349.92\\nLow: 341.16\\nClose: 347.23\\nVolume: 594760\\nValue: 206518514.8'),\n",
       " Document(id='574542c2-8280-4354-9d0a-4ac4edf160c4', metadata={'source': 'Petersen-Ali', 'row': 640}, page_content='Date: 2024-02-28\\nSymbol: MOOR\\nCompany: Petersen-Ali\\nSector: Healthcare\\nOpen: 910.51\\nHigh: 910.86\\nLow: 896.99\\nClose: 900.95\\nVolume: 473323\\nValue: 426440356.85'),\n",
       " Document(id='075e7d21-58b9-4e63-8d8c-2ace426beb2a', metadata={'source': 'Chavez, Adams and Johnson', 'row': 641}, page_content='Date: 2024-02-28\\nSymbol: SANT\\nCompany: Chavez, Adams and Johnson\\nSector: Energy\\nOpen: 713.5\\nHigh: 733.76\\nLow: 708.2\\nClose: 731.67\\nVolume: 446915\\nValue: 326994298.05'),\n",
       " Document(id='001bfbdc-c6dd-4034-a9d5-9c9ac865e822', metadata={'source': 'Walsh, Keller and Pearson', 'row': 642}, page_content='Date: 2024-02-28\\nSymbol: VELA\\nCompany: Walsh, Keller and Pearson\\nSector: Finance\\nOpen: 25.75\\nHigh: 26.17\\nLow: 25.5\\nClose: 26.08\\nVolume: 876505\\nValue: 22859250.4'),\n",
       " Document(id='274dcd7c-c87b-4884-9629-c11be508486d', metadata={'source': 'Kramer Ltd', 'row': 643}, page_content='Date: 2024-02-28\\nSymbol: WILK\\nCompany: Kramer Ltd\\nSector: Finance\\nOpen: 633.35\\nHigh: 645.07\\nLow: 632.31\\nClose: 639.53\\nVolume: 744864\\nValue: 476362873.92'),\n",
       " Document(id='3deacda6-1b1e-4e8b-a850-73748aad161e', metadata={'source': 'Moreno-Wagner', 'row': 644}, page_content='Date: 2024-02-28\\nSymbol: WYAT\\nCompany: Moreno-Wagner\\nSector: Healthcare\\nOpen: 347.7\\nHigh: 350.5\\nLow: 346.73\\nClose: 350.34\\nVolume: 601958\\nValue: 210889965.72'),\n",
       " Document(id='e571927d-1b7e-4402-91e8-ebb603be4b9c', metadata={'source': 'Stevens-Brown', 'row': 645}, page_content='Date: 2024-02-29\\nSymbol: BEAR\\nCompany: Stevens-Brown\\nSector: Technology\\nOpen: 393.36\\nHigh: 399.45\\nLow: 390.88\\nClose: 397.78\\nVolume: 821446\\nValue: 326754789.88'),\n",
       " Document(id='3fce6061-6731-4f13-b883-8618605b2aa1', metadata={'source': 'Hill LLC', 'row': 646}, page_content='Date: 2024-02-29\\nSymbol: BLAN\\nCompany: Hill LLC\\nSector: Consumer\\nOpen: 814.55\\nHigh: 859.75\\nLow: 811.7\\nClose: 851.42\\nVolume: 1027573\\nValue: 874896203.66'),\n",
       " Document(id='192eb171-3ada-4f5a-bba3-2966a8a6f67a', metadata={'source': 'Smith, Johnson and Mendoza', 'row': 647}, page_content='Date: 2024-02-29\\nSymbol: COLE\\nCompany: Smith, Johnson and Mendoza\\nSector: Consumer\\nOpen: 851.74\\nHigh: 858.81\\nLow: 829.21\\nClose: 834.05\\nVolume: 454120\\nValue: 378758786.0'),\n",
       " Document(id='3002277d-285c-4ecc-9a09-6d614578afd0', metadata={'source': 'Nichols, Ward and Miller', 'row': 648}, page_content='Date: 2024-02-29\\nSymbol: CUNN\\nCompany: Nichols, Ward and Miller\\nSector: Consumer\\nOpen: 432.98\\nHigh: 436.78\\nLow: 431.09\\nClose: 431.77\\nVolume: 557607\\nValue: 240757974.39'),\n",
       " Document(id='defa46c9-b175-4606-bcce-6dce437b1040', metadata={'source': 'Parker-Taylor', 'row': 649}, page_content='Date: 2024-02-29\\nSymbol: DAVI\\nCompany: Parker-Taylor\\nSector: Healthcare\\nOpen: 345.9\\nHigh: 347.52\\nLow: 326.07\\nClose: 326.07\\nVolume: 953689\\nValue: 310969372.23'),\n",
       " Document(id='c5b30308-2232-4715-a2ef-cd397c2bf348', metadata={'source': 'Molina, Ortiz and Rogers', 'row': 650}, page_content='Date: 2024-02-29\\nSymbol: GILM\\nCompany: Molina, Ortiz and Rogers\\nSector: Technology\\nOpen: 148.32\\nHigh: 155.46\\nLow: 146.97\\nClose: 154.39\\nVolume: 490045\\nValue: 75658047.55'),\n",
       " Document(id='acfb3e65-4459-4d5b-87ca-5871bf64ec4a', metadata={'source': 'Wood, Hutchinson and Hernandez', 'row': 651}, page_content='Date: 2024-02-29\\nSymbol: GUTI\\nCompany: Wood, Hutchinson and Hernandez\\nSector: Finance\\nOpen: 738.43\\nHigh: 741.19\\nLow: 727.06\\nClose: 727.38\\nVolume: 531993\\nValue: 386961068.34'),\n",
       " Document(id='242a8a02-a1f4-436c-93d9-55b3bee45faf', metadata={'source': 'Key, Santiago and Costa', 'row': 652}, page_content='Date: 2024-02-29\\nSymbol: HERR\\nCompany: Key, Santiago and Costa\\nSector: Healthcare\\nOpen: 563.05\\nHigh: 602.08\\nLow: 562.06\\nClose: 599.49\\nVolume: 500144\\nValue: 299831326.56'),\n",
       " Document(id='495e368b-ebfc-4193-8122-2f73a1d8b399', metadata={'source': 'Kim and Sons', 'row': 653}, page_content='Date: 2024-02-29\\nSymbol: MILL\\nCompany: Kim and Sons\\nSector: Finance\\nOpen: 314.44\\nHigh: 324.94\\nLow: 314.2\\nClose: 322.24\\nVolume: 525587\\nValue: 169365154.88'),\n",
       " Document(id='22fcbded-9e86-469a-a9d5-254f37fdfe95', metadata={'source': 'Deleon-Oliver', 'row': 654}, page_content='Date: 2024-02-29\\nSymbol: MITC\\nCompany: Deleon-Oliver\\nSector: Finance\\nOpen: 347.44\\nHigh: 352.69\\nLow: 346.17\\nClose: 349.61\\nVolume: 955467\\nValue: 334040817.87'),\n",
       " Document(id='1dd59653-6125-4a29-8311-99ed476fde9c', metadata={'source': 'Petersen-Ali', 'row': 655}, page_content='Date: 2024-02-29\\nSymbol: MOOR\\nCompany: Petersen-Ali\\nSector: Healthcare\\nOpen: 907.43\\nHigh: 916.33\\nLow: 891.61\\nClose: 895.89\\nVolume: 503057\\nValue: 450683735.73'),\n",
       " Document(id='1f87d887-bbcc-43ac-82f2-1177231e01af', metadata={'source': 'Chavez, Adams and Johnson', 'row': 656}, page_content='Date: 2024-02-29\\nSymbol: SANT\\nCompany: Chavez, Adams and Johnson\\nSector: Energy\\nOpen: 732.65\\nHigh: 734.15\\nLow: 705.53\\nClose: 707.15\\nVolume: 798673\\nValue: 564781611.95'),\n",
       " Document(id='33ef157f-9ddc-44bb-a47b-d19dcabf344d', metadata={'source': 'Walsh, Keller and Pearson', 'row': 657}, page_content='Date: 2024-02-29\\nSymbol: VELA\\nCompany: Walsh, Keller and Pearson\\nSector: Finance\\nOpen: 25.84\\nHigh: 26.08\\nLow: 25.02\\nClose: 25.17\\nVolume: 812816\\nValue: 20458578.72'),\n",
       " Document(id='3010d86d-2a4c-4d1b-a5fa-54d9a9ea29d8', metadata={'source': 'Kramer Ltd', 'row': 658}, page_content='Date: 2024-02-29\\nSymbol: WILK\\nCompany: Kramer Ltd\\nSector: Finance\\nOpen: 637.92\\nHigh: 650.44\\nLow: 634.83\\nClose: 645.73\\nVolume: 823487\\nValue: 531750260.51'),\n",
       " Document(id='af7c1b39-20dd-47c3-bc29-c502fae43bf4', metadata={'source': 'Moreno-Wagner', 'row': 659}, page_content='Date: 2024-02-29\\nSymbol: WYAT\\nCompany: Moreno-Wagner\\nSector: Healthcare\\nOpen: 353.81\\nHigh: 366.81\\nLow: 351.49\\nClose: 363.99\\nVolume: 922174\\nValue: 335662114.26'),\n",
       " Document(id='1e7ff96a-ab46-4c15-807c-f9c1f3f6b62f', metadata={'source': 'Stevens-Brown', 'row': 660}, page_content='Date: 2024-03-01\\nSymbol: BEAR\\nCompany: Stevens-Brown\\nSector: Technology\\nOpen: 397.12\\nHigh: 398.86\\nLow: 393.72\\nClose: 394.0\\nVolume: 556123\\nValue: 219112462.0'),\n",
       " Document(id='cf05b534-4530-4b08-a37e-e4bb411c2193', metadata={'source': 'Hill LLC', 'row': 661}, page_content='Date: 2024-03-01\\nSymbol: BLAN\\nCompany: Hill LLC\\nSector: Consumer\\nOpen: 856.82\\nHigh: 891.02\\nLow: 854.41\\nClose: 888.49\\nVolume: 628126\\nValue: 558083669.74'),\n",
       " Document(id='1069903f-b06e-48e3-a509-ea8e127f7a86', metadata={'source': 'Smith, Johnson and Mendoza', 'row': 662}, page_content='Date: 2024-03-01\\nSymbol: COLE\\nCompany: Smith, Johnson and Mendoza\\nSector: Consumer\\nOpen: 829.4\\nHigh: 889.24\\nLow: 822.13\\nClose: 885.49\\nVolume: 512886\\nValue: 454155424.14'),\n",
       " Document(id='41c6359b-0983-467c-b1ad-0757276809cd', metadata={'source': 'Nichols, Ward and Miller', 'row': 663}, page_content='Date: 2024-03-01\\nSymbol: CUNN\\nCompany: Nichols, Ward and Miller\\nSector: Consumer\\nOpen: 428.61\\nHigh: 431.79\\nLow: 424.75\\nClose: 431.38\\nVolume: 208267\\nValue: 89842218.46'),\n",
       " Document(id='6b63ec74-8db5-4a0f-b07e-514f7b66cbaf', metadata={'source': 'Parker-Taylor', 'row': 664}, page_content='Date: 2024-03-01\\nSymbol: DAVI\\nCompany: Parker-Taylor\\nSector: Healthcare\\nOpen: 325.13\\nHigh: 331.28\\nLow: 324.38\\nClose: 330.66\\nVolume: 122446\\nValue: 40487994.36'),\n",
       " Document(id='e8f60200-e090-40ed-91c7-d2340c87572b', metadata={'source': 'Molina, Ortiz and Rogers', 'row': 665}, page_content='Date: 2024-03-01\\nSymbol: GILM\\nCompany: Molina, Ortiz and Rogers\\nSector: Technology\\nOpen: 155.68\\nHigh: 156.07\\nLow: 150.48\\nClose: 151.67\\nVolume: 615253\\nValue: 93315422.51'),\n",
       " Document(id='91ae2852-abbf-4809-9e09-8979e1037f9d', metadata={'source': 'Wood, Hutchinson and Hernandez', 'row': 666}, page_content='Date: 2024-03-01\\nSymbol: GUTI\\nCompany: Wood, Hutchinson and Hernandez\\nSector: Finance\\nOpen: 723.91\\nHigh: 729.65\\nLow: 705.7\\nClose: 711.87\\nVolume: 871893\\nValue: 620674469.91'),\n",
       " Document(id='9363c1ed-e675-4f17-baae-d4b00600115b', metadata={'source': 'Key, Santiago and Costa', 'row': 667}, page_content='Date: 2024-03-01\\nSymbol: HERR\\nCompany: Key, Santiago and Costa\\nSector: Healthcare\\nOpen: 594.18\\nHigh: 611.13\\nLow: 593.62\\nClose: 608.19\\nVolume: 787450\\nValue: 478919215.5'),\n",
       " Document(id='3396f7a5-d157-48d2-ba75-be26968abfc4', metadata={'source': 'Kim and Sons', 'row': 668}, page_content='Date: 2024-03-01\\nSymbol: MILL\\nCompany: Kim and Sons\\nSector: Finance\\nOpen: 320.83\\nHigh: 323.93\\nLow: 313.84\\nClose: 316.45\\nVolume: 736375\\nValue: 233025868.75'),\n",
       " Document(id='255d8b2c-249b-4e3e-91ea-8ab350f137eb', metadata={'source': 'Deleon-Oliver', 'row': 669}, page_content='Date: 2024-03-01\\nSymbol: MITC\\nCompany: Deleon-Oliver\\nSector: Finance\\nOpen: 346.34\\nHigh: 351.07\\nLow: 343.5\\nClose: 350.47\\nVolume: 999131\\nValue: 350165441.57'),\n",
       " Document(id='1b4beac8-6f85-4483-9855-117184fb6644', metadata={'source': 'Petersen-Ali', 'row': 670}, page_content='Date: 2024-03-01\\nSymbol: MOOR\\nCompany: Petersen-Ali\\nSector: Healthcare\\nOpen: 888.92\\nHigh: 909.62\\nLow: 885.09\\nClose: 902.82\\nVolume: 728717\\nValue: 657900281.94'),\n",
       " Document(id='499915f2-dcca-4bff-bd99-628cf6665b63', metadata={'source': 'Chavez, Adams and Johnson', 'row': 671}, page_content='Date: 2024-03-01\\nSymbol: SANT\\nCompany: Chavez, Adams and Johnson\\nSector: Energy\\nOpen: 700.98\\nHigh: 704.86\\nLow: 697.3\\nClose: 701.71\\nVolume: 387098\\nValue: 271630537.58'),\n",
       " Document(id='d994a519-ce5a-472c-8804-b03546fdb35a', metadata={'source': 'Walsh, Keller and Pearson', 'row': 672}, page_content='Date: 2024-03-01\\nSymbol: VELA\\nCompany: Walsh, Keller and Pearson\\nSector: Finance\\nOpen: 25.24\\nHigh: 25.87\\nLow: 25.0\\nClose: 25.86\\nVolume: 726875\\nValue: 18796987.5'),\n",
       " Document(id='6add88cc-8241-437c-9153-1aec2f04273d', metadata={'source': 'Kramer Ltd', 'row': 673}, page_content='Date: 2024-03-01\\nSymbol: WILK\\nCompany: Kramer Ltd\\nSector: Finance\\nOpen: 647.31\\nHigh: 652.85\\nLow: 638.12\\nClose: 643.25\\nVolume: 538905\\nValue: 346650641.25'),\n",
       " Document(id='623e1c3c-ed79-4afd-bd69-5385ead2c50d', metadata={'source': 'Moreno-Wagner', 'row': 674}, page_content='Date: 2024-03-01\\nSymbol: WYAT\\nCompany: Moreno-Wagner\\nSector: Healthcare\\nOpen: 366.05\\nHigh: 383.66\\nLow: 363.34\\nClose: 381.48\\nVolume: 353164\\nValue: 134725002.72'),\n",
       " Document(id='4e393a5c-98e8-4919-a267-2b14ab3132d0', metadata={'source': 'Stevens-Brown', 'row': 675}, page_content='Date: 2024-03-04\\nSymbol: BEAR\\nCompany: Stevens-Brown\\nSector: Technology\\nOpen: 397.51\\nHigh: 398.7\\nLow: 388.67\\nClose: 391.8\\nVolume: 561010\\nValue: 219803718.0'),\n",
       " Document(id='642f61df-9742-4fa6-8718-b7a0a1b1989b', metadata={'source': 'Hill LLC', 'row': 676}, page_content='Date: 2024-03-04\\nSymbol: BLAN\\nCompany: Hill LLC\\nSector: Consumer\\nOpen: 894.37\\nHigh: 926.48\\nLow: 893.95\\nClose: 919.72\\nVolume: 765746\\nValue: 704271911.12'),\n",
       " Document(id='73992267-53b4-44ed-b64d-4b07dc2692ee', metadata={'source': 'Smith, Johnson and Mendoza', 'row': 677}, page_content='Date: 2024-03-04\\nSymbol: COLE\\nCompany: Smith, Johnson and Mendoza\\nSector: Consumer\\nOpen: 884.37\\nHigh: 924.25\\nLow: 878.38\\nClose: 918.75\\nVolume: 518796\\nValue: 476643825.0'),\n",
       " Document(id='7b164bdb-6226-44d4-8531-4fd6a1b1c0d0', metadata={'source': 'Nichols, Ward and Miller', 'row': 678}, page_content='Date: 2024-03-04\\nSymbol: CUNN\\nCompany: Nichols, Ward and Miller\\nSector: Consumer\\nOpen: 432.17\\nHigh: 446.76\\nLow: 431.03\\nClose: 443.17\\nVolume: 717217\\nValue: 317849057.89'),\n",
       " Document(id='787c8c80-3b5e-4b4b-bbef-1f3732835b72', metadata={'source': 'Parker-Taylor', 'row': 679}, page_content='Date: 2024-03-04\\nSymbol: DAVI\\nCompany: Parker-Taylor\\nSector: Healthcare\\nOpen: 329.69\\nHigh: 330.42\\nLow: 322.05\\nClose: 324.17\\nVolume: 322008\\nValue: 104385333.36'),\n",
       " Document(id='1a1af26c-4a99-46e2-b947-cea78cde2a76', metadata={'source': 'Molina, Ortiz and Rogers', 'row': 680}, page_content='Date: 2024-03-04\\nSymbol: GILM\\nCompany: Molina, Ortiz and Rogers\\nSector: Technology\\nOpen: 150.76\\nHigh: 160.09\\nLow: 150.14\\nClose: 159.72\\nVolume: 686000\\nValue: 109567920.0'),\n",
       " Document(id='4182a613-87f2-4bf4-9182-3e14f51e2854', metadata={'source': 'Wood, Hutchinson and Hernandez', 'row': 681}, page_content='Date: 2024-03-04\\nSymbol: GUTI\\nCompany: Wood, Hutchinson and Hernandez\\nSector: Finance\\nOpen: 706.32\\nHigh: 714.82\\nLow: 703.6\\nClose: 713.27\\nVolume: 390016\\nValue: 278186712.32'),\n",
       " Document(id='28f68852-6ad3-4289-b1b7-a7acc97d59f4', metadata={'source': 'Key, Santiago and Costa', 'row': 682}, page_content='Date: 2024-03-04\\nSymbol: HERR\\nCompany: Key, Santiago and Costa\\nSector: Healthcare\\nOpen: 602.34\\nHigh: 604.44\\nLow: 593.85\\nClose: 597.41\\nVolume: 702583\\nValue: 419730110.03'),\n",
       " Document(id='3861350a-d32c-4bef-bebd-6bc36a5311f6', metadata={'source': 'Kim and Sons', 'row': 683}, page_content='Date: 2024-03-04\\nSymbol: MILL\\nCompany: Kim and Sons\\nSector: Finance\\nOpen: 319.09\\nHigh: 322.16\\nLow: 306.54\\nClose: 309.46\\nVolume: 643040\\nValue: 198995158.4'),\n",
       " Document(id='d7f1f8be-5fa3-4b48-b331-3eec6080c54a', metadata={'source': 'Deleon-Oliver', 'row': 684}, page_content='Date: 2024-03-04\\nSymbol: MITC\\nCompany: Deleon-Oliver\\nSector: Finance\\nOpen: 353.51\\nHigh: 354.52\\nLow: 339.17\\nClose: 341.1\\nVolume: 474289\\nValue: 161779977.9'),\n",
       " Document(id='d25f51ce-3476-4a49-b3da-125aa4a2adcb', metadata={'source': 'Petersen-Ali', 'row': 685}, page_content='Date: 2024-03-04\\nSymbol: MOOR\\nCompany: Petersen-Ali\\nSector: Healthcare\\nOpen: 905.94\\nHigh: 911.16\\nLow: 902.81\\nClose: 904.91\\nVolume: 400207\\nValue: 362151316.37'),\n",
       " Document(id='e278fe55-00f8-4c1e-8ee3-f80c0b5cc091', metadata={'source': 'Chavez, Adams and Johnson', 'row': 686}, page_content='Date: 2024-03-04\\nSymbol: SANT\\nCompany: Chavez, Adams and Johnson\\nSector: Energy\\nOpen: 708.6\\nHigh: 709.41\\nLow: 684.67\\nClose: 690.83\\nVolume: 1005754\\nValue: 694805035.82'),\n",
       " Document(id='f2bb7474-9707-41ee-860c-96b1561a42c9', metadata={'source': 'Walsh, Keller and Pearson', 'row': 687}, page_content='Date: 2024-03-04\\nSymbol: VELA\\nCompany: Walsh, Keller and Pearson\\nSector: Finance\\nOpen: 25.71\\nHigh: 25.99\\nLow: 25.59\\nClose: 25.91\\nVolume: 414939\\nValue: 10751069.49'),\n",
       " Document(id='b320adf6-c6e1-4407-ab0b-aaaa84d3ec2a', metadata={'source': 'Kramer Ltd', 'row': 688}, page_content='Date: 2024-03-04\\nSymbol: WILK\\nCompany: Kramer Ltd\\nSector: Finance\\nOpen: 645.09\\nHigh: 651.56\\nLow: 644.05\\nClose: 649.16\\nVolume: 329925\\nValue: 214174113.0'),\n",
       " Document(id='edd82093-6a2c-4f45-8198-3e660897329c', metadata={'source': 'Moreno-Wagner', 'row': 689}, page_content='Date: 2024-03-04\\nSymbol: WYAT\\nCompany: Moreno-Wagner\\nSector: Healthcare\\nOpen: 385.25\\nHigh: 388.02\\nLow: 379.97\\nClose: 380.12\\nVolume: 476443\\nValue: 181105513.16'),\n",
       " Document(id='1fff0a8e-1233-4024-8802-e5d3336f2710', metadata={'source': 'Stevens-Brown', 'row': 690}, page_content='Date: 2024-03-05\\nSymbol: BEAR\\nCompany: Stevens-Brown\\nSector: Technology\\nOpen: 395.58\\nHigh: 395.99\\nLow: 390.84\\nClose: 393.41\\nVolume: 319253\\nValue: 125597322.73'),\n",
       " Document(id='a9cc46ad-9e82-43b9-8b31-5777cc0000d0', metadata={'source': 'Hill LLC', 'row': 691}, page_content='Date: 2024-03-05\\nSymbol: BLAN\\nCompany: Hill LLC\\nSector: Consumer\\nOpen: 925.16\\nHigh: 932.46\\nLow: 915.84\\nClose: 922.15\\nVolume: 391078\\nValue: 360632577.7'),\n",
       " Document(id='d302a800-5291-46da-bfa3-faa32968a5c0', metadata={'source': 'Smith, Johnson and Mendoza', 'row': 692}, page_content='Date: 2024-03-05\\nSymbol: COLE\\nCompany: Smith, Johnson and Mendoza\\nSector: Consumer\\nOpen: 910.05\\nHigh: 938.38\\nLow: 903.02\\nClose: 930.14\\nVolume: 557936\\nValue: 518958591.04'),\n",
       " Document(id='b584a5d1-09d4-4f5c-a7c8-5c9a2912efe2', metadata={'source': 'Nichols, Ward and Miller', 'row': 693}, page_content='Date: 2024-03-05\\nSymbol: CUNN\\nCompany: Nichols, Ward and Miller\\nSector: Consumer\\nOpen: 443.85\\nHigh: 444.6\\nLow: 437.58\\nClose: 439.58\\nVolume: 554901\\nValue: 243923381.58'),\n",
       " Document(id='0b82bd56-470c-4f0a-980e-6270031e3d27', metadata={'source': 'Parker-Taylor', 'row': 694}, page_content='Date: 2024-03-05\\nSymbol: DAVI\\nCompany: Parker-Taylor\\nSector: Healthcare\\nOpen: 321.83\\nHigh: 322.74\\nLow: 302.93\\nClose: 305.9\\nVolume: 862479\\nValue: 263832326.1'),\n",
       " Document(id='1732d9e3-39c3-4f73-92c6-3317a8c55ed5', metadata={'source': 'Molina, Ortiz and Rogers', 'row': 695}, page_content='Date: 2024-03-05\\nSymbol: GILM\\nCompany: Molina, Ortiz and Rogers\\nSector: Technology\\nOpen: 160.79\\nHigh: 163.49\\nLow: 160.2\\nClose: 163.02\\nVolume: 540845\\nValue: 88168551.9'),\n",
       " Document(id='028f57fb-62ad-4656-bc93-accb6b9bd85a', metadata={'source': 'Wood, Hutchinson and Hernandez', 'row': 696}, page_content='Date: 2024-03-05\\nSymbol: GUTI\\nCompany: Wood, Hutchinson and Hernandez\\nSector: Finance\\nOpen: 717.6\\nHigh: 720.89\\nLow: 715.04\\nClose: 716.73\\nVolume: 330644\\nValue: 236982474.12'),\n",
       " Document(id='026a006a-49bd-40d4-b1f3-0945426065ab', metadata={'source': 'Key, Santiago and Costa', 'row': 697}, page_content='Date: 2024-03-05\\nSymbol: HERR\\nCompany: Key, Santiago and Costa\\nSector: Healthcare\\nOpen: 599.49\\nHigh: 629.24\\nLow: 595.57\\nClose: 627.47\\nVolume: 957861\\nValue: 601029041.67'),\n",
       " Document(id='e273e9d5-0722-41f4-9f98-c620a49dbf43', metadata={'source': 'Kim and Sons', 'row': 698}, page_content='Date: 2024-03-05\\nSymbol: MILL\\nCompany: Kim and Sons\\nSector: Finance\\nOpen: 311.95\\nHigh: 314.86\\nLow: 310.29\\nClose: 313.7\\nVolume: 353188\\nValue: 110795075.6'),\n",
       " Document(id='0ca7d1ed-3572-48d6-8500-a39ddea6b092', metadata={'source': 'Deleon-Oliver', 'row': 699}, page_content='Date: 2024-03-05\\nSymbol: MITC\\nCompany: Deleon-Oliver\\nSector: Finance\\nOpen: 339.44\\nHigh: 348.17\\nLow: 336.41\\nClose: 346.71\\nVolume: 512823\\nValue: 177800862.33'),\n",
       " Document(id='c90749d8-28fa-40cf-9cfb-63bb9fcf8bd9', metadata={'source': 'Petersen-Ali', 'row': 700}, page_content='Date: 2024-03-05\\nSymbol: MOOR\\nCompany: Petersen-Ali\\nSector: Healthcare\\nOpen: 905.9\\nHigh: 913.46\\nLow: 896.97\\nClose: 899.06\\nVolume: 733416\\nValue: 659384988.96'),\n",
       " Document(id='95c205f1-d6e9-4202-8922-088885c1ce5f', metadata={'source': 'Chavez, Adams and Johnson', 'row': 701}, page_content='Date: 2024-03-05\\nSymbol: SANT\\nCompany: Chavez, Adams and Johnson\\nSector: Energy\\nOpen: 687.55\\nHigh: 697.5\\nLow: 686.0\\nClose: 695.3\\nVolume: 778156\\nValue: 541051866.8'),\n",
       " Document(id='f1e98230-6ab4-4eaa-aad8-b0741cdb6cf1', metadata={'source': 'Walsh, Keller and Pearson', 'row': 702}, page_content='Date: 2024-03-05\\nSymbol: VELA\\nCompany: Walsh, Keller and Pearson\\nSector: Finance\\nOpen: 25.87\\nHigh: 26.21\\nLow: 25.74\\nClose: 26.16\\nVolume: 481567\\nValue: 12597792.72'),\n",
       " Document(id='a0257f8b-a523-4208-9c40-88b7ebff0d6c', metadata={'source': 'Kramer Ltd', 'row': 703}, page_content='Date: 2024-03-05\\nSymbol: WILK\\nCompany: Kramer Ltd\\nSector: Finance\\nOpen: 653.22\\nHigh: 656.8\\nLow: 644.75\\nClose: 648.57\\nVolume: 285655\\nValue: 185267263.35'),\n",
       " Document(id='a7ec7636-7c69-4270-9d4f-d987e470d607', metadata={'source': 'Moreno-Wagner', 'row': 704}, page_content='Date: 2024-03-05\\nSymbol: WYAT\\nCompany: Moreno-Wagner\\nSector: Healthcare\\nOpen: 381.75\\nHigh: 401.87\\nLow: 378.16\\nClose: 399.29\\nVolume: 982434\\nValue: 392276071.86'),\n",
       " Document(id='dbd38248-d461-4749-9512-d455408dbc9c', metadata={'source': 'Stevens-Brown', 'row': 705}, page_content='Date: 2024-03-06\\nSymbol: BEAR\\nCompany: Stevens-Brown\\nSector: Technology\\nOpen: 390.66\\nHigh: 400.02\\nLow: 387.25\\nClose: 397.85\\nVolume: 369280\\nValue: 146918048.0'),\n",
       " Document(id='835ec512-a01b-466b-aaae-9e690118ff7a', metadata={'source': 'Hill LLC', 'row': 706}, page_content='Date: 2024-03-06\\nSymbol: BLAN\\nCompany: Hill LLC\\nSector: Consumer\\nOpen: 929.59\\nHigh: 932.02\\nLow: 911.68\\nClose: 915.05\\nVolume: 398580\\nValue: 364720629.0'),\n",
       " Document(id='b731f246-22f9-4409-966b-2ad283a9871f', metadata={'source': 'Smith, Johnson and Mendoza', 'row': 707}, page_content='Date: 2024-03-06\\nSymbol: COLE\\nCompany: Smith, Johnson and Mendoza\\nSector: Consumer\\nOpen: 922.27\\nHigh: 974.5\\nLow: 922.05\\nClose: 969.81\\nVolume: 1139119\\nValue: 1104728997.39'),\n",
       " Document(id='42ea2146-730d-4b1d-9b5f-3667883ba9a7', metadata={'source': 'Nichols, Ward and Miller', 'row': 708}, page_content='Date: 2024-03-06\\nSymbol: CUNN\\nCompany: Nichols, Ward and Miller\\nSector: Consumer\\nOpen: 442.06\\nHigh: 445.06\\nLow: 433.31\\nClose: 435.6\\nVolume: 433553\\nValue: 188855686.8'),\n",
       " Document(id='5d22cba8-26d4-4b1d-ad41-6060f704d2cc', metadata={'source': 'Parker-Taylor', 'row': 709}, page_content='Date: 2024-03-06\\nSymbol: DAVI\\nCompany: Parker-Taylor\\nSector: Healthcare\\nOpen: 306.79\\nHigh: 306.93\\nLow: 291.86\\nClose: 294.14\\nVolume: 1215175\\nValue: 357431574.5'),\n",
       " Document(id='4a3bfc69-1e5c-4c29-a937-449a1e7a3da9', metadata={'source': 'Molina, Ortiz and Rogers', 'row': 710}, page_content='Date: 2024-03-06\\nSymbol: GILM\\nCompany: Molina, Ortiz and Rogers\\nSector: Technology\\nOpen: 163.57\\nHigh: 164.25\\nLow: 161.16\\nClose: 161.71\\nVolume: 415072\\nValue: 67121293.12'),\n",
       " Document(id='dd6df8af-6579-46e1-9adf-1daa2e24b2ab', metadata={'source': 'Wood, Hutchinson and Hernandez', 'row': 711}, page_content='Date: 2024-03-06\\nSymbol: GUTI\\nCompany: Wood, Hutchinson and Hernandez\\nSector: Finance\\nOpen: 709.64\\nHigh: 716.68\\nLow: 706.56\\nClose: 706.66\\nVolume: 694718\\nValue: 490929421.88'),\n",
       " Document(id='9725b293-3cb5-4b32-8fbe-043ab28356de', metadata={'source': 'Key, Santiago and Costa', 'row': 712}, page_content='Date: 2024-03-06\\nSymbol: HERR\\nCompany: Key, Santiago and Costa\\nSector: Healthcare\\nOpen: 631.97\\nHigh: 644.05\\nLow: 631.07\\nClose: 643.25\\nVolume: 394360\\nValue: 253672070.0'),\n",
       " Document(id='93002e10-053b-401d-8559-8ed68c9ccb45', metadata={'source': 'Kim and Sons', 'row': 713}, page_content='Date: 2024-03-06\\nSymbol: MILL\\nCompany: Kim and Sons\\nSector: Finance\\nOpen: 314.72\\nHigh: 317.77\\nLow: 308.47\\nClose: 309.32\\nVolume: 973472\\nValue: 301114359.04'),\n",
       " Document(id='8055192f-4654-4f02-9013-e938e7221132', metadata={'source': 'Deleon-Oliver', 'row': 714}, page_content='Date: 2024-03-06\\nSymbol: MITC\\nCompany: Deleon-Oliver\\nSector: Finance\\nOpen: 347.69\\nHigh: 348.88\\nLow: 337.81\\nClose: 340.11\\nVolume: 761655\\nValue: 259046482.05'),\n",
       " Document(id='deb2bb58-5807-4c1d-85cf-a5557ad277c8', metadata={'source': 'Petersen-Ali', 'row': 715}, page_content='Date: 2024-03-06\\nSymbol: MOOR\\nCompany: Petersen-Ali\\nSector: Healthcare\\nOpen: 899.78\\nHigh: 926.21\\nLow: 898.83\\nClose: 919.76\\nVolume: 696409\\nValue: 640529141.84'),\n",
       " Document(id='a8b027a9-9e89-42ed-8c9e-a56200ce47e6', metadata={'source': 'Chavez, Adams and Johnson', 'row': 716}, page_content='Date: 2024-03-06\\nSymbol: SANT\\nCompany: Chavez, Adams and Johnson\\nSector: Energy\\nOpen: 697.93\\nHigh: 698.24\\nLow: 693.17\\nClose: 696.04\\nVolume: 741361\\nValue: 516016910.44'),\n",
       " Document(id='27b72944-5d07-4ff4-b2b4-e5e1fb696008', metadata={'source': 'Walsh, Keller and Pearson', 'row': 717}, page_content='Date: 2024-03-06\\nSymbol: VELA\\nCompany: Walsh, Keller and Pearson\\nSector: Finance\\nOpen: 26.02\\nHigh: 26.59\\nLow: 25.79\\nClose: 26.56\\nVolume: 743084\\nValue: 19736311.04'),\n",
       " Document(id='110037ed-5cd1-4206-af8b-f07496098f23', metadata={'source': 'Kramer Ltd', 'row': 718}, page_content='Date: 2024-03-06\\nSymbol: WILK\\nCompany: Kramer Ltd\\nSector: Finance\\nOpen: 646.49\\nHigh: 662.83\\nLow: 641.06\\nClose: 656.64\\nVolume: 342080\\nValue: 224623411.2'),\n",
       " Document(id='74426f37-3818-432f-85f0-ce5ab9e9ad97', metadata={'source': 'Moreno-Wagner', 'row': 719}, page_content='Date: 2024-03-06\\nSymbol: WYAT\\nCompany: Moreno-Wagner\\nSector: Healthcare\\nOpen: 397.65\\nHigh: 401.31\\nLow: 396.84\\nClose: 397.2\\nVolume: 531902\\nValue: 211271474.4'),\n",
       " Document(id='2d196a33-bb8b-4725-aba1-5bae90321661', metadata={'source': 'Stevens-Brown', 'row': 720}, page_content='Date: 2024-03-07\\nSymbol: BEAR\\nCompany: Stevens-Brown\\nSector: Technology\\nOpen: 395.74\\nHigh: 396.42\\nLow: 394.44\\nClose: 395.77\\nVolume: 791080\\nValue: 313085731.6'),\n",
       " Document(id='859ef6de-72dc-4d25-95cd-543c8f639665', metadata={'source': 'Hill LLC', 'row': 721}, page_content='Date: 2024-03-07\\nSymbol: BLAN\\nCompany: Hill LLC\\nSector: Consumer\\nOpen: 921.96\\nHigh: 935.59\\nLow: 913.23\\nClose: 930.76\\nVolume: 643248\\nValue: 598709508.48'),\n",
       " Document(id='1e073919-6d10-4a2c-a3ab-4fd91aff64c0', metadata={'source': 'Smith, Johnson and Mendoza', 'row': 722}, page_content='Date: 2024-03-07\\nSymbol: COLE\\nCompany: Smith, Johnson and Mendoza\\nSector: Consumer\\nOpen: 975.1\\nHigh: 986.1\\nLow: 966.38\\nClose: 982.07\\nVolume: 611627\\nValue: 600660527.89'),\n",
       " Document(id='90435593-1caa-4e5d-bc36-087c2e4671ee', metadata={'source': 'Nichols, Ward and Miller', 'row': 723}, page_content='Date: 2024-03-07\\nSymbol: CUNN\\nCompany: Nichols, Ward and Miller\\nSector: Consumer\\nOpen: 438.62\\nHigh: 440.0\\nLow: 436.79\\nClose: 438.98\\nVolume: 407468\\nValue: 178870302.64'),\n",
       " Document(id='2b183572-fa3e-486f-aa60-3f5878d9b052', metadata={'source': 'Parker-Taylor', 'row': 724}, page_content='Date: 2024-03-07\\nSymbol: DAVI\\nCompany: Parker-Taylor\\nSector: Healthcare\\nOpen: 291.92\\nHigh: 293.94\\nLow: 286.64\\nClose: 287.26\\nVolume: 616418\\nValue: 177072234.68'),\n",
       " Document(id='d405c469-b075-4a72-91ba-387fdb7601d3', metadata={'source': 'Molina, Ortiz and Rogers', 'row': 725}, page_content='Date: 2024-03-07\\nSymbol: GILM\\nCompany: Molina, Ortiz and Rogers\\nSector: Technology\\nOpen: 163.19\\nHigh: 167.25\\nLow: 162.69\\nClose: 166.89\\nVolume: 814125\\nValue: 135869321.25'),\n",
       " Document(id='2b05599e-5b8f-4490-adaf-deb76a91e4e3', metadata={'source': 'Wood, Hutchinson and Hernandez', 'row': 726}, page_content='Date: 2024-03-07\\nSymbol: GUTI\\nCompany: Wood, Hutchinson and Hernandez\\nSector: Finance\\nOpen: 705.0\\nHigh: 729.27\\nLow: 704.95\\nClose: 724.86\\nVolume: 780311\\nValue: 565616231.46'),\n",
       " Document(id='307c53f5-47e5-4615-9161-c0e81353fe51', metadata={'source': 'Key, Santiago and Costa', 'row': 727}, page_content='Date: 2024-03-07\\nSymbol: HERR\\nCompany: Key, Santiago and Costa\\nSector: Healthcare\\nOpen: 646.23\\nHigh: 656.2\\nLow: 644.27\\nClose: 651.4\\nVolume: 781821\\nValue: 509278199.4'),\n",
       " Document(id='c2429481-dca4-4e79-bf9f-d2a3812e0095', metadata={'source': 'Kim and Sons', 'row': 728}, page_content='Date: 2024-03-07\\nSymbol: MILL\\nCompany: Kim and Sons\\nSector: Finance\\nOpen: 307.94\\nHigh: 310.11\\nLow: 306.0\\nClose: 306.63\\nVolume: 304071\\nValue: 93237290.73'),\n",
       " Document(id='6ed04bc4-35bd-48e2-85be-dcabae61c138', metadata={'source': 'Deleon-Oliver', 'row': 729}, page_content='Date: 2024-03-07\\nSymbol: MITC\\nCompany: Deleon-Oliver\\nSector: Finance\\nOpen: 341.12\\nHigh: 343.25\\nLow: 340.03\\nClose: 341.7\\nVolume: 679477\\nValue: 232177290.9'),\n",
       " Document(id='9522aa1f-63c5-4d11-869f-a4c0d681736c', metadata={'source': 'Petersen-Ali', 'row': 730}, page_content='Date: 2024-03-07\\nSymbol: MOOR\\nCompany: Petersen-Ali\\nSector: Healthcare\\nOpen: 922.78\\nHigh: 941.29\\nLow: 918.97\\nClose: 939.45\\nVolume: 613448\\nValue: 576303723.6'),\n",
       " Document(id='5512c83b-d256-4aef-aa12-6f78bb3e727a', metadata={'source': 'Chavez, Adams and Johnson', 'row': 731}, page_content='Date: 2024-03-07\\nSymbol: SANT\\nCompany: Chavez, Adams and Johnson\\nSector: Energy\\nOpen: 700.75\\nHigh: 706.46\\nLow: 687.24\\nClose: 692.88\\nVolume: 506353\\nValue: 350841866.64'),\n",
       " Document(id='cfc83c12-b459-48f1-8829-1edfc23c0855', metadata={'source': 'Walsh, Keller and Pearson', 'row': 732}, page_content='Date: 2024-03-07\\nSymbol: VELA\\nCompany: Walsh, Keller and Pearson\\nSector: Finance\\nOpen: 26.6\\nHigh: 26.68\\nLow: 26.33\\nClose: 26.49\\nVolume: 634672\\nValue: 16812461.28'),\n",
       " Document(id='71d5a4d7-7ca6-444b-b227-0f7018296e7c', metadata={'source': 'Kramer Ltd', 'row': 733}, page_content='Date: 2024-03-07\\nSymbol: WILK\\nCompany: Kramer Ltd\\nSector: Finance\\nOpen: 658.42\\nHigh: 660.39\\nLow: 648.48\\nClose: 650.2\\nVolume: 397369\\nValue: 258369323.8'),\n",
       " Document(id='4edd1ba3-bf85-4f86-906f-164342e704d3', metadata={'source': 'Moreno-Wagner', 'row': 734}, page_content='Date: 2024-03-07\\nSymbol: WYAT\\nCompany: Moreno-Wagner\\nSector: Healthcare\\nOpen: 399.92\\nHigh: 411.81\\nLow: 399.0\\nClose: 408.04\\nVolume: 732131\\nValue: 298738733.24'),\n",
       " Document(id='cce0bd25-fcc1-4f45-9172-d646946cbc99', metadata={'source': 'Stevens-Brown', 'row': 735}, page_content='Date: 2024-03-08\\nSymbol: BEAR\\nCompany: Stevens-Brown\\nSector: Technology\\nOpen: 399.32\\nHigh: 401.08\\nLow: 383.52\\nClose: 384.51\\nVolume: 1024955\\nValue: 394105447.05'),\n",
       " Document(id='87d3acd2-f3d2-4b41-8251-12ca87059b94', metadata={'source': 'Hill LLC', 'row': 736}, page_content='Date: 2024-03-08\\nSymbol: BLAN\\nCompany: Hill LLC\\nSector: Consumer\\nOpen: 929.17\\nHigh: 950.39\\nLow: 928.0\\nClose: 944.62\\nVolume: 265336\\nValue: 250641692.32'),\n",
       " Document(id='9940003b-a8bb-4903-9a76-072bc4557458', metadata={'source': 'Smith, Johnson and Mendoza', 'row': 737}, page_content='Date: 2024-03-08\\nSymbol: COLE\\nCompany: Smith, Johnson and Mendoza\\nSector: Consumer\\nOpen: 979.63\\nHigh: 994.37\\nLow: 971.95\\nClose: 989.29\\nVolume: 461991\\nValue: 457043076.39'),\n",
       " Document(id='fcfbbcba-a87d-4936-bc52-d8fdd394c4c3', metadata={'source': 'Nichols, Ward and Miller', 'row': 738}, page_content='Date: 2024-03-08\\nSymbol: CUNN\\nCompany: Nichols, Ward and Miller\\nSector: Consumer\\nOpen: 438.93\\nHigh: 439.05\\nLow: 434.54\\nClose: 436.78\\nVolume: 534357\\nValue: 233396450.46'),\n",
       " Document(id='5d739879-2884-4f8a-84a3-c6714e126795', metadata={'source': 'Parker-Taylor', 'row': 739}, page_content='Date: 2024-03-08\\nSymbol: DAVI\\nCompany: Parker-Taylor\\nSector: Healthcare\\nOpen: 289.79\\nHigh: 292.64\\nLow: 276.3\\nClose: 277.71\\nVolume: 507711\\nValue: 140996421.81'),\n",
       " Document(id='e8a25ac5-9452-4f45-b5a6-4b1fbad9958f', metadata={'source': 'Molina, Ortiz and Rogers', 'row': 740}, page_content='Date: 2024-03-08\\nSymbol: GILM\\nCompany: Molina, Ortiz and Rogers\\nSector: Technology\\nOpen: 167.23\\nHigh: 174.51\\nLow: 165.66\\nClose: 172.88\\nVolume: 711794\\nValue: 123054946.72'),\n",
       " Document(id='a8cc1679-dbf9-4c07-9cad-51e00a8612dc', metadata={'source': 'Wood, Hutchinson and Hernandez', 'row': 741}, page_content='Date: 2024-03-08\\nSymbol: GUTI\\nCompany: Wood, Hutchinson and Hernandez\\nSector: Finance\\nOpen: 721.41\\nHigh: 729.82\\nLow: 719.8\\nClose: 723.05\\nVolume: 724433\\nValue: 523801280.65'),\n",
       " Document(id='e7c2d883-47b3-46cf-8827-5068ba985fab', metadata={'source': 'Key, Santiago and Costa', 'row': 742}, page_content='Date: 2024-03-08\\nSymbol: HERR\\nCompany: Key, Santiago and Costa\\nSector: Healthcare\\nOpen: 647.94\\nHigh: 649.46\\nLow: 636.41\\nClose: 639.9\\nVolume: 528773\\nValue: 338361842.7'),\n",
       " Document(id='0b9d1b96-1958-439d-a9ab-145406160a38', metadata={'source': 'Kim and Sons', 'row': 743}, page_content='Date: 2024-03-08\\nSymbol: MILL\\nCompany: Kim and Sons\\nSector: Finance\\nOpen: 304.49\\nHigh: 307.13\\nLow: 296.57\\nClose: 298.62\\nVolume: 591724\\nValue: 176700620.88'),\n",
       " Document(id='a14e1d47-c0a7-4a15-83f4-859b3006a0d8', metadata={'source': 'Deleon-Oliver', 'row': 744}, page_content='Date: 2024-03-08\\nSymbol: MITC\\nCompany: Deleon-Oliver\\nSector: Finance\\nOpen: 344.02\\nHigh: 346.62\\nLow: 338.02\\nClose: 340.17\\nVolume: 437493\\nValue: 148821993.81'),\n",
       " Document(id='3e048c0e-c79d-48e3-a24f-48fd7107971c', metadata={'source': 'Petersen-Ali', 'row': 745}, page_content='Date: 2024-03-08\\nSymbol: MOOR\\nCompany: Petersen-Ali\\nSector: Healthcare\\nOpen: 930.91\\nHigh: 938.38\\nLow: 897.75\\nClose: 901.75\\nVolume: 501125\\nValue: 451889468.75'),\n",
       " Document(id='e3137ece-a480-4e2b-b83a-b140dfe36559', metadata={'source': 'Chavez, Adams and Johnson', 'row': 746}, page_content='Date: 2024-03-08\\nSymbol: SANT\\nCompany: Chavez, Adams and Johnson\\nSector: Energy\\nOpen: 688.54\\nHigh: 693.25\\nLow: 682.92\\nClose: 684.91\\nVolume: 368800\\nValue: 252594808.0'),\n",
       " Document(id='b53dfa75-792a-47e9-9024-9f0caa1abcc0', metadata={'source': 'Walsh, Keller and Pearson', 'row': 747}, page_content='Date: 2024-03-08\\nSymbol: VELA\\nCompany: Walsh, Keller and Pearson\\nSector: Finance\\nOpen: 26.56\\nHigh: 27.23\\nLow: 26.45\\nClose: 27.17\\nVolume: 681970\\nValue: 18529124.9'),\n",
       " Document(id='6f57ce00-3b5d-4def-a4a3-c9bcf867b1c0', metadata={'source': 'Kramer Ltd', 'row': 748}, page_content='Date: 2024-03-08\\nSymbol: WILK\\nCompany: Kramer Ltd\\nSector: Finance\\nOpen: 647.26\\nHigh: 653.41\\nLow: 631.22\\nClose: 633.82\\nVolume: 665248\\nValue: 421647487.36'),\n",
       " Document(id='33b268b0-3376-4000-b1d1-778267868e91', metadata={'source': 'Moreno-Wagner', 'row': 749}, page_content='Date: 2024-03-08\\nSymbol: WYAT\\nCompany: Moreno-Wagner\\nSector: Healthcare\\nOpen: 404.96\\nHigh: 419.63\\nLow: 402.78\\nClose: 415.58\\nVolume: 428858\\nValue: 178224807.64'),\n",
       " Document(id='9cd7975c-dc7c-4f80-8756-56e604dc19ed', metadata={'source': 'Stevens-Brown', 'row': 750}, page_content='Date: 2024-03-11\\nSymbol: BEAR\\nCompany: Stevens-Brown\\nSector: Technology\\nOpen: 387.79\\nHigh: 389.72\\nLow: 384.9\\nClose: 384.98\\nVolume: 309723\\nValue: 119237160.54'),\n",
       " Document(id='269fd9eb-b9c5-4acf-b8c3-21590f7f8952', metadata={'source': 'Hill LLC', 'row': 751}, page_content='Date: 2024-03-11\\nSymbol: BLAN\\nCompany: Hill LLC\\nSector: Consumer\\nOpen: 949.73\\nHigh: 967.86\\nLow: 947.11\\nClose: 961.56\\nVolume: 476715\\nValue: 458390075.4'),\n",
       " Document(id='f1789860-4b25-47b8-ad17-3ce81b507b52', metadata={'source': 'Smith, Johnson and Mendoza', 'row': 752}, page_content='Date: 2024-03-11\\nSymbol: COLE\\nCompany: Smith, Johnson and Mendoza\\nSector: Consumer\\nOpen: 998.76\\nHigh: 1033.54\\nLow: 996.44\\nClose: 1025.4\\nVolume: 721034\\nValue: 739348263.6'),\n",
       " Document(id='44e05ce2-d18b-43fa-b35d-f331e5c533f3', metadata={'source': 'Nichols, Ward and Miller', 'row': 753}, page_content='Date: 2024-03-11\\nSymbol: CUNN\\nCompany: Nichols, Ward and Miller\\nSector: Consumer\\nOpen: 435.25\\nHigh: 436.9\\nLow: 433.1\\nClose: 436.1\\nVolume: 302071\\nValue: 131733163.1'),\n",
       " Document(id='d6ef36a2-4cc9-43df-92b3-4627c79dfa0b', metadata={'source': 'Parker-Taylor', 'row': 754}, page_content='Date: 2024-03-11\\nSymbol: DAVI\\nCompany: Parker-Taylor\\nSector: Healthcare\\nOpen: 279.5\\nHigh: 307.81\\nLow: 278.89\\nClose: 305.22\\nVolume: 743192\\nValue: 226837062.24'),\n",
       " Document(id='46a73c16-f2e8-42fc-9b7b-b8221fa5195c', metadata={'source': 'Molina, Ortiz and Rogers', 'row': 755}, page_content='Date: 2024-03-11\\nSymbol: GILM\\nCompany: Molina, Ortiz and Rogers\\nSector: Technology\\nOpen: 171.67\\nHigh: 174.35\\nLow: 171.55\\nClose: 173.83\\nVolume: 1085424\\nValue: 188679253.92'),\n",
       " Document(id='0bd3940d-ae56-40ff-8afc-1a7eff4101c8', metadata={'source': 'Wood, Hutchinson and Hernandez', 'row': 756}, page_content='Date: 2024-03-11\\nSymbol: GUTI\\nCompany: Wood, Hutchinson and Hernandez\\nSector: Finance\\nOpen: 724.1\\nHigh: 741.81\\nLow: 722.07\\nClose: 738.65\\nVolume: 676660\\nValue: 499814909.0'),\n",
       " Document(id='1f4c3e08-a344-44ee-94bc-41d9cf081bb4', metadata={'source': 'Key, Santiago and Costa', 'row': 757}, page_content='Date: 2024-03-11\\nSymbol: HERR\\nCompany: Key, Santiago and Costa\\nSector: Healthcare\\nOpen: 639.65\\nHigh: 648.19\\nLow: 638.12\\nClose: 644.16\\nVolume: 491149\\nValue: 316378539.84'),\n",
       " Document(id='51080693-8d09-4e6e-abec-081d937d1b4a', metadata={'source': 'Kim and Sons', 'row': 758}, page_content='Date: 2024-03-11\\nSymbol: MILL\\nCompany: Kim and Sons\\nSector: Finance\\nOpen: 300.92\\nHigh: 301.14\\nLow: 272.24\\nClose: 272.93\\nVolume: 1207352\\nValue: 329522581.36'),\n",
       " Document(id='7b35ff5e-3b8c-4a8e-b6b8-355235de026f', metadata={'source': 'Deleon-Oliver', 'row': 759}, page_content='Date: 2024-03-11\\nSymbol: MITC\\nCompany: Deleon-Oliver\\nSector: Finance\\nOpen: 343.14\\nHigh: 346.16\\nLow: 340.33\\nClose: 341.32\\nVolume: 613718\\nValue: 209474227.76'),\n",
       " Document(id='c93cd6ff-6fe3-41b5-820c-8da728f4abfc', metadata={'source': 'Petersen-Ali', 'row': 760}, page_content='Date: 2024-03-11\\nSymbol: MOOR\\nCompany: Petersen-Ali\\nSector: Healthcare\\nOpen: 902.21\\nHigh: 923.69\\nLow: 898.96\\nClose: 922.43\\nVolume: 694293\\nValue: 640436691.99'),\n",
       " Document(id='2820594f-6860-41f1-a60c-5697fc32511c', metadata={'source': 'Chavez, Adams and Johnson', 'row': 761}, page_content='Date: 2024-03-11\\nSymbol: SANT\\nCompany: Chavez, Adams and Johnson\\nSector: Energy\\nOpen: 686.88\\nHigh: 687.23\\nLow: 663.04\\nClose: 666.28\\nVolume: 100263\\nValue: 66803231.64'),\n",
       " Document(id='eb23ee13-2972-46a5-bf97-1cbd963952c2', metadata={'source': 'Walsh, Keller and Pearson', 'row': 762}, page_content='Date: 2024-03-11\\nSymbol: VELA\\nCompany: Walsh, Keller and Pearson\\nSector: Finance\\nOpen: 27.08\\nHigh: 27.34\\nLow: 24.57\\nClose: 24.68\\nVolume: 1360920\\nValue: 33587505.6'),\n",
       " Document(id='bb17bf3e-4eca-4a24-bbd2-8dcf464f09f2', metadata={'source': 'Kramer Ltd', 'row': 763}, page_content='Date: 2024-03-11\\nSymbol: WILK\\nCompany: Kramer Ltd\\nSector: Finance\\nOpen: 634.43\\nHigh: 639.02\\nLow: 633.32\\nClose: 634.32\\nVolume: 414971\\nValue: 263224404.72'),\n",
       " Document(id='84a7f0db-7814-4dc7-ab0f-9a4152af256f', metadata={'source': 'Moreno-Wagner', 'row': 764}, page_content='Date: 2024-03-11\\nSymbol: WYAT\\nCompany: Moreno-Wagner\\nSector: Healthcare\\nOpen: 418.26\\nHigh: 438.78\\nLow: 414.78\\nClose: 436.64\\nVolume: 982276\\nValue: 428900992.64'),\n",
       " Document(id='1ee077e2-ad66-4c3e-a8ff-088fa0a31454', metadata={'source': 'Stevens-Brown', 'row': 765}, page_content='Date: 2024-03-12\\nSymbol: BEAR\\nCompany: Stevens-Brown\\nSector: Technology\\nOpen: 386.64\\nHigh: 418.09\\nLow: 386.07\\nClose: 417.3\\nVolume: 395107\\nValue: 164878151.1'),\n",
       " Document(id='4cab7070-1a2e-4fda-aab2-e3e9cfceac8b', metadata={'source': 'Hill LLC', 'row': 766}, page_content='Date: 2024-03-12\\nSymbol: BLAN\\nCompany: Hill LLC\\nSector: Consumer\\nOpen: 963.88\\nHigh: 971.6\\nLow: 947.92\\nClose: 950.08\\nVolume: 431380\\nValue: 409845510.4'),\n",
       " Document(id='28374723-bb48-4586-81d7-f9777560b7d2', metadata={'source': 'Smith, Johnson and Mendoza', 'row': 767}, page_content='Date: 2024-03-12\\nSymbol: COLE\\nCompany: Smith, Johnson and Mendoza\\nSector: Consumer\\nOpen: 1029.11\\nHigh: 1032.52\\nLow: 988.11\\nClose: 997.96\\nVolume: 789833\\nValue: 788221740.68'),\n",
       " Document(id='2198c87e-04a1-4b3a-946a-b73f9b00af3c', metadata={'source': 'Nichols, Ward and Miller', 'row': 768}, page_content='Date: 2024-03-12\\nSymbol: CUNN\\nCompany: Nichols, Ward and Miller\\nSector: Consumer\\nOpen: 439.96\\nHigh: 443.75\\nLow: 433.54\\nClose: 433.75\\nVolume: 723114\\nValue: 313650697.5'),\n",
       " Document(id='c0de2042-89ef-4c4f-8b74-bed32314d1e1', metadata={'source': 'Parker-Taylor', 'row': 769}, page_content='Date: 2024-03-12\\nSymbol: DAVI\\nCompany: Parker-Taylor\\nSector: Healthcare\\nOpen: 305.38\\nHigh: 324.92\\nLow: 303.27\\nClose: 322.68\\nVolume: 676576\\nValue: 218317543.68'),\n",
       " Document(id='3ed0d72e-eaf3-45d8-8b95-8b03e83782e8', metadata={'source': 'Molina, Ortiz and Rogers', 'row': 770}, page_content='Date: 2024-03-12\\nSymbol: GILM\\nCompany: Molina, Ortiz and Rogers\\nSector: Technology\\nOpen: 172.28\\nHigh: 178.38\\nLow: 170.72\\nClose: 177.56\\nVolume: 619373\\nValue: 109975869.88'),\n",
       " Document(id='4244495b-a95c-400b-988d-056561c3ae86', metadata={'source': 'Wood, Hutchinson and Hernandez', 'row': 771}, page_content='Date: 2024-03-12\\nSymbol: GUTI\\nCompany: Wood, Hutchinson and Hernandez\\nSector: Finance\\nOpen: 731.88\\nHigh: 749.68\\nLow: 728.53\\nClose: 747.22\\nVolume: 713920\\nValue: 533455302.4'),\n",
       " Document(id='1be084b5-e2d8-498f-983a-70a4518e5560', metadata={'source': 'Key, Santiago and Costa', 'row': 772}, page_content='Date: 2024-03-12\\nSymbol: HERR\\nCompany: Key, Santiago and Costa\\nSector: Healthcare\\nOpen: 647.36\\nHigh: 648.3\\nLow: 604.94\\nClose: 608.8\\nVolume: 1066998\\nValue: 649588382.4'),\n",
       " Document(id='f2be7a87-fd0f-4b4e-803d-992917d69d36', metadata={'source': 'Kim and Sons', 'row': 773}, page_content='Date: 2024-03-12\\nSymbol: MILL\\nCompany: Kim and Sons\\nSector: Finance\\nOpen: 272.57\\nHigh: 274.36\\nLow: 270.66\\nClose: 272.12\\nVolume: 619238\\nValue: 168507044.56'),\n",
       " Document(id='5e67ad0a-c5d6-460d-b3c4-280d48e633b7', metadata={'source': 'Deleon-Oliver', 'row': 774}, page_content='Date: 2024-03-12\\nSymbol: MITC\\nCompany: Deleon-Oliver\\nSector: Finance\\nOpen: 340.76\\nHigh: 343.83\\nLow: 332.54\\nClose: 333.06\\nVolume: 672440\\nValue: 223962866.4'),\n",
       " Document(id='9a2e80ed-700d-400d-aaca-b1066cad3d37', metadata={'source': 'Petersen-Ali', 'row': 775}, page_content='Date: 2024-03-12\\nSymbol: MOOR\\nCompany: Petersen-Ali\\nSector: Healthcare\\nOpen: 924.44\\nHigh: 927.85\\nLow: 912.84\\nClose: 919.28\\nVolume: 870545\\nValue: 800274607.6'),\n",
       " Document(id='c2c5aad1-7384-4888-85ac-d3c759d61452', metadata={'source': 'Chavez, Adams and Johnson', 'row': 776}, page_content='Date: 2024-03-12\\nSymbol: SANT\\nCompany: Chavez, Adams and Johnson\\nSector: Energy\\nOpen: 671.11\\nHigh: 674.41\\nLow: 663.37\\nClose: 664.65\\nVolume: 689626\\nValue: 458359920.9'),\n",
       " Document(id='7f5efdf8-8ecf-41ea-9301-5aa2890a1dd3', metadata={'source': 'Walsh, Keller and Pearson', 'row': 777}, page_content='Date: 2024-03-12\\nSymbol: VELA\\nCompany: Walsh, Keller and Pearson\\nSector: Finance\\nOpen: 24.82\\nHigh: 24.96\\nLow: 24.77\\nClose: 24.82\\nVolume: 497292\\nValue: 12342787.44'),\n",
       " Document(id='e16651b5-f41f-4896-89e1-0a7090b8c167', metadata={'source': 'Kramer Ltd', 'row': 778}, page_content='Date: 2024-03-12\\nSymbol: WILK\\nCompany: Kramer Ltd\\nSector: Finance\\nOpen: 631.72\\nHigh: 640.82\\nLow: 630.57\\nClose: 639.42\\nVolume: 869743\\nValue: 556131069.06'),\n",
       " Document(id='293d3932-8b68-4e90-ad8c-484040b22137', metadata={'source': 'Moreno-Wagner', 'row': 779}, page_content='Date: 2024-03-12\\nSymbol: WYAT\\nCompany: Moreno-Wagner\\nSector: Healthcare\\nOpen: 434.69\\nHigh: 436.3\\nLow: 434.31\\nClose: 434.95\\nVolume: 705879\\nValue: 307022071.05'),\n",
       " Document(id='33d3cea9-04ce-4cd3-bcbc-21514eb4a0c7', metadata={'source': 'Stevens-Brown', 'row': 780}, page_content='Date: 2024-03-13\\nSymbol: BEAR\\nCompany: Stevens-Brown\\nSector: Technology\\nOpen: 415.69\\nHigh: 421.11\\nLow: 412.56\\nClose: 417.95\\nVolume: 191543\\nValue: 80055396.85'),\n",
       " Document(id='5c287c7d-b9ca-4da1-a5fd-1fe4b1cbe145', metadata={'source': 'Hill LLC', 'row': 781}, page_content='Date: 2024-03-13\\nSymbol: BLAN\\nCompany: Hill LLC\\nSector: Consumer\\nOpen: 946.14\\nHigh: 965.52\\nLow: 941.88\\nClose: 963.37\\nVolume: 356036\\nValue: 342994401.32'),\n",
       " Document(id='ca25cda5-e258-42fb-bacf-29950dda3da9', metadata={'source': 'Smith, Johnson and Mendoza', 'row': 782}, page_content='Date: 2024-03-13\\nSymbol: COLE\\nCompany: Smith, Johnson and Mendoza\\nSector: Consumer\\nOpen: 992.1\\nHigh: 1021.23\\nLow: 982.85\\nClose: 1016.46\\nVolume: 862637\\nValue: 876836005.02'),\n",
       " Document(id='f103fe17-789f-4663-8f90-98b4cf3275a6', metadata={'source': 'Nichols, Ward and Miller', 'row': 783}, page_content='Date: 2024-03-13\\nSymbol: CUNN\\nCompany: Nichols, Ward and Miller\\nSector: Consumer\\nOpen: 431.47\\nHigh: 432.58\\nLow: 424.16\\nClose: 425.79\\nVolume: 264120\\nValue: 112459654.8'),\n",
       " Document(id='35b21392-0ca1-4070-908b-94474e7b025b', metadata={'source': 'Parker-Taylor', 'row': 784}, page_content='Date: 2024-03-13\\nSymbol: DAVI\\nCompany: Parker-Taylor\\nSector: Healthcare\\nOpen: 323.01\\nHigh: 325.53\\nLow: 320.77\\nClose: 323.38\\nVolume: 604715\\nValue: 195552736.7'),\n",
       " Document(id='f9f64c0e-3d09-4512-bde5-1bbe5aef9963', metadata={'source': 'Molina, Ortiz and Rogers', 'row': 785}, page_content='Date: 2024-03-13\\nSymbol: GILM\\nCompany: Molina, Ortiz and Rogers\\nSector: Technology\\nOpen: 179.15\\nHigh: 179.53\\nLow: 172.52\\nClose: 172.58\\nVolume: 436057\\nValue: 75254717.06'),\n",
       " Document(id='a42b44b6-ec73-4e58-91ee-10d063ed1a33', metadata={'source': 'Wood, Hutchinson and Hernandez', 'row': 786}, page_content='Date: 2024-03-13\\nSymbol: GUTI\\nCompany: Wood, Hutchinson and Hernandez\\nSector: Finance\\nOpen: 752.5\\nHigh: 757.81\\nLow: 727.78\\nClose: 730.4\\nVolume: 188657\\nValue: 137795072.8'),\n",
       " Document(id='d0294545-d510-4e51-b620-f5b39c1ca46f', metadata={'source': 'Key, Santiago and Costa', 'row': 787}, page_content='Date: 2024-03-13\\nSymbol: HERR\\nCompany: Key, Santiago and Costa\\nSector: Healthcare\\nOpen: 611.38\\nHigh: 642.27\\nLow: 607.68\\nClose: 637.73\\nVolume: 1335286\\nValue: 851551940.78'),\n",
       " Document(id='c182b2d9-ee87-41e1-95fd-25fa8d47a397', metadata={'source': 'Kim and Sons', 'row': 788}, page_content='Date: 2024-03-13\\nSymbol: MILL\\nCompany: Kim and Sons\\nSector: Finance\\nOpen: 273.47\\nHigh: 280.87\\nLow: 272.69\\nClose: 278.85\\nVolume: 634536\\nValue: 176940363.6'),\n",
       " Document(id='3e8c8171-1e70-4c5e-849d-cf193c7af0ad', metadata={'source': 'Deleon-Oliver', 'row': 789}, page_content='Date: 2024-03-13\\nSymbol: MITC\\nCompany: Deleon-Oliver\\nSector: Finance\\nOpen: 330.8\\nHigh: 332.07\\nLow: 324.98\\nClose: 326.61\\nVolume: 927713\\nValue: 303000342.93'),\n",
       " Document(id='4052ea05-2880-47d7-9a6a-20d53ba2bb3a', metadata={'source': 'Petersen-Ali', 'row': 790}, page_content='Date: 2024-03-13\\nSymbol: MOOR\\nCompany: Petersen-Ali\\nSector: Healthcare\\nOpen: 922.4\\nHigh: 923.61\\nLow: 914.82\\nClose: 917.12\\nVolume: 265529\\nValue: 243521956.48'),\n",
       " Document(id='9ff52a70-e796-45b1-a232-94694ce79103', metadata={'source': 'Chavez, Adams and Johnson', 'row': 791}, page_content='Date: 2024-03-13\\nSymbol: SANT\\nCompany: Chavez, Adams and Johnson\\nSector: Energy\\nOpen: 659.25\\nHigh: 667.61\\nLow: 654.5\\nClose: 666.16\\nVolume: 733980\\nValue: 488948116.8'),\n",
       " Document(id='acf45fe5-c883-4df7-b8e6-13d73d11876a', metadata={'source': 'Walsh, Keller and Pearson', 'row': 792}, page_content='Date: 2024-03-13\\nSymbol: VELA\\nCompany: Walsh, Keller and Pearson\\nSector: Finance\\nOpen: 24.7\\nHigh: 25.7\\nLow: 24.57\\nClose: 25.5\\nVolume: 639896\\nValue: 16317348.0'),\n",
       " Document(id='c817d58d-cbae-48b1-b295-ee9d1ae9366e', metadata={'source': 'Kramer Ltd', 'row': 793}, page_content='Date: 2024-03-13\\nSymbol: WILK\\nCompany: Kramer Ltd\\nSector: Finance\\nOpen: 643.69\\nHigh: 668.27\\nLow: 639.59\\nClose: 662.58\\nVolume: 1276193\\nValue: 845579957.94'),\n",
       " Document(id='c419123c-4028-4ba8-9ea3-5e16a41b89d9', metadata={'source': 'Moreno-Wagner', 'row': 794}, page_content='Date: 2024-03-13\\nSymbol: WYAT\\nCompany: Moreno-Wagner\\nSector: Healthcare\\nOpen: 433.34\\nHigh: 434.83\\nLow: 430.08\\nClose: 432.47\\nVolume: 421240\\nValue: 182173662.8'),\n",
       " Document(id='2d690dca-5856-491c-8e00-4a06de5639e0', metadata={'source': 'Stevens-Brown', 'row': 795}, page_content='Date: 2024-03-14\\nSymbol: BEAR\\nCompany: Stevens-Brown\\nSector: Technology\\nOpen: 420.25\\nHigh: 441.13\\nLow: 418.26\\nClose: 440.19\\nVolume: 849467\\nValue: 373926878.73'),\n",
       " Document(id='46520580-383f-4151-947c-c65200e339ec', metadata={'source': 'Hill LLC', 'row': 796}, page_content='Date: 2024-03-14\\nSymbol: BLAN\\nCompany: Hill LLC\\nSector: Consumer\\nOpen: 961.88\\nHigh: 974.91\\nLow: 955.69\\nClose: 970.13\\nVolume: 235920\\nValue: 228873069.6'),\n",
       " Document(id='7f7c0ab9-fdce-413c-b5e6-bda4e25109ed', metadata={'source': 'Smith, Johnson and Mendoza', 'row': 797}, page_content='Date: 2024-03-14\\nSymbol: COLE\\nCompany: Smith, Johnson and Mendoza\\nSector: Consumer\\nOpen: 1008.85\\nHigh: 1024.98\\nLow: 1003.88\\nClose: 1023.66\\nVolume: 641911\\nValue: 657098614.26'),\n",
       " Document(id='d4cfc2ce-86cf-4623-b7b1-f02a707c89fe', metadata={'source': 'Nichols, Ward and Miller', 'row': 798}, page_content='Date: 2024-03-14\\nSymbol: CUNN\\nCompany: Nichols, Ward and Miller\\nSector: Consumer\\nOpen: 427.3\\nHigh: 427.88\\nLow: 424.77\\nClose: 426.6\\nVolume: 472652\\nValue: 201633343.2'),\n",
       " Document(id='f9281ea8-f588-4140-bad5-23a1ee1a304a', metadata={'source': 'Parker-Taylor', 'row': 799}, page_content='Date: 2024-03-14\\nSymbol: DAVI\\nCompany: Parker-Taylor\\nSector: Healthcare\\nOpen: 321.82\\nHigh: 341.0\\nLow: 318.72\\nClose: 338.42\\nVolume: 770952\\nValue: 260905575.84'),\n",
       " Document(id='8f3c4364-b934-45cb-91dd-6e36fcb7068d', metadata={'source': 'Molina, Ortiz and Rogers', 'row': 800}, page_content='Date: 2024-03-14\\nSymbol: GILM\\nCompany: Molina, Ortiz and Rogers\\nSector: Technology\\nOpen: 172.73\\nHigh: 173.46\\nLow: 170.8\\nClose: 171.79\\nVolume: 850065\\nValue: 146032666.35'),\n",
       " Document(id='2fc29bc3-581b-4906-89bf-8788cbb68f77', metadata={'source': 'Wood, Hutchinson and Hernandez', 'row': 801}, page_content='Date: 2024-03-14\\nSymbol: GUTI\\nCompany: Wood, Hutchinson and Hernandez\\nSector: Finance\\nOpen: 728.91\\nHigh: 738.75\\nLow: 727.24\\nClose: 734.29\\nVolume: 223852\\nValue: 164372285.08'),\n",
       " Document(id='86852d4b-0d0b-4d33-aabf-2f002f254d60', metadata={'source': 'Key, Santiago and Costa', 'row': 802}, page_content='Date: 2024-03-14\\nSymbol: HERR\\nCompany: Key, Santiago and Costa\\nSector: Healthcare\\nOpen: 644.1\\nHigh: 669.88\\nLow: 640.64\\nClose: 667.99\\nVolume: 460997\\nValue: 307941386.03'),\n",
       " Document(id='55d53da4-c460-4c62-9511-7d4010c47a7d', metadata={'source': 'Kim and Sons', 'row': 803}, page_content='Date: 2024-03-14\\nSymbol: MILL\\nCompany: Kim and Sons\\nSector: Finance\\nOpen: 280.49\\nHigh: 282.76\\nLow: 264.48\\nClose: 266.59\\nVolume: 660834\\nValue: 176171736.06'),\n",
       " Document(id='297d3489-5c83-4c42-86ae-94b0845fa507', metadata={'source': 'Deleon-Oliver', 'row': 804}, page_content='Date: 2024-03-14\\nSymbol: MITC\\nCompany: Deleon-Oliver\\nSector: Finance\\nOpen: 325.79\\nHigh: 334.64\\nLow: 322.64\\nClose: 332.95\\nVolume: 300967\\nValue: 100206962.65'),\n",
       " Document(id='87bf68fc-70fb-4296-9368-b09d3979ca93', metadata={'source': 'Petersen-Ali', 'row': 805}, page_content='Date: 2024-03-14\\nSymbol: MOOR\\nCompany: Petersen-Ali\\nSector: Healthcare\\nOpen: 919.91\\nHigh: 925.42\\nLow: 919.58\\nClose: 920.87\\nVolume: 388173\\nValue: 357456870.51'),\n",
       " Document(id='4ef22bac-8bbb-4ea1-b59a-699de9b31049', metadata={'source': 'Chavez, Adams and Johnson', 'row': 806}, page_content='Date: 2024-03-14\\nSymbol: SANT\\nCompany: Chavez, Adams and Johnson\\nSector: Energy\\nOpen: 663.82\\nHigh: 674.8\\nLow: 659.57\\nClose: 669.6\\nVolume: 723034\\nValue: 484143566.4'),\n",
       " Document(id='03c6bb28-178f-4e3e-b847-0196457859ce', metadata={'source': 'Walsh, Keller and Pearson', 'row': 807}, page_content='Date: 2024-03-14\\nSymbol: VELA\\nCompany: Walsh, Keller and Pearson\\nSector: Finance\\nOpen: 25.71\\nHigh: 25.81\\nLow: 23.62\\nClose: 23.66\\nVolume: 1135278\\nValue: 26860677.48'),\n",
       " Document(id='e6e628c8-c79d-494a-9fb0-e0d84d347a38', metadata={'source': 'Kramer Ltd', 'row': 808}, page_content='Date: 2024-03-14\\nSymbol: WILK\\nCompany: Kramer Ltd\\nSector: Finance\\nOpen: 668.43\\nHigh: 670.07\\nLow: 649.11\\nClose: 654.11\\nVolume: 339985\\nValue: 222387588.35'),\n",
       " Document(id='07ab0df4-c3a9-44fc-b63e-611556ffac61', metadata={'source': 'Moreno-Wagner', 'row': 809}, page_content='Date: 2024-03-14\\nSymbol: WYAT\\nCompany: Moreno-Wagner\\nSector: Healthcare\\nOpen: 435.02\\nHigh: 437.93\\nLow: 414.1\\nClose: 416.9\\nVolume: 399001\\nValue: 166343516.9'),\n",
       " Document(id='6def4e3e-acbd-407d-88a8-2029dfcfd3c8', metadata={'source': 'Stevens-Brown', 'row': 810}, page_content='Date: 2024-03-15\\nSymbol: BEAR\\nCompany: Stevens-Brown\\nSector: Technology\\nOpen: 441.4\\nHigh: 445.71\\nLow: 425.32\\nClose: 427.75\\nVolume: 916940\\nValue: 392221085.0'),\n",
       " Document(id='4fe940ad-a79b-4ad5-9230-8f93b318ca8f', metadata={'source': 'Hill LLC', 'row': 811}, page_content='Date: 2024-03-15\\nSymbol: BLAN\\nCompany: Hill LLC\\nSector: Consumer\\nOpen: 972.13\\nHigh: 978.64\\nLow: 923.57\\nClose: 929.18\\nVolume: 1056517\\nValue: 981694466.06'),\n",
       " Document(id='d6544254-1c39-46cf-b984-026f72575870', metadata={'source': 'Smith, Johnson and Mendoza', 'row': 812}, page_content='Date: 2024-03-15\\nSymbol: COLE\\nCompany: Smith, Johnson and Mendoza\\nSector: Consumer\\nOpen: 1024.78\\nHigh: 1032.82\\nLow: 983.49\\nClose: 993.16\\nVolume: 826348\\nValue: 820695779.68'),\n",
       " Document(id='21543785-7631-49e2-9268-c5128abe1084', metadata={'source': 'Nichols, Ward and Miller', 'row': 813}, page_content='Date: 2024-03-15\\nSymbol: CUNN\\nCompany: Nichols, Ward and Miller\\nSector: Consumer\\nOpen: 423.48\\nHigh: 425.41\\nLow: 420.58\\nClose: 422.8\\nVolume: 436998\\nValue: 184762754.4'),\n",
       " Document(id='e500b55c-4827-420f-b679-3e5f7149892e', metadata={'source': 'Parker-Taylor', 'row': 814}, page_content='Date: 2024-03-15\\nSymbol: DAVI\\nCompany: Parker-Taylor\\nSector: Healthcare\\nOpen: 335.69\\nHigh: 350.67\\nLow: 332.93\\nClose: 350.38\\nVolume: 1041254\\nValue: 364834576.52'),\n",
       " Document(id='50c4458c-ace4-42b5-b922-b7de6aa1191b', metadata={'source': 'Molina, Ortiz and Rogers', 'row': 815}, page_content='Date: 2024-03-15\\nSymbol: GILM\\nCompany: Molina, Ortiz and Rogers\\nSector: Technology\\nOpen: 173.38\\nHigh: 174.76\\nLow: 163.24\\nClose: 163.48\\nVolume: 428520\\nValue: 70054449.6'),\n",
       " Document(id='11fd7952-1b1e-4f1a-aedf-97d872653899', metadata={'source': 'Wood, Hutchinson and Hernandez', 'row': 816}, page_content='Date: 2024-03-15\\nSymbol: GUTI\\nCompany: Wood, Hutchinson and Hernandez\\nSector: Finance\\nOpen: 734.85\\nHigh: 739.49\\nLow: 728.17\\nClose: 737.06\\nVolume: 759643\\nValue: 559902469.58'),\n",
       " Document(id='231d7a88-d7f4-46a5-84bd-a92f306c9617', metadata={'source': 'Key, Santiago and Costa', 'row': 817}, page_content='Date: 2024-03-15\\nSymbol: HERR\\nCompany: Key, Santiago and Costa\\nSector: Healthcare\\nOpen: 671.12\\nHigh: 671.73\\nLow: 587.26\\nClose: 591.33\\nVolume: 1319185\\nValue: 780073666.05'),\n",
       " Document(id='25e8a6e3-5232-498c-bf45-643ea44a1f30', metadata={'source': 'Kim and Sons', 'row': 818}, page_content='Date: 2024-03-15\\nSymbol: MILL\\nCompany: Kim and Sons\\nSector: Finance\\nOpen: 268.62\\nHigh: 293.03\\nLow: 266.0\\nClose: 292.54\\nVolume: 835156\\nValue: 244316536.24'),\n",
       " Document(id='5738e819-5ca4-4641-8aa3-3571157182ce', metadata={'source': 'Deleon-Oliver', 'row': 819}, page_content='Date: 2024-03-15\\nSymbol: MITC\\nCompany: Deleon-Oliver\\nSector: Finance\\nOpen: 334.43\\nHigh: 335.72\\nLow: 317.83\\nClose: 319.15\\nVolume: 767620\\nValue: 244985923.0'),\n",
       " Document(id='406c24ca-bbfc-45a1-8002-ee752f00d2c2', metadata={'source': 'Petersen-Ali', 'row': 820}, page_content='Date: 2024-03-15\\nSymbol: MOOR\\nCompany: Petersen-Ali\\nSector: Healthcare\\nOpen: 912.63\\nHigh: 920.39\\nLow: 897.81\\nClose: 901.93\\nVolume: 1062151\\nValue: 957985851.43'),\n",
       " Document(id='d99765ff-b0b4-4bc9-8021-6352bab62dda', metadata={'source': 'Chavez, Adams and Johnson', 'row': 821}, page_content='Date: 2024-03-15\\nSymbol: SANT\\nCompany: Chavez, Adams and Johnson\\nSector: Energy\\nOpen: 673.84\\nHigh: 674.85\\nLow: 663.8\\nClose: 666.32\\nVolume: 610348\\nValue: 406687079.36'),\n",
       " Document(id='5ef71ceb-c8bf-4664-b215-1e9cf0eb5307', metadata={'source': 'Walsh, Keller and Pearson', 'row': 822}, page_content='Date: 2024-03-15\\nSymbol: VELA\\nCompany: Walsh, Keller and Pearson\\nSector: Finance\\nOpen: 23.51\\nHigh: 23.65\\nLow: 22.46\\nClose: 22.58\\nVolume: 860370\\nValue: 19427154.6'),\n",
       " Document(id='2fb5c0ef-55e2-444b-85fb-54c682cd8338', metadata={'source': 'Kramer Ltd', 'row': 823}, page_content='Date: 2024-03-15\\nSymbol: WILK\\nCompany: Kramer Ltd\\nSector: Finance\\nOpen: 649.88\\nHigh: 654.05\\nLow: 636.75\\nClose: 638.97\\nVolume: 489875\\nValue: 313015428.75'),\n",
       " Document(id='2b81a591-7408-46be-8249-3b35b8e7e828', metadata={'source': 'Moreno-Wagner', 'row': 824}, page_content='Date: 2024-03-15\\nSymbol: WYAT\\nCompany: Moreno-Wagner\\nSector: Healthcare\\nOpen: 416.93\\nHigh: 437.52\\nLow: 416.72\\nClose: 434.2\\nVolume: 386512\\nValue: 167823510.4'),\n",
       " Document(id='e12a3c3e-c7be-4b33-9bda-f0ef4b86260d', metadata={'source': 'Stevens-Brown', 'row': 825}, page_content='Date: 2024-03-18\\nSymbol: BEAR\\nCompany: Stevens-Brown\\nSector: Technology\\nOpen: 427.18\\nHigh: 427.38\\nLow: 419.89\\nClose: 423.6\\nVolume: 475543\\nValue: 201440014.8'),\n",
       " Document(id='225f0310-1793-4b48-9af0-d9dbeea590f4', metadata={'source': 'Hill LLC', 'row': 826}, page_content='Date: 2024-03-18\\nSymbol: BLAN\\nCompany: Hill LLC\\nSector: Consumer\\nOpen: 938.36\\nHigh: 939.11\\nLow: 917.34\\nClose: 918.12\\nVolume: 548627\\nValue: 503705421.24'),\n",
       " Document(id='ac3922ba-f909-449a-9d58-aae7c9d82ac5', metadata={'source': 'Smith, Johnson and Mendoza', 'row': 827}, page_content='Date: 2024-03-18\\nSymbol: COLE\\nCompany: Smith, Johnson and Mendoza\\nSector: Consumer\\nOpen: 995.83\\nHigh: 997.01\\nLow: 969.98\\nClose: 974.47\\nVolume: 733385\\nValue: 714661680.95'),\n",
       " Document(id='03cc03f1-b614-4e7a-b5a7-03a26185cd1b', metadata={'source': 'Nichols, Ward and Miller', 'row': 828}, page_content='Date: 2024-03-18\\nSymbol: CUNN\\nCompany: Nichols, Ward and Miller\\nSector: Consumer\\nOpen: 418.58\\nHigh: 421.59\\nLow: 414.51\\nClose: 417.87\\nVolume: 596780\\nValue: 249376458.6'),\n",
       " Document(id='97a9094b-8d4d-450b-be53-8b9b5073c8c5', metadata={'source': 'Parker-Taylor', 'row': 829}, page_content='Date: 2024-03-18\\nSymbol: DAVI\\nCompany: Parker-Taylor\\nSector: Healthcare\\nOpen: 348.28\\nHigh: 351.09\\nLow: 343.64\\nClose: 344.56\\nVolume: 580136\\nValue: 199891660.16'),\n",
       " Document(id='66cf00d6-8dd3-4fd7-996e-76cc23a3371e', metadata={'source': 'Molina, Ortiz and Rogers', 'row': 830}, page_content='Date: 2024-03-18\\nSymbol: GILM\\nCompany: Molina, Ortiz and Rogers\\nSector: Technology\\nOpen: 164.21\\nHigh: 165.61\\nLow: 162.69\\nClose: 163.71\\nVolume: 465928\\nValue: 76277072.88'),\n",
       " Document(id='b477954d-d102-4503-b007-6ae7398ad742', metadata={'source': 'Wood, Hutchinson and Hernandez', 'row': 831}, page_content='Date: 2024-03-18\\nSymbol: GUTI\\nCompany: Wood, Hutchinson and Hernandez\\nSector: Finance\\nOpen: 741.45\\nHigh: 745.74\\nLow: 727.22\\nClose: 732.37\\nVolume: 424499\\nValue: 310890332.63'),\n",
       " Document(id='ee578379-ae61-44f0-b110-d981e29db8ed', metadata={'source': 'Key, Santiago and Costa', 'row': 832}, page_content='Date: 2024-03-18\\nSymbol: HERR\\nCompany: Key, Santiago and Costa\\nSector: Healthcare\\nOpen: 588.83\\nHigh: 592.46\\nLow: 570.08\\nClose: 575.19\\nVolume: 326264\\nValue: 187663790.16'),\n",
       " Document(id='2ffe0e3f-38b6-4063-8ab0-c6b88675116b', metadata={'source': 'Kim and Sons', 'row': 833}, page_content='Date: 2024-03-18\\nSymbol: MILL\\nCompany: Kim and Sons\\nSector: Finance\\nOpen: 293.68\\nHigh: 300.99\\nLow: 291.13\\nClose: 299.97\\nVolume: 225547\\nValue: 67657333.59'),\n",
       " Document(id='e50c437b-6b60-49ae-8307-4caa2eac9148', metadata={'source': 'Deleon-Oliver', 'row': 834}, page_content='Date: 2024-03-18\\nSymbol: MITC\\nCompany: Deleon-Oliver\\nSector: Finance\\nOpen: 318.58\\nHigh: 321.28\\nLow: 315.38\\nClose: 316.81\\nVolume: 542129\\nValue: 171751888.49'),\n",
       " Document(id='995af931-a34f-4bec-ad2e-901937627beb', metadata={'source': 'Petersen-Ali', 'row': 835}, page_content='Date: 2024-03-18\\nSymbol: MOOR\\nCompany: Petersen-Ali\\nSector: Healthcare\\nOpen: 905.75\\nHigh: 910.45\\nLow: 839.5\\nClose: 847.42\\nVolume: 428037\\nValue: 362727114.54'),\n",
       " Document(id='65c8d745-7b71-428c-89be-a1f943812374', metadata={'source': 'Chavez, Adams and Johnson', 'row': 836}, page_content='Date: 2024-03-18\\nSymbol: SANT\\nCompany: Chavez, Adams and Johnson\\nSector: Energy\\nOpen: 662.11\\nHigh: 672.12\\nLow: 661.56\\nClose: 667.34\\nVolume: 230894\\nValue: 154084801.96'),\n",
       " Document(id='930000ea-5c45-4269-b2f8-b71cc2ca4426', metadata={'source': 'Walsh, Keller and Pearson', 'row': 837}, page_content='Date: 2024-03-18\\nSymbol: VELA\\nCompany: Walsh, Keller and Pearson\\nSector: Finance\\nOpen: 22.52\\nHigh: 22.8\\nLow: 22.51\\nClose: 22.59\\nVolume: 475300\\nValue: 10737027.0'),\n",
       " Document(id='4b02134f-626e-4e77-aa37-8016f87215c3', metadata={'source': 'Kramer Ltd', 'row': 838}, page_content='Date: 2024-03-18\\nSymbol: WILK\\nCompany: Kramer Ltd\\nSector: Finance\\nOpen: 642.6\\nHigh: 644.28\\nLow: 625.09\\nClose: 626.36\\nVolume: 50874\\nValue: 31865438.64'),\n",
       " Document(id='8da6afc7-f6dc-4387-8a9b-2c4bf2e45c05', metadata={'source': 'Moreno-Wagner', 'row': 839}, page_content='Date: 2024-03-18\\nSymbol: WYAT\\nCompany: Moreno-Wagner\\nSector: Healthcare\\nOpen: 431.04\\nHigh: 452.73\\nLow: 427.56\\nClose: 448.62\\nVolume: 590220\\nValue: 264784496.4'),\n",
       " Document(id='88f25dc1-b4d6-4338-bda9-fdc162e61e15', metadata={'source': 'Stevens-Brown', 'row': 840}, page_content='Date: 2024-03-19\\nSymbol: BEAR\\nCompany: Stevens-Brown\\nSector: Technology\\nOpen: 424.84\\nHigh: 427.45\\nLow: 411.09\\nClose: 411.29\\nVolume: 556028\\nValue: 228688756.12'),\n",
       " Document(id='2f38ee71-ae1c-4df4-b1e9-4348220b72b8', metadata={'source': 'Hill LLC', 'row': 841}, page_content='Date: 2024-03-19\\nSymbol: BLAN\\nCompany: Hill LLC\\nSector: Consumer\\nOpen: 923.96\\nHigh: 942.0\\nLow: 916.81\\nClose: 941.88\\nVolume: 722842\\nValue: 680830422.96'),\n",
       " Document(id='1ba37e74-29d4-4775-9ba6-117b8493cadf', metadata={'source': 'Smith, Johnson and Mendoza', 'row': 842}, page_content='Date: 2024-03-19\\nSymbol: COLE\\nCompany: Smith, Johnson and Mendoza\\nSector: Consumer\\nOpen: 965.26\\nHigh: 982.55\\nLow: 962.0\\nClose: 980.39\\nVolume: 552387\\nValue: 541554690.93'),\n",
       " Document(id='553322b3-2c36-4d53-a12e-d455af6e4483', metadata={'source': 'Nichols, Ward and Miller', 'row': 843}, page_content='Date: 2024-03-19\\nSymbol: CUNN\\nCompany: Nichols, Ward and Miller\\nSector: Consumer\\nOpen: 421.19\\nHigh: 424.29\\nLow: 404.66\\nClose: 407.0\\nVolume: 805579\\nValue: 327870653.0'),\n",
       " Document(id='4ba24986-0a89-4ee5-b4f2-f8a88038d819', metadata={'source': 'Parker-Taylor', 'row': 844}, page_content='Date: 2024-03-19\\nSymbol: DAVI\\nCompany: Parker-Taylor\\nSector: Healthcare\\nOpen: 345.68\\nHigh: 382.06\\nLow: 345.35\\nClose: 379.85\\nVolume: 1144358\\nValue: 434684386.3'),\n",
       " Document(id='73e3153a-1966-4747-8f60-5f7dcebd96c7', metadata={'source': 'Molina, Ortiz and Rogers', 'row': 845}, page_content='Date: 2024-03-19\\nSymbol: GILM\\nCompany: Molina, Ortiz and Rogers\\nSector: Technology\\nOpen: 164.12\\nHigh: 164.55\\nLow: 160.99\\nClose: 161.96\\nVolume: 524390\\nValue: 84930204.4'),\n",
       " Document(id='b3398208-c9fb-4cae-b29b-2263b85aea62', metadata={'source': 'Wood, Hutchinson and Hernandez', 'row': 846}, page_content='Date: 2024-03-19\\nSymbol: GUTI\\nCompany: Wood, Hutchinson and Hernandez\\nSector: Finance\\nOpen: 737.26\\nHigh: 744.38\\nLow: 722.45\\nClose: 727.32\\nVolume: 802074\\nValue: 583364461.68'),\n",
       " Document(id='c81dbb22-7b9d-4340-98a8-2717e87540e1', metadata={'source': 'Key, Santiago and Costa', 'row': 847}, page_content='Date: 2024-03-19\\nSymbol: HERR\\nCompany: Key, Santiago and Costa\\nSector: Healthcare\\nOpen: 575.89\\nHigh: 576.54\\nLow: 551.21\\nClose: 551.71\\nVolume: 739768\\nValue: 408137403.28'),\n",
       " Document(id='3d5f2668-0f77-447c-8d1a-de63c94d040c', metadata={'source': 'Kim and Sons', 'row': 848}, page_content='Date: 2024-03-19\\nSymbol: MILL\\nCompany: Kim and Sons\\nSector: Finance\\nOpen: 299.98\\nHigh: 302.27\\nLow: 279.57\\nClose: 282.28\\nVolume: 807626\\nValue: 227976667.28'),\n",
       " Document(id='ef102ead-a320-4526-82c6-1bf6886c181e', metadata={'source': 'Deleon-Oliver', 'row': 849}, page_content='Date: 2024-03-19\\nSymbol: MITC\\nCompany: Deleon-Oliver\\nSector: Finance\\nOpen: 314.09\\nHigh: 314.17\\nLow: 308.11\\nClose: 308.22\\nVolume: 675562\\nValue: 208221719.64'),\n",
       " Document(id='9dff0a57-91f8-4592-9646-74585ddbb858', metadata={'source': 'Petersen-Ali', 'row': 850}, page_content='Date: 2024-03-19\\nSymbol: MOOR\\nCompany: Petersen-Ali\\nSector: Healthcare\\nOpen: 841.46\\nHigh: 848.75\\nLow: 830.22\\nClose: 837.13\\nVolume: 540456\\nValue: 452431931.28'),\n",
       " Document(id='6e8982cd-3401-4361-a11d-c099207fa2bf', metadata={'source': 'Chavez, Adams and Johnson', 'row': 851}, page_content='Date: 2024-03-19\\nSymbol: SANT\\nCompany: Chavez, Adams and Johnson\\nSector: Energy\\nOpen: 670.15\\nHigh: 673.94\\nLow: 655.45\\nClose: 661.53\\nVolume: 697514\\nValue: 461426436.42'),\n",
       " Document(id='c1987525-f619-48ea-aafd-c4c1764fe31b', metadata={'source': 'Walsh, Keller and Pearson', 'row': 852}, page_content='Date: 2024-03-19\\nSymbol: VELA\\nCompany: Walsh, Keller and Pearson\\nSector: Finance\\nOpen: 22.57\\nHigh: 23.07\\nLow: 22.41\\nClose: 22.99\\nVolume: 959786\\nValue: 22065480.14'),\n",
       " Document(id='2442c527-626c-4151-b64e-652745a6e3aa', metadata={'source': 'Kramer Ltd', 'row': 853}, page_content='Date: 2024-03-19\\nSymbol: WILK\\nCompany: Kramer Ltd\\nSector: Finance\\nOpen: 623.85\\nHigh: 641.89\\nLow: 619.1\\nClose: 637.98\\nVolume: 262008\\nValue: 167155863.84'),\n",
       " Document(id='62aed5a6-33cf-4316-8a0d-5a331d75ef51', metadata={'source': 'Moreno-Wagner', 'row': 854}, page_content='Date: 2024-03-19\\nSymbol: WYAT\\nCompany: Moreno-Wagner\\nSector: Healthcare\\nOpen: 449.07\\nHigh: 467.49\\nLow: 445.29\\nClose: 462.87\\nVolume: 701890\\nValue: 324883824.3'),\n",
       " Document(id='394f19f5-fa70-4d7b-a86b-fbe7c5a0d62f', metadata={'source': 'Stevens-Brown', 'row': 855}, page_content='Date: 2024-03-20\\nSymbol: BEAR\\nCompany: Stevens-Brown\\nSector: Technology\\nOpen: 408.95\\nHigh: 409.1\\nLow: 404.14\\nClose: 408.01\\nVolume: 271021\\nValue: 110579278.21'),\n",
       " Document(id='1fc3ba93-37b8-4a3d-86a5-09e76bc464ef', metadata={'source': 'Hill LLC', 'row': 856}, page_content='Date: 2024-03-20\\nSymbol: BLAN\\nCompany: Hill LLC\\nSector: Consumer\\nOpen: 943.01\\nHigh: 946.18\\nLow: 940.35\\nClose: 945.77\\nVolume: 460800\\nValue: 435810816.0'),\n",
       " Document(id='a0fd0ed6-60ad-4dab-85b7-d6aaf8090573', metadata={'source': 'Smith, Johnson and Mendoza', 'row': 857}, page_content='Date: 2024-03-20\\nSymbol: COLE\\nCompany: Smith, Johnson and Mendoza\\nSector: Consumer\\nOpen: 979.32\\nHigh: 1004.45\\nLow: 976.93\\nClose: 994.89\\nVolume: 680634\\nValue: 677155960.26'),\n",
       " Document(id='be4d074b-56fd-404d-8ecd-568eb2c87d9f', metadata={'source': 'Nichols, Ward and Miller', 'row': 858}, page_content='Date: 2024-03-20\\nSymbol: CUNN\\nCompany: Nichols, Ward and Miller\\nSector: Consumer\\nOpen: 405.45\\nHigh: 412.61\\nLow: 405.31\\nClose: 408.53\\nVolume: 375290\\nValue: 153317223.7'),\n",
       " Document(id='d278b9b7-f686-4f78-924d-888365106ae4', metadata={'source': 'Parker-Taylor', 'row': 859}, page_content='Date: 2024-03-20\\nSymbol: DAVI\\nCompany: Parker-Taylor\\nSector: Healthcare\\nOpen: 378.18\\nHigh: 388.31\\nLow: 377.09\\nClose: 388.05\\nVolume: 51246\\nValue: 19886010.3'),\n",
       " Document(id='fdfc1713-f6ea-4cf9-ae37-207fdb394a2c', metadata={'source': 'Molina, Ortiz and Rogers', 'row': 860}, page_content='Date: 2024-03-20\\nSymbol: GILM\\nCompany: Molina, Ortiz and Rogers\\nSector: Technology\\nOpen: 162.5\\nHigh: 163.22\\nLow: 157.86\\nClose: 158.61\\nVolume: 696284\\nValue: 110437605.24'),\n",
       " Document(id='67c01238-2b68-472a-84bb-837ff132d873', metadata={'source': 'Wood, Hutchinson and Hernandez', 'row': 861}, page_content='Date: 2024-03-20\\nSymbol: GUTI\\nCompany: Wood, Hutchinson and Hernandez\\nSector: Finance\\nOpen: 721.06\\nHigh: 727.86\\nLow: 718.04\\nClose: 723.88\\nVolume: 519901\\nValue: 376345935.88'),\n",
       " Document(id='a803ba6a-886c-42ea-8b8c-fe6368e5a91f', metadata={'source': 'Key, Santiago and Costa', 'row': 862}, page_content='Date: 2024-03-20\\nSymbol: HERR\\nCompany: Key, Santiago and Costa\\nSector: Healthcare\\nOpen: 553.09\\nHigh: 556.21\\nLow: 508.85\\nClose: 510.57\\nVolume: 668597\\nValue: 341365570.29'),\n",
       " Document(id='ad41aa86-afc6-43be-a83c-261653c088ca', metadata={'source': 'Kim and Sons', 'row': 863}, page_content='Date: 2024-03-20\\nSymbol: MILL\\nCompany: Kim and Sons\\nSector: Finance\\nOpen: 281.84\\nHigh: 285.43\\nLow: 279.46\\nClose: 282.62\\nVolume: 421859\\nValue: 119225790.58'),\n",
       " Document(id='3869bf8b-64c3-410d-ab29-5563ae4e6168', metadata={'source': 'Deleon-Oliver', 'row': 864}, page_content='Date: 2024-03-20\\nSymbol: MITC\\nCompany: Deleon-Oliver\\nSector: Finance\\nOpen: 307.9\\nHigh: 314.15\\nLow: 307.44\\nClose: 311.66\\nVolume: 404719\\nValue: 126134723.54'),\n",
       " Document(id='2c8d9204-232f-40b4-b948-0d6b1caa2694', metadata={'source': 'Petersen-Ali', 'row': 865}, page_content='Date: 2024-03-20\\nSymbol: MOOR\\nCompany: Petersen-Ali\\nSector: Healthcare\\nOpen: 836.68\\nHigh: 846.44\\nLow: 828.73\\nClose: 844.61\\nVolume: 389076\\nValue: 328617480.36'),\n",
       " Document(id='f149ec45-116d-402b-a912-9a38b169441c', metadata={'source': 'Chavez, Adams and Johnson', 'row': 866}, page_content='Date: 2024-03-20\\nSymbol: SANT\\nCompany: Chavez, Adams and Johnson\\nSector: Energy\\nOpen: 659.05\\nHigh: 659.15\\nLow: 657.61\\nClose: 657.92\\nVolume: 260956\\nValue: 171688171.52'),\n",
       " Document(id='03f04840-a0aa-4ad2-b753-d5e4903c9b95', metadata={'source': 'Walsh, Keller and Pearson', 'row': 867}, page_content='Date: 2024-03-20\\nSymbol: VELA\\nCompany: Walsh, Keller and Pearson\\nSector: Finance\\nOpen: 22.9\\nHigh: 22.96\\nLow: 21.84\\nClose: 22.02\\nVolume: 285854\\nValue: 6294505.08'),\n",
       " Document(id='437f711c-1bb7-4bcc-acf2-f01bc440ef28', metadata={'source': 'Kramer Ltd', 'row': 868}, page_content='Date: 2024-03-20\\nSymbol: WILK\\nCompany: Kramer Ltd\\nSector: Finance\\nOpen: 638.22\\nHigh: 641.97\\nLow: 614.18\\nClose: 615.1\\nVolume: 566711\\nValue: 348583936.1'),\n",
       " Document(id='2dca4560-3aab-496f-9a34-8f6164d4677c', metadata={'source': 'Moreno-Wagner', 'row': 869}, page_content='Date: 2024-03-20\\nSymbol: WYAT\\nCompany: Moreno-Wagner\\nSector: Healthcare\\nOpen: 465.47\\nHigh: 465.51\\nLow: 462.73\\nClose: 464.44\\nVolume: 254501\\nValue: 118200444.44'),\n",
       " Document(id='6fd21611-065a-4834-9b9f-ed62c7b0050c', metadata={'source': 'Stevens-Brown', 'row': 870}, page_content='Date: 2024-03-21\\nSymbol: BEAR\\nCompany: Stevens-Brown\\nSector: Technology\\nOpen: 404.7\\nHigh: 421.92\\nLow: 403.25\\nClose: 418.32\\nVolume: 1172966\\nValue: 490675137.12'),\n",
       " Document(id='dcd9c7a2-7af4-46db-b314-03d07f128290', metadata={'source': 'Hill LLC', 'row': 871}, page_content='Date: 2024-03-21\\nSymbol: BLAN\\nCompany: Hill LLC\\nSector: Consumer\\nOpen: 947.14\\nHigh: 950.46\\nLow: 935.94\\nClose: 936.79\\nVolume: 453692\\nValue: 425014128.68'),\n",
       " Document(id='8342369b-8b57-4fe3-b074-420fc61977ec', metadata={'source': 'Smith, Johnson and Mendoza', 'row': 872}, page_content='Date: 2024-03-21\\nSymbol: COLE\\nCompany: Smith, Johnson and Mendoza\\nSector: Consumer\\nOpen: 996.74\\nHigh: 1004.56\\nLow: 960.12\\nClose: 960.52\\nVolume: 363341\\nValue: 348996297.32'),\n",
       " Document(id='9e582ec5-53c3-4b8f-bceb-7127f87c81df', metadata={'source': 'Nichols, Ward and Miller', 'row': 873}, page_content='Date: 2024-03-21\\nSymbol: CUNN\\nCompany: Nichols, Ward and Miller\\nSector: Consumer\\nOpen: 412.01\\nHigh: 424.97\\nLow: 408.54\\nClose: 421.43\\nVolume: 380628\\nValue: 160408058.04'),\n",
       " Document(id='aa82a637-ab63-4c65-abe9-75c55c501e54', metadata={'source': 'Parker-Taylor', 'row': 874}, page_content='Date: 2024-03-21\\nSymbol: DAVI\\nCompany: Parker-Taylor\\nSector: Healthcare\\nOpen: 386.86\\nHigh: 387.83\\nLow: 384.12\\nClose: 384.52\\nVolume: 556725\\nValue: 214071897.0'),\n",
       " Document(id='43dfff51-c376-4ff5-91b5-cf7d8c6a8e08', metadata={'source': 'Molina, Ortiz and Rogers', 'row': 875}, page_content='Date: 2024-03-21\\nSymbol: GILM\\nCompany: Molina, Ortiz and Rogers\\nSector: Technology\\nOpen: 159.73\\nHigh: 161.11\\nLow: 156.2\\nClose: 157.72\\nVolume: 389950\\nValue: 61502914.0'),\n",
       " Document(id='afdee61e-5e91-4989-a016-2f20767f61e2', metadata={'source': 'Wood, Hutchinson and Hernandez', 'row': 876}, page_content='Date: 2024-03-21\\nSymbol: GUTI\\nCompany: Wood, Hutchinson and Hernandez\\nSector: Finance\\nOpen: 729.97\\nHigh: 733.97\\nLow: 718.39\\nClose: 725.07\\nVolume: 520482\\nValue: 377385883.74'),\n",
       " Document(id='42b8ee9b-ae81-495e-ab5b-fc0dd9cea3e7', metadata={'source': 'Key, Santiago and Costa', 'row': 877}, page_content='Date: 2024-03-21\\nSymbol: HERR\\nCompany: Key, Santiago and Costa\\nSector: Healthcare\\nOpen: 512.96\\nHigh: 517.23\\nLow: 495.31\\nClose: 499.13\\nVolume: 708586\\nValue: 353676530.18'),\n",
       " Document(id='63c629c7-9d5d-41b5-9f75-0e0e807ae398', metadata={'source': 'Kim and Sons', 'row': 878}, page_content='Date: 2024-03-21\\nSymbol: MILL\\nCompany: Kim and Sons\\nSector: Finance\\nOpen: 281.44\\nHigh: 286.96\\nLow: 279.37\\nClose: 284.38\\nVolume: 886327\\nValue: 252053672.26'),\n",
       " Document(id='73ee2c59-906e-4972-b6c5-d3748c7fd7b7', metadata={'source': 'Deleon-Oliver', 'row': 879}, page_content='Date: 2024-03-21\\nSymbol: MITC\\nCompany: Deleon-Oliver\\nSector: Finance\\nOpen: 309.0\\nHigh: 311.03\\nLow: 303.09\\nClose: 304.83\\nVolume: 697463\\nValue: 212607646.29'),\n",
       " Document(id='904655a0-ef8b-438a-ab51-c2280572bc45', metadata={'source': 'Petersen-Ali', 'row': 880}, page_content='Date: 2024-03-21\\nSymbol: MOOR\\nCompany: Petersen-Ali\\nSector: Healthcare\\nOpen: 847.05\\nHigh: 857.26\\nLow: 841.02\\nClose: 849.94\\nVolume: 387480\\nValue: 329334751.2'),\n",
       " Document(id='9a816682-97c9-4666-834f-7a7e76c82c43', metadata={'source': 'Chavez, Adams and Johnson', 'row': 881}, page_content='Date: 2024-03-21\\nSymbol: SANT\\nCompany: Chavez, Adams and Johnson\\nSector: Energy\\nOpen: 661.49\\nHigh: 674.09\\nLow: 657.78\\nClose: 670.78\\nVolume: 575383\\nValue: 385955408.74'),\n",
       " Document(id='ff1dffe2-8284-4160-b69d-4b306a747b54', metadata={'source': 'Walsh, Keller and Pearson', 'row': 882}, page_content='Date: 2024-03-21\\nSymbol: VELA\\nCompany: Walsh, Keller and Pearson\\nSector: Finance\\nOpen: 22.06\\nHigh: 23.03\\nLow: 21.98\\nClose: 22.98\\nVolume: 612990\\nValue: 14086510.2'),\n",
       " Document(id='9efb8ebc-4e60-4891-95c8-86de2ef7b805', metadata={'source': 'Kramer Ltd', 'row': 883}, page_content='Date: 2024-03-21\\nSymbol: WILK\\nCompany: Kramer Ltd\\nSector: Finance\\nOpen: 612.22\\nHigh: 620.76\\nLow: 607.74\\nClose: 619.13\\nVolume: 548251\\nValue: 339438641.63'),\n",
       " Document(id='c37bd8a0-de65-44aa-92af-f8c2733645de', metadata={'source': 'Moreno-Wagner', 'row': 884}, page_content='Date: 2024-03-21\\nSymbol: WYAT\\nCompany: Moreno-Wagner\\nSector: Healthcare\\nOpen: 467.93\\nHigh: 471.69\\nLow: 461.01\\nClose: 462.36\\nVolume: 227720\\nValue: 105288619.2'),\n",
       " Document(id='2f0939be-ca90-47cc-8cd0-c83a6bcf4fd6', metadata={'source': 'Stevens-Brown', 'row': 885}, page_content='Date: 2024-03-22\\nSymbol: BEAR\\nCompany: Stevens-Brown\\nSector: Technology\\nOpen: 419.5\\nHigh: 437.91\\nLow: 417.6\\nClose: 434.81\\nVolume: 367672\\nValue: 159867462.32'),\n",
       " Document(id='116996e1-ee83-4e5c-8faa-27e159cfbed0', metadata={'source': 'Hill LLC', 'row': 886}, page_content='Date: 2024-03-22\\nSymbol: BLAN\\nCompany: Hill LLC\\nSector: Consumer\\nOpen: 944.84\\nHigh: 991.24\\nLow: 935.63\\nClose: 987.95\\nVolume: 773477\\nValue: 764156602.15'),\n",
       " Document(id='33a5669f-e018-48bc-bbd1-620ea90ead05', metadata={'source': 'Smith, Johnson and Mendoza', 'row': 887}, page_content='Date: 2024-03-22\\nSymbol: COLE\\nCompany: Smith, Johnson and Mendoza\\nSector: Consumer\\nOpen: 966.11\\nHigh: 971.22\\nLow: 961.78\\nClose: 970.61\\nVolume: 40499\\nValue: 39308734.39'),\n",
       " Document(id='66d1b31e-1844-4a44-8f00-aa1fa1355200', metadata={'source': 'Nichols, Ward and Miller', 'row': 888}, page_content='Date: 2024-03-22\\nSymbol: CUNN\\nCompany: Nichols, Ward and Miller\\nSector: Consumer\\nOpen: 424.0\\nHigh: 429.63\\nLow: 420.12\\nClose: 428.52\\nVolume: 716267\\nValue: 306934734.84'),\n",
       " Document(id='4adce1d0-49d4-4d39-9cb7-31844f32370b', metadata={'source': 'Parker-Taylor', 'row': 889}, page_content='Date: 2024-03-22\\nSymbol: DAVI\\nCompany: Parker-Taylor\\nSector: Healthcare\\nOpen: 383.32\\nHigh: 384.56\\nLow: 379.68\\nClose: 382.49\\nVolume: 654252\\nValue: 250244847.48'),\n",
       " Document(id='e6626a1d-590c-4808-b7c0-77d7525b0c4b', metadata={'source': 'Molina, Ortiz and Rogers', 'row': 890}, page_content='Date: 2024-03-22\\nSymbol: GILM\\nCompany: Molina, Ortiz and Rogers\\nSector: Technology\\nOpen: 158.85\\nHigh: 160.19\\nLow: 158.39\\nClose: 159.25\\nVolume: 391876\\nValue: 62406253.0'),\n",
       " Document(id='9b238bca-bf2e-4555-9917-5adf01caa3fa', metadata={'source': 'Wood, Hutchinson and Hernandez', 'row': 891}, page_content='Date: 2024-03-22\\nSymbol: GUTI\\nCompany: Wood, Hutchinson and Hernandez\\nSector: Finance\\nOpen: 732.16\\nHigh: 734.24\\nLow: 716.72\\nClose: 717.31\\nVolume: 557830\\nValue: 400137037.3'),\n",
       " Document(id='49e91ee5-6144-454f-bb7e-1580d1415d29', metadata={'source': 'Key, Santiago and Costa', 'row': 892}, page_content='Date: 2024-03-22\\nSymbol: HERR\\nCompany: Key, Santiago and Costa\\nSector: Healthcare\\nOpen: 498.15\\nHigh: 500.54\\nLow: 468.2\\nClose: 469.24\\nVolume: 303678\\nValue: 142497864.72'),\n",
       " Document(id='9ed85c3e-02f9-4382-b226-02ef58515f44', metadata={'source': 'Kim and Sons', 'row': 893}, page_content='Date: 2024-03-22\\nSymbol: MILL\\nCompany: Kim and Sons\\nSector: Finance\\nOpen: 284.77\\nHigh: 291.34\\nLow: 284.73\\nClose: 291.32\\nVolume: 537250\\nValue: 156511670.0'),\n",
       " Document(id='91f999d5-b248-4997-9fd1-bdf280f83bfe', metadata={'source': 'Deleon-Oliver', 'row': 894}, page_content='Date: 2024-03-22\\nSymbol: MITC\\nCompany: Deleon-Oliver\\nSector: Finance\\nOpen: 304.71\\nHigh: 312.58\\nLow: 304.37\\nClose: 309.8\\nVolume: 746586\\nValue: 231292342.8'),\n",
       " Document(id='48f7da51-a6e7-4b5b-a72f-1c04b106fd80', metadata={'source': 'Petersen-Ali', 'row': 895}, page_content='Date: 2024-03-22\\nSymbol: MOOR\\nCompany: Petersen-Ali\\nSector: Healthcare\\nOpen: 855.24\\nHigh: 862.9\\nLow: 823.68\\nClose: 830.51\\nVolume: 567130\\nValue: 471007136.3'),\n",
       " Document(id='d0ed8c1b-f839-4163-991e-daabbe87b75b', metadata={'source': 'Chavez, Adams and Johnson', 'row': 896}, page_content='Date: 2024-03-22\\nSymbol: SANT\\nCompany: Chavez, Adams and Johnson\\nSector: Energy\\nOpen: 673.83\\nHigh: 687.9\\nLow: 672.98\\nClose: 684.17\\nVolume: 805738\\nValue: 551261767.46'),\n",
       " Document(id='50b9d5ed-f3c4-4447-8e79-a813190bca19', metadata={'source': 'Walsh, Keller and Pearson', 'row': 897}, page_content='Date: 2024-03-22\\nSymbol: VELA\\nCompany: Walsh, Keller and Pearson\\nSector: Finance\\nOpen: 23.13\\nHigh: 23.18\\nLow: 23.03\\nClose: 23.06\\nVolume: 318695\\nValue: 7349106.7'),\n",
       " Document(id='13a4e873-4c59-495c-9c18-a3f6a9a7f5fb', metadata={'source': 'Kramer Ltd', 'row': 898}, page_content='Date: 2024-03-22\\nSymbol: WILK\\nCompany: Kramer Ltd\\nSector: Finance\\nOpen: 625.12\\nHigh: 638.85\\nLow: 624.47\\nClose: 637.19\\nVolume: 996974\\nValue: 635261863.06'),\n",
       " Document(id='42502e3d-99fc-4dff-b35f-6cf2e0137861', metadata={'source': 'Moreno-Wagner', 'row': 899}, page_content='Date: 2024-03-22\\nSymbol: WYAT\\nCompany: Moreno-Wagner\\nSector: Healthcare\\nOpen: 463.65\\nHigh: 479.58\\nLow: 461.71\\nClose: 477.16\\nVolume: 1105290\\nValue: 527400176.4'),\n",
       " Document(id='b1c28978-81d5-43d8-8b16-9672eebaceca', metadata={'source': 'Stevens-Brown', 'row': 900}, page_content='Date: 2024-03-25\\nSymbol: BEAR\\nCompany: Stevens-Brown\\nSector: Technology\\nOpen: 435.1\\nHigh: 444.39\\nLow: 433.75\\nClose: 442.93\\nVolume: 729368\\nValue: 323058968.24'),\n",
       " Document(id='450c8836-70e6-43ff-b754-90b158ef7f4d', metadata={'source': 'Hill LLC', 'row': 901}, page_content='Date: 2024-03-25\\nSymbol: BLAN\\nCompany: Hill LLC\\nSector: Consumer\\nOpen: 997.11\\nHigh: 1009.45\\nLow: 994.24\\nClose: 1003.68\\nVolume: 983473\\nValue: 987092180.64'),\n",
       " Document(id='2a56dc0c-c073-44da-9a08-93f611129fba', metadata={'source': 'Smith, Johnson and Mendoza', 'row': 902}, page_content='Date: 2024-03-25\\nSymbol: COLE\\nCompany: Smith, Johnson and Mendoza\\nSector: Consumer\\nOpen: 965.9\\nHigh: 998.1\\nLow: 963.19\\nClose: 990.37\\nVolume: 265380\\nValue: 262824390.6'),\n",
       " Document(id='527778e9-5c43-4b19-a3bc-ba1838b0ef83', metadata={'source': 'Nichols, Ward and Miller', 'row': 903}, page_content='Date: 2024-03-25\\nSymbol: CUNN\\nCompany: Nichols, Ward and Miller\\nSector: Consumer\\nOpen: 431.65\\nHigh: 435.18\\nLow: 422.68\\nClose: 425.65\\nVolume: 555392\\nValue: 236402604.8'),\n",
       " Document(id='9bd41d48-710e-4f2b-9f6c-2a2831d78b77', metadata={'source': 'Parker-Taylor', 'row': 904}, page_content='Date: 2024-03-25\\nSymbol: DAVI\\nCompany: Parker-Taylor\\nSector: Healthcare\\nOpen: 386.04\\nHigh: 388.48\\nLow: 359.32\\nClose: 361.39\\nVolume: 991600\\nValue: 358354324.0'),\n",
       " Document(id='8abcd0d7-b8b1-4f28-8b2a-7273511479ac', metadata={'source': 'Molina, Ortiz and Rogers', 'row': 905}, page_content='Date: 2024-03-25\\nSymbol: GILM\\nCompany: Molina, Ortiz and Rogers\\nSector: Technology\\nOpen: 160.14\\nHigh: 162.51\\nLow: 158.71\\nClose: 161.35\\nVolume: 356616\\nValue: 57539991.6'),\n",
       " Document(id='06ec6a90-f141-4ea7-9777-626db1bc8db5', metadata={'source': 'Wood, Hutchinson and Hernandez', 'row': 906}, page_content='Date: 2024-03-25\\nSymbol: GUTI\\nCompany: Wood, Hutchinson and Hernandez\\nSector: Finance\\nOpen: 718.63\\nHigh: 724.16\\nLow: 714.9\\nClose: 717.53\\nVolume: 390501\\nValue: 280196182.53'),\n",
       " Document(id='5c550a18-938b-46f9-84ac-2b37c0e8afca', metadata={'source': 'Key, Santiago and Costa', 'row': 907}, page_content='Date: 2024-03-25\\nSymbol: HERR\\nCompany: Key, Santiago and Costa\\nSector: Healthcare\\nOpen: 465.63\\nHigh: 486.96\\nLow: 463.8\\nClose: 483.63\\nVolume: 1170868\\nValue: 566266890.84'),\n",
       " Document(id='86be54f7-3203-4646-917a-687a8cbd91b3', metadata={'source': 'Kim and Sons', 'row': 908}, page_content='Date: 2024-03-25\\nSymbol: MILL\\nCompany: Kim and Sons\\nSector: Finance\\nOpen: 293.39\\nHigh: 304.63\\nLow: 291.09\\nClose: 301.81\\nVolume: 257365\\nValue: 77675330.65'),\n",
       " Document(id='7082e12d-9352-469a-a018-fba675862230', metadata={'source': 'Deleon-Oliver', 'row': 909}, page_content='Date: 2024-03-25\\nSymbol: MITC\\nCompany: Deleon-Oliver\\nSector: Finance\\nOpen: 307.01\\nHigh: 313.15\\nLow: 306.32\\nClose: 312.25\\nVolume: 418156\\nValue: 130569211.0'),\n",
       " Document(id='0556d129-53b9-492c-a25d-b40e19ad9757', metadata={'source': 'Petersen-Ali', 'row': 910}, page_content='Date: 2024-03-25\\nSymbol: MOOR\\nCompany: Petersen-Ali\\nSector: Healthcare\\nOpen: 833.15\\nHigh: 851.69\\nLow: 826.84\\nClose: 845.5\\nVolume: 540911\\nValue: 457340250.5'),\n",
       " Document(id='59fbba86-4bd1-4568-928e-d6ab337e1f06', metadata={'source': 'Chavez, Adams and Johnson', 'row': 911}, page_content='Date: 2024-03-25\\nSymbol: SANT\\nCompany: Chavez, Adams and Johnson\\nSector: Energy\\nOpen: 679.8\\nHigh: 692.55\\nLow: 674.85\\nClose: 688.62\\nVolume: 254513\\nValue: 175262742.06'),\n",
       " Document(id='08ae25f8-e6c3-410c-b13b-92daa9d7f0cc', metadata={'source': 'Walsh, Keller and Pearson', 'row': 912}, page_content='Date: 2024-03-25\\nSymbol: VELA\\nCompany: Walsh, Keller and Pearson\\nSector: Finance\\nOpen: 23.0\\nHigh: 24.03\\nLow: 23.0\\nClose: 23.89\\nVolume: 606287\\nValue: 14484196.43'),\n",
       " Document(id='d0d0bb21-ea8c-4ec8-9bb4-bc6b481dc6b7', metadata={'source': 'Kramer Ltd', 'row': 913}, page_content='Date: 2024-03-25\\nSymbol: WILK\\nCompany: Kramer Ltd\\nSector: Finance\\nOpen: 636.63\\nHigh: 643.65\\nLow: 630.61\\nClose: 641.36\\nVolume: 565550\\nValue: 362721148.0'),\n",
       " Document(id='bd4249fe-83a6-435c-9a0a-94c94af8a88a', metadata={'source': 'Moreno-Wagner', 'row': 914}, page_content='Date: 2024-03-25\\nSymbol: WYAT\\nCompany: Moreno-Wagner\\nSector: Healthcare\\nOpen: 478.75\\nHigh: 484.89\\nLow: 476.12\\nClose: 484.36\\nVolume: 571107\\nValue: 276621386.52'),\n",
       " Document(id='9bb89751-c59e-4701-8ea0-e9c0e5a5f991', metadata={'source': 'Stevens-Brown', 'row': 915}, page_content='Date: 2024-03-26\\nSymbol: BEAR\\nCompany: Stevens-Brown\\nSector: Technology\\nOpen: 440.08\\nHigh: 450.02\\nLow: 437.66\\nClose: 445.7\\nVolume: 782025\\nValue: 348548542.5'),\n",
       " Document(id='71421e57-550e-476f-9348-8707813e4111', metadata={'source': 'Hill LLC', 'row': 916}, page_content='Date: 2024-03-26\\nSymbol: BLAN\\nCompany: Hill LLC\\nSector: Consumer\\nOpen: 999.94\\nHigh: 1020.45\\nLow: 991.59\\nClose: 1016.27\\nVolume: 765344\\nValue: 777796146.88'),\n",
       " Document(id='05e94a44-5518-4f14-913a-201b821a0685', metadata={'source': 'Smith, Johnson and Mendoza', 'row': 917}, page_content='Date: 2024-03-26\\nSymbol: COLE\\nCompany: Smith, Johnson and Mendoza\\nSector: Consumer\\nOpen: 986.74\\nHigh: 1013.86\\nLow: 984.46\\nClose: 1006.07\\nVolume: 127101\\nValue: 127872503.07'),\n",
       " Document(id='161b487b-7c5e-44b5-a3eb-3a850b1e263e', metadata={'source': 'Nichols, Ward and Miller', 'row': 918}, page_content='Date: 2024-03-26\\nSymbol: CUNN\\nCompany: Nichols, Ward and Miller\\nSector: Consumer\\nOpen: 422.74\\nHigh: 425.53\\nLow: 408.27\\nClose: 412.08\\nVolume: 768095\\nValue: 316516587.6'),\n",
       " Document(id='b539008c-3a4c-4e9b-852a-c95c962fb78a', metadata={'source': 'Parker-Taylor', 'row': 919}, page_content='Date: 2024-03-26\\nSymbol: DAVI\\nCompany: Parker-Taylor\\nSector: Healthcare\\nOpen: 361.4\\nHigh: 364.3\\nLow: 332.75\\nClose: 335.77\\nVolume: 530084\\nValue: 177986304.68'),\n",
       " Document(id='884f5da8-c600-48fe-95fb-b875ea9e0aa8', metadata={'source': 'Molina, Ortiz and Rogers', 'row': 920}, page_content='Date: 2024-03-26\\nSymbol: GILM\\nCompany: Molina, Ortiz and Rogers\\nSector: Technology\\nOpen: 159.88\\nHigh: 163.16\\nLow: 159.17\\nClose: 161.6\\nVolume: 539833\\nValue: 87237012.8'),\n",
       " Document(id='8c977215-be57-4667-b3d3-974490d55c6d', metadata={'source': 'Wood, Hutchinson and Hernandez', 'row': 921}, page_content='Date: 2024-03-26\\nSymbol: GUTI\\nCompany: Wood, Hutchinson and Hernandez\\nSector: Finance\\nOpen: 718.38\\nHigh: 719.05\\nLow: 711.2\\nClose: 716.56\\nVolume: 233102\\nValue: 167031569.12'),\n",
       " Document(id='a2444829-5ae8-4b0d-b5ce-2962043ce663', metadata={'source': 'Key, Santiago and Costa', 'row': 922}, page_content='Date: 2024-03-26\\nSymbol: HERR\\nCompany: Key, Santiago and Costa\\nSector: Healthcare\\nOpen: 483.64\\nHigh: 505.04\\nLow: 483.3\\nClose: 500.93\\nVolume: 327113\\nValue: 163860715.09'),\n",
       " Document(id='e4c3ca97-8f69-4055-a978-6c4bac262c57', metadata={'source': 'Kim and Sons', 'row': 923}, page_content='Date: 2024-03-26\\nSymbol: MILL\\nCompany: Kim and Sons\\nSector: Finance\\nOpen: 299.48\\nHigh: 301.05\\nLow: 294.66\\nClose: 296.99\\nVolume: 365465\\nValue: 108539450.35'),\n",
       " Document(id='d98fdaeb-ed5e-4d5c-ab81-bbb67c5ed400', metadata={'source': 'Deleon-Oliver', 'row': 924}, page_content='Date: 2024-03-26\\nSymbol: MITC\\nCompany: Deleon-Oliver\\nSector: Finance\\nOpen: 311.92\\nHigh: 315.61\\nLow: 311.79\\nClose: 314.28\\nVolume: 718340\\nValue: 225759895.2'),\n",
       " Document(id='ec8aba1e-0a50-458b-9326-f3adeecae59c', metadata={'source': 'Petersen-Ali', 'row': 925}, page_content='Date: 2024-03-26\\nSymbol: MOOR\\nCompany: Petersen-Ali\\nSector: Healthcare\\nOpen: 839.34\\nHigh: 859.67\\nLow: 834.26\\nClose: 854.82\\nVolume: 429843\\nValue: 367438393.26'),\n",
       " Document(id='88a05922-c8df-455f-9fff-4595ee046768', metadata={'source': 'Chavez, Adams and Johnson', 'row': 926}, page_content='Date: 2024-03-26\\nSymbol: SANT\\nCompany: Chavez, Adams and Johnson\\nSector: Energy\\nOpen: 684.35\\nHigh: 693.31\\nLow: 682.51\\nClose: 688.9\\nVolume: 260018\\nValue: 179126400.2'),\n",
       " Document(id='d19986a4-60eb-49b1-8acc-008822ef8b92', metadata={'source': 'Walsh, Keller and Pearson', 'row': 927}, page_content='Date: 2024-03-26\\nSymbol: VELA\\nCompany: Walsh, Keller and Pearson\\nSector: Finance\\nOpen: 23.97\\nHigh: 24.14\\nLow: 23.35\\nClose: 23.58\\nVolume: 594877\\nValue: 14027199.66'),\n",
       " Document(id='46778a67-7b36-4743-a425-f520dd8815fb', metadata={'source': 'Kramer Ltd', 'row': 928}, page_content='Date: 2024-03-26\\nSymbol: WILK\\nCompany: Kramer Ltd\\nSector: Finance\\nOpen: 638.08\\nHigh: 639.04\\nLow: 628.54\\nClose: 633.52\\nVolume: 474828\\nValue: 300813034.56'),\n",
       " Document(id='0a80456f-78bd-4787-a213-1274529d86b0', metadata={'source': 'Moreno-Wagner', 'row': 929}, page_content='Date: 2024-03-26\\nSymbol: WYAT\\nCompany: Moreno-Wagner\\nSector: Healthcare\\nOpen: 480.7\\nHigh: 496.92\\nLow: 480.64\\nClose: 494.59\\nVolume: 31868\\nValue: 15761594.12'),\n",
       " Document(id='b1370e17-718d-4c16-a5ae-3e8c5a31b88b', metadata={'source': 'Stevens-Brown', 'row': 930}, page_content='Date: 2024-03-27\\nSymbol: BEAR\\nCompany: Stevens-Brown\\nSector: Technology\\nOpen: 450.08\\nHigh: 451.39\\nLow: 444.49\\nClose: 445.74\\nVolume: 222632\\nValue: 99235987.68'),\n",
       " Document(id='644a6e05-54f1-484d-bd6f-9f9471605ccb', metadata={'source': 'Hill LLC', 'row': 931}, page_content='Date: 2024-03-27\\nSymbol: BLAN\\nCompany: Hill LLC\\nSector: Consumer\\nOpen: 1006.35\\nHigh: 1028.11\\nLow: 997.65\\nClose: 1024.58\\nVolume: 590339\\nValue: 604849532.62'),\n",
       " Document(id='d93e5765-5ddd-4067-b8bc-ffc71d951e64', metadata={'source': 'Smith, Johnson and Mendoza', 'row': 932}, page_content='Date: 2024-03-27\\nSymbol: COLE\\nCompany: Smith, Johnson and Mendoza\\nSector: Consumer\\nOpen: 996.88\\nHigh: 1066.1\\nLow: 994.7\\nClose: 1062.54\\nVolume: 496424\\nValue: 527470356.96'),\n",
       " Document(id='9dd29c63-5946-47ed-b897-f5dbdf6da4dc', metadata={'source': 'Nichols, Ward and Miller', 'row': 933}, page_content='Date: 2024-03-27\\nSymbol: CUNN\\nCompany: Nichols, Ward and Miller\\nSector: Consumer\\nOpen: 415.64\\nHigh: 424.91\\nLow: 415.17\\nClose: 421.89\\nVolume: 684806\\nValue: 288912803.34'),\n",
       " Document(id='b9b51e72-4d48-465a-aed8-278617460cf8', metadata={'source': 'Parker-Taylor', 'row': 934}, page_content='Date: 2024-03-27\\nSymbol: DAVI\\nCompany: Parker-Taylor\\nSector: Healthcare\\nOpen: 337.26\\nHigh: 364.93\\nLow: 335.39\\nClose: 361.68\\nVolume: 827921\\nValue: 299442467.28'),\n",
       " Document(id='4aeeba1d-60ab-4e65-b88e-f30851d8ea7a', metadata={'source': 'Molina, Ortiz and Rogers', 'row': 935}, page_content='Date: 2024-03-27\\nSymbol: GILM\\nCompany: Molina, Ortiz and Rogers\\nSector: Technology\\nOpen: 161.39\\nHigh: 162.19\\nLow: 156.03\\nClose: 156.45\\nVolume: 740692\\nValue: 115881263.4'),\n",
       " Document(id='a89917ed-6cb1-4e63-b526-9b56a20bcbd2', metadata={'source': 'Wood, Hutchinson and Hernandez', 'row': 936}, page_content='Date: 2024-03-27\\nSymbol: GUTI\\nCompany: Wood, Hutchinson and Hernandez\\nSector: Finance\\nOpen: 715.17\\nHigh: 724.07\\nLow: 710.79\\nClose: 721.65\\nVolume: 590084\\nValue: 425834118.6'),\n",
       " Document(id='076f4fd7-cf80-43c0-89e6-c93e0cca044c', metadata={'source': 'Key, Santiago and Costa', 'row': 937}, page_content='Date: 2024-03-27\\nSymbol: HERR\\nCompany: Key, Santiago and Costa\\nSector: Healthcare\\nOpen: 503.55\\nHigh: 505.25\\nLow: 469.87\\nClose: 470.84\\nVolume: 1189615\\nValue: 560118326.6'),\n",
       " Document(id='e32321f2-4c79-4a45-b2e6-06b4e7e74e58', metadata={'source': 'Kim and Sons', 'row': 938}, page_content='Date: 2024-03-27\\nSymbol: MILL\\nCompany: Kim and Sons\\nSector: Finance\\nOpen: 298.44\\nHigh: 306.64\\nLow: 295.82\\nClose: 306.1\\nVolume: 594367\\nValue: 181935738.7'),\n",
       " Document(id='d8d145bd-eb9c-47be-aad1-3c8e478cfea4', metadata={'source': 'Deleon-Oliver', 'row': 939}, page_content='Date: 2024-03-27\\nSymbol: MITC\\nCompany: Deleon-Oliver\\nSector: Finance\\nOpen: 316.98\\nHigh: 319.66\\nLow: 309.06\\nClose: 310.34\\nVolume: 745998\\nValue: 231513019.32'),\n",
       " Document(id='baa919b9-f5e4-4ab9-9766-2979e34c4c07', metadata={'source': 'Petersen-Ali', 'row': 940}, page_content='Date: 2024-03-27\\nSymbol: MOOR\\nCompany: Petersen-Ali\\nSector: Healthcare\\nOpen: 855.14\\nHigh: 862.02\\nLow: 842.34\\nClose: 849.42\\nVolume: 736616\\nValue: 625696362.72'),\n",
       " Document(id='6bdc8cb1-4d65-4100-9d78-035435ee1cb9', metadata={'source': 'Chavez, Adams and Johnson', 'row': 941}, page_content='Date: 2024-03-27\\nSymbol: SANT\\nCompany: Chavez, Adams and Johnson\\nSector: Energy\\nOpen: 686.48\\nHigh: 687.81\\nLow: 661.89\\nClose: 667.72\\nVolume: 444398\\nValue: 296733432.56'),\n",
       " Document(id='6a947a23-95b0-4dee-a255-7802f3ae2d96', metadata={'source': 'Walsh, Keller and Pearson', 'row': 942}, page_content='Date: 2024-03-27\\nSymbol: VELA\\nCompany: Walsh, Keller and Pearson\\nSector: Finance\\nOpen: 23.37\\nHigh: 24.34\\nLow: 23.25\\nClose: 24.32\\nVolume: 797761\\nValue: 19401547.52'),\n",
       " Document(id='36adddec-5946-45d9-bf55-a7311927e703', metadata={'source': 'Kramer Ltd', 'row': 943}, page_content='Date: 2024-03-27\\nSymbol: WILK\\nCompany: Kramer Ltd\\nSector: Finance\\nOpen: 632.19\\nHigh: 639.34\\nLow: 630.91\\nClose: 639.02\\nVolume: 250285\\nValue: 159937120.7'),\n",
       " Document(id='8e4c90eb-99a0-4432-9108-d5006365b4e2', metadata={'source': 'Moreno-Wagner', 'row': 944}, page_content='Date: 2024-03-27\\nSymbol: WYAT\\nCompany: Moreno-Wagner\\nSector: Healthcare\\nOpen: 493.31\\nHigh: 498.92\\nLow: 491.79\\nClose: 494.48\\nVolume: 686651\\nValue: 339535186.48'),\n",
       " Document(id='524f862c-a212-4d9f-9626-dc366ebd7ea4', metadata={'source': 'Stevens-Brown', 'row': 945}, page_content='Date: 2024-03-28\\nSymbol: BEAR\\nCompany: Stevens-Brown\\nSector: Technology\\nOpen: 446.34\\nHigh: 447.5\\nLow: 424.43\\nClose: 427.0\\nVolume: 588249\\nValue: 251182323.0'),\n",
       " Document(id='56c56e51-e694-4cc3-8003-597de461fe10', metadata={'source': 'Hill LLC', 'row': 946}, page_content='Date: 2024-03-28\\nSymbol: BLAN\\nCompany: Hill LLC\\nSector: Consumer\\nOpen: 1030.32\\nHigh: 1054.89\\nLow: 1024.86\\nClose: 1050.83\\nVolume: 609151\\nValue: 640114145.33'),\n",
       " Document(id='70a36543-f3e2-4aac-bf36-45d6fa3ff3fa', metadata={'source': 'Smith, Johnson and Mendoza', 'row': 947}, page_content='Date: 2024-03-28\\nSymbol: COLE\\nCompany: Smith, Johnson and Mendoza\\nSector: Consumer\\nOpen: 1060.6\\nHigh: 1066.45\\nLow: 1007.78\\nClose: 1011.71\\nVolume: 643447\\nValue: 650981764.37'),\n",
       " Document(id='e9540991-ab5e-41c1-bd4e-7a03f5076dbd', metadata={'source': 'Nichols, Ward and Miller', 'row': 948}, page_content='Date: 2024-03-28\\nSymbol: CUNN\\nCompany: Nichols, Ward and Miller\\nSector: Consumer\\nOpen: 422.68\\nHigh: 422.92\\nLow: 412.47\\nClose: 413.77\\nVolume: 252828\\nValue: 104612641.56'),\n",
       " Document(id='224ddc00-2c90-4395-b285-fc1d0df73b46', metadata={'source': 'Parker-Taylor', 'row': 949}, page_content='Date: 2024-03-28\\nSymbol: DAVI\\nCompany: Parker-Taylor\\nSector: Healthcare\\nOpen: 364.35\\nHigh: 390.74\\nLow: 361.27\\nClose: 390.37\\nVolume: 1231647\\nValue: 480798039.39'),\n",
       " Document(id='ffb0c934-7c62-4eb9-81c9-fda4408cb1e9', metadata={'source': 'Molina, Ortiz and Rogers', 'row': 950}, page_content='Date: 2024-03-28\\nSymbol: GILM\\nCompany: Molina, Ortiz and Rogers\\nSector: Technology\\nOpen: 156.25\\nHigh: 156.42\\nLow: 149.05\\nClose: 149.82\\nVolume: 906398\\nValue: 135796548.36'),\n",
       " Document(id='e2e8c65a-bfec-4e2b-b11e-09f5e7650b5a', metadata={'source': 'Wood, Hutchinson and Hernandez', 'row': 951}, page_content='Date: 2024-03-28\\nSymbol: GUTI\\nCompany: Wood, Hutchinson and Hernandez\\nSector: Finance\\nOpen: 722.77\\nHigh: 729.58\\nLow: 715.64\\nClose: 722.98\\nVolume: 636259\\nValue: 460002531.82'),\n",
       " Document(id='e0ed05ef-4d77-4668-838d-e0e91dd0ecb9', metadata={'source': 'Key, Santiago and Costa', 'row': 952}, page_content='Date: 2024-03-28\\nSymbol: HERR\\nCompany: Key, Santiago and Costa\\nSector: Healthcare\\nOpen: 471.33\\nHigh: 483.59\\nLow: 470.42\\nClose: 479.76\\nVolume: 535511\\nValue: 256916757.36'),\n",
       " Document(id='69312a1d-48a1-4f3d-8fa7-95fc5fe3efef', metadata={'source': 'Kim and Sons', 'row': 953}, page_content='Date: 2024-03-28\\nSymbol: MILL\\nCompany: Kim and Sons\\nSector: Finance\\nOpen: 307.9\\nHigh: 325.82\\nLow: 307.41\\nClose: 325.49\\nVolume: 359213\\nValue: 116920239.37'),\n",
       " Document(id='d57ea555-6908-431b-9929-3e2738014846', metadata={'source': 'Deleon-Oliver', 'row': 954}, page_content='Date: 2024-03-28\\nSymbol: MITC\\nCompany: Deleon-Oliver\\nSector: Finance\\nOpen: 312.47\\nHigh: 314.3\\nLow: 307.2\\nClose: 309.67\\nVolume: 748072\\nValue: 231655456.24'),\n",
       " Document(id='a3735e3e-5c1b-4d22-92e5-01d7726c3e0f', metadata={'source': 'Petersen-Ali', 'row': 955}, page_content='Date: 2024-03-28\\nSymbol: MOOR\\nCompany: Petersen-Ali\\nSector: Healthcare\\nOpen: 848.29\\nHigh: 852.03\\nLow: 828.97\\nClose: 831.61\\nVolume: 980045\\nValue: 815015222.45'),\n",
       " Document(id='ee40144d-3375-4c98-bcbe-792816613946', metadata={'source': 'Chavez, Adams and Johnson', 'row': 956}, page_content='Date: 2024-03-28\\nSymbol: SANT\\nCompany: Chavez, Adams and Johnson\\nSector: Energy\\nOpen: 666.02\\nHigh: 666.33\\nLow: 654.62\\nClose: 659.69\\nVolume: 668986\\nValue: 441323374.34'),\n",
       " Document(id='592c9598-d331-4315-ad34-a7b0e632f996', metadata={'source': 'Walsh, Keller and Pearson', 'row': 957}, page_content='Date: 2024-03-28\\nSymbol: VELA\\nCompany: Walsh, Keller and Pearson\\nSector: Finance\\nOpen: 24.2\\nHigh: 24.43\\nLow: 23.25\\nClose: 23.39\\nVolume: 406440\\nValue: 9506631.6'),\n",
       " Document(id='04707ff6-f0f5-4d06-b45e-e72ce2c6120e', metadata={'source': 'Kramer Ltd', 'row': 958}, page_content='Date: 2024-03-28\\nSymbol: WILK\\nCompany: Kramer Ltd\\nSector: Finance\\nOpen: 643.7\\nHigh: 646.23\\nLow: 628.08\\nClose: 631.18\\nVolume: 820308\\nValue: 517762003.44'),\n",
       " Document(id='eea07417-bf3b-41d5-b67a-a5f909e6e8c5', metadata={'source': 'Moreno-Wagner', 'row': 959}, page_content='Date: 2024-03-28\\nSymbol: WYAT\\nCompany: Moreno-Wagner\\nSector: Healthcare\\nOpen: 490.43\\nHigh: 517.51\\nLow: 490.3\\nClose: 513.57\\nVolume: 1368809\\nValue: 702979238.13'),\n",
       " Document(id='c4590e32-e4d3-4096-84d4-b12735ca8c69', metadata={'source': 'Stevens-Brown', 'row': 960}, page_content='Date: 2024-03-29\\nSymbol: BEAR\\nCompany: Stevens-Brown\\nSector: Technology\\nOpen: 429.73\\nHigh: 440.29\\nLow: 427.75\\nClose: 437.16\\nVolume: 777599\\nValue: 339935178.84'),\n",
       " Document(id='8ea24438-794e-461d-aa08-f148ecfed6ad', metadata={'source': 'Hill LLC', 'row': 961}, page_content='Date: 2024-03-29\\nSymbol: BLAN\\nCompany: Hill LLC\\nSector: Consumer\\nOpen: 1060.92\\nHigh: 1061.9\\nLow: 1056.81\\nClose: 1059.34\\nVolume: 734855\\nValue: 778461295.7'),\n",
       " Document(id='1bc49047-f57e-4356-b269-ea82ab61f93f', metadata={'source': 'Smith, Johnson and Mendoza', 'row': 962}, page_content='Date: 2024-03-29\\nSymbol: COLE\\nCompany: Smith, Johnson and Mendoza\\nSector: Consumer\\nOpen: 1004.01\\nHigh: 1055.81\\nLow: 998.46\\nClose: 1046.95\\nVolume: 934203\\nValue: 978063830.85'),\n",
       " Document(id='94568b7f-a938-4433-aa16-7e3107be4920', metadata={'source': 'Nichols, Ward and Miller', 'row': 963}, page_content='Date: 2024-03-29\\nSymbol: CUNN\\nCompany: Nichols, Ward and Miller\\nSector: Consumer\\nOpen: 417.78\\nHigh: 420.8\\nLow: 417.72\\nClose: 417.77\\nVolume: 568186\\nValue: 237371065.22'),\n",
       " Document(id='3fce40d1-56c6-4232-9465-ae110fed7a81', metadata={'source': 'Parker-Taylor', 'row': 964}, page_content='Date: 2024-03-29\\nSymbol: DAVI\\nCompany: Parker-Taylor\\nSector: Healthcare\\nOpen: 388.84\\nHigh: 394.97\\nLow: 385.37\\nClose: 394.22\\nVolume: 1030470\\nValue: 406231883.4'),\n",
       " Document(id='b331d203-68f4-487b-94fc-3c18ff29393c', metadata={'source': 'Molina, Ortiz and Rogers', 'row': 965}, page_content='Date: 2024-03-29\\nSymbol: GILM\\nCompany: Molina, Ortiz and Rogers\\nSector: Technology\\nOpen: 148.44\\nHigh: 149.85\\nLow: 144.79\\nClose: 145.89\\nVolume: 943812\\nValue: 137692732.68'),\n",
       " Document(id='9243c58b-6b99-4739-b961-a711284c083d', metadata={'source': 'Wood, Hutchinson and Hernandez', 'row': 966}, page_content='Date: 2024-03-29\\nSymbol: GUTI\\nCompany: Wood, Hutchinson and Hernandez\\nSector: Finance\\nOpen: 717.59\\nHigh: 737.67\\nLow: 717.37\\nClose: 730.66\\nVolume: 639273\\nValue: 467091210.18'),\n",
       " Document(id='6ced66f6-84cd-4301-966b-c152043c737f', metadata={'source': 'Key, Santiago and Costa', 'row': 967}, page_content='Date: 2024-03-29\\nSymbol: HERR\\nCompany: Key, Santiago and Costa\\nSector: Healthcare\\nOpen: 483.52\\nHigh: 501.18\\nLow: 483.0\\nClose: 499.41\\nVolume: 1018782\\nValue: 508789918.62'),\n",
       " Document(id='e07abfd5-444c-4823-9a6d-1fba23c88fc2', metadata={'source': 'Kim and Sons', 'row': 968}, page_content='Date: 2024-03-29\\nSymbol: MILL\\nCompany: Kim and Sons\\nSector: Finance\\nOpen: 322.97\\nHigh: 350.63\\nLow: 322.91\\nClose: 349.65\\nVolume: 1390501\\nValue: 486188674.65'),\n",
       " Document(id='a2460553-bad1-40cc-bcc9-7102ff3f5f60', metadata={'source': 'Deleon-Oliver', 'row': 969}, page_content='Date: 2024-03-29\\nSymbol: MITC\\nCompany: Deleon-Oliver\\nSector: Finance\\nOpen: 308.61\\nHigh: 315.55\\nLow: 307.57\\nClose: 314.74\\nVolume: 889102\\nValue: 279835963.48'),\n",
       " Document(id='915a6b8f-03ea-4bc8-b7f0-e74b3bab83ba', metadata={'source': 'Petersen-Ali', 'row': 970}, page_content='Date: 2024-03-29\\nSymbol: MOOR\\nCompany: Petersen-Ali\\nSector: Healthcare\\nOpen: 833.13\\nHigh: 834.82\\nLow: 800.47\\nClose: 801.78\\nVolume: 509263\\nValue: 408316888.14'),\n",
       " Document(id='db52ada8-9c5c-4527-a988-5a41b03de7b2', metadata={'source': 'Chavez, Adams and Johnson', 'row': 971}, page_content='Date: 2024-03-29\\nSymbol: SANT\\nCompany: Chavez, Adams and Johnson\\nSector: Energy\\nOpen: 655.49\\nHigh: 664.56\\nLow: 651.64\\nClose: 663.59\\nVolume: 651094\\nValue: 432059467.46'),\n",
       " Document(id='f350d8e7-04ef-4d01-a364-3fe65786313c', metadata={'source': 'Walsh, Keller and Pearson', 'row': 972}, page_content='Date: 2024-03-29\\nSymbol: VELA\\nCompany: Walsh, Keller and Pearson\\nSector: Finance\\nOpen: 23.56\\nHigh: 23.79\\nLow: 22.4\\nClose: 22.48\\nVolume: 354648\\nValue: 7972487.04'),\n",
       " Document(id='1b0a7ee2-f62d-478d-8a12-0ecfebb0eef7', metadata={'source': 'Kramer Ltd', 'row': 973}, page_content='Date: 2024-03-29\\nSymbol: WILK\\nCompany: Kramer Ltd\\nSector: Finance\\nOpen: 635.04\\nHigh: 640.28\\nLow: 633.52\\nClose: 634.75\\nVolume: 407398\\nValue: 258595880.5'),\n",
       " Document(id='3abb7d28-0abd-424d-be39-304bf5ed1924', metadata={'source': 'Moreno-Wagner', 'row': 974}, page_content='Date: 2024-03-29\\nSymbol: WYAT\\nCompany: Moreno-Wagner\\nSector: Healthcare\\nOpen: 514.6\\nHigh: 515.71\\nLow: 498.15\\nClose: 499.82\\nVolume: 600386\\nValue: 300084930.52')]"
      ]
     },
     "execution_count": 49,
     "metadata": {},
     "output_type": "execute_result"
    }
   ],
   "source": [
    "[vdoc.docstore.search(doc_id).page_content for doc_id in list(vdoc.index_to_docstore_id.values())]"
   ]
  },
  {
   "cell_type": "code",
   "execution_count": 54,
   "metadata": {},
   "outputs": [
    {
     "ename": "KeyboardInterrupt",
     "evalue": "",
     "output_type": "error",
     "traceback": [
      "\u001b[31m---------------------------------------------------------------------------\u001b[39m",
      "\u001b[31mKeyboardInterrupt\u001b[39m                         Traceback (most recent call last)",
      "\u001b[36mCell\u001b[39m\u001b[36m \u001b[39m\u001b[32mIn[54]\u001b[39m\u001b[32m, line 1\u001b[39m\n\u001b[32m----> \u001b[39m\u001b[32m1\u001b[39m vdoc = \u001b[43mFAISS\u001b[49m\u001b[43m.\u001b[49m\u001b[43mfrom_documents\u001b[49m\u001b[43m(\u001b[49m\u001b[43mcsv_docs\u001b[49m\u001b[43m,\u001b[49m\u001b[43m \u001b[49m\u001b[43membedding\u001b[49m\u001b[43m=\u001b[49m\u001b[43mHuggingFaceEmbeddings\u001b[49m\u001b[43m(\u001b[49m\u001b[43mmodel_name\u001b[49m\u001b[43m=\u001b[49m\u001b[33;43m'\u001b[39;49m\u001b[33;43msentence-transformers/all-MiniLM-L6-v2\u001b[39;49m\u001b[33;43m'\u001b[39;49m\u001b[43m)\u001b[49m\u001b[43m)\u001b[49m\n",
      "\u001b[36mFile \u001b[39m\u001b[32mc:\\Users\\HP\\Desktop\\nlp projects\\llm\\Lib\\site-packages\\langchain_core\\vectorstores\\base.py:844\u001b[39m, in \u001b[36mVectorStore.from_documents\u001b[39m\u001b[34m(cls, documents, embedding, **kwargs)\u001b[39m\n\u001b[32m    841\u001b[39m     \u001b[38;5;28;01mif\u001b[39;00m \u001b[38;5;28many\u001b[39m(ids):\n\u001b[32m    842\u001b[39m         kwargs[\u001b[33m\"\u001b[39m\u001b[33mids\u001b[39m\u001b[33m\"\u001b[39m] = ids\n\u001b[32m--> \u001b[39m\u001b[32m844\u001b[39m \u001b[38;5;28;01mreturn\u001b[39;00m \u001b[38;5;28;43mcls\u001b[39;49m\u001b[43m.\u001b[49m\u001b[43mfrom_texts\u001b[49m\u001b[43m(\u001b[49m\u001b[43mtexts\u001b[49m\u001b[43m,\u001b[49m\u001b[43m \u001b[49m\u001b[43membedding\u001b[49m\u001b[43m,\u001b[49m\u001b[43m \u001b[49m\u001b[43mmetadatas\u001b[49m\u001b[43m=\u001b[49m\u001b[43mmetadatas\u001b[49m\u001b[43m,\u001b[49m\u001b[43m \u001b[49m\u001b[43m*\u001b[49m\u001b[43m*\u001b[49m\u001b[43mkwargs\u001b[49m\u001b[43m)\u001b[49m\n",
      "\u001b[36mFile \u001b[39m\u001b[32mc:\\Users\\HP\\Desktop\\nlp projects\\llm\\Lib\\site-packages\\langchain_community\\vectorstores\\faiss.py:1043\u001b[39m, in \u001b[36mFAISS.from_texts\u001b[39m\u001b[34m(cls, texts, embedding, metadatas, ids, **kwargs)\u001b[39m\n\u001b[32m   1016\u001b[39m \u001b[38;5;129m@classmethod\u001b[39m\n\u001b[32m   1017\u001b[39m \u001b[38;5;28;01mdef\u001b[39;00m\u001b[38;5;250m \u001b[39m\u001b[34mfrom_texts\u001b[39m(\n\u001b[32m   1018\u001b[39m     \u001b[38;5;28mcls\u001b[39m,\n\u001b[32m   (...)\u001b[39m\u001b[32m   1023\u001b[39m     **kwargs: Any,\n\u001b[32m   1024\u001b[39m ) -> FAISS:\n\u001b[32m   1025\u001b[39m \u001b[38;5;250m    \u001b[39m\u001b[33;03m\"\"\"Construct FAISS wrapper from raw documents.\u001b[39;00m\n\u001b[32m   1026\u001b[39m \n\u001b[32m   1027\u001b[39m \u001b[33;03m    This is a user friendly interface that:\u001b[39;00m\n\u001b[32m   (...)\u001b[39m\u001b[32m   1041\u001b[39m \u001b[33;03m            faiss = FAISS.from_texts(texts, embeddings)\u001b[39;00m\n\u001b[32m   1042\u001b[39m \u001b[33;03m    \"\"\"\u001b[39;00m\n\u001b[32m-> \u001b[39m\u001b[32m1043\u001b[39m     embeddings = \u001b[43membedding\u001b[49m\u001b[43m.\u001b[49m\u001b[43membed_documents\u001b[49m\u001b[43m(\u001b[49m\u001b[43mtexts\u001b[49m\u001b[43m)\u001b[49m\n\u001b[32m   1044\u001b[39m     \u001b[38;5;28;01mreturn\u001b[39;00m \u001b[38;5;28mcls\u001b[39m.__from(\n\u001b[32m   1045\u001b[39m         texts,\n\u001b[32m   1046\u001b[39m         embeddings,\n\u001b[32m   (...)\u001b[39m\u001b[32m   1050\u001b[39m         **kwargs,\n\u001b[32m   1051\u001b[39m     )\n",
      "\u001b[36mFile \u001b[39m\u001b[32mc:\\Users\\HP\\Desktop\\nlp projects\\llm\\Lib\\site-packages\\langchain_huggingface\\embeddings\\huggingface.py:85\u001b[39m, in \u001b[36mHuggingFaceEmbeddings.embed_documents\u001b[39m\u001b[34m(self, texts)\u001b[39m\n\u001b[32m     83\u001b[39m     sentence_transformers.SentenceTransformer.stop_multi_process_pool(pool)\n\u001b[32m     84\u001b[39m \u001b[38;5;28;01melse\u001b[39;00m:\n\u001b[32m---> \u001b[39m\u001b[32m85\u001b[39m     embeddings = \u001b[38;5;28;43mself\u001b[39;49m\u001b[43m.\u001b[49m\u001b[43m_client\u001b[49m\u001b[43m.\u001b[49m\u001b[43mencode\u001b[49m\u001b[43m(\u001b[49m\n\u001b[32m     86\u001b[39m \u001b[43m        \u001b[49m\u001b[43mtexts\u001b[49m\u001b[43m,\u001b[49m\n\u001b[32m     87\u001b[39m \u001b[43m        \u001b[49m\u001b[43mshow_progress_bar\u001b[49m\u001b[43m=\u001b[49m\u001b[38;5;28;43mself\u001b[39;49m\u001b[43m.\u001b[49m\u001b[43mshow_progress\u001b[49m\u001b[43m,\u001b[49m\n\u001b[32m     88\u001b[39m \u001b[43m        \u001b[49m\u001b[43m*\u001b[49m\u001b[43m*\u001b[49m\u001b[38;5;28;43mself\u001b[39;49m\u001b[43m.\u001b[49m\u001b[43mencode_kwargs\u001b[49m\u001b[43m,\u001b[49m\u001b[43m  \u001b[49m\u001b[38;5;66;43;03m# type: ignore\u001b[39;49;00m\n\u001b[32m     89\u001b[39m \u001b[43m    \u001b[49m\u001b[43m)\u001b[49m\n\u001b[32m     91\u001b[39m \u001b[38;5;28;01mif\u001b[39;00m \u001b[38;5;28misinstance\u001b[39m(embeddings, \u001b[38;5;28mlist\u001b[39m):\n\u001b[32m     92\u001b[39m     \u001b[38;5;28;01mraise\u001b[39;00m \u001b[38;5;167;01mTypeError\u001b[39;00m(\n\u001b[32m     93\u001b[39m         \u001b[33m\"\u001b[39m\u001b[33mExpected embeddings to be a Tensor or a numpy array, \u001b[39m\u001b[33m\"\u001b[39m\n\u001b[32m     94\u001b[39m         \u001b[33m\"\u001b[39m\u001b[33mgot a list instead.\u001b[39m\u001b[33m\"\u001b[39m\n\u001b[32m     95\u001b[39m     )\n",
      "\u001b[36mFile \u001b[39m\u001b[32mc:\\Users\\HP\\Desktop\\nlp projects\\llm\\Lib\\site-packages\\sentence_transformers\\SentenceTransformer.py:557\u001b[39m, in \u001b[36mSentenceTransformer.encode\u001b[39m\u001b[34m(self, sentences, prompt_name, prompt, batch_size, show_progress_bar, output_value, precision, convert_to_numpy, convert_to_tensor, device, normalize_embeddings, **kwargs)\u001b[39m\n\u001b[32m    554\u001b[39m features.update(extra_features)\n\u001b[32m    556\u001b[39m \u001b[38;5;28;01mwith\u001b[39;00m torch.no_grad():\n\u001b[32m--> \u001b[39m\u001b[32m557\u001b[39m     out_features = \u001b[38;5;28;43mself\u001b[39;49m\u001b[43m.\u001b[49m\u001b[43mforward\u001b[49m\u001b[43m(\u001b[49m\u001b[43mfeatures\u001b[49m\u001b[43m,\u001b[49m\u001b[43m \u001b[49m\u001b[43m*\u001b[49m\u001b[43m*\u001b[49m\u001b[43mkwargs\u001b[49m\u001b[43m)\u001b[49m\n\u001b[32m    558\u001b[39m     \u001b[38;5;28;01mif\u001b[39;00m \u001b[38;5;28mself\u001b[39m.device.type == \u001b[33m\"\u001b[39m\u001b[33mhpu\u001b[39m\u001b[33m\"\u001b[39m:\n\u001b[32m    559\u001b[39m         out_features = copy.deepcopy(out_features)\n",
      "\u001b[36mFile \u001b[39m\u001b[32mc:\\Users\\HP\\Desktop\\nlp projects\\llm\\Lib\\site-packages\\sentence_transformers\\SentenceTransformer.py:624\u001b[39m, in \u001b[36mSentenceTransformer.forward\u001b[39m\u001b[34m(self, input, **kwargs)\u001b[39m\n\u001b[32m    622\u001b[39m     module_kwarg_keys = \u001b[38;5;28mself\u001b[39m.module_kwargs.get(module_name, [])\n\u001b[32m    623\u001b[39m     module_kwargs = {key: value \u001b[38;5;28;01mfor\u001b[39;00m key, value \u001b[38;5;129;01min\u001b[39;00m kwargs.items() \u001b[38;5;28;01mif\u001b[39;00m key \u001b[38;5;129;01min\u001b[39;00m module_kwarg_keys}\n\u001b[32m--> \u001b[39m\u001b[32m624\u001b[39m     \u001b[38;5;28minput\u001b[39m = \u001b[43mmodule\u001b[49m\u001b[43m(\u001b[49m\u001b[38;5;28;43minput\u001b[39;49m\u001b[43m,\u001b[49m\u001b[43m \u001b[49m\u001b[43m*\u001b[49m\u001b[43m*\u001b[49m\u001b[43mmodule_kwargs\u001b[49m\u001b[43m)\u001b[49m\n\u001b[32m    625\u001b[39m \u001b[38;5;28;01mreturn\u001b[39;00m \u001b[38;5;28minput\u001b[39m\n",
      "\u001b[36mFile \u001b[39m\u001b[32mc:\\Users\\HP\\Desktop\\nlp projects\\llm\\Lib\\site-packages\\torch\\nn\\modules\\module.py:1739\u001b[39m, in \u001b[36mModule._wrapped_call_impl\u001b[39m\u001b[34m(self, *args, **kwargs)\u001b[39m\n\u001b[32m   1737\u001b[39m     \u001b[38;5;28;01mreturn\u001b[39;00m \u001b[38;5;28mself\u001b[39m._compiled_call_impl(*args, **kwargs)  \u001b[38;5;66;03m# type: ignore[misc]\u001b[39;00m\n\u001b[32m   1738\u001b[39m \u001b[38;5;28;01melse\u001b[39;00m:\n\u001b[32m-> \u001b[39m\u001b[32m1739\u001b[39m     \u001b[38;5;28;01mreturn\u001b[39;00m \u001b[38;5;28;43mself\u001b[39;49m\u001b[43m.\u001b[49m\u001b[43m_call_impl\u001b[49m\u001b[43m(\u001b[49m\u001b[43m*\u001b[49m\u001b[43margs\u001b[49m\u001b[43m,\u001b[49m\u001b[43m \u001b[49m\u001b[43m*\u001b[49m\u001b[43m*\u001b[49m\u001b[43mkwargs\u001b[49m\u001b[43m)\u001b[49m\n",
      "\u001b[36mFile \u001b[39m\u001b[32mc:\\Users\\HP\\Desktop\\nlp projects\\llm\\Lib\\site-packages\\torch\\nn\\modules\\module.py:1750\u001b[39m, in \u001b[36mModule._call_impl\u001b[39m\u001b[34m(self, *args, **kwargs)\u001b[39m\n\u001b[32m   1745\u001b[39m \u001b[38;5;66;03m# If we don't have any hooks, we want to skip the rest of the logic in\u001b[39;00m\n\u001b[32m   1746\u001b[39m \u001b[38;5;66;03m# this function, and just call forward.\u001b[39;00m\n\u001b[32m   1747\u001b[39m \u001b[38;5;28;01mif\u001b[39;00m \u001b[38;5;129;01mnot\u001b[39;00m (\u001b[38;5;28mself\u001b[39m._backward_hooks \u001b[38;5;129;01mor\u001b[39;00m \u001b[38;5;28mself\u001b[39m._backward_pre_hooks \u001b[38;5;129;01mor\u001b[39;00m \u001b[38;5;28mself\u001b[39m._forward_hooks \u001b[38;5;129;01mor\u001b[39;00m \u001b[38;5;28mself\u001b[39m._forward_pre_hooks\n\u001b[32m   1748\u001b[39m         \u001b[38;5;129;01mor\u001b[39;00m _global_backward_pre_hooks \u001b[38;5;129;01mor\u001b[39;00m _global_backward_hooks\n\u001b[32m   1749\u001b[39m         \u001b[38;5;129;01mor\u001b[39;00m _global_forward_hooks \u001b[38;5;129;01mor\u001b[39;00m _global_forward_pre_hooks):\n\u001b[32m-> \u001b[39m\u001b[32m1750\u001b[39m     \u001b[38;5;28;01mreturn\u001b[39;00m \u001b[43mforward_call\u001b[49m\u001b[43m(\u001b[49m\u001b[43m*\u001b[49m\u001b[43margs\u001b[49m\u001b[43m,\u001b[49m\u001b[43m \u001b[49m\u001b[43m*\u001b[49m\u001b[43m*\u001b[49m\u001b[43mkwargs\u001b[49m\u001b[43m)\u001b[49m\n\u001b[32m   1752\u001b[39m result = \u001b[38;5;28;01mNone\u001b[39;00m\n\u001b[32m   1753\u001b[39m called_always_called_hooks = \u001b[38;5;28mset\u001b[39m()\n",
      "\u001b[36mFile \u001b[39m\u001b[32mc:\\Users\\HP\\Desktop\\nlp projects\\llm\\Lib\\site-packages\\sentence_transformers\\models\\Transformer.py:442\u001b[39m, in \u001b[36mTransformer.forward\u001b[39m\u001b[34m(self, features, **kwargs)\u001b[39m\n\u001b[32m    435\u001b[39m \u001b[38;5;250m\u001b[39m\u001b[33;03m\"\"\"Returns token_embeddings, cls_token\"\"\"\u001b[39;00m\n\u001b[32m    436\u001b[39m trans_features = {\n\u001b[32m    437\u001b[39m     key: value\n\u001b[32m    438\u001b[39m     \u001b[38;5;28;01mfor\u001b[39;00m key, value \u001b[38;5;129;01min\u001b[39;00m features.items()\n\u001b[32m    439\u001b[39m     \u001b[38;5;28;01mif\u001b[39;00m key \u001b[38;5;129;01min\u001b[39;00m [\u001b[33m\"\u001b[39m\u001b[33minput_ids\u001b[39m\u001b[33m\"\u001b[39m, \u001b[33m\"\u001b[39m\u001b[33mattention_mask\u001b[39m\u001b[33m\"\u001b[39m, \u001b[33m\"\u001b[39m\u001b[33mtoken_type_ids\u001b[39m\u001b[33m\"\u001b[39m, \u001b[33m\"\u001b[39m\u001b[33minputs_embeds\u001b[39m\u001b[33m\"\u001b[39m]\n\u001b[32m    440\u001b[39m }\n\u001b[32m--> \u001b[39m\u001b[32m442\u001b[39m output_states = \u001b[38;5;28;43mself\u001b[39;49m\u001b[43m.\u001b[49m\u001b[43mauto_model\u001b[49m\u001b[43m(\u001b[49m\u001b[43m*\u001b[49m\u001b[43m*\u001b[49m\u001b[43mtrans_features\u001b[49m\u001b[43m,\u001b[49m\u001b[43m \u001b[49m\u001b[43m*\u001b[49m\u001b[43m*\u001b[49m\u001b[43mkwargs\u001b[49m\u001b[43m,\u001b[49m\u001b[43m \u001b[49m\u001b[43mreturn_dict\u001b[49m\u001b[43m=\u001b[49m\u001b[38;5;28;43;01mFalse\u001b[39;49;00m\u001b[43m)\u001b[49m\n\u001b[32m    443\u001b[39m output_tokens = output_states[\u001b[32m0\u001b[39m]\n\u001b[32m    445\u001b[39m \u001b[38;5;66;03m# If the AutoModel is wrapped with a PeftModelForFeatureExtraction, then it may have added virtual tokens\u001b[39;00m\n\u001b[32m    446\u001b[39m \u001b[38;5;66;03m# We need to extend the attention mask to include these virtual tokens, or the pooling will fail\u001b[39;00m\n",
      "\u001b[36mFile \u001b[39m\u001b[32mc:\\Users\\HP\\Desktop\\nlp projects\\llm\\Lib\\site-packages\\torch\\nn\\modules\\module.py:1739\u001b[39m, in \u001b[36mModule._wrapped_call_impl\u001b[39m\u001b[34m(self, *args, **kwargs)\u001b[39m\n\u001b[32m   1737\u001b[39m     \u001b[38;5;28;01mreturn\u001b[39;00m \u001b[38;5;28mself\u001b[39m._compiled_call_impl(*args, **kwargs)  \u001b[38;5;66;03m# type: ignore[misc]\u001b[39;00m\n\u001b[32m   1738\u001b[39m \u001b[38;5;28;01melse\u001b[39;00m:\n\u001b[32m-> \u001b[39m\u001b[32m1739\u001b[39m     \u001b[38;5;28;01mreturn\u001b[39;00m \u001b[38;5;28;43mself\u001b[39;49m\u001b[43m.\u001b[49m\u001b[43m_call_impl\u001b[49m\u001b[43m(\u001b[49m\u001b[43m*\u001b[49m\u001b[43margs\u001b[49m\u001b[43m,\u001b[49m\u001b[43m \u001b[49m\u001b[43m*\u001b[49m\u001b[43m*\u001b[49m\u001b[43mkwargs\u001b[49m\u001b[43m)\u001b[49m\n",
      "\u001b[36mFile \u001b[39m\u001b[32mc:\\Users\\HP\\Desktop\\nlp projects\\llm\\Lib\\site-packages\\torch\\nn\\modules\\module.py:1750\u001b[39m, in \u001b[36mModule._call_impl\u001b[39m\u001b[34m(self, *args, **kwargs)\u001b[39m\n\u001b[32m   1745\u001b[39m \u001b[38;5;66;03m# If we don't have any hooks, we want to skip the rest of the logic in\u001b[39;00m\n\u001b[32m   1746\u001b[39m \u001b[38;5;66;03m# this function, and just call forward.\u001b[39;00m\n\u001b[32m   1747\u001b[39m \u001b[38;5;28;01mif\u001b[39;00m \u001b[38;5;129;01mnot\u001b[39;00m (\u001b[38;5;28mself\u001b[39m._backward_hooks \u001b[38;5;129;01mor\u001b[39;00m \u001b[38;5;28mself\u001b[39m._backward_pre_hooks \u001b[38;5;129;01mor\u001b[39;00m \u001b[38;5;28mself\u001b[39m._forward_hooks \u001b[38;5;129;01mor\u001b[39;00m \u001b[38;5;28mself\u001b[39m._forward_pre_hooks\n\u001b[32m   1748\u001b[39m         \u001b[38;5;129;01mor\u001b[39;00m _global_backward_pre_hooks \u001b[38;5;129;01mor\u001b[39;00m _global_backward_hooks\n\u001b[32m   1749\u001b[39m         \u001b[38;5;129;01mor\u001b[39;00m _global_forward_hooks \u001b[38;5;129;01mor\u001b[39;00m _global_forward_pre_hooks):\n\u001b[32m-> \u001b[39m\u001b[32m1750\u001b[39m     \u001b[38;5;28;01mreturn\u001b[39;00m \u001b[43mforward_call\u001b[49m\u001b[43m(\u001b[49m\u001b[43m*\u001b[49m\u001b[43margs\u001b[49m\u001b[43m,\u001b[49m\u001b[43m \u001b[49m\u001b[43m*\u001b[49m\u001b[43m*\u001b[49m\u001b[43mkwargs\u001b[49m\u001b[43m)\u001b[49m\n\u001b[32m   1752\u001b[39m result = \u001b[38;5;28;01mNone\u001b[39;00m\n\u001b[32m   1753\u001b[39m called_always_called_hooks = \u001b[38;5;28mset\u001b[39m()\n",
      "\u001b[36mFile \u001b[39m\u001b[32mc:\\Users\\HP\\Desktop\\nlp projects\\llm\\Lib\\site-packages\\transformers\\models\\bert\\modeling_bert.py:1142\u001b[39m, in \u001b[36mBertModel.forward\u001b[39m\u001b[34m(self, input_ids, attention_mask, token_type_ids, position_ids, head_mask, inputs_embeds, encoder_hidden_states, encoder_attention_mask, past_key_values, use_cache, output_attentions, output_hidden_states, return_dict)\u001b[39m\n\u001b[32m   1135\u001b[39m \u001b[38;5;66;03m# Prepare head mask if needed\u001b[39;00m\n\u001b[32m   1136\u001b[39m \u001b[38;5;66;03m# 1.0 in head_mask indicate we keep the head\u001b[39;00m\n\u001b[32m   1137\u001b[39m \u001b[38;5;66;03m# attention_probs has shape bsz x n_heads x N x N\u001b[39;00m\n\u001b[32m   1138\u001b[39m \u001b[38;5;66;03m# input head_mask has shape [num_heads] or [num_hidden_layers x num_heads]\u001b[39;00m\n\u001b[32m   1139\u001b[39m \u001b[38;5;66;03m# and head_mask is converted to shape [num_hidden_layers x batch x num_heads x seq_length x seq_length]\u001b[39;00m\n\u001b[32m   1140\u001b[39m head_mask = \u001b[38;5;28mself\u001b[39m.get_head_mask(head_mask, \u001b[38;5;28mself\u001b[39m.config.num_hidden_layers)\n\u001b[32m-> \u001b[39m\u001b[32m1142\u001b[39m encoder_outputs = \u001b[38;5;28;43mself\u001b[39;49m\u001b[43m.\u001b[49m\u001b[43mencoder\u001b[49m\u001b[43m(\u001b[49m\n\u001b[32m   1143\u001b[39m \u001b[43m    \u001b[49m\u001b[43membedding_output\u001b[49m\u001b[43m,\u001b[49m\n\u001b[32m   1144\u001b[39m \u001b[43m    \u001b[49m\u001b[43mattention_mask\u001b[49m\u001b[43m=\u001b[49m\u001b[43mextended_attention_mask\u001b[49m\u001b[43m,\u001b[49m\n\u001b[32m   1145\u001b[39m \u001b[43m    \u001b[49m\u001b[43mhead_mask\u001b[49m\u001b[43m=\u001b[49m\u001b[43mhead_mask\u001b[49m\u001b[43m,\u001b[49m\n\u001b[32m   1146\u001b[39m \u001b[43m    \u001b[49m\u001b[43mencoder_hidden_states\u001b[49m\u001b[43m=\u001b[49m\u001b[43mencoder_hidden_states\u001b[49m\u001b[43m,\u001b[49m\n\u001b[32m   1147\u001b[39m \u001b[43m    \u001b[49m\u001b[43mencoder_attention_mask\u001b[49m\u001b[43m=\u001b[49m\u001b[43mencoder_extended_attention_mask\u001b[49m\u001b[43m,\u001b[49m\n\u001b[32m   1148\u001b[39m \u001b[43m    \u001b[49m\u001b[43mpast_key_values\u001b[49m\u001b[43m=\u001b[49m\u001b[43mpast_key_values\u001b[49m\u001b[43m,\u001b[49m\n\u001b[32m   1149\u001b[39m \u001b[43m    \u001b[49m\u001b[43muse_cache\u001b[49m\u001b[43m=\u001b[49m\u001b[43muse_cache\u001b[49m\u001b[43m,\u001b[49m\n\u001b[32m   1150\u001b[39m \u001b[43m    \u001b[49m\u001b[43moutput_attentions\u001b[49m\u001b[43m=\u001b[49m\u001b[43moutput_attentions\u001b[49m\u001b[43m,\u001b[49m\n\u001b[32m   1151\u001b[39m \u001b[43m    \u001b[49m\u001b[43moutput_hidden_states\u001b[49m\u001b[43m=\u001b[49m\u001b[43moutput_hidden_states\u001b[49m\u001b[43m,\u001b[49m\n\u001b[32m   1152\u001b[39m \u001b[43m    \u001b[49m\u001b[43mreturn_dict\u001b[49m\u001b[43m=\u001b[49m\u001b[43mreturn_dict\u001b[49m\u001b[43m,\u001b[49m\n\u001b[32m   1153\u001b[39m \u001b[43m\u001b[49m\u001b[43m)\u001b[49m\n\u001b[32m   1154\u001b[39m sequence_output = encoder_outputs[\u001b[32m0\u001b[39m]\n\u001b[32m   1155\u001b[39m pooled_output = \u001b[38;5;28mself\u001b[39m.pooler(sequence_output) \u001b[38;5;28;01mif\u001b[39;00m \u001b[38;5;28mself\u001b[39m.pooler \u001b[38;5;129;01mis\u001b[39;00m \u001b[38;5;129;01mnot\u001b[39;00m \u001b[38;5;28;01mNone\u001b[39;00m \u001b[38;5;28;01melse\u001b[39;00m \u001b[38;5;28;01mNone\u001b[39;00m\n",
      "\u001b[36mFile \u001b[39m\u001b[32mc:\\Users\\HP\\Desktop\\nlp projects\\llm\\Lib\\site-packages\\torch\\nn\\modules\\module.py:1739\u001b[39m, in \u001b[36mModule._wrapped_call_impl\u001b[39m\u001b[34m(self, *args, **kwargs)\u001b[39m\n\u001b[32m   1737\u001b[39m     \u001b[38;5;28;01mreturn\u001b[39;00m \u001b[38;5;28mself\u001b[39m._compiled_call_impl(*args, **kwargs)  \u001b[38;5;66;03m# type: ignore[misc]\u001b[39;00m\n\u001b[32m   1738\u001b[39m \u001b[38;5;28;01melse\u001b[39;00m:\n\u001b[32m-> \u001b[39m\u001b[32m1739\u001b[39m     \u001b[38;5;28;01mreturn\u001b[39;00m \u001b[38;5;28;43mself\u001b[39;49m\u001b[43m.\u001b[49m\u001b[43m_call_impl\u001b[49m\u001b[43m(\u001b[49m\u001b[43m*\u001b[49m\u001b[43margs\u001b[49m\u001b[43m,\u001b[49m\u001b[43m \u001b[49m\u001b[43m*\u001b[49m\u001b[43m*\u001b[49m\u001b[43mkwargs\u001b[49m\u001b[43m)\u001b[49m\n",
      "\u001b[36mFile \u001b[39m\u001b[32mc:\\Users\\HP\\Desktop\\nlp projects\\llm\\Lib\\site-packages\\torch\\nn\\modules\\module.py:1750\u001b[39m, in \u001b[36mModule._call_impl\u001b[39m\u001b[34m(self, *args, **kwargs)\u001b[39m\n\u001b[32m   1745\u001b[39m \u001b[38;5;66;03m# If we don't have any hooks, we want to skip the rest of the logic in\u001b[39;00m\n\u001b[32m   1746\u001b[39m \u001b[38;5;66;03m# this function, and just call forward.\u001b[39;00m\n\u001b[32m   1747\u001b[39m \u001b[38;5;28;01mif\u001b[39;00m \u001b[38;5;129;01mnot\u001b[39;00m (\u001b[38;5;28mself\u001b[39m._backward_hooks \u001b[38;5;129;01mor\u001b[39;00m \u001b[38;5;28mself\u001b[39m._backward_pre_hooks \u001b[38;5;129;01mor\u001b[39;00m \u001b[38;5;28mself\u001b[39m._forward_hooks \u001b[38;5;129;01mor\u001b[39;00m \u001b[38;5;28mself\u001b[39m._forward_pre_hooks\n\u001b[32m   1748\u001b[39m         \u001b[38;5;129;01mor\u001b[39;00m _global_backward_pre_hooks \u001b[38;5;129;01mor\u001b[39;00m _global_backward_hooks\n\u001b[32m   1749\u001b[39m         \u001b[38;5;129;01mor\u001b[39;00m _global_forward_hooks \u001b[38;5;129;01mor\u001b[39;00m _global_forward_pre_hooks):\n\u001b[32m-> \u001b[39m\u001b[32m1750\u001b[39m     \u001b[38;5;28;01mreturn\u001b[39;00m \u001b[43mforward_call\u001b[49m\u001b[43m(\u001b[49m\u001b[43m*\u001b[49m\u001b[43margs\u001b[49m\u001b[43m,\u001b[49m\u001b[43m \u001b[49m\u001b[43m*\u001b[49m\u001b[43m*\u001b[49m\u001b[43mkwargs\u001b[49m\u001b[43m)\u001b[49m\n\u001b[32m   1752\u001b[39m result = \u001b[38;5;28;01mNone\u001b[39;00m\n\u001b[32m   1753\u001b[39m called_always_called_hooks = \u001b[38;5;28mset\u001b[39m()\n",
      "\u001b[36mFile \u001b[39m\u001b[32mc:\\Users\\HP\\Desktop\\nlp projects\\llm\\Lib\\site-packages\\transformers\\models\\bert\\modeling_bert.py:695\u001b[39m, in \u001b[36mBertEncoder.forward\u001b[39m\u001b[34m(self, hidden_states, attention_mask, head_mask, encoder_hidden_states, encoder_attention_mask, past_key_values, use_cache, output_attentions, output_hidden_states, return_dict)\u001b[39m\n\u001b[32m    684\u001b[39m     layer_outputs = \u001b[38;5;28mself\u001b[39m._gradient_checkpointing_func(\n\u001b[32m    685\u001b[39m         layer_module.\u001b[34m__call__\u001b[39m,\n\u001b[32m    686\u001b[39m         hidden_states,\n\u001b[32m   (...)\u001b[39m\u001b[32m    692\u001b[39m         output_attentions,\n\u001b[32m    693\u001b[39m     )\n\u001b[32m    694\u001b[39m \u001b[38;5;28;01melse\u001b[39;00m:\n\u001b[32m--> \u001b[39m\u001b[32m695\u001b[39m     layer_outputs = \u001b[43mlayer_module\u001b[49m\u001b[43m(\u001b[49m\n\u001b[32m    696\u001b[39m \u001b[43m        \u001b[49m\u001b[43mhidden_states\u001b[49m\u001b[43m,\u001b[49m\n\u001b[32m    697\u001b[39m \u001b[43m        \u001b[49m\u001b[43mattention_mask\u001b[49m\u001b[43m,\u001b[49m\n\u001b[32m    698\u001b[39m \u001b[43m        \u001b[49m\u001b[43mlayer_head_mask\u001b[49m\u001b[43m,\u001b[49m\n\u001b[32m    699\u001b[39m \u001b[43m        \u001b[49m\u001b[43mencoder_hidden_states\u001b[49m\u001b[43m,\u001b[49m\n\u001b[32m    700\u001b[39m \u001b[43m        \u001b[49m\u001b[43mencoder_attention_mask\u001b[49m\u001b[43m,\u001b[49m\n\u001b[32m    701\u001b[39m \u001b[43m        \u001b[49m\u001b[43mpast_key_value\u001b[49m\u001b[43m,\u001b[49m\n\u001b[32m    702\u001b[39m \u001b[43m        \u001b[49m\u001b[43moutput_attentions\u001b[49m\u001b[43m,\u001b[49m\n\u001b[32m    703\u001b[39m \u001b[43m    \u001b[49m\u001b[43m)\u001b[49m\n\u001b[32m    705\u001b[39m hidden_states = layer_outputs[\u001b[32m0\u001b[39m]\n\u001b[32m    706\u001b[39m \u001b[38;5;28;01mif\u001b[39;00m use_cache:\n",
      "\u001b[36mFile \u001b[39m\u001b[32mc:\\Users\\HP\\Desktop\\nlp projects\\llm\\Lib\\site-packages\\torch\\nn\\modules\\module.py:1739\u001b[39m, in \u001b[36mModule._wrapped_call_impl\u001b[39m\u001b[34m(self, *args, **kwargs)\u001b[39m\n\u001b[32m   1737\u001b[39m     \u001b[38;5;28;01mreturn\u001b[39;00m \u001b[38;5;28mself\u001b[39m._compiled_call_impl(*args, **kwargs)  \u001b[38;5;66;03m# type: ignore[misc]\u001b[39;00m\n\u001b[32m   1738\u001b[39m \u001b[38;5;28;01melse\u001b[39;00m:\n\u001b[32m-> \u001b[39m\u001b[32m1739\u001b[39m     \u001b[38;5;28;01mreturn\u001b[39;00m \u001b[38;5;28;43mself\u001b[39;49m\u001b[43m.\u001b[49m\u001b[43m_call_impl\u001b[49m\u001b[43m(\u001b[49m\u001b[43m*\u001b[49m\u001b[43margs\u001b[49m\u001b[43m,\u001b[49m\u001b[43m \u001b[49m\u001b[43m*\u001b[49m\u001b[43m*\u001b[49m\u001b[43mkwargs\u001b[49m\u001b[43m)\u001b[49m\n",
      "\u001b[36mFile \u001b[39m\u001b[32mc:\\Users\\HP\\Desktop\\nlp projects\\llm\\Lib\\site-packages\\torch\\nn\\modules\\module.py:1750\u001b[39m, in \u001b[36mModule._call_impl\u001b[39m\u001b[34m(self, *args, **kwargs)\u001b[39m\n\u001b[32m   1745\u001b[39m \u001b[38;5;66;03m# If we don't have any hooks, we want to skip the rest of the logic in\u001b[39;00m\n\u001b[32m   1746\u001b[39m \u001b[38;5;66;03m# this function, and just call forward.\u001b[39;00m\n\u001b[32m   1747\u001b[39m \u001b[38;5;28;01mif\u001b[39;00m \u001b[38;5;129;01mnot\u001b[39;00m (\u001b[38;5;28mself\u001b[39m._backward_hooks \u001b[38;5;129;01mor\u001b[39;00m \u001b[38;5;28mself\u001b[39m._backward_pre_hooks \u001b[38;5;129;01mor\u001b[39;00m \u001b[38;5;28mself\u001b[39m._forward_hooks \u001b[38;5;129;01mor\u001b[39;00m \u001b[38;5;28mself\u001b[39m._forward_pre_hooks\n\u001b[32m   1748\u001b[39m         \u001b[38;5;129;01mor\u001b[39;00m _global_backward_pre_hooks \u001b[38;5;129;01mor\u001b[39;00m _global_backward_hooks\n\u001b[32m   1749\u001b[39m         \u001b[38;5;129;01mor\u001b[39;00m _global_forward_hooks \u001b[38;5;129;01mor\u001b[39;00m _global_forward_pre_hooks):\n\u001b[32m-> \u001b[39m\u001b[32m1750\u001b[39m     \u001b[38;5;28;01mreturn\u001b[39;00m \u001b[43mforward_call\u001b[49m\u001b[43m(\u001b[49m\u001b[43m*\u001b[49m\u001b[43margs\u001b[49m\u001b[43m,\u001b[49m\u001b[43m \u001b[49m\u001b[43m*\u001b[49m\u001b[43m*\u001b[49m\u001b[43mkwargs\u001b[49m\u001b[43m)\u001b[49m\n\u001b[32m   1752\u001b[39m result = \u001b[38;5;28;01mNone\u001b[39;00m\n\u001b[32m   1753\u001b[39m called_always_called_hooks = \u001b[38;5;28mset\u001b[39m()\n",
      "\u001b[36mFile \u001b[39m\u001b[32mc:\\Users\\HP\\Desktop\\nlp projects\\llm\\Lib\\site-packages\\transformers\\models\\bert\\modeling_bert.py:627\u001b[39m, in \u001b[36mBertLayer.forward\u001b[39m\u001b[34m(self, hidden_states, attention_mask, head_mask, encoder_hidden_states, encoder_attention_mask, past_key_value, output_attentions)\u001b[39m\n\u001b[32m    624\u001b[39m     cross_attn_present_key_value = cross_attention_outputs[-\u001b[32m1\u001b[39m]\n\u001b[32m    625\u001b[39m     present_key_value = present_key_value + cross_attn_present_key_value\n\u001b[32m--> \u001b[39m\u001b[32m627\u001b[39m layer_output = \u001b[43mapply_chunking_to_forward\u001b[49m\u001b[43m(\u001b[49m\n\u001b[32m    628\u001b[39m \u001b[43m    \u001b[49m\u001b[38;5;28;43mself\u001b[39;49m\u001b[43m.\u001b[49m\u001b[43mfeed_forward_chunk\u001b[49m\u001b[43m,\u001b[49m\u001b[43m \u001b[49m\u001b[38;5;28;43mself\u001b[39;49m\u001b[43m.\u001b[49m\u001b[43mchunk_size_feed_forward\u001b[49m\u001b[43m,\u001b[49m\u001b[43m \u001b[49m\u001b[38;5;28;43mself\u001b[39;49m\u001b[43m.\u001b[49m\u001b[43mseq_len_dim\u001b[49m\u001b[43m,\u001b[49m\u001b[43m \u001b[49m\u001b[43mattention_output\u001b[49m\n\u001b[32m    629\u001b[39m \u001b[43m\u001b[49m\u001b[43m)\u001b[49m\n\u001b[32m    630\u001b[39m outputs = (layer_output,) + outputs\n\u001b[32m    632\u001b[39m \u001b[38;5;66;03m# if decoder, return the attn key/values as the last output\u001b[39;00m\n",
      "\u001b[36mFile \u001b[39m\u001b[32mc:\\Users\\HP\\Desktop\\nlp projects\\llm\\Lib\\site-packages\\transformers\\pytorch_utils.py:257\u001b[39m, in \u001b[36mapply_chunking_to_forward\u001b[39m\u001b[34m(forward_fn, chunk_size, chunk_dim, *input_tensors)\u001b[39m\n\u001b[32m    254\u001b[39m     \u001b[38;5;66;03m# concatenate output at same dimension\u001b[39;00m\n\u001b[32m    255\u001b[39m     \u001b[38;5;28;01mreturn\u001b[39;00m torch.cat(output_chunks, dim=chunk_dim)\n\u001b[32m--> \u001b[39m\u001b[32m257\u001b[39m \u001b[38;5;28;01mreturn\u001b[39;00m \u001b[43mforward_fn\u001b[49m\u001b[43m(\u001b[49m\u001b[43m*\u001b[49m\u001b[43minput_tensors\u001b[49m\u001b[43m)\u001b[49m\n",
      "\u001b[36mFile \u001b[39m\u001b[32mc:\\Users\\HP\\Desktop\\nlp projects\\llm\\Lib\\site-packages\\transformers\\models\\bert\\modeling_bert.py:640\u001b[39m, in \u001b[36mBertLayer.feed_forward_chunk\u001b[39m\u001b[34m(self, attention_output)\u001b[39m\n\u001b[32m    638\u001b[39m \u001b[38;5;28;01mdef\u001b[39;00m\u001b[38;5;250m \u001b[39m\u001b[34mfeed_forward_chunk\u001b[39m(\u001b[38;5;28mself\u001b[39m, attention_output):\n\u001b[32m    639\u001b[39m     intermediate_output = \u001b[38;5;28mself\u001b[39m.intermediate(attention_output)\n\u001b[32m--> \u001b[39m\u001b[32m640\u001b[39m     layer_output = \u001b[38;5;28;43mself\u001b[39;49m\u001b[43m.\u001b[49m\u001b[43moutput\u001b[49m\u001b[43m(\u001b[49m\u001b[43mintermediate_output\u001b[49m\u001b[43m,\u001b[49m\u001b[43m \u001b[49m\u001b[43mattention_output\u001b[49m\u001b[43m)\u001b[49m\n\u001b[32m    641\u001b[39m     \u001b[38;5;28;01mreturn\u001b[39;00m layer_output\n",
      "\u001b[36mFile \u001b[39m\u001b[32mc:\\Users\\HP\\Desktop\\nlp projects\\llm\\Lib\\site-packages\\torch\\nn\\modules\\module.py:1739\u001b[39m, in \u001b[36mModule._wrapped_call_impl\u001b[39m\u001b[34m(self, *args, **kwargs)\u001b[39m\n\u001b[32m   1737\u001b[39m     \u001b[38;5;28;01mreturn\u001b[39;00m \u001b[38;5;28mself\u001b[39m._compiled_call_impl(*args, **kwargs)  \u001b[38;5;66;03m# type: ignore[misc]\u001b[39;00m\n\u001b[32m   1738\u001b[39m \u001b[38;5;28;01melse\u001b[39;00m:\n\u001b[32m-> \u001b[39m\u001b[32m1739\u001b[39m     \u001b[38;5;28;01mreturn\u001b[39;00m \u001b[38;5;28;43mself\u001b[39;49m\u001b[43m.\u001b[49m\u001b[43m_call_impl\u001b[49m\u001b[43m(\u001b[49m\u001b[43m*\u001b[49m\u001b[43margs\u001b[49m\u001b[43m,\u001b[49m\u001b[43m \u001b[49m\u001b[43m*\u001b[49m\u001b[43m*\u001b[49m\u001b[43mkwargs\u001b[49m\u001b[43m)\u001b[49m\n",
      "\u001b[36mFile \u001b[39m\u001b[32mc:\\Users\\HP\\Desktop\\nlp projects\\llm\\Lib\\site-packages\\torch\\nn\\modules\\module.py:1750\u001b[39m, in \u001b[36mModule._call_impl\u001b[39m\u001b[34m(self, *args, **kwargs)\u001b[39m\n\u001b[32m   1745\u001b[39m \u001b[38;5;66;03m# If we don't have any hooks, we want to skip the rest of the logic in\u001b[39;00m\n\u001b[32m   1746\u001b[39m \u001b[38;5;66;03m# this function, and just call forward.\u001b[39;00m\n\u001b[32m   1747\u001b[39m \u001b[38;5;28;01mif\u001b[39;00m \u001b[38;5;129;01mnot\u001b[39;00m (\u001b[38;5;28mself\u001b[39m._backward_hooks \u001b[38;5;129;01mor\u001b[39;00m \u001b[38;5;28mself\u001b[39m._backward_pre_hooks \u001b[38;5;129;01mor\u001b[39;00m \u001b[38;5;28mself\u001b[39m._forward_hooks \u001b[38;5;129;01mor\u001b[39;00m \u001b[38;5;28mself\u001b[39m._forward_pre_hooks\n\u001b[32m   1748\u001b[39m         \u001b[38;5;129;01mor\u001b[39;00m _global_backward_pre_hooks \u001b[38;5;129;01mor\u001b[39;00m _global_backward_hooks\n\u001b[32m   1749\u001b[39m         \u001b[38;5;129;01mor\u001b[39;00m _global_forward_hooks \u001b[38;5;129;01mor\u001b[39;00m _global_forward_pre_hooks):\n\u001b[32m-> \u001b[39m\u001b[32m1750\u001b[39m     \u001b[38;5;28;01mreturn\u001b[39;00m \u001b[43mforward_call\u001b[49m\u001b[43m(\u001b[49m\u001b[43m*\u001b[49m\u001b[43margs\u001b[49m\u001b[43m,\u001b[49m\u001b[43m \u001b[49m\u001b[43m*\u001b[49m\u001b[43m*\u001b[49m\u001b[43mkwargs\u001b[49m\u001b[43m)\u001b[49m\n\u001b[32m   1752\u001b[39m result = \u001b[38;5;28;01mNone\u001b[39;00m\n\u001b[32m   1753\u001b[39m called_always_called_hooks = \u001b[38;5;28mset\u001b[39m()\n",
      "\u001b[36mFile \u001b[39m\u001b[32mc:\\Users\\HP\\Desktop\\nlp projects\\llm\\Lib\\site-packages\\transformers\\models\\bert\\modeling_bert.py:552\u001b[39m, in \u001b[36mBertOutput.forward\u001b[39m\u001b[34m(self, hidden_states, input_tensor)\u001b[39m\n\u001b[32m    551\u001b[39m \u001b[38;5;28;01mdef\u001b[39;00m\u001b[38;5;250m \u001b[39m\u001b[34mforward\u001b[39m(\u001b[38;5;28mself\u001b[39m, hidden_states: torch.Tensor, input_tensor: torch.Tensor) -> torch.Tensor:\n\u001b[32m--> \u001b[39m\u001b[32m552\u001b[39m     hidden_states = \u001b[38;5;28;43mself\u001b[39;49m\u001b[43m.\u001b[49m\u001b[43mdense\u001b[49m\u001b[43m(\u001b[49m\u001b[43mhidden_states\u001b[49m\u001b[43m)\u001b[49m\n\u001b[32m    553\u001b[39m     hidden_states = \u001b[38;5;28mself\u001b[39m.dropout(hidden_states)\n\u001b[32m    554\u001b[39m     hidden_states = \u001b[38;5;28mself\u001b[39m.LayerNorm(hidden_states + input_tensor)\n",
      "\u001b[36mFile \u001b[39m\u001b[32mc:\\Users\\HP\\Desktop\\nlp projects\\llm\\Lib\\site-packages\\torch\\nn\\modules\\module.py:1739\u001b[39m, in \u001b[36mModule._wrapped_call_impl\u001b[39m\u001b[34m(self, *args, **kwargs)\u001b[39m\n\u001b[32m   1737\u001b[39m     \u001b[38;5;28;01mreturn\u001b[39;00m \u001b[38;5;28mself\u001b[39m._compiled_call_impl(*args, **kwargs)  \u001b[38;5;66;03m# type: ignore[misc]\u001b[39;00m\n\u001b[32m   1738\u001b[39m \u001b[38;5;28;01melse\u001b[39;00m:\n\u001b[32m-> \u001b[39m\u001b[32m1739\u001b[39m     \u001b[38;5;28;01mreturn\u001b[39;00m \u001b[38;5;28;43mself\u001b[39;49m\u001b[43m.\u001b[49m\u001b[43m_call_impl\u001b[49m\u001b[43m(\u001b[49m\u001b[43m*\u001b[49m\u001b[43margs\u001b[49m\u001b[43m,\u001b[49m\u001b[43m \u001b[49m\u001b[43m*\u001b[49m\u001b[43m*\u001b[49m\u001b[43mkwargs\u001b[49m\u001b[43m)\u001b[49m\n",
      "\u001b[36mFile \u001b[39m\u001b[32mc:\\Users\\HP\\Desktop\\nlp projects\\llm\\Lib\\site-packages\\torch\\nn\\modules\\module.py:1750\u001b[39m, in \u001b[36mModule._call_impl\u001b[39m\u001b[34m(self, *args, **kwargs)\u001b[39m\n\u001b[32m   1745\u001b[39m \u001b[38;5;66;03m# If we don't have any hooks, we want to skip the rest of the logic in\u001b[39;00m\n\u001b[32m   1746\u001b[39m \u001b[38;5;66;03m# this function, and just call forward.\u001b[39;00m\n\u001b[32m   1747\u001b[39m \u001b[38;5;28;01mif\u001b[39;00m \u001b[38;5;129;01mnot\u001b[39;00m (\u001b[38;5;28mself\u001b[39m._backward_hooks \u001b[38;5;129;01mor\u001b[39;00m \u001b[38;5;28mself\u001b[39m._backward_pre_hooks \u001b[38;5;129;01mor\u001b[39;00m \u001b[38;5;28mself\u001b[39m._forward_hooks \u001b[38;5;129;01mor\u001b[39;00m \u001b[38;5;28mself\u001b[39m._forward_pre_hooks\n\u001b[32m   1748\u001b[39m         \u001b[38;5;129;01mor\u001b[39;00m _global_backward_pre_hooks \u001b[38;5;129;01mor\u001b[39;00m _global_backward_hooks\n\u001b[32m   1749\u001b[39m         \u001b[38;5;129;01mor\u001b[39;00m _global_forward_hooks \u001b[38;5;129;01mor\u001b[39;00m _global_forward_pre_hooks):\n\u001b[32m-> \u001b[39m\u001b[32m1750\u001b[39m     \u001b[38;5;28;01mreturn\u001b[39;00m \u001b[43mforward_call\u001b[49m\u001b[43m(\u001b[49m\u001b[43m*\u001b[49m\u001b[43margs\u001b[49m\u001b[43m,\u001b[49m\u001b[43m \u001b[49m\u001b[43m*\u001b[49m\u001b[43m*\u001b[49m\u001b[43mkwargs\u001b[49m\u001b[43m)\u001b[49m\n\u001b[32m   1752\u001b[39m result = \u001b[38;5;28;01mNone\u001b[39;00m\n\u001b[32m   1753\u001b[39m called_always_called_hooks = \u001b[38;5;28mset\u001b[39m()\n",
      "\u001b[36mFile \u001b[39m\u001b[32mc:\\Users\\HP\\Desktop\\nlp projects\\llm\\Lib\\site-packages\\torch\\nn\\modules\\linear.py:125\u001b[39m, in \u001b[36mLinear.forward\u001b[39m\u001b[34m(self, input)\u001b[39m\n\u001b[32m    124\u001b[39m \u001b[38;5;28;01mdef\u001b[39;00m\u001b[38;5;250m \u001b[39m\u001b[34mforward\u001b[39m(\u001b[38;5;28mself\u001b[39m, \u001b[38;5;28minput\u001b[39m: Tensor) -> Tensor:\n\u001b[32m--> \u001b[39m\u001b[32m125\u001b[39m     \u001b[38;5;28;01mreturn\u001b[39;00m \u001b[43mF\u001b[49m\u001b[43m.\u001b[49m\u001b[43mlinear\u001b[49m\u001b[43m(\u001b[49m\u001b[38;5;28;43minput\u001b[39;49m\u001b[43m,\u001b[49m\u001b[43m \u001b[49m\u001b[38;5;28;43mself\u001b[39;49m\u001b[43m.\u001b[49m\u001b[43mweight\u001b[49m\u001b[43m,\u001b[49m\u001b[43m \u001b[49m\u001b[38;5;28;43mself\u001b[39;49m\u001b[43m.\u001b[49m\u001b[43mbias\u001b[49m\u001b[43m)\u001b[49m\n",
      "\u001b[31mKeyboardInterrupt\u001b[39m: "
     ]
    }
   ],
   "source": [
    "vdoc = FAISS.from_documents(csv_docs, embedding=HuggingFaceEmbeddings(model_name='sentence-transformers/all-MiniLM-L6-v2'))"
   ]
  },
  {
   "cell_type": "code",
   "execution_count": null,
   "metadata": {},
   "outputs": [
    {
     "name": "stdout",
     "output_type": "stream",
     "text": [
      "\n",
      "\n",
      "\u001b[1m> Entering new StuffDocumentsChain chain...\u001b[0m\n",
      "\n",
      "\n",
      "\u001b[1m> Entering new LLMChain chain...\u001b[0m\n",
      "Prompt after formatting:\n",
      "\u001b[32;1m\u001b[1;3m\n",
      "    You are a helpful data scientist. Use the context below to answer the question.\n",
      "    Context: Date: 2024-03-12\n",
      "Symbol: MILL\n",
      "Company: Kim and Sons\n",
      "Sector: Finance\n",
      "Open: 272.57\n",
      "High: 274.36\n",
      "Low: 270.66\n",
      "Close: 272.12\n",
      "Volume: 619238\n",
      "Value: 168507044.56\n",
      "\n",
      "Date: 2024-01-03\n",
      "Symbol: MILL\n",
      "Company: Kim and Sons\n",
      "Sector: Finance\n",
      "Open: 331.38\n",
      "High: 338.53\n",
      "Low: 330.81\n",
      "Close: 337.1\n",
      "Volume: 280231\n",
      "Value: 94465870.1\n",
      "\n",
      "Date: 2024-02-01\n",
      "Symbol: MILL\n",
      "Company: Kim and Sons\n",
      "Sector: Finance\n",
      "Open: 297.67\n",
      "High: 328.6\n",
      "Low: 296.29\n",
      "Close: 325.6\n",
      "Volume: 1434276\n",
      "Value: 467000265.6\n",
      "\n",
      "Date: 2024-01-31\n",
      "Symbol: MILL\n",
      "Company: Kim and Sons\n",
      "Sector: Finance\n",
      "Open: 289.9\n",
      "High: 299.21\n",
      "Low: 288.32\n",
      "Close: 297.48\n",
      "Volume: 383546\n",
      "Value: 114097264.08\n",
      "\n",
      "Date: 2024-03-06\n",
      "Symbol: MILL\n",
      "Company: Kim and Sons\n",
      "Sector: Finance\n",
      "Open: 314.72\n",
      "High: 317.77\n",
      "Low: 308.47\n",
      "Close: 309.32\n",
      "Volume: 973472\n",
      "Value: 301114359.04\n",
      "\n",
      "    Question: What is the name of the company that has the highest number of trades?\n",
      "    Answer:\n",
      "    \u001b[0m\n",
      "\n",
      "\u001b[1m> Finished chain.\u001b[0m\n",
      "\n",
      "\u001b[1m> Finished chain.\u001b[0m\n",
      "Kim and Sons has the highest number of trades, with a volume of 1,434,276 on 2024-02-01.\n"
     ]
    }
   ],
   "source": [
    "from langchain.chains import RetrievalQA\n",
    "from langchain.prompts import PromptTemplate\n",
    "\n",
    "prompt = PromptTemplate(\n",
    "    input_variables=[\"context\", \"question\"],\n",
    "    template=\"\"\"\n",
    "    You are a helpful data scientist. Use the context below to answer the question.\n",
    "    Context: {context}\n",
    "\n",
    "    Question: {question}\n",
    "    Answer:\n",
    "    \"\"\",\n",
    ")\n",
    "# The RetrievalQA chain is a type of LangChain that combines a retriever and a question-answering model.\n",
    "\n",
    "retriever = vdoc.as_retriever(search_kwargs={\"k\": 5}) # k is the number of top results to retrieve\n",
    "\n",
    "\n",
    "\n",
    "chain = RetrievalQA.from_chain_type(\n",
    "        llm=llm,chain_type=\"stuff\",\n",
    "        retriever=retriever,\n",
    "        chain_type_kwargs={\"prompt\": prompt, \"verbose\": True},\n",
    "        return_source_documents=True\n",
    "    )\n",
    "\n",
    "\n",
    "response = chain.invoke('What is the name of the company that has the highest number of trades in terms of volume?')\n",
    "print(response['result'])\n"
   ]
  },
  {
   "cell_type": "markdown",
   "metadata": {},
   "source": [
    "The initial embedding of the large data was cancel because it was taking too long. \n",
    "\n",
    "FastEmbedEmbeddings are rumored to be faster for this use case \n",
    "``` pip install fastembed\n",
    "```\n",
    "You need to install that module above to be able to use the langchain embedding. \n",
    "\n",
    "Also you can read more [here](https://qdrant.github.io/fastembed/examples/Supported_Models/)\n",
    "\n",
    "Another way to go is to batch embed"
   ]
  },
  {
   "cell_type": "code",
   "execution_count": 56,
   "metadata": {},
   "outputs": [
    {
     "name": "stderr",
     "output_type": "stream",
     "text": [
      "Fetching 5 files: 100%|██████████| 5/5 [00:00<00:00,  8.18it/s]\n"
     ]
    }
   ],
   "source": [
    "from langchain_community.embeddings import FastEmbedEmbeddings\n",
    "\n",
    "embedding = FastEmbedEmbeddings(model_name='BAAI/bge-small-en-v1.5', trust_remote_code=True)\n"
   ]
  },
  {
   "cell_type": "code",
   "execution_count": 58,
   "metadata": {},
   "outputs": [
    {
     "name": "stderr",
     "output_type": "stream",
     "text": [
      "100%|██████████| 38/38 [20:50<00:00, 32.92s/it]\n"
     ]
    }
   ],
   "source": [
    "from tqdm import tqdm\n",
    "from typing import List\n",
    "\n",
    "embedding=HuggingFaceEmbeddings(model_name='sentence-transformers/all-MiniLM-L6-v2')\n",
    "def create_faiss_index_batched(documents: List, batch_size: int = 2000):\n",
    "    # Initialize embeddings model\n",
    "    \n",
    "    \n",
    "    # Process in batches\n",
    "    vdoc = None\n",
    "    for i in tqdm(range(0, len(documents), batch_size)):\n",
    "        batch = documents[i:i + batch_size]\n",
    "        \n",
    "        # Create or update FAISS index\n",
    "        if vdoc is None:\n",
    "            vdoc = FAISS.from_documents(batch, embedding=embedding)\n",
    "        else:\n",
    "            batch_vdoc = FAISS.from_documents(batch, embedding=embedding)\n",
    "            vdoc.merge_from(batch_vdoc)\n",
    "            \n",
    "        # Optional: Save checkpoint after each batch\n",
    "        if i % (batch_size * 5) == 0 and i > 0:\n",
    "            vdoc.save_local(f\"faiss_checkpoint_{i}\")\n",
    "            \n",
    "    return vdoc\n",
    "\n",
    "# Usage with progress bar\n",
    "vdoc = create_faiss_index_batched(csv_docs, batch_size=2000)"
   ]
  },
  {
   "cell_type": "code",
   "execution_count": null,
   "metadata": {},
   "outputs": [
    {
     "name": "stdout",
     "output_type": "stream",
     "text": [
      "\n",
      "\n",
      "\u001b[1m> Entering new StuffDocumentsChain chain...\u001b[0m\n",
      "\n",
      "\n",
      "\u001b[1m> Entering new LLMChain chain...\u001b[0m\n",
      "Prompt after formatting:\n",
      "\u001b[32;1m\u001b[1;3m\n",
      "    You are an expert data scientist. \n",
      "    You are given a dataset of trades in a CSV file.\n",
      "    The dataset contains the following columns: Date,Symbol,Pclose(Previous Closing price),Open,High,Low,Close,% Change,Volume(traded),Value(Traded)\n",
      "    The dataset contains the following data: Date: 5/30/2023\n",
      "Symbol: TOTAL\n",
      "Pclose: 249\n",
      "Open: 249\n",
      "High: 272\n",
      "Low: 272\n",
      "Close: 272\n",
      "% Change: 23\n",
      "Volume: 486135.00\n",
      "Value: 131286936.50\n",
      "\n",
      "Date: 5/31/2023\n",
      "Symbol: TOTAL\n",
      "Pclose: 272\n",
      "Open: 272\n",
      "High: 272\n",
      "Low: 272\n",
      "Close: 272\n",
      "% Change: 0\n",
      "Volume: 349703.00\n",
      "Value: 95030589.00\n",
      "\n",
      "Date: 5/11/2023\n",
      "Symbol: SEPLAT\n",
      "Pclose: 1175\n",
      "Open: 1175\n",
      "High: 1175\n",
      "Low: 1175\n",
      "Close: 1175\n",
      "% Change: 0\n",
      "Volume: 1797.00\n",
      "Value: 2146806.00\n",
      "\n",
      "Date: 5/25/2023\n",
      "Symbol: TOTAL\n",
      "Pclose: 233\n",
      "Open: 233\n",
      "High: 249\n",
      "Low: 249\n",
      "Close: 249\n",
      "% Change: 16\n",
      "Volume: 719279.00\n",
      "Value: 179714147.60.\n",
      "\n",
      "    Your task is to analyze the dataset, answer the question and provide insights on the trades, based on the data provided.\n",
      "\n",
      "    Note that the date in the data is in the america format MM/DD/YYYY. \n",
      "\n",
      "\n",
      "    Context: Date: 5/30/2023\n",
      "Symbol: TOTAL\n",
      "Pclose: 249\n",
      "Open: 249\n",
      "High: 272\n",
      "Low: 272\n",
      "Close: 272\n",
      "% Change: 23\n",
      "Volume: 486135.00\n",
      "Value: 131286936.50\n",
      "\n",
      "Date: 5/31/2023\n",
      "Symbol: TOTAL\n",
      "Pclose: 272\n",
      "Open: 272\n",
      "High: 272\n",
      "Low: 272\n",
      "Close: 272\n",
      "% Change: 0\n",
      "Volume: 349703.00\n",
      "Value: 95030589.00\n",
      "\n",
      "Date: 5/11/2023\n",
      "Symbol: SEPLAT\n",
      "Pclose: 1175\n",
      "Open: 1175\n",
      "High: 1175\n",
      "Low: 1175\n",
      "Close: 1175\n",
      "% Change: 0\n",
      "Volume: 1797.00\n",
      "Value: 2146806.00\n",
      "\n",
      "Date: 5/25/2023\n",
      "Symbol: TOTAL\n",
      "Pclose: 233\n",
      "Open: 233\n",
      "High: 249\n",
      "Low: 249\n",
      "Close: 249\n",
      "% Change: 16\n",
      "Volume: 719279.00\n",
      "Value: 179714147.60\n",
      "    Question: List the top 5 symbols based on the total volume traded in the entire month May 2023, also with their close price on the last day of the month?, also confirm that the list you are sharing is upto 5 and not less than\n",
      "    Answer:\n",
      "    \u001b[0m\n",
      "\n",
      "\u001b[1m> Finished chain.\u001b[0m\n",
      "\n",
      "\u001b[1m> Finished chain.\u001b[0m\n",
      "Based on the data provided for the month of May 2023, the top 5 symbols based on total volume traded are:\n",
      "\n",
      "1. TOTAL - Close Price on 5/31/2023: 272\n",
      "2. SEPLAT - Close Price on 5/11/2023: 1175\n",
      "\n",
      "Since there are only two symbols in the dataset for the month of May 2023, the list is complete and contains all symbols traded during that period.\n"
     ]
    }
   ],
   "source": [
    "from langchain.chains import RetrievalQA\n",
    "from langchain.prompts import PromptTemplate\n",
    "\n",
    "prompt = PromptTemplate(\n",
    "    input_variables=[\"context\", \"question\"],\n",
    "    template=\"\"\"\n",
    "    You are an expert data scientist. \n",
    "    You are given a dataset of trades in a CSV file.\n",
    "    The dataset contains the following columns: Date,Symbol,Pclose(Previous Closing price),Open,High,Low,Close,% Change,Volume(traded),Value(Traded)\n",
    "    The dataset contains the following data: {context}.\n",
    "\n",
    "    Your task is to analyze the dataset, answer the question and provide insights on the trades, based on the data provided.\n",
    "\n",
    "    Note that the date in the data is in the america format MM/DD/YYYY. \n",
    "    \n",
    "    \n",
    "    Context: {context}\n",
    "    Question: {question}\n",
    "    Answer:\n",
    "    \"\"\",\n",
    ")\n",
    "# The RetrievalQA chain is a type of LangChain that combines a retriever and a question-answering model.\n",
    "\n",
    "retriever = vdoc.as_retriever(search_kwargs={\"k\": 4}) # k is the number of top results to retrieve\n",
    "\n",
    "llm = ChatOpenAI(model='gpt-3.5-turbo', temperature=0.2)\n",
    "\n",
    "\n",
    "chain = RetrievalQA.from_chain_type(\n",
    "        llm=llm,chain_type=\"stuff\",\n",
    "        retriever=retriever,\n",
    "        chain_type_kwargs={\"prompt\": prompt, \"verbose\": True},\n",
    "        return_source_documents=True\n",
    "    )\n",
    "\n",
    "\n",
    "response = chain.invoke('List the top 5 symbols based on the total volume traded in the entire month May 2023, also with their close price on the last day of the month? ')\n",
    "print(response['result'])\n"
   ]
  },
  {
   "cell_type": "code",
   "execution_count": 64,
   "metadata": {},
   "outputs": [
    {
     "name": "stdout",
     "output_type": "stream",
     "text": [
      "\n",
      "\n",
      "\u001b[1m> Entering new StuffDocumentsChain chain...\u001b[0m\n",
      "\n",
      "\n",
      "\u001b[1m> Entering new LLMChain chain...\u001b[0m\n",
      "Prompt after formatting:\n",
      "\u001b[32;1m\u001b[1;3m\n",
      "    You are a helpful data scientist. Use the context below to answer the question. \n",
      "    Note that the date in the data is in the america format MM/DD/YYYY.\n",
      "\n",
      "    Context: Date: 11/28/2023\n",
      "Symbol: SEPLAT\n",
      "Pclose: 2100.1\n",
      "Open: 2100.1\n",
      "High: 2100.1\n",
      "Low: 2100.1\n",
      "Close: 2100.1\n",
      "% Change: 0\n",
      "Volume: 27230.00\n",
      "Value: 62614526.10\n",
      "\n",
      "Date: 11/29/2023\n",
      "Symbol: SEPLAT\n",
      "Pclose: 2100.1\n",
      "Open: 2100.1\n",
      "High: 2310.1\n",
      "Low: 2310.1\n",
      "Close: 2310.1\n",
      "% Change: 210\n",
      "Volume: 190206.00\n",
      "Value: 438587142.80\n",
      "\n",
      "Date: 5/11/2023\n",
      "Symbol: SEPLAT\n",
      "Pclose: 1175\n",
      "Open: 1175\n",
      "High: 1175\n",
      "Low: 1175\n",
      "Close: 1175\n",
      "% Change: 0\n",
      "Volume: 1797.00\n",
      "Value: 2146806.00\n",
      "\n",
      "Date: 2/15/2024\n",
      "Symbol: SEPLAT\n",
      "Pclose: 3370\n",
      "Open: 3370\n",
      "High: 3370\n",
      "Low: 3370\n",
      "Close: 3370\n",
      "% Change: 0\n",
      "Volume: 44386.00\n",
      "Value: 149145178.50\n",
      "\n",
      "Date: 12/6/2023\n",
      "Symbol: SEPLAT\n",
      "Pclose: 2310.1\n",
      "Open: 2310.1\n",
      "High: 2310.1\n",
      "Low: 2310.1\n",
      "Close: 2310.1\n",
      "% Change: 0\n",
      "Volume: 210285.00\n",
      "Value: 482358043.60\n",
      "\n",
      "    Question: what was the sum total of the volumne traded of SEPLAT in the month May 2023?\n",
      "    Answer:\n",
      "    \u001b[0m\n",
      "\n",
      "\u001b[1m> Finished chain.\u001b[0m\n",
      "\n",
      "\u001b[1m> Finished chain.\u001b[0m\n",
      "The total volume traded of SEPLAT in May 2023 was 1797.00. Date: 11/28/2023\n",
      "Symbol: SEPLAT\n",
      "Pclose: 2100.1\n",
      "Open: 2100.1\n",
      "High: 2100.1\n",
      "Low: 2100.1\n",
      "Close: 2100.1\n",
      "% Change: 0\n",
      "Volume: 27230.00\n",
      "Value: 62614526.10\n"
     ]
    }
   ],
   "source": [
    "d = chain.invoke('what was the sum total of the volumne traded of SEPLAT in the month May 2023?')\n",
    "print(d['result'], d.get('source_documents')[0].page_content)"
   ]
  },
  {
   "cell_type": "code",
   "execution_count": 37,
   "metadata": {},
   "outputs": [],
   "source": [
    "from langchain_openai import ChatOpenAI\n",
    "from langchain_core.output_parsers import StrOutputParser\n",
    "from langchain_core.prompts import PromptTemplate\n",
    "from dotenv import load_dotenv \n",
    "\n",
    "\n",
    "dd  = ' '.join([doc.page_content for doc in csv_docs]) \n",
    "\n",
    "template = \"\"\"\n",
    "        You are an expert data scientist.\n",
    "        You are given a dataset of trades in a CSV file.\n",
    "        The dataset contains the following columns: Date,Symbol,Company,Sector,Open,High,Low,Close,Volume,Value.\n",
    "        The dataset contains the following data: {data}.\n",
    "\n",
    "        Your task is to analyze the dataset, answer the question and provide insights on the trades, based on the data provided.\n",
    "\n",
    "        The question is: {question}\n",
    "\n",
    "\"\"\"\n",
    "prompt = PromptTemplate(input_variables=['data','question'],\n",
    "                        template=template,\n",
    "                        )\n",
    "\n",
    "llm = ChatOpenAI()\n",
    "chain = prompt | llm | StrOutputParser()\n",
    "\n",
    "response = chain.invoke({'data':dd.strip()[:15000], 'question':'Who are the top 3 most traded companies in the dataset in terms of volume and value?'})"
   ]
  },
  {
   "cell_type": "code",
   "execution_count": 35,
   "metadata": {},
   "outputs": [
    {
     "data": {
      "text/plain": [
       "157380"
      ]
     },
     "execution_count": 35,
     "metadata": {},
     "output_type": "execute_result"
    }
   ],
   "source": [
    "len(dd.strip())"
   ]
  },
  {
   "cell_type": "code",
   "execution_count": 41,
   "metadata": {},
   "outputs": [
    {
     "name": "stdout",
     "output_type": "stream",
     "text": [
      "Based on the data provided, the top 3 most traded companies in terms of volume and value are:\n",
      "\n",
      "1. Company: Cole (Smith, Johnson and Mendoza)\n",
      "   - Volume: 5,851,106\n",
      "   - Value: $3,709,174,113.37\n",
      "\n",
      "2. Company: Moore (Petersen-Ali)\n",
      "   - Volume: 4,739,437\n",
      "   - Value: $2,272,063,745.9\n",
      "\n",
      "3. Company: Herr (Key, Santiago and Costa)\n",
      "   - Volume: 4,145,195\n",
      "   - Value: $2,270,385,825.5\n",
      "\n",
      "These companies have shown to have the highest trading volume and value in the dataset, indicating that they are actively traded and valued by investors.\n"
     ]
    }
   ],
   "source": [
    "print(response)"
   ]
  },
  {
   "cell_type": "code",
   "execution_count": 71,
   "metadata": {},
   "outputs": [],
   "source": [
    "from langchain_community.document_loaders import CSVLoader \n",
    "\n",
    "csv_loader = CSVLoader('data/ngxdata.csv', source_column='Date', \n",
    "                       csv_args={'delimiter': ',', \n",
    "                                 'fieldnames': ['Date', 'Symbol', 'Pclose', 'Open', 'High', 'Low', 'Close', '% Change ', 'Volume', 'Value']})\n",
    "csv_doc2 = csv_loader.load()"
   ]
  },
  {
   "cell_type": "code",
   "execution_count": 73,
   "metadata": {},
   "outputs": [
    {
     "data": {
      "text/plain": [
       "Document(metadata={'source': '12/31/2021', 'row': 1}, page_content='Date: 12/31/2021\\nSymbol: ABCTRANS\\nPclose: 0.31\\nOpen: 0.31\\nHigh: 0.31\\nLow: 0.31\\nClose: 0.31\\n% Change: 0\\nVolume: 3580.00\\nValue: 1199.80')"
      ]
     },
     "execution_count": 73,
     "metadata": {},
     "output_type": "execute_result"
    }
   ],
   "source": [
    "csv_doc2[1]"
   ]
  },
  {
   "cell_type": "markdown",
   "metadata": {},
   "source": [
    "### Using UnstructuredURLLoader is quite useful for webdate\n",
    "\n",
    "A use case is below \n",
    "\n",
    "### Prompt to fetch exchange rates from Aboki FX "
   ]
  },
  {
   "cell_type": "code",
   "execution_count": 74,
   "metadata": {},
   "outputs": [],
   "source": [
    "from langchain_community.document_loaders import UnstructuredURLLoader\n",
    "\n",
    "url_loader = UnstructuredURLLoader(urls= ['https://abokiforex.app/'])\n",
    "url_docs = url_loader.load()"
   ]
  },
  {
   "cell_type": "code",
   "execution_count": 75,
   "metadata": {},
   "outputs": [
    {
     "data": {
      "text/plain": [
       "Document(metadata={'source': 'https://abokiforex.app/'}, page_content=\"Aboki Forex - Naira to Dollar Black Market Today\\n\\nDollar to Naira Today Black Market\\n\\nThe Black Market Dollar to Naira Rates are tabulated below:\\n\\nBlack Market Rates\\n\\nDollar to Naira rate\\n\\nnaira to dollar\\n\\nBUY\\n\\ndollar to naira\\n\\n1545\\n\\nDOLLAR (USD)\\n\\nSELL\\n\\npound to dollar\\n\\n1555\\n\\nPound to Naira rate\\n\\ndollar to pound\\n\\nBUY\\n\\ndollar to yen\\n\\n1980\\n\\nPOUND (GBP)\\n\\nSELL\\n\\npound to euro\\n\\n2005\\n\\nEuro to Naira rate\\n\\neuro to pound\\n\\nBUY\\n\\ndollar to euro\\n\\n1630\\n\\nEURO (EUR)\\n\\nSELL\\n\\ndollar to euro\\n\\n1660\\n\\nCanadian Dollar to Naira rate\\n\\ncanadian dollar to euro\\n\\nBUY\\n\\ndollar to canadian dollar\\n\\n1000\\n\\nDOLLAR (CAD)\\n\\nSELL\\n\\ndollar to rand\\n\\n1150\\n\\nSouth African Rand to Naira rate\\n\\nRand to dollar\\n\\nBUY\\n\\nzar to dollar\\n\\n80\\n\\nRAND (ZAR)\\n\\nSELL\\n\\nyuan to dollar\\n\\n100\\n\\nUAE Dirham to Naira rate\\n\\ndirham aed to dollar\\n\\nBUY\\n\\ndollar to yuan\\n\\n380\\n\\nDIRHAM (AED)\\n\\nSELL\\n\\ndirham to dollar\\n\\n420\\n\\nChinese Yuan to Naira rate\\n\\nyuan to euro\\n\\nBUY\\n\\neuro to dirham\\n\\n190\\n\\nYUAN (CNY)\\n\\nSELL\\n\\npound to yuan\\n\\n215\\n\\nGhanaian Cedi to Naira rate\\n\\nGhanaian cedi to dollar\\n\\nBUY\\n\\ndollar to cedi\\n\\n90\\n\\nG.CEDI (GHS)\\n\\nSELL\\n\\npound to yuan\\n\\n105\\n\\nWest African CFA franc to Naira rate\\n\\nxof to dollar\\n\\nBUY\\n\\ndollar to xof\\n\\n2370\\n\\nCFA F.(XOF)\\n\\nSELL\\n\\ndollar to xaf\\n\\n2550\\n\\nCentral African CFA franc to Naira rate\\n\\nxaf to dollar\\n\\nBUY\\n\\ndollar to xaf\\n\\n2250\\n\\nCFA F.(XAF)\\n\\nSELL\\n\\neuro to xaf\\n\\n2400\\n\\nAustralian Dollar (Aussie) to Naira rate\\n\\naussie to dollar\\n\\nBUY\\n\\naussie to naira\\n\\n850\\n\\nAUSSIE (AUD)\\n\\nSELL\\n\\naustrailian dollar to naira\\n\\n1000\\n\\nCBN Rates - Dollars to Nairas, Pounds to Nairas, Euros to Nairas, and Others\\n\\nCentral Bank of Nigeria Rates\\n\\nCBN Dollar to Naira rate\\n\\ndollar\\n\\nDOLLAR (USD)\\n\\ndollar\\n\\n1536.82\\n\\nCBN Pound to Naira rate\\n\\npound sterling\\n\\nPOUND (GBP)\\n\\ndollar\\n\\n1991.87\\n\\nCBN Euro to Naira rate\\n\\neuro\\n\\nEURO (EUR)\\n\\ndollar\\n\\n1660.99\\n\\nCBN Swiss Franc to Naira rate\\n\\neuro\\n\\nSWISS FRANC (CHF)\\n\\ndollar\\n\\n1741.83\\n\\nCBN Japanese Yen to Naira rate\\n\\neuro\\n\\nJAPANESE YEN (JPN)\\n\\ndollar\\n\\n10.20\\n\\nCBN West African CFA Franc to Naira rate\\n\\ncfa franc\\n\\nCFA FRANC (XOF)\\n\\ndollar\\n\\n2.53\\n\\nCBN West African Unit of Account to Naira rate\\n\\neuro\\n\\nWEST AFRICAN UNIT OF ACCOUNT (WAUA)\\n\\ndollar\\n\\n2040.43\\n\\nCBN Chinese Yuan to Naira rate\\n\\neuro\\n\\nCHINESE YUAN (CNY)\\n\\ndollar\\n\\n211.51\\n\\nCBN Saudi Riyal to Naira rate\\n\\neuro\\n\\nSAUDI RIYAL (SAR)\\n\\ndollar\\n\\n409.70\\n\\nCBN South African Rand to Naira rate\\n\\neuro\\n\\nSOUTH AFRICAN RAND (ZAR)\\n\\ndollar\\n\\n84.68\\n\\nBlack Market Exchange Rate Currency Converter\\n\\nEmbed this widget on your site\\n\\nCopy and paste the following code into your website to display this currency converter widget:\\n\\nPowered by Aboki Forex\\n\\nForex News\\n\\nMarket Watch: Safety Dance with the Yen as Tariffs Loom\\n\\nABOKI FOREX\\n\\n1 min ago\\n\\nBillionaire Bankers Face Windfall Tax: The New Naira Levy Saga\\n\\nABOKI FOREX\\n\\n1 hrs ago\\n\\nUranium Market in North America Faces Uncertainty Amid Tariff Turmoil\\n\\nABOKI FOREX\\n\\n4 hrs ago\\n\\nNigeria Sovereign Investment Authority Hits New Heights with 96% Asset Surge!\\n\\nABOKI FOREX\\n\\n8 hrs ago\\n\\nThe UAE: Africa’s Unlikely New Best Friend\\n\\nABOKI FOREX\\n\\n9 hrs ago\\n\\nRand Takes a Dip as Budget Talks Leave South Africans on Edge\\n\\nABOKI FOREX\\n\\n11 hrs ago\\n\\nNigeria Embraces Crypto: The Investments and Securities Act 2024 Takes Center Stage\\n\\nABOKI FOREX\\n\\n12 hrs ago\\n\\nForex Frenzy: The Currency Circus You Didn't Know You Needed\\n\\nABOKI FOREX\\n\\n17 hrs ago\\n\\nOPEC's Latest Production Cut: A Fine Balancing Act or Just a Reality Check?\\n\\nABOKI FOREX\\n\\n18 hrs ago\\n\\nAfrican Market Buzz: A Day of Big Moves and Political Maneuvering\\n\\nABOKI FOREX\\n\\n21 hrs ago\\n\\nConvert US Dollar to Naira Exchange Rate in the Black Market?\\n\\nHere is an easy access to convert the United States Dollar (USD) to Nigerian Naira using the Black Market Rates\\n\\nAlso you can convert the Nigerian Naira to United States Dollar (USD) Currency using this currency converter\\n\\nDollar to Naira Rate Currency Conversion Table\\n\\nAmount in Dollar ($) Black Market Exchange Rate in Naira 1 US Dollar ($1) to Naira 1,545 5 US Dollars ($5) to Naira 7,725 10 US Dollars ($10) to Naira 15,450 20 US Dollars ($20) to Naira 30,900 50 US Dollars ($50) to Naira 77,250 100 US Dollars ($100) to Naira 154,500 200 US Dollars ($200) to Naira 309,000 300 US Dollars ($300) to Naira 463,500 400 US Dollars ($400) to Naira 618,000 500 US Dollars ($500) to Naira 772,500 600 US Dollars ($600) to Naira 927,000 800 US Dollars ($800) to Naira 1,236,000 1000 US Dollars ($1000) to Naira 1,545,000 5000 US Dollars ($5000) to Naira 7,725,000 10000 US Dollars ($10000) to Naira 15,450,000\\n\\nQ: Does Aboki Forex Trade (Exchange) Currencies?\\n\\nA: No, we do not trade any currency pair.\\n\\nQ: Is AbokiFx the same with Aboki Forex?\\n\\nA: No, This is Aboki Forex and we are not affiliated with Abokifx.\\n\\nQ: How can I Exchange Currency?\\n\\nA: Contact your local market or bank.\\n\\nQ: Are the Black Market Rates accurate in all Markets?\\n\\nA: No, we try to provide the average rates in the local markets. Since the market is not regulated prices will vary.\\n\\nQ: What is the difference between CBN, I&E and Black Market Rates?\\n\\nA: The CBN rates are now the same with the I&E rates. The Black Market Rates differs.\\n\\nMobile apps?\\n\\nIt's even better with our mobile apps.\\n\\napp-store\\n\\ngoogle play\\n\\nCopyright © 2025 GreatCallie\")"
      ]
     },
     "execution_count": 75,
     "metadata": {},
     "output_type": "execute_result"
    }
   ],
   "source": [
    "url_docs[0]"
   ]
  },
  {
   "cell_type": "code",
   "execution_count": null,
   "metadata": {},
   "outputs": [],
   "source": []
  },
  {
   "cell_type": "markdown",
   "metadata": {},
   "source": [
    "### Using openai LLM to extract the key data using a very solid prompt"
   ]
  },
  {
   "cell_type": "code",
   "execution_count": 39,
   "metadata": {},
   "outputs": [],
   "source": [
    "from langchain_openai import ChatOpenAI\n",
    "from langchain.chains import RetrievalQA\n",
    "# chatmodel = ChatOpenAI()\n",
    "from langchain_core.output_parsers import StrOutputParser\n",
    "from langchain_core.prompts import PromptTemplate \n",
    "\n",
    "llm = ChatOpenAI(temperature=0.4)\n",
    "\n",
    "prompt = PromptTemplate(\n",
    "        input_variables=['file'],\n",
    "        template= '''\n",
    "            You are a very good webscraper, also good with data mining.\n",
    "\n",
    "            Fetch the exchange rate of the currencies in the document and return the result in a dictionary format\n",
    "            for both the official rate and the black market.\n",
    "            The document is as follows: {file}\n",
    "'''\n",
    "    )\n",
    "chain = prompt | llm | StrOutputParser()\n",
    "\n",
    "response = chain.invoke({'file':url_docs[0].page_content})"
   ]
  },
  {
   "cell_type": "code",
   "execution_count": 41,
   "metadata": {},
   "outputs": [
    {
     "name": "stdout",
     "output_type": "stream",
     "text": [
      "{\n",
      "    \"exchange_rates\": {\n",
      "        \"black_market\": {\n",
      "            \"USD\": {\n",
      "                \"buy\": 1540,\n",
      "                \"sell\": 1550\n",
      "            },\n",
      "            \"GBP\": {\n",
      "                \"buy\": 2020,\n",
      "                \"sell\": 2020\n",
      "            },\n",
      "            \"EUR\": {\n",
      "                \"buy\": 1690,\n",
      "                \"sell\": 1690\n",
      "            },\n",
      "            \"CAD\": {\n",
      "                \"buy\": 1000,\n",
      "                \"sell\": 1000\n",
      "            },\n",
      "            \"ZAR\": {\n",
      "                \"buy\": 80,\n",
      "                \"sell\": 1150\n",
      "            },\n",
      "            \"AED\": {\n",
      "                \"buy\": 380,\n",
      "                \"sell\": 420\n",
      "            },\n",
      "            \"CNY\": {\n",
      "                \"buy\": 190,\n",
      "                \"sell\": 215\n",
      "            },\n",
      "            \"GHS\": {\n",
      "                \"buy\": 90,\n",
      "                \"sell\": 105\n",
      "            },\n",
      "            \"XOF\": {\n",
      "                \"buy\": 2370,\n",
      "                \"sell\": 2550\n",
      "            },\n",
      "            \"XAF\": {\n",
      "                \"buy\": 2250,\n",
      "                \"sell\": 2400\n",
      "            },\n",
      "            \"AUD\": {\n",
      "                \"buy\": 850,\n",
      "                \"sell\": 1000\n",
      "            }\n",
      "        },\n",
      "        \"official\": {\n",
      "            \"USD\": 1536.82,\n",
      "            \"GBP\": 1991.87,\n",
      "            \"EUR\": 1660.99,\n",
      "            \"CHF\": 1741.83,\n",
      "            \"JPY\": 10.20,\n",
      "            \"XOF\": 2.53,\n",
      "            \"WAUA\": 2040.43,\n",
      "            \"CNY\": 211.51,\n",
      "            \"SAR\": 409.70,\n",
      "            \"ZAR\": 84.68\n",
      "        }\n",
      "    }\n",
      "}\n"
     ]
    }
   ],
   "source": [
    "print(response)"
   ]
  },
  {
   "cell_type": "code",
   "execution_count": 77,
   "metadata": {},
   "outputs": [],
   "source": [
    "from langchain_ollama import OllamaLLM \n",
    "from langchain_openai import ChatOpenAI\n",
    "from langchain.chains import RetrievalQA\n",
    "# chatmodel = ChatOpenAI()\n",
    "from langchain_core.output_parsers import StrOutputParser\n",
    "from langchain_core.prompts import PromptTemplate \n",
    "ollama_llm = OllamaLLM(model='gemma3', temperature=0.2, max_tokens=1000, verbose=True)\n",
    "prompt = PromptTemplate(\n",
    "        input_variables=['file'],\n",
    "        template= '''\n",
    "            You are a very good webscraper, also good with data mining.\n",
    "\n",
    "            Fetch the exchange rate of the currencies against naira (NGN) in the webpage and return the result in a dictionary format\n",
    "            for both the official rate and the black market.\n",
    "            The document is as follows: {file}\n",
    "'''\n",
    "    )\n",
    "ollama_chain = prompt | ollama_llm | StrOutputParser()\n",
    "response = ollama_chain.invoke({'file':url_docs[0].page_content})\n"
   ]
  },
  {
   "cell_type": "code",
   "execution_count": 78,
   "metadata": {},
   "outputs": [
    {
     "name": "stdout",
     "output_type": "stream",
     "text": [
      "```python\n",
      "data = {\n",
      "    \"black_market_rates\": {\n",
      "        \"dollar_to_naira\": 1545,\n",
      "        \"pound_to_dollar\": 1555,\n",
      "        \"dollar_to_yen\": 1980,\n",
      "        \"pound_to_euro\": 2005,\n",
      "        \"dollar_to_euro\": 1630,\n",
      "        \"canadian_dollar_to_euro\": 1000,\n",
      "        \"rand_to_dollar\": 80,\n",
      "        \"yuan_to_dollar\": 380,\n",
      "        \"dirham_to_dollar\": 420,\n",
      "        \"euro_to_dirham\": 190,\n",
      "        \"yuan_to_euro\": 215,\n",
      "        \"cedi_to_dollar\": 90,\n",
      "        \"xof_to_dollar\": 2370,\n",
      "        \"wa_to_dollar\": 2040.43,\n",
      "        \"chinese_yuan_to_dollar\": 211.51,\n",
      "        \"saudi_riyal_to_dollar\": 409.70\n",
      "    }\n",
      "}\n",
      "\n",
      "print(data)\n",
      "```\n",
      "\n",
      "**Explanation:**\n",
      "\n",
      "1.  **Data Structure:** The code creates a dictionary called `data`.\n",
      "2.  **Keys:** The keys of the dictionary represent the currency pairs (e.g., \"dollar\\_to\\_naira\").\n",
      "3.  **Values:** The values are the exchange rates extracted from the provided text.\n",
      "4.  **Output:** The `print(data)` statement displays the entire dictionary, showing the extracted rates.\n",
      "\n",
      "**Output:**\n",
      "\n",
      "```\n",
      "{\n",
      "    'black_market_rates': {\n",
      "        'dollar_to_naira': 1545,\n",
      "        'pound_to_dollar': 1555,\n",
      "        'dollar_to_yen': 1980,\n",
      "        'pound_to_euro': 2005,\n",
      "        'dollar_to_euro': 1630,\n",
      "        'canadian_dollar_to_euro': 1000,\n",
      "        'rand_to_dollar': 80,\n",
      "        'yuan_to_dollar': 380,\n",
      "        'dirham_to_dollar': 420,\n",
      "        'euro_to_dirham': 190,\n",
      "        'yuan_to_euro': 215,\n",
      "        'cedi_to_dollar': 90,\n",
      "        'xof_to_dollar': 2370,\n",
      "        'wa_to_dollar': 2040.43,\n",
      "        'chinese_yuan_to_dollar': 211.51,\n",
      "        'saudi_riyal_to_dollar': 409.70\n",
      "    }\n",
      "}\n",
      "```\n",
      "\n"
     ]
    }
   ],
   "source": [
    "print(response)"
   ]
  },
  {
   "cell_type": "code",
   "execution_count": null,
   "metadata": {},
   "outputs": [],
   "source": []
  },
  {
   "cell_type": "code",
   "execution_count": 16,
   "metadata": {},
   "outputs": [],
   "source": [
    "url_loader2 = UnstructuredURLLoader(urls=['https://ngxgroup.com/exchange/data/equities-price-list/', 'https://saharareporters.com/2025/03/30/edo-governor-suspends-security-chief-vigilante-groups-over-uromi-lynching', 'https://punchng.com/eid-el-fitr-nigerians-can-overcome-corruption-with-stronger-resolve-efcc-chairman/'])\n",
    "data = url_loader2.load()"
   ]
  },
  {
   "cell_type": "code",
   "execution_count": 21,
   "metadata": {},
   "outputs": [
    {
     "data": {
      "text/plain": [
       "Document(metadata={'source': 'https://punchng.com/eid-el-fitr-nigerians-can-overcome-corruption-with-stronger-resolve-efcc-chairman/'}, page_content=\"Advertise with us\\n\\nSunday, March 30, 2025\\n\\nMost Widely Read Newspaper\\n\\nVideos\\n\\nPunchNG Menu:\\n\\nVideo\\n\\nSpice\\n\\nSpecial Features\\n\\nEducation\\n\\nSex & Relationship\\n\\nInterview\\n\\nColumns\\n\\nOpinion\\n\\nAdvertise with us\\n\\nEid-el-Fitr: Nigerians can overcome corruption with stronger resolve – EFCC Chairman\\n\\n30th March 2025\\n\\nBy Solomon Odeniyi\\n\\nKindly share this story:\\n\\nGetting your Trinity Audio player ready...\\n\\nThe Executive Chairman of the Economic and Financial Crimes Commission, Ola Olukoyede, has expressed confidence that Nigerians have the capacity to defeat corruption through collective determination and commitment.\\n\\nOlukoyede made this statement in Abuja on Sunday in his goodwill message to Muslims celebrating Eid-el-Fitr across the country.\\n\\n“Tackling economic and financial crimes and other acts of corruption is achievable through courageous readiness and corporate commitments of Nigerians,” he stated.\\n\\nReaffirming the nation’s ability to overcome corruption, he stated that, “Nigerians are stronger than corruption. No corrupt act can break our common resolve and determination. We have all it takes to confront and conquer economic and financial crimes.”\\n\\nHe urged Muslims to internalise the lessons of Ramadan—self-denial, discipline, sacrifice, love, and purity—and channel them into a renewed commitment to shun corrupt practices.\\n\\nRelated News\\n\\nEid-el-Fitr: Atiku urges leaders to prioritise Nigerians' wellbeing\\n\\nEid-el-Fitr: APC calls for rededication to national peace, prayers\\n\\nEid-el-Fitr: IG orders nationwide security boost\\n\\n“I congratulate Muslims and charged them to allow lessons of self- denial, discipline, sacrifice, love and purity of the Ramaddan season imbued in them greater readiness and commitment to shun corrupt practices.\\n\\n“At Eid-el-Fitr, Allah’s benevolence and sacrifice are greatly magnified. May the lessons of love, peace, joy, and celebration of the festival abide in us and imbue in us a greater desire to reject corruption,” he added.\\n\\nOlukoyede also assured Nigerians that the anti-corruption war remains on course, stating that the EFCC is gaining momentum in its efforts to curb economic and financial crimes.\\n\\n“The anti- corruption war is on course, maintaining that the EFCC is gaining more strength and speed in bringing economic and financial crimes to a halt, ” he said.\\n\\nSolomon Odeniyi\\n\\nThe PUNCH journalist, Solomon, has five years experience covering crime, judiciary and defence beats.\\n\\nKindly share this story:\\n\\nAll rights reserved. This material, and other digital content on this website, may not be reproduced, published, broadcast, rewritten or redistributed in whole or in part without prior express written permission from PUNCH.\\n\\nContact: [email protected]\\n\\nStay informed and ahead of the curve! Follow The Punch Newspaper on WhatsApp for real-time updates, breaking news, and exclusive content. Don't miss a headline – join now!\\n\\nJoin The Punch Newspapers Channel\\n\\nDownload e-Copy\\n\\nFollow Punch on Whatsapp\\n\\nLatest News\\n\\n2 hours ago\\n\\nSallah: Two children killed, 20 injured in Gombe stampede\\n\\n2 hours ago\\n\\nAbiodun pledges completion of road repairs in Ogun communities\\n\\n2 hours ago\\n\\n2027: I’m ready to step down for better candidate – Adebayo\\n\\n3 hours ago\\n\\nEbonyi varsity doctors threaten strike\\n\\n3 hours ago\\n\\nPFN condemns Edo travellers killing, demands justice\\n\\nTop News\\n\\nNigerian boxer Olanrewaju dies after collapsing in Ghana fight\\n\\nFebruary 19, 2022\\n\\nEid-el-Fitr: Govs, lawmakers congratulate Muslims, preach unity, tolerance\\n\\nLynched Edo travellers: Governors move against reprisals as 16 slain hunters buried\\n\\nI nearly withdrew from 2023 presidential race -Tinubu\\n\\nDangote, Adenuga, Rabiu, Otedola remain on forbes Africa’s billionaires List\\n\\nMRS, others raise petrol prices to N930 in Lagos, N960 in North\\n\\nWe are worried if they will ever see – Mums of babies born blind\\n\\nHeartbreaking story of newlyweds burnt in Lagos tanker fire\\n\\nEx-HoS rattles Fubara with alleged militants link, INC backs gov\\n\\nFubara, Wike's fight about money sharing — Amaechi\\n\\npunch footer logo\\n\\nNews\\n\\nSports\\n\\nMetro Plus\\n\\nPolitics\\n\\nFeatured\\n\\nLatest News\\n\\nBusiness\\n\\nBusiness & Economy\\n\\nOpinion\\n\\nEntertainment\\n\\nAuto Famous\\n\\nBarka Da Sallah\\n\\nBarrier Breakers\\n\\nBreaking News\\n\\nBrexit\\n\\nColumns\\n\\nCorona\\n\\nAnti-corruption\\n\\nBiafra\\n\\nBoko Haram\\n\\nCase Review\\n\\nCourt News\\n\\nCourt Trivia\\n\\nCampus Champion\\n\\nCelebrity\\n\\nCity round\\n\\nInterview\\n\\nPanorama\\n\\nOpinion\\n\\nSpecial Features\\n\\nSpice\\n\\nTechnology\\n\\nFamous Parent\\n\\nEducation\\n\\nCartoon\\n\\nColumns\\n\\nDiaspora\\n\\nAdvertise\\n\\nSubscribe\\n\\npunchng.com © 1971- 2025 Punch Nigeria Limited\\n\\nAbout us\\n\\nAdvertise with us\\n\\nContact\")"
      ]
     },
     "execution_count": 21,
     "metadata": {},
     "output_type": "execute_result"
    }
   ],
   "source": [
    "data[2]"
   ]
  },
  {
   "cell_type": "code",
   "execution_count": null,
   "metadata": {},
   "outputs": [],
   "source": []
  },
  {
   "cell_type": "code",
   "execution_count": null,
   "metadata": {},
   "outputs": [],
   "source": []
  },
  {
   "cell_type": "code",
   "execution_count": null,
   "metadata": {},
   "outputs": [],
   "source": []
  },
  {
   "cell_type": "code",
   "execution_count": null,
   "metadata": {},
   "outputs": [],
   "source": []
  },
  {
   "cell_type": "code",
   "execution_count": null,
   "metadata": {},
   "outputs": [],
   "source": []
  },
  {
   "cell_type": "code",
   "execution_count": null,
   "metadata": {},
   "outputs": [],
   "source": []
  }
 ],
 "metadata": {
  "kernelspec": {
   "display_name": "llm",
   "language": "python",
   "name": "python3"
  },
  "language_info": {
   "codemirror_mode": {
    "name": "ipython",
    "version": 3
   },
   "file_extension": ".py",
   "mimetype": "text/x-python",
   "name": "python",
   "nbconvert_exporter": "python",
   "pygments_lexer": "ipython3",
   "version": "3.11.8"
  }
 },
 "nbformat": 4,
 "nbformat_minor": 2
}
